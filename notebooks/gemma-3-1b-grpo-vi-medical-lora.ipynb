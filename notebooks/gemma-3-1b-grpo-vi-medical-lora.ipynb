{
 "cells": [
  {
   "cell_type": "markdown",
   "metadata": {},
   "source": [
    "# Install Dependencies"
   ]
  },
  {
   "cell_type": "code",
   "execution_count": 6,
   "metadata": {
    "execution": {
     "iopub.execute_input": "2025-07-19T01:45:02.627446Z",
     "iopub.status.busy": "2025-07-19T01:45:02.627191Z",
     "iopub.status.idle": "2025-07-19T01:46:51.487964Z",
     "shell.execute_reply": "2025-07-19T01:46:51.486882Z",
     "shell.execute_reply.started": "2025-07-19T01:45:02.627397Z"
    },
    "id": "nRolf7r8N7DW",
    "trusted": true
   },
   "outputs": [
    {
     "name": "stdout",
     "output_type": "stream",
     "text": [
      "\u001b[2K     \u001b[90m━━━━━━━━━━━━━━━━━━━━━━━━━━━━━━━━━━━━━━━━\u001b[0m \u001b[32m46.9/46.9 kB\u001b[0m \u001b[31m1.9 MB/s\u001b[0m eta \u001b[36m0:00:00\u001b[0m\n",
      "\u001b[2K   \u001b[90m━━━━━━━━━━━━━━━━━━━━━━━━━━━━━━━━━━━━━━━━\u001b[0m \u001b[32m280.1/280.1 kB\u001b[0m \u001b[31m7.4 MB/s\u001b[0m eta \u001b[36m0:00:00\u001b[0m:00:01\u001b[0m\n",
      "\u001b[2K   \u001b[90m━━━━━━━━━━━━━━━━━━━━━━━━━━━━━━━━━━━━━━━━\u001b[0m \u001b[32m326.4/326.4 MB\u001b[0m \u001b[31m5.6 MB/s\u001b[0m eta \u001b[36m0:00:00\u001b[0m:00:01\u001b[0m00:01\u001b[0m\n",
      "\u001b[2K   \u001b[90m━━━━━━━━━━━━━━━━━━━━━━━━━━━━━━━━━━━━━━━━\u001b[0m \u001b[32m72.9/72.9 MB\u001b[0m \u001b[31m23.2 MB/s\u001b[0m eta \u001b[36m0:00:00\u001b[0m:00:01\u001b[0m00:01\u001b[0m\n",
      "\u001b[2K   \u001b[90m━━━━━━━━━━━━━━━━━━━━━━━━━━━━━━━━━━━━━━━━\u001b[0m \u001b[32m375.8/375.8 kB\u001b[0m \u001b[31m25.9 MB/s\u001b[0m eta \u001b[36m0:00:00\u001b[0m\n",
      "\u001b[2K   \u001b[90m━━━━━━━━━━━━━━━━━━━━━━━━━━━━━━━━━━━━━━━━\u001b[0m \u001b[32m897.5/897.5 kB\u001b[0m \u001b[31m52.1 MB/s\u001b[0m eta \u001b[36m0:00:00\u001b[0m\n",
      "\u001b[2K   \u001b[90m━━━━━━━━━━━━━━━━━━━━━━━━━━━━━━━━━━━━━━━━\u001b[0m \u001b[32m98.4/98.4 kB\u001b[0m \u001b[31m7.1 MB/s\u001b[0m eta \u001b[36m0:00:00\u001b[0m\n",
      "\u001b[2K   \u001b[90m━━━━━━━━━━━━━━━━━━━━━━━━━━━━━━━━━━━━━━━━\u001b[0m \u001b[32m111.0/111.0 kB\u001b[0m \u001b[31m9.6 MB/s\u001b[0m eta \u001b[36m0:00:00\u001b[0m\n",
      "\u001b[2K   \u001b[90m━━━━━━━━━━━━━━━━━━━━━━━━━━━━━━━━━━━━━━━━\u001b[0m \u001b[32m3.8/3.8 MB\u001b[0m \u001b[31m84.2 MB/s\u001b[0m eta \u001b[36m0:00:00\u001b[0m:00:01\u001b[0m\n",
      "\u001b[2K   \u001b[90m━━━━━━━━━━━━━━━━━━━━━━━━━━━━━━━━━━━━━━━━\u001b[0m \u001b[32m87.6/87.6 kB\u001b[0m \u001b[31m8.6 MB/s\u001b[0m eta \u001b[36m0:00:00\u001b[0m\n",
      "\u001b[2K   \u001b[90m━━━━━━━━━━━━━━━━━━━━━━━━━━━━━━━━━━━━━━━━\u001b[0m \u001b[32m44.3/44.3 MB\u001b[0m \u001b[31m39.9 MB/s\u001b[0m eta \u001b[36m0:00:00\u001b[0m:00:01\u001b[0m00:01\u001b[0m\n",
      "\u001b[2K   \u001b[90m━━━━━━━━━━━━━━━━━━━━━━━━━━━━━━━━━━━━━━━━\u001b[0m \u001b[32m4.8/4.8 MB\u001b[0m \u001b[31m74.7 MB/s\u001b[0m eta \u001b[36m0:00:00\u001b[0mta \u001b[36m0:00:01\u001b[0m\n",
      "\u001b[2K   \u001b[90m━━━━━━━━━━━━━━━━━━━━━━━━━━━━━━━━━━━━━━━━\u001b[0m \u001b[32m363.4/363.4 MB\u001b[0m \u001b[31m4.7 MB/s\u001b[0m eta \u001b[36m0:00:00\u001b[0m:00:01\u001b[0m00:01\u001b[0m\n",
      "\u001b[2K   \u001b[90m━━━━━━━━━━━━━━━━━━━━━━━━━━━━━━━━━━━━━━━━\u001b[0m \u001b[32m13.8/13.8 MB\u001b[0m \u001b[31m96.2 MB/s\u001b[0m eta \u001b[36m0:00:00\u001b[0m:00:01\u001b[0m0:01\u001b[0m\n",
      "\u001b[2K   \u001b[90m━━━━━━━━━━━━━━━━━━━━━━━━━━━━━━━━━━━━━━━━\u001b[0m \u001b[32m24.6/24.6 MB\u001b[0m \u001b[31m67.4 MB/s\u001b[0m eta \u001b[36m0:00:00\u001b[0m:00:01\u001b[0m00:01\u001b[0m\n",
      "\u001b[2K   \u001b[90m━━━━━━━━━━━━━━━━━━━━━━━━━━━━━━━━━━━━━━━━\u001b[0m \u001b[32m883.7/883.7 kB\u001b[0m \u001b[31m54.0 MB/s\u001b[0m eta \u001b[36m0:00:00\u001b[0m\n",
      "\u001b[2K   \u001b[90m━━━━━━━━━━━━━━━━━━━━━━━━━━━━━━━━━━━━━━━━\u001b[0m \u001b[32m664.8/664.8 MB\u001b[0m \u001b[31m2.4 MB/s\u001b[0m eta \u001b[36m0:00:00\u001b[0m:00:01\u001b[0m00:01\u001b[0m\n",
      "\u001b[2K   \u001b[90m━━━━━━━━━━━━━━━━━━━━━━━━━━━━━━━━━━━━━━━━\u001b[0m \u001b[32m211.5/211.5 MB\u001b[0m \u001b[31m5.4 MB/s\u001b[0m eta \u001b[36m0:00:00\u001b[0m:00:01\u001b[0m00:01\u001b[0m\n",
      "\u001b[2K   \u001b[90m━━━━━━━━━━━━━━━━━━━━━━━━━━━━━━━━━━━━━━━━\u001b[0m \u001b[32m56.3/56.3 MB\u001b[0m \u001b[31m31.5 MB/s\u001b[0m eta \u001b[36m0:00:00\u001b[0m:00:01\u001b[0m00:01\u001b[0m\n",
      "\u001b[2K   \u001b[90m━━━━━━━━━━━━━━━━━━━━━━━━━━━━━━━━━━━━━━━━\u001b[0m \u001b[32m127.9/127.9 MB\u001b[0m \u001b[31m13.0 MB/s\u001b[0m eta \u001b[36m0:00:00\u001b[0m00:01\u001b[0m00:01\u001b[0m\n",
      "\u001b[2K   \u001b[90m━━━━━━━━━━━━━━━━━━━━━━━━━━━━━━━━━━━━━━━━\u001b[0m \u001b[32m207.5/207.5 MB\u001b[0m \u001b[31m1.6 MB/s\u001b[0m eta \u001b[36m0:00:00\u001b[0m:00:01\u001b[0m00:01\u001b[0m\n",
      "\u001b[2K   \u001b[90m━━━━━━━━━━━━━━━━━━━━━━━━━━━━━━━━━━━━━━━━\u001b[0m \u001b[32m21.1/21.1 MB\u001b[0m \u001b[31m69.8 MB/s\u001b[0m eta \u001b[36m0:00:00\u001b[0m:00:01\u001b[0m00:01\u001b[0m\n",
      "\u001b[2K   \u001b[90m━━━━━━━━━━━━━━━━━━━━━━━━━━━━━━━━━━━━━━━━\u001b[0m \u001b[32m343.3/343.3 kB\u001b[0m \u001b[31m26.4 MB/s\u001b[0m eta \u001b[36m0:00:00\u001b[0m\n",
      "\u001b[2K   \u001b[90m━━━━━━━━━━━━━━━━━━━━━━━━━━━━━━━━━━━━━━━━\u001b[0m \u001b[32m96.2/96.2 kB\u001b[0m \u001b[31m8.2 MB/s\u001b[0m eta \u001b[36m0:00:00\u001b[0m\n",
      "\u001b[2K   \u001b[90m━━━━━━━━━━━━━━━━━━━━━━━━━━━━━━━━━━━━━━━━\u001b[0m \u001b[32m15.0/15.0 MB\u001b[0m \u001b[31m85.0 MB/s\u001b[0m eta \u001b[36m0:00:00\u001b[0m:00:01\u001b[0m00:01\u001b[0m\n",
      "\u001b[2K   \u001b[90m━━━━━━━━━━━━━━━━━━━━━━━━━━━━━━━━━━━━━━━━\u001b[0m \u001b[32m44.2/44.2 kB\u001b[0m \u001b[31m3.0 MB/s\u001b[0m eta \u001b[36m0:00:00\u001b[0m\n",
      "\u001b[2K   \u001b[90m━━━━━━━━━━━━━━━━━━━━━━━━━━━━━━━━━━━━━━━━\u001b[0m \u001b[32m6.5/6.5 MB\u001b[0m \u001b[31m103.1 MB/s\u001b[0m eta \u001b[36m0:00:00\u001b[0m00:01\u001b[0m\n",
      "\u001b[2K   \u001b[90m━━━━━━━━━━━━━━━━━━━━━━━━━━━━━━━━━━━━━━━━\u001b[0m \u001b[32m61.5/61.5 kB\u001b[0m \u001b[31m5.0 MB/s\u001b[0m eta \u001b[36m0:00:00\u001b[0m\n",
      "\u001b[2K   \u001b[90m━━━━━━━━━━━━━━━━━━━━━━━━━━━━━━━━━━━━━━━━\u001b[0m \u001b[32m52.5/52.5 kB\u001b[0m \u001b[31m4.2 MB/s\u001b[0m eta \u001b[36m0:00:00\u001b[0m\n",
      "\u001b[2K   \u001b[90m━━━━━━━━━━━━━━━━━━━━━━━━━━━━━━━━━━━━━━━━\u001b[0m \u001b[32m109.5/109.5 kB\u001b[0m \u001b[31m9.1 MB/s\u001b[0m eta \u001b[36m0:00:00\u001b[0m\n",
      "\u001b[2K   \u001b[90m━━━━━━━━━━━━━━━━━━━━━━━━━━━━━━━━━━━━━━━━\u001b[0m \u001b[32m138.0/138.0 kB\u001b[0m \u001b[31m12.3 MB/s\u001b[0m eta \u001b[36m0:00:00\u001b[0m\n",
      "\u001b[2K   \u001b[90m━━━━━━━━━━━━━━━━━━━━━━━━━━━━━━━━━━━━━━━━\u001b[0m \u001b[32m856.6/856.6 kB\u001b[0m \u001b[31m47.5 MB/s\u001b[0m eta \u001b[36m0:00:00\u001b[0m\n",
      "\u001b[2K   \u001b[90m━━━━━━━━━━━━━━━━━━━━━━━━━━━━━━━━━━━━━━━━\u001b[0m \u001b[32m162.8/162.8 kB\u001b[0m \u001b[31m15.0 MB/s\u001b[0m eta \u001b[36m0:00:00\u001b[0m\n",
      "\u001b[2K   \u001b[90m━━━━━━━━━━━━━━━━━━━━━━━━━━━━━━━━━━━━━━━━\u001b[0m \u001b[32m385.5/385.5 kB\u001b[0m \u001b[31m28.0 MB/s\u001b[0m eta \u001b[36m0:00:00\u001b[0m\n",
      "\u001b[2K   \u001b[90m━━━━━━━━━━━━━━━━━━━━━━━━━━━━━━━━━━━━━━━━\u001b[0m \u001b[32m210.7/210.7 kB\u001b[0m \u001b[31m18.6 MB/s\u001b[0m eta \u001b[36m0:00:00\u001b[0m\n",
      "\u001b[2K   \u001b[90m━━━━━━━━━━━━━━━━━━━━━━━━━━━━━━━━━━━━━━━━\u001b[0m \u001b[32m129.0/129.0 kB\u001b[0m \u001b[31m11.4 MB/s\u001b[0m eta \u001b[36m0:00:00\u001b[0m\n",
      "\u001b[2K   \u001b[90m━━━━━━━━━━━━━━━━━━━━━━━━━━━━━━━━━━━━━━━━\u001b[0m \u001b[32m453.1/453.1 kB\u001b[0m \u001b[31m29.9 MB/s\u001b[0m eta \u001b[36m0:00:00\u001b[0m\n",
      "\u001b[2K   \u001b[90m━━━━━━━━━━━━━━━━━━━━━━━━━━━━━━━━━━━━━━━━\u001b[0m \u001b[32m193.6/193.6 kB\u001b[0m \u001b[31m15.3 MB/s\u001b[0m eta \u001b[36m0:00:00\u001b[0m\n",
      "\u001b[2K   \u001b[90m━━━━━━━━━━━━━━━━━━━━━━━━━━━━━━━━━━━━━━━━\u001b[0m \u001b[32m42.4/42.4 MB\u001b[0m \u001b[31m41.5 MB/s\u001b[0m eta \u001b[36m0:00:00\u001b[0m:00:01\u001b[0m00:01\u001b[0m\n",
      "\u001b[2K   \u001b[90m━━━━━━━━━━━━━━━━━━━━━━━━━━━━━━━━━━━━━━━━\u001b[0m \u001b[32m6.3/6.3 MB\u001b[0m \u001b[31m94.4 MB/s\u001b[0m eta \u001b[36m0:00:00\u001b[0mta \u001b[36m0:00:01\u001b[0m\n",
      "\u001b[2K   \u001b[90m━━━━━━━━━━━━━━━━━━━━━━━━━━━━━━━━━━━━━━━━\u001b[0m \u001b[32m912.7/912.7 kB\u001b[0m \u001b[31m51.4 MB/s\u001b[0m eta \u001b[36m0:00:00\u001b[0m\n",
      "\u001b[2K   \u001b[90m━━━━━━━━━━━━━━━━━━━━━━━━━━━━━━━━━━━━━━━━\u001b[0m \u001b[32m45.5/45.5 kB\u001b[0m \u001b[31m3.4 MB/s\u001b[0m eta \u001b[36m0:00:00\u001b[0m\n",
      "\u001b[2K   \u001b[90m━━━━━━━━━━━━━━━━━━━━━━━━━━━━━━━━━━━━━━━━\u001b[0m \u001b[32m459.8/459.8 kB\u001b[0m \u001b[31m32.5 MB/s\u001b[0m eta \u001b[36m0:00:00\u001b[0m\n",
      "\u001b[2K   \u001b[90m━━━━━━━━━━━━━━━━━━━━━━━━━━━━━━━━━━━━━━━━\u001b[0m \u001b[32m4.0/4.0 MB\u001b[0m \u001b[31m95.2 MB/s\u001b[0m eta \u001b[36m0:00:00\u001b[0m:00:01\u001b[0m\n",
      "\u001b[2K   \u001b[90m━━━━━━━━━━━━━━━━━━━━━━━━━━━━━━━━━━━━━━━━\u001b[0m \u001b[32m950.5/950.5 kB\u001b[0m \u001b[31m55.9 MB/s\u001b[0m eta \u001b[36m0:00:00\u001b[0m\n",
      "\u001b[?25h\u001b[31mERROR: pip's dependency resolver does not currently take into account all the packages that are installed. This behaviour is the source of the following dependency conflicts.\n",
      "bigframes 2.8.0 requires google-cloud-bigquery-storage<3.0.0,>=2.30.0, which is not installed.\n",
      "dask-cuda 25.2.0 requires numba<0.61.0a0,>=0.59.1, but you have numba 0.61.2 which is incompatible.\n",
      "cuml-cu12 25.2.1 requires numba<0.61.0a0,>=0.59.1, but you have numba 0.61.2 which is incompatible.\n",
      "cudf-cu12 25.2.2 requires numba<0.61.0a0,>=0.59.1, but you have numba 0.61.2 which is incompatible.\n",
      "distributed-ucxx-cu12 0.42.0 requires numba<0.61.0a0,>=0.59.1, but you have numba 0.61.2 which is incompatible.\n",
      "ydata-profiling 4.16.1 requires numba<=0.61,>=0.56.0, but you have numba 0.61.2 which is incompatible.\n",
      "cesium 0.12.4 requires numpy<3.0,>=2.0, but you have numpy 1.26.4 which is incompatible.\n",
      "google-colab 1.0.0 requires google-auth==2.38.0, but you have google-auth 2.40.3 which is incompatible.\n",
      "google-colab 1.0.0 requires notebook==6.5.7, but you have notebook 6.5.4 which is incompatible.\n",
      "google-colab 1.0.0 requires pandas==2.2.2, but you have pandas 2.2.3 which is incompatible.\n",
      "google-colab 1.0.0 requires requests==2.32.3, but you have requests 2.32.4 which is incompatible.\n",
      "google-colab 1.0.0 requires tornado==6.4.2, but you have tornado 6.5.1 which is incompatible.\n",
      "gcsfs 2025.3.2 requires fsspec==2025.3.2, but you have fsspec 2025.3.0 which is incompatible.\n",
      "bigframes 2.8.0 requires google-cloud-bigquery[bqstorage,pandas]>=3.31.0, but you have google-cloud-bigquery 3.25.0 which is incompatible.\n",
      "bigframes 2.8.0 requires rich<14,>=12.4.4, but you have rich 14.0.0 which is incompatible.\n",
      "jupyter-kernel-gateway 2.5.2 requires jupyter-client<8.0,>=5.2.0, but you have jupyter-client 8.6.3 which is incompatible.\u001b[0m\u001b[31m\n",
      "\u001b[0m"
     ]
    }
   ],
   "source": [
    "!pip install -q unsloth==2025.6.8 vllm==0.8.5.post1 bitsandbytes==0.46.1 trl==0.19.0 sacremoses==0.1.1 tensorboard"
   ]
  },
  {
   "cell_type": "code",
   "execution_count": 7,
   "metadata": {
    "execution": {
     "iopub.execute_input": "2025-07-19T01:46:51.490102Z",
     "iopub.status.busy": "2025-07-19T01:46:51.489757Z",
     "iopub.status.idle": "2025-07-19T01:46:51.496018Z",
     "shell.execute_reply": "2025-07-19T01:46:51.495339Z",
     "shell.execute_reply.started": "2025-07-19T01:46:51.490071Z"
    },
    "trusted": true
   },
   "outputs": [],
   "source": [
    "# import unsloth\n",
    "# import torch\n",
    "# import trl\n",
    "# import transformers\n",
    "# import datasets\n",
    "# import numpy as np\n",
    "# import bitsandbytes\n",
    "# import vllm\n",
    "# import tensorboard\n",
    "# import sacremoses\n",
    "\n",
    "# # Print versions of each library\n",
    "# print(f\"unsloth: {unsloth.__version__}\")\n",
    "# print(f\"torch: {torch.__version__}\")\n",
    "# print(f\"trl: {trl.__version__}\")\n",
    "# print(f\"transformers: {transformers.__version__}\")\n",
    "# print(f\"datasets: {datasets.__version__}\")\n",
    "# print(f\"numpy: {np.__version__}\")\n",
    "# print(f\"bitsandbytes: {bitsandbytes.__version__}\")\n",
    "# print(f\"vllm: {vllm.__version__}\")\n",
    "# print(f\"tensorboard: {tensorboard.__version__}\")\n",
    "# print(f\"sacremoses: {sacremoses.__version__}\")\n",
    "# !python --version\n",
    "\n",
    "# unsloth: 2025.6.8\n",
    "# torch: 2.6.0+cu124\n",
    "# trl: 0.19.0\n",
    "# transformers: 4.52.4\n",
    "# datasets: 3.6.0\n",
    "# numpy: 1.26.4\n",
    "# bitsandbytes: 0.46.1\n",
    "# vllm: 0.8.5.post1\n",
    "# tensorboard: 2.18.0\n",
    "# sacremoses: 0.1.1\n",
    "# Python 3.11.13"
   ]
  },
  {
   "cell_type": "markdown",
   "metadata": {},
   "source": [
    "# Download Dataset"
   ]
  },
  {
   "cell_type": "code",
   "execution_count": null,
   "metadata": {
    "execution": {
     "iopub.execute_input": "2025-07-19T01:46:53.381865Z",
     "iopub.status.busy": "2025-07-19T01:46:53.381612Z",
     "iopub.status.idle": "2025-07-19T01:46:54.437258Z",
     "shell.execute_reply": "2025-07-19T01:46:54.436543Z",
     "shell.execute_reply.started": "2025-07-19T01:46:53.381845Z"
    },
    "id": "8XxEQCIvN_Vk",
    "trusted": true
   },
   "outputs": [],
   "source": [
    "# To temporary Model hub\n",
    "from huggingface_hub import HfApi\n",
    "from huggingface_hub import login\n",
    "# Initialize API\n",
    "login(\"<your_huggingface_token>\")\n",
    "api = HfApi()"
   ]
  },
  {
   "cell_type": "code",
   "execution_count": 10,
   "metadata": {
    "execution": {
     "iopub.execute_input": "2025-07-19T01:46:54.438432Z",
     "iopub.status.busy": "2025-07-19T01:46:54.438148Z",
     "iopub.status.idle": "2025-07-19T01:47:38.923042Z",
     "shell.execute_reply": "2025-07-19T01:47:38.922265Z",
     "shell.execute_reply.started": "2025-07-19T01:46:54.438389Z"
    },
    "id": "26tSiNJQOA4N",
    "trusted": true
   },
   "outputs": [
    {
     "name": "stdout",
     "output_type": "stream",
     "text": [
      "🦥 Unsloth: Will patch your computer to enable 2x faster free finetuning.\n"
     ]
    },
    {
     "name": "stderr",
     "output_type": "stream",
     "text": [
      "2025-07-19 01:47:06.295252: E external/local_xla/xla/stream_executor/cuda/cuda_fft.cc:477] Unable to register cuFFT factory: Attempting to register factory for plugin cuFFT when one has already been registered\n",
      "WARNING: All log messages before absl::InitializeLog() is called are written to STDERR\n",
      "E0000 00:00:1752889626.482107      36 cuda_dnn.cc:8310] Unable to register cuDNN factory: Attempting to register factory for plugin cuDNN when one has already been registered\n",
      "E0000 00:00:1752889626.534747      36 cuda_blas.cc:1418] Unable to register cuBLAS factory: Attempting to register factory for plugin cuBLAS when one has already been registered\n"
     ]
    },
    {
     "name": "stdout",
     "output_type": "stream",
     "text": [
      "🦥 Unsloth Zoo will now patch everything to make training faster!\n",
      "INFO 07-19 01:47:27 [importing.py:53] Triton module has been replaced with a placeholder.\n",
      "INFO 07-19 01:47:27 [__init__.py:239] Automatically detected platform cuda.\n"
     ]
    }
   ],
   "source": [
    "import unsloth\n",
    "\n",
    "from unsloth import FastLanguageModel\n",
    "from unsloth import is_bfloat16_supported\n",
    "from unsloth.chat_templates import train_on_responses_only\n",
    "import torch\n",
    "\n",
    "from trl import SFTTrainer\n",
    "from transformers import TrainingArguments, DataCollatorForSeq2Seq\n",
    "\n",
    "from unsloth import FastModel\n",
    "from unsloth.chat_templates import get_chat_template\n",
    "\n",
    "import numpy as np\n",
    "from datasets import concatenate_datasets, load_dataset"
   ]
  },
  {
   "cell_type": "code",
   "execution_count": 12,
   "metadata": {
    "execution": {
     "iopub.execute_input": "2025-07-19T01:47:38.928598Z",
     "iopub.status.busy": "2025-07-19T01:47:38.928328Z",
     "iopub.status.idle": "2025-07-19T01:48:00.323531Z",
     "shell.execute_reply": "2025-07-19T01:48:00.322739Z",
     "shell.execute_reply.started": "2025-07-19T01:47:38.928581Z"
    },
    "id": "JhoT9DMuOgGg",
    "trusted": true
   },
   "outputs": [
    {
     "name": "stdout",
     "output_type": "stream",
     "text": [
      "==((====))==  Unsloth 2025.6.8: Fast Gemma3 patching. Transformers: 4.52.4. vLLM: 0.8.5.post1.\n",
      "   \\\\   /|    Tesla T4. Num GPUs = 2. Max memory: 14.741 GB. Platform: Linux.\n",
      "O^O/ \\_/ \\    Torch: 2.6.0+cu124. CUDA: 7.5. CUDA Toolkit: 12.4. Triton: 3.2.0\n",
      "\\        /    Bfloat16 = FALSE. FA [Xformers = 0.0.29.post2. FA2 = False]\n",
      " \"-____-\"     Free license: http://github.com/unslothai/unsloth\n",
      "Unsloth: Fast downloading is enabled - ignore downloading bars which are red colored!\n",
      "Unsloth: Using float16 precision for gemma3 won't work! Using float32.\n"
     ]
    },
    {
     "data": {
      "application/vnd.jupyter.widget-view+json": {
       "model_id": "e6827fd0433544ceb7a5ab654b200c33",
       "version_major": 2,
       "version_minor": 0
      },
      "text/plain": [
       "model.safetensors:   0%|          | 0.00/1.00G [00:00<?, ?B/s]"
      ]
     },
     "metadata": {},
     "output_type": "display_data"
    },
    {
     "data": {
      "application/vnd.jupyter.widget-view+json": {
       "model_id": "4b609f8be96b47b29238a17ef83900f0",
       "version_major": 2,
       "version_minor": 0
      },
      "text/plain": [
       "generation_config.json:   0%|          | 0.00/233 [00:00<?, ?B/s]"
      ]
     },
     "metadata": {},
     "output_type": "display_data"
    },
    {
     "data": {
      "application/vnd.jupyter.widget-view+json": {
       "model_id": "1bcd4662bbcf4b6e83a7905e648cbdfd",
       "version_major": 2,
       "version_minor": 0
      },
      "text/plain": [
       "tokenizer_config.json: 0.00B [00:00, ?B/s]"
      ]
     },
     "metadata": {},
     "output_type": "display_data"
    },
    {
     "data": {
      "application/vnd.jupyter.widget-view+json": {
       "model_id": "5d8c0ed202c142e5b8d33f5ddcc503e0",
       "version_major": 2,
       "version_minor": 0
      },
      "text/plain": [
       "tokenizer.model:   0%|          | 0.00/4.69M [00:00<?, ?B/s]"
      ]
     },
     "metadata": {},
     "output_type": "display_data"
    },
    {
     "data": {
      "application/vnd.jupyter.widget-view+json": {
       "model_id": "eca81fa566a148459a91b09a54710581",
       "version_major": 2,
       "version_minor": 0
      },
      "text/plain": [
       "tokenizer.json:   0%|          | 0.00/33.4M [00:00<?, ?B/s]"
      ]
     },
     "metadata": {},
     "output_type": "display_data"
    },
    {
     "data": {
      "application/vnd.jupyter.widget-view+json": {
       "model_id": "e7e386a707c842d89dac58ea69b20066",
       "version_major": 2,
       "version_minor": 0
      },
      "text/plain": [
       "added_tokens.json:   0%|          | 0.00/35.0 [00:00<?, ?B/s]"
      ]
     },
     "metadata": {},
     "output_type": "display_data"
    },
    {
     "data": {
      "application/vnd.jupyter.widget-view+json": {
       "model_id": "0177cc37dfd047988ce312f20b5fd0c5",
       "version_major": 2,
       "version_minor": 0
      },
      "text/plain": [
       "special_tokens_map.json:   0%|          | 0.00/670 [00:00<?, ?B/s]"
      ]
     },
     "metadata": {},
     "output_type": "display_data"
    },
    {
     "name": "stdout",
     "output_type": "stream",
     "text": [
      "Unsloth: Making `model.base_model.model.model` require gradients\n"
     ]
    }
   ],
   "source": [
    "max_seq_length = 2048\n",
    "\n",
    "model, tokenizer = FastLanguageModel.from_pretrained(\n",
    "    model_name = \"google/gemma-3-1b-it\",\n",
    "    max_seq_length = max_seq_length,   # Context length - can be longer, but uses more memory\n",
    "    load_in_4bit = True,     # 4bit uses much less memory\n",
    "    load_in_8bit = False,    # A bit more accurate, uses 2x memory\n",
    "    full_finetuning = False, # We have full finetuning now!\n",
    "    fast_inference = True, # Enable vLLM fast inference\n",
    "    # gpu_memory_utilization = 0.7,\n",
    "    # device_map = device_map \n",
    ")\n",
    "lora_rank = 16\n",
    "model = FastLanguageModel.get_peft_model(\n",
    "    model,\n",
    "    r=lora_rank,\n",
    "    target_modules=[\"q_proj\", \"k_proj\", \"v_proj\", \"o_proj\",\n",
    "                    \"gate_proj\", \"up_proj\", \"down_proj\"],\n",
    "    lora_alpha=lora_rank,\n",
    "    lora_dropout=0,\n",
    "    bias=\"none\",\n",
    "    use_gradient_checkpointing=\"unsloth\",\n",
    "    random_state=42,\n",
    "    use_rslora=False,\n",
    "    loftq_config=None,\n",
    ")"
   ]
  },
  {
   "cell_type": "code",
   "execution_count": 14,
   "metadata": {
    "execution": {
     "iopub.execute_input": "2025-07-19T01:48:00.505297Z",
     "iopub.status.busy": "2025-07-19T01:48:00.505077Z",
     "iopub.status.idle": "2025-07-19T01:48:00.510049Z",
     "shell.execute_reply": "2025-07-19T01:48:00.509158Z",
     "shell.execute_reply.started": "2025-07-19T01:48:00.505276Z"
    },
    "id": "GAJ8K2-oOi4W",
    "trusted": true
   },
   "outputs": [],
   "source": [
    "from datasets import load_dataset, Dataset\n",
    "from sklearn.model_selection import train_test_split\n",
    "\n",
    "SYSTEM_PROMPT = \"\"\"\n",
    "Trả lời theo định dạng sau đây:\n",
    "<reasoning>\n",
    "...\n",
    "</reasoning>\n",
    "<answer>\n",
    "...\n",
    "</answer>\n",
    "\"\"\"\n"
   ]
  },
  {
   "cell_type": "code",
   "execution_count": 15,
   "metadata": {
    "execution": {
     "iopub.execute_input": "2025-07-19T01:48:00.513494Z",
     "iopub.status.busy": "2025-07-19T01:48:00.513264Z",
     "iopub.status.idle": "2025-07-19T01:48:03.087489Z",
     "shell.execute_reply": "2025-07-19T01:48:03.086901Z",
     "shell.execute_reply.started": "2025-07-19T01:48:00.513478Z"
    },
    "id": "gV8HgKa6Okgt",
    "trusted": true
   },
   "outputs": [
    {
     "data": {
      "application/vnd.jupyter.widget-view+json": {
       "model_id": "77d0f7360e2049b4abdcf4584c88df6c",
       "version_major": 2,
       "version_minor": 0
      },
      "text/plain": [
       "README.md: 0.00B [00:00, ?B/s]"
      ]
     },
     "metadata": {},
     "output_type": "display_data"
    },
    {
     "name": "stdout",
     "output_type": "stream",
     "text": [
      "['all', 'body-part', 'disease', 'drug', 'medicine']\n"
     ]
    },
    {
     "data": {
      "application/vnd.jupyter.widget-view+json": {
       "model_id": "b4cc1614f7a24ca3a944b5bfba2fd2c8",
       "version_major": 2,
       "version_minor": 0
      },
      "text/plain": [
       "train-00000-of-00001.parquet:   0%|          | 0.00/8.68M [00:00<?, ?B/s]"
      ]
     },
     "metadata": {},
     "output_type": "display_data"
    },
    {
     "data": {
      "application/vnd.jupyter.widget-view+json": {
       "model_id": "07141c3acd5f49adad161e540007de37",
       "version_major": 2,
       "version_minor": 0
      },
      "text/plain": [
       "test-00000-of-00001.parquet:   0%|          | 0.00/501k [00:00<?, ?B/s]"
      ]
     },
     "metadata": {},
     "output_type": "display_data"
    },
    {
     "data": {
      "application/vnd.jupyter.widget-view+json": {
       "model_id": "bb11aa777db844be8ab4d61ec31197ac",
       "version_major": 2,
       "version_minor": 0
      },
      "text/plain": [
       "validation-00000-of-00001.parquet:   0%|          | 0.00/478k [00:00<?, ?B/s]"
      ]
     },
     "metadata": {},
     "output_type": "display_data"
    },
    {
     "data": {
      "application/vnd.jupyter.widget-view+json": {
       "model_id": "5d51b44206da4fb6a7ccb78aa8cc1857",
       "version_major": 2,
       "version_minor": 0
      },
      "text/plain": [
       "Generating train split:   0%|          | 0/14121 [00:00<?, ? examples/s]"
      ]
     },
     "metadata": {},
     "output_type": "display_data"
    },
    {
     "data": {
      "application/vnd.jupyter.widget-view+json": {
       "model_id": "186cf1ebb259481eb25c47e656a16787",
       "version_major": 2,
       "version_minor": 0
      },
      "text/plain": [
       "Generating test split:   0%|          | 0/785 [00:00<?, ? examples/s]"
      ]
     },
     "metadata": {},
     "output_type": "display_data"
    },
    {
     "data": {
      "application/vnd.jupyter.widget-view+json": {
       "model_id": "a62072fc9e9e4bba91846562bad15056",
       "version_major": 2,
       "version_minor": 0
      },
      "text/plain": [
       "Generating validation split:   0%|          | 0/784 [00:00<?, ? examples/s]"
      ]
     },
     "metadata": {},
     "output_type": "display_data"
    }
   ],
   "source": [
    "from datasets import get_dataset_config_names\n",
    "print(get_dataset_config_names('tmnam20/ViMedAQA'))\n",
    "\n",
    "dataset = load_dataset('tmnam20/ViMedAQA', 'disease')"
   ]
  },
  {
   "cell_type": "markdown",
   "metadata": {},
   "source": [
    "# Data Processing"
   ]
  },
  {
   "cell_type": "code",
   "execution_count": 16,
   "metadata": {
    "execution": {
     "iopub.execute_input": "2025-07-19T01:48:03.088596Z",
     "iopub.status.busy": "2025-07-19T01:48:03.088228Z",
     "iopub.status.idle": "2025-07-19T01:48:03.103595Z",
     "shell.execute_reply": "2025-07-19T01:48:03.103030Z",
     "shell.execute_reply.started": "2025-07-19T01:48:03.088578Z"
    },
    "id": "g9v-G66rOlax",
    "trusted": true
   },
   "outputs": [
    {
     "name": "stdout",
     "output_type": "stream",
     "text": [
      "Number of training samples: 14121\n",
      "Number of test samples: 1569\n"
     ]
    }
   ],
   "source": [
    "# Merge training and validation samples\n",
    "test_samples = concatenate_datasets([dataset['validation'],\n",
    "                                         dataset['test']])\n",
    "\n",
    "# Shuffle the merged dataset with a fixed random seed\n",
    "training_samples = dataset['train']\n",
    "test_samples = test_samples.shuffle(seed=42)\n",
    "\n",
    "print(\"Number of training samples:\", training_samples.num_rows)\n",
    "print(\"Number of test samples:\", test_samples.num_rows)"
   ]
  },
  {
   "cell_type": "code",
   "execution_count": 17,
   "metadata": {
    "execution": {
     "iopub.execute_input": "2025-07-19T01:48:03.104548Z",
     "iopub.status.busy": "2025-07-19T01:48:03.104269Z",
     "iopub.status.idle": "2025-07-19T01:48:04.975047Z",
     "shell.execute_reply": "2025-07-19T01:48:04.974312Z",
     "shell.execute_reply.started": "2025-07-19T01:48:03.104527Z"
    },
    "id": "xpzJBBnROnUX",
    "trusted": true
   },
   "outputs": [
    {
     "data": {
      "application/vnd.jupyter.widget-view+json": {
       "model_id": "f9548c1ce7364afc840f6c677ec05a9b",
       "version_major": 2,
       "version_minor": 0
      },
      "text/plain": [
       "Map:   0%|          | 0/14121 [00:00<?, ? examples/s]"
      ]
     },
     "metadata": {},
     "output_type": "display_data"
    },
    {
     "data": {
      "application/vnd.jupyter.widget-view+json": {
       "model_id": "48d39afaa63a4731a8c515da2b4e7858",
       "version_major": 2,
       "version_minor": 0
      },
      "text/plain": [
       "Map:   0%|          | 0/1569 [00:00<?, ? examples/s]"
      ]
     },
     "metadata": {},
     "output_type": "display_data"
    }
   ],
   "source": [
    "# Define a mapping function to create the prompt and answer fields\n",
    "def map_fn(x):\n",
    "    return {\n",
    "        'prompt': [\n",
    "            {'role': 'system', 'content': SYSTEM_PROMPT},\n",
    "            {'role': 'user', 'content': x['question']}\n",
    "        ],\n",
    "        'answer': x['answer'],  # The reference answer\n",
    "        'question': x['question']\n",
    "    }\n",
    "\n",
    "# Apply the mapping function to each split and remove unnecessary columns\n",
    "training_samples = training_samples.map(map_fn).remove_columns(['question_idx', 'context', 'title', 'keyword', 'topic', 'article_url', 'author', 'author_url'])\n",
    "test_samples = test_samples.map(map_fn).remove_columns(['question_idx', 'context', 'title', 'keyword', 'topic', 'article_url', 'author', 'author_url'])\n"
   ]
  },
  {
   "cell_type": "code",
   "execution_count": 18,
   "metadata": {
    "execution": {
     "iopub.execute_input": "2025-07-19T01:48:04.976302Z",
     "iopub.status.busy": "2025-07-19T01:48:04.975845Z",
     "iopub.status.idle": "2025-07-19T01:48:04.981495Z",
     "shell.execute_reply": "2025-07-19T01:48:04.980704Z",
     "shell.execute_reply.started": "2025-07-19T01:48:04.976284Z"
    },
    "id": "0C6WdLibOoWx",
    "trusted": true
   },
   "outputs": [
    {
     "data": {
      "text/plain": [
       "(Dataset({\n",
       "     features: ['question', 'answer', 'prompt'],\n",
       "     num_rows: 14121\n",
       " }),\n",
       " Dataset({\n",
       "     features: ['question', 'answer', 'prompt'],\n",
       "     num_rows: 1569\n",
       " }))"
      ]
     },
     "execution_count": 18,
     "metadata": {},
     "output_type": "execute_result"
    }
   ],
   "source": [
    "training_samples, test_samples"
   ]
  },
  {
   "cell_type": "code",
   "execution_count": 19,
   "metadata": {
    "execution": {
     "iopub.execute_input": "2025-07-19T01:48:04.982898Z",
     "iopub.status.busy": "2025-07-19T01:48:04.982326Z",
     "iopub.status.idle": "2025-07-19T01:48:18.171999Z",
     "shell.execute_reply": "2025-07-19T01:48:18.170997Z",
     "shell.execute_reply.started": "2025-07-19T01:48:04.982880Z"
    },
    "id": "p96pf7PIOpWe",
    "trusted": true
   },
   "outputs": [
    {
     "data": {
      "application/vnd.jupyter.widget-view+json": {
       "model_id": "e65834d115d64dc4a5eff030f2360913",
       "version_major": 2,
       "version_minor": 0
      },
      "text/plain": [
       "config.json:   0%|          | 0.00/595 [00:00<?, ?B/s]"
      ]
     },
     "metadata": {},
     "output_type": "display_data"
    },
    {
     "data": {
      "application/vnd.jupyter.widget-view+json": {
       "model_id": "2f746f661fbb4785ae161733fb2e23e1",
       "version_major": 2,
       "version_minor": 0
      },
      "text/plain": [
       "vocab.json: 0.00B [00:00, ?B/s]"
      ]
     },
     "metadata": {},
     "output_type": "display_data"
    },
    {
     "data": {
      "application/vnd.jupyter.widget-view+json": {
       "model_id": "4921e03ed07944a4a508bc4b04fbee06",
       "version_major": 2,
       "version_minor": 0
      },
      "text/plain": [
       "merges.txt: 0.00B [00:00, ?B/s]"
      ]
     },
     "metadata": {},
     "output_type": "display_data"
    },
    {
     "data": {
      "application/vnd.jupyter.widget-view+json": {
       "model_id": "c58ceb33d4a944e7bad16ac05552a550",
       "version_major": 2,
       "version_minor": 0
      },
      "text/plain": [
       "pytorch_model.bin:   0%|          | 0.00/1.56G [00:00<?, ?B/s]"
      ]
     },
     "metadata": {},
     "output_type": "display_data"
    },
    {
     "data": {
      "application/vnd.jupyter.widget-view+json": {
       "model_id": "fb08f0ae44f94f9e97766a71e9d51997",
       "version_major": 2,
       "version_minor": 0
      },
      "text/plain": [
       "model.safetensors:   0%|          | 0.00/1.56G [00:00<?, ?B/s]"
      ]
     },
     "metadata": {},
     "output_type": "display_data"
    }
   ],
   "source": [
    "import torch\n",
    "from transformers import AutoModelForCausalLM, AutoTokenizer\n",
    "from sentence_transformers import CrossEncoder\n",
    "from typing import List\n",
    "import re\n",
    "\n",
    "# ------ Device Configuration ------\n",
    "main_device = \"cuda\" if torch.cuda.is_available() else \"cpu\"\n",
    "reward_device = \"cpu\" # \"cuda\" if torch.cuda.is_available() else \"cpu\"\n",
    "\n",
    "# ------ Semantic Correctness Reward ------\n",
    "def semantic_correctness(responses: List[str], answers: List[str]) -> List[float]:\n",
    "    \"\"\"Calculate semantic similarity using cross-encoder\"\"\"\n",
    "    model = CrossEncoder('cross-encoder/stsb-roberta-base', device=reward_device)\n",
    "    with torch.no_grad():\n",
    "        inputs = list(zip(responses, answers))\n",
    "        similarities = model.predict(inputs, show_progress_bar=False).tolist()\n",
    "        # Set similarity to -1 if the response is an empty string\n",
    "        similarities = [-1.0 if response == \"\" else similarity for response, similarity in zip(responses, similarities)]\n",
    "        return similarities\n",
    "\n",
    "# ------ Efficient Perplexity Calculation ------\n",
    "class PerplexityCalculator:\n",
    "    def __init__(self, model_name=\"microsoft/biogpt\", device=reward_device):\n",
    "        self.tokenizer = AutoTokenizer.from_pretrained(model_name)\n",
    "        self.device = device\n",
    "        self.tokenizer.pad_token = self.tokenizer.eos_token\n",
    "        self.model = AutoModelForCausalLM.from_pretrained(model_name).to(self.device)\n",
    "        self.model.eval()\n",
    "\n",
    "    def calculate(self, texts: List[str], batch_size=8) -> List[float]:\n",
    "        perplexities = []\n",
    "        for i in range(0, len(texts), batch_size):\n",
    "            batch = texts[i:i+batch_size]\n",
    "            try:\n",
    "                if not batch: continue\n",
    "\n",
    "                encodings = self.tokenizer(\n",
    "                    batch,\n",
    "                    return_tensors=\"pt\",\n",
    "                    padding=True,\n",
    "                    truncation=True,\n",
    "                    max_length=200\n",
    "                ).to(self.device)\n",
    "\n",
    "                with torch.no_grad():\n",
    "                    outputs = self.model(**encodings, labels=encodings.input_ids)\n",
    "\n",
    "                loss = outputs.loss\n",
    "                if torch.isnan(loss):\n",
    "                    raise ValueError(\"NaN loss encountered\")\n",
    "\n",
    "                batch_perplexity = torch.exp(loss).repeat(len(batch)).cpu().tolist()\n",
    "                # Set perplexity to -1 if the input is an empty string\n",
    "                batch_perplexity = [-1.0 if text == \"\" else perplex for text, perplex in zip(batch, batch_perplexity)]\n",
    "                perplexities.extend(batch_perplexity)\n",
    "\n",
    "            except Exception as e:\n",
    "                print(f\"Error in batch {i//batch_size}: {str(e)}\")\n",
    "                perplexities.extend([1000.0] * len(batch))\n",
    "\n",
    "        return perplexities\n",
    "\n",
    "perplexity_calculator = PerplexityCalculator()\n",
    "\n",
    "# ------ Tag Presence Reward ------\n",
    "def tag_presence_reward(completions: List[dict]) -> List[float]:\n",
    "    \"\"\"Reward for presence of <reasoning> and <answer> tags\"\"\"\n",
    "    rewards = []\n",
    "    for completion in completions:\n",
    "        content = completion[0]['content']\n",
    "        has_reasoning = bool(re.search(r'<reasoning>.*?</reasoning>', content, re.DOTALL))\n",
    "        has_answer = bool(re.search(r'<answer>.*?</answer>', content, re.DOTALL))\n",
    "        reward = 0.5 * has_reasoning + 0.5 * has_answer\n",
    "        rewards.append(reward)\n",
    "    return rewards\n",
    "\n",
    "# ------ Combined Reward Function ------\n",
    "def combined_reward_func(\n",
    "    prompts, completions, answer, **kwargs\n",
    ") -> List[float]:\n",
    "    # Extract generated responses\n",
    "    responses = []\n",
    "    valid_indices = []\n",
    "    for idx, completion in enumerate(completions):\n",
    "        try:\n",
    "            generated_content = completion[0]['content'].strip()\n",
    "\n",
    "            # Extract only the <answer> content using regex\n",
    "            answer_match = re.search(r'<answer>(.*?)</answer>', generated_content, re.DOTALL)\n",
    "            if answer_match:\n",
    "                generated_content = answer_match.group(1).strip()\n",
    "            else:\n",
    "                responses.append(\"\")  # Append empty string to maintain index consistency\n",
    "                valid_indices.append(idx)\n",
    "                continue\n",
    "\n",
    "            # Skip if empty or just repeating the prompt\n",
    "            user_prompt = prompts[idx][-1]['content']\n",
    "            if not generated_content or generated_content == user_prompt:\n",
    "                # print(f\"generated_content: continue\")\n",
    "                responses.append(\"\")  # Append empty string to maintain index consistency\n",
    "                valid_indices.append(idx)\n",
    "                continue\n",
    "\n",
    "            responses.append(generated_content)\n",
    "            # print(f\"generated_content3: {generated_content}\")\n",
    "            valid_indices.append(idx)\n",
    "        except (KeyError, IndexError):\n",
    "            responses.append(\"\")  # Append empty string to maintain index consistency\n",
    "            valid_indices.append(idx)\n",
    "            continue\n",
    "\n",
    "    if not responses:\n",
    "        return [-1.0] * len(completions)\n",
    "\n",
    "    # Calculate rewards\n",
    "    try:\n",
    "        # Use raw answers without tag processing\n",
    "        processed_answers = answer\n",
    "        # print(f\"processed_answers: {processed_answers[0]}\")\n",
    "\n",
    "        similarities = semantic_correctness(responses, [processed_answers[i] for i in valid_indices])\n",
    "        perplexities = perplexity_calculator.calculate([processed_answers[i] for i in valid_indices])\n",
    "        tag_rewards = tag_presence_reward([completions[i] for i in valid_indices])\n",
    "    except Exception as e:\n",
    "        print(f\"Reward calculation error: {str(e)}\")\n",
    "        return [-1.0] * len(completions)\n",
    "\n",
    "    # Convert to tensors with stability\n",
    "    sim_scores = torch.nan_to_num(torch.tensor(similarities), nan=0.0)\n",
    "    perplex_scores = torch.nan_to_num(torch.tensor(perplexities), nan=1000.0)\n",
    "    tag_scores = torch.tensor(tag_rewards)\n",
    "\n",
    "    # Perplexity reward calculation\n",
    "    perplex_rewards = 1 / (perplex_scores / (perplex_scores.mean() + 1e-9))\n",
    "\n",
    "    # Normalize with stability\n",
    "    score_range = perplex_rewards.max() - perplex_rewards.min()\n",
    "    if score_range < 1e-6:\n",
    "        perplex_rewards_normalized = torch.ones_like(perplex_rewards) * 0.5\n",
    "    else:\n",
    "        perplex_rewards_normalized = (perplex_rewards - perplex_rewards.min()) / score_range\n",
    "\n",
    "    # Combine scores with validation\n",
    "    combined = [\n",
    "        0.5 * sim.item() + 0.4 * pr.item() + 0.1 * tag.item()\n",
    "        for sim, pr, tag in zip(sim_scores, perplex_rewards_normalized, tag_scores)\n",
    "        if not torch.isnan(sim) and not torch.isnan(pr) and not torch.isnan(tag)\n",
    "    ]\n",
    "\n",
    "    # Map back to original indices\n",
    "    final_rewards = [-1.0] * len(completions)\n",
    "    for idx, reward in zip(valid_indices, combined):\n",
    "        final_rewards[idx] = max(min(reward, 1.0), -1.0)  # Clamp between -1 and 1\n",
    "\n",
    "    assert len(final_rewards) == len(completions), \"Reward mapping error\"\n",
    "    return final_rewards"
   ]
  },
  {
   "cell_type": "code",
   "execution_count": 20,
   "metadata": {
    "execution": {
     "iopub.execute_input": "2025-07-19T01:48:18.173243Z",
     "iopub.status.busy": "2025-07-19T01:48:18.172957Z",
     "iopub.status.idle": "2025-07-19T01:48:25.809769Z",
     "shell.execute_reply": "2025-07-19T01:48:25.809111Z",
     "shell.execute_reply.started": "2025-07-19T01:48:18.173219Z"
    },
    "trusted": true
   },
   "outputs": [
    {
     "data": {
      "application/vnd.jupyter.widget-view+json": {
       "model_id": "0fa1b3ae63bb4545a1cda029dc8913d5",
       "version_major": 2,
       "version_minor": 0
      },
      "text/plain": [
       "Map:   0%|          | 0/14121 [00:00<?, ? examples/s]"
      ]
     },
     "metadata": {},
     "output_type": "display_data"
    },
    {
     "data": {
      "application/vnd.jupyter.widget-view+json": {
       "model_id": "c7bd9fb8120e402dbc7c687c8dad59bf",
       "version_major": 2,
       "version_minor": 0
      },
      "text/plain": [
       "Map:   0%|          | 0/14121 [00:00<?, ? examples/s]"
      ]
     },
     "metadata": {},
     "output_type": "display_data"
    }
   ],
   "source": [
    "tokenized = training_samples.map(\n",
    "    lambda x: {\"tokens\" : tokenizer.apply_chat_template(x[\"prompt\"], add_generation_prompt = True, tokenize = True)},\n",
    "    batched = True,\n",
    ")\n",
    "# print(tokenizer.decode(tokenized[0][\"tokens\"]))\n",
    "tokenized = tokenized.map(lambda x: {\"L\" : len(x[\"tokens\"])})\n",
    "\n",
    "import numpy as np\n",
    "maximum_length = int(np.quantile(tokenized[\"L\"], 0.9))\n",
    "# print(\"Max Length = \", maximum_length)\n",
    "\n",
    "# # Filter only samples smaller than 90% max length\n",
    "# dataset = dataset.select(np.where(np.array(tokenized[\"L\"]) <= maximum_length)[0])\n",
    "del tokenized"
   ]
  },
  {
   "cell_type": "markdown",
   "metadata": {},
   "source": [
    "# Download Model"
   ]
  },
  {
   "cell_type": "code",
   "execution_count": 23,
   "metadata": {
    "execution": {
     "iopub.execute_input": "2025-07-19T01:48:25.906479Z",
     "iopub.status.busy": "2025-07-19T01:48:25.906208Z",
     "iopub.status.idle": "2025-07-19T01:49:04.578292Z",
     "shell.execute_reply": "2025-07-19T01:49:04.577604Z",
     "shell.execute_reply.started": "2025-07-19T01:48:25.906456Z"
    },
    "trusted": true
   },
   "outputs": [
    {
     "data": {
      "application/vnd.jupyter.widget-view+json": {
       "model_id": "a2ed12d8b4a7455cb2d3bee6351e1ec6",
       "version_major": 2,
       "version_minor": 0
      },
      "text/plain": [
       "Fetching 840 files:   0%|          | 0/840 [00:00<?, ?it/s]"
      ]
     },
     "metadata": {},
     "output_type": "display_data"
    },
    {
     "data": {
      "application/vnd.jupyter.widget-view+json": {
       "model_id": "1467d2b3acd643cd9b91fbfab794e2ee",
       "version_major": 2,
       "version_minor": 0
      },
      "text/plain": [
       ".gitattributes: 0.00B [00:00, ?B/s]"
      ]
     },
     "metadata": {},
     "output_type": "display_data"
    },
    {
     "data": {
      "application/vnd.jupyter.widget-view+json": {
       "model_id": "a49e39d8222f44be9d65a13ea0b249dc",
       "version_major": 2,
       "version_minor": 0
      },
      "text/plain": [
       "optimizer.pt:   0%|          | 0.00/27.9M [00:00<?, ?B/s]"
      ]
     },
     "metadata": {},
     "output_type": "display_data"
    },
    {
     "data": {
      "application/vnd.jupyter.widget-view+json": {
       "model_id": "ddb0dc2909ea4c07a9ba70b2b15be1f8",
       "version_major": 2,
       "version_minor": 0
      },
      "text/plain": [
       "adapter_model.safetensors:   0%|          | 0.00/52.2M [00:00<?, ?B/s]"
      ]
     },
     "metadata": {},
     "output_type": "display_data"
    },
    {
     "data": {
      "application/vnd.jupyter.widget-view+json": {
       "model_id": "6b9f2518376f4ab990066fa6e4e41e3e",
       "version_major": 2,
       "version_minor": 0
      },
      "text/plain": [
       "chat_template.jinja: 0.00B [00:00, ?B/s]"
      ]
     },
     "metadata": {},
     "output_type": "display_data"
    },
    {
     "data": {
      "application/vnd.jupyter.widget-view+json": {
       "model_id": "d80fe780618e4d3bb4cc5e776caf7b48",
       "version_major": 2,
       "version_minor": 0
      },
      "text/plain": [
       "README.md: 0.00B [00:00, ?B/s]"
      ]
     },
     "metadata": {},
     "output_type": "display_data"
    },
    {
     "data": {
      "application/vnd.jupyter.widget-view+json": {
       "model_id": "3cbc30d41bcb4efb9f1e078b83af2063",
       "version_major": 2,
       "version_minor": 0
      },
      "text/plain": [
       "README.md: 0.00B [00:00, ?B/s]"
      ]
     },
     "metadata": {},
     "output_type": "display_data"
    },
    {
     "data": {
      "application/vnd.jupyter.widget-view+json": {
       "model_id": "bb45f0c4a8ce496da6d1732dc08f252e",
       "version_major": 2,
       "version_minor": 0
      },
      "text/plain": [
       "added_tokens.json:   0%|          | 0.00/35.0 [00:00<?, ?B/s]"
      ]
     },
     "metadata": {},
     "output_type": "display_data"
    },
    {
     "data": {
      "application/vnd.jupyter.widget-view+json": {
       "model_id": "021abf8d541448379627639df4e229fb",
       "version_major": 2,
       "version_minor": 0
      },
      "text/plain": [
       "adapter_config.json:   0%|          | 0.00/868 [00:00<?, ?B/s]"
      ]
     },
     "metadata": {},
     "output_type": "display_data"
    },
    {
     "data": {
      "application/vnd.jupyter.widget-view+json": {
       "model_id": "539c2ee254244025889233e793b77a08",
       "version_major": 2,
       "version_minor": 0
      },
      "text/plain": [
       "rng_state.pth:   0%|          | 0.00/14.2k [00:00<?, ?B/s]"
      ]
     },
     "metadata": {},
     "output_type": "display_data"
    },
    {
     "data": {
      "application/vnd.jupyter.widget-view+json": {
       "model_id": "214002942f2f40c691debdbb65f08ff3",
       "version_major": 2,
       "version_minor": 0
      },
      "text/plain": [
       "scheduler.pt:   0%|          | 0.00/1.06k [00:00<?, ?B/s]"
      ]
     },
     "metadata": {},
     "output_type": "display_data"
    },
    {
     "data": {
      "application/vnd.jupyter.widget-view+json": {
       "model_id": "480fb9aef5064605ac682cf28542d4d2",
       "version_major": 2,
       "version_minor": 0
      },
      "text/plain": [
       "tokenizer.json:   0%|          | 0.00/33.4M [00:00<?, ?B/s]"
      ]
     },
     "metadata": {},
     "output_type": "display_data"
    },
    {
     "data": {
      "application/vnd.jupyter.widget-view+json": {
       "model_id": "269acb1d3c804ae19e026a1c45ff7ace",
       "version_major": 2,
       "version_minor": 0
      },
      "text/plain": [
       "tokenizer.model:   0%|          | 0.00/4.69M [00:00<?, ?B/s]"
      ]
     },
     "metadata": {},
     "output_type": "display_data"
    },
    {
     "data": {
      "application/vnd.jupyter.widget-view+json": {
       "model_id": "fe1cb57ba9fa4b608a2b1ea39b527e3c",
       "version_major": 2,
       "version_minor": 0
      },
      "text/plain": [
       "tokenizer_config.json: 0.00B [00:00, ?B/s]"
      ]
     },
     "metadata": {},
     "output_type": "display_data"
    },
    {
     "data": {
      "application/vnd.jupyter.widget-view+json": {
       "model_id": "cf07abf4b1704605b7973cd43ce85e92",
       "version_major": 2,
       "version_minor": 0
      },
      "text/plain": [
       "training_args.bin:   0%|          | 0.00/6.52k [00:00<?, ?B/s]"
      ]
     },
     "metadata": {},
     "output_type": "display_data"
    },
    {
     "data": {
      "application/vnd.jupyter.widget-view+json": {
       "model_id": "adff9ae1cd704a8fa587dbef26dae7a2",
       "version_major": 2,
       "version_minor": 0
      },
      "text/plain": [
       "trainer_state.json: 0.00B [00:00, ?B/s]"
      ]
     },
     "metadata": {},
     "output_type": "display_data"
    },
    {
     "data": {
      "application/vnd.jupyter.widget-view+json": {
       "model_id": "654c32c69f794dfabffe87641d2cd589",
       "version_major": 2,
       "version_minor": 0
      },
      "text/plain": [
       "adapter_model.safetensors:   0%|          | 0.00/52.2M [00:00<?, ?B/s]"
      ]
     },
     "metadata": {},
     "output_type": "display_data"
    },
    {
     "data": {
      "application/vnd.jupyter.widget-view+json": {
       "model_id": "4b23c6fd8b894873bb2baf9bb59731ab",
       "version_major": 2,
       "version_minor": 0
      },
      "text/plain": [
       "special_tokens_map.json:   0%|          | 0.00/670 [00:00<?, ?B/s]"
      ]
     },
     "metadata": {},
     "output_type": "display_data"
    },
    {
     "data": {
      "application/vnd.jupyter.widget-view+json": {
       "model_id": "d2b540b1d4e54eef811260e597ed0985",
       "version_major": 2,
       "version_minor": 0
      },
      "text/plain": [
       "README.md: 0.00B [00:00, ?B/s]"
      ]
     },
     "metadata": {},
     "output_type": "display_data"
    },
    {
     "data": {
      "application/vnd.jupyter.widget-view+json": {
       "model_id": "61e773ab77864dba99259954266a197f",
       "version_major": 2,
       "version_minor": 0
      },
      "text/plain": [
       "adapter_config.json:   0%|          | 0.00/868 [00:00<?, ?B/s]"
      ]
     },
     "metadata": {},
     "output_type": "display_data"
    },
    {
     "data": {
      "application/vnd.jupyter.widget-view+json": {
       "model_id": "f3c4e811ce184f17a3646eff89aa3978",
       "version_major": 2,
       "version_minor": 0
      },
      "text/plain": [
       "added_tokens.json:   0%|          | 0.00/35.0 [00:00<?, ?B/s]"
      ]
     },
     "metadata": {},
     "output_type": "display_data"
    },
    {
     "data": {
      "application/vnd.jupyter.widget-view+json": {
       "model_id": "eab536c9cf104cecbe7beff32b8596e1",
       "version_major": 2,
       "version_minor": 0
      },
      "text/plain": [
       "chat_template.jinja: 0.00B [00:00, ?B/s]"
      ]
     },
     "metadata": {},
     "output_type": "display_data"
    },
    {
     "data": {
      "application/vnd.jupyter.widget-view+json": {
       "model_id": "04e79e423a4643a9b08c35197caf3718",
       "version_major": 2,
       "version_minor": 0
      },
      "text/plain": [
       "rng_state.pth:   0%|          | 0.00/14.2k [00:00<?, ?B/s]"
      ]
     },
     "metadata": {},
     "output_type": "display_data"
    },
    {
     "data": {
      "application/vnd.jupyter.widget-view+json": {
       "model_id": "a9f7d625a68149c68a6a0ef2e63e9f9c",
       "version_major": 2,
       "version_minor": 0
      },
      "text/plain": [
       "optimizer.pt:   0%|          | 0.00/27.9M [00:00<?, ?B/s]"
      ]
     },
     "metadata": {},
     "output_type": "display_data"
    },
    {
     "data": {
      "application/vnd.jupyter.widget-view+json": {
       "model_id": "e111caeac8ac46c8bd63888cbe3967bd",
       "version_major": 2,
       "version_minor": 0
      },
      "text/plain": [
       "scheduler.pt:   0%|          | 0.00/1.06k [00:00<?, ?B/s]"
      ]
     },
     "metadata": {},
     "output_type": "display_data"
    },
    {
     "data": {
      "application/vnd.jupyter.widget-view+json": {
       "model_id": "7c47f610380b4d0bba7e203529f09b09",
       "version_major": 2,
       "version_minor": 0
      },
      "text/plain": [
       "tokenizer.json:   0%|          | 0.00/33.4M [00:00<?, ?B/s]"
      ]
     },
     "metadata": {},
     "output_type": "display_data"
    },
    {
     "data": {
      "application/vnd.jupyter.widget-view+json": {
       "model_id": "122f33e670714615a87e437750f9c3c4",
       "version_major": 2,
       "version_minor": 0
      },
      "text/plain": [
       "tokenizer.model:   0%|          | 0.00/4.69M [00:00<?, ?B/s]"
      ]
     },
     "metadata": {},
     "output_type": "display_data"
    },
    {
     "data": {
      "application/vnd.jupyter.widget-view+json": {
       "model_id": "a46e7c47efe84fc6b4c1890e25477599",
       "version_major": 2,
       "version_minor": 0
      },
      "text/plain": [
       "special_tokens_map.json:   0%|          | 0.00/670 [00:00<?, ?B/s]"
      ]
     },
     "metadata": {},
     "output_type": "display_data"
    },
    {
     "data": {
      "application/vnd.jupyter.widget-view+json": {
       "model_id": "ff0d9cbd26ca436e98a1185505030da2",
       "version_major": 2,
       "version_minor": 0
      },
      "text/plain": [
       "training_args.bin:   0%|          | 0.00/6.52k [00:00<?, ?B/s]"
      ]
     },
     "metadata": {},
     "output_type": "display_data"
    },
    {
     "data": {
      "application/vnd.jupyter.widget-view+json": {
       "model_id": "a7438f5d0cc343f480a83da5dcf001cc",
       "version_major": 2,
       "version_minor": 0
      },
      "text/plain": [
       "tokenizer_config.json: 0.00B [00:00, ?B/s]"
      ]
     },
     "metadata": {},
     "output_type": "display_data"
    },
    {
     "data": {
      "application/vnd.jupyter.widget-view+json": {
       "model_id": "f0f4cab0770e4572aa68701d0ab6a709",
       "version_major": 2,
       "version_minor": 0
      },
      "text/plain": [
       "trainer_state.json: 0.00B [00:00, ?B/s]"
      ]
     },
     "metadata": {},
     "output_type": "display_data"
    },
    {
     "data": {
      "application/vnd.jupyter.widget-view+json": {
       "model_id": "8c1ea3ee3dc34009b73f229e039032e5",
       "version_major": 2,
       "version_minor": 0
      },
      "text/plain": [
       "README.md: 0.00B [00:00, ?B/s]"
      ]
     },
     "metadata": {},
     "output_type": "display_data"
    },
    {
     "data": {
      "application/vnd.jupyter.widget-view+json": {
       "model_id": "fac6b40cc87e4be1af0e265c504a2095",
       "version_major": 2,
       "version_minor": 0
      },
      "text/plain": [
       "adapter_model.safetensors:   0%|          | 0.00/52.2M [00:00<?, ?B/s]"
      ]
     },
     "metadata": {},
     "output_type": "display_data"
    },
    {
     "data": {
      "application/vnd.jupyter.widget-view+json": {
       "model_id": "4cc7e21e52b349aa897872be0f8c2257",
       "version_major": 2,
       "version_minor": 0
      },
      "text/plain": [
       "adapter_config.json:   0%|          | 0.00/868 [00:00<?, ?B/s]"
      ]
     },
     "metadata": {},
     "output_type": "display_data"
    },
    {
     "data": {
      "application/vnd.jupyter.widget-view+json": {
       "model_id": "8c1a2a1921384493b2cadd3aad6e7192",
       "version_major": 2,
       "version_minor": 0
      },
      "text/plain": [
       "added_tokens.json:   0%|          | 0.00/35.0 [00:00<?, ?B/s]"
      ]
     },
     "metadata": {},
     "output_type": "display_data"
    },
    {
     "data": {
      "application/vnd.jupyter.widget-view+json": {
       "model_id": "5d4ce93035f1431e8d27964f6b55c357",
       "version_major": 2,
       "version_minor": 0
      },
      "text/plain": [
       "optimizer.pt:   0%|          | 0.00/27.9M [00:00<?, ?B/s]"
      ]
     },
     "metadata": {},
     "output_type": "display_data"
    },
    {
     "data": {
      "application/vnd.jupyter.widget-view+json": {
       "model_id": "279964ab1f7849ea85b527f8a60e3280",
       "version_major": 2,
       "version_minor": 0
      },
      "text/plain": [
       "chat_template.jinja: 0.00B [00:00, ?B/s]"
      ]
     },
     "metadata": {},
     "output_type": "display_data"
    },
    {
     "data": {
      "application/vnd.jupyter.widget-view+json": {
       "model_id": "c77eb5b1de044dbb98867897ad200e76",
       "version_major": 2,
       "version_minor": 0
      },
      "text/plain": [
       "rng_state.pth:   0%|          | 0.00/14.2k [00:00<?, ?B/s]"
      ]
     },
     "metadata": {},
     "output_type": "display_data"
    },
    {
     "data": {
      "application/vnd.jupyter.widget-view+json": {
       "model_id": "5a504d757ec4485db2ff06a93bceff6b",
       "version_major": 2,
       "version_minor": 0
      },
      "text/plain": [
       "scheduler.pt:   0%|          | 0.00/1.06k [00:00<?, ?B/s]"
      ]
     },
     "metadata": {},
     "output_type": "display_data"
    },
    {
     "data": {
      "application/vnd.jupyter.widget-view+json": {
       "model_id": "738aca49dcf54bcf8ba864d6e1d9e8fb",
       "version_major": 2,
       "version_minor": 0
      },
      "text/plain": [
       "tokenizer.json:   0%|          | 0.00/33.4M [00:00<?, ?B/s]"
      ]
     },
     "metadata": {},
     "output_type": "display_data"
    },
    {
     "data": {
      "application/vnd.jupyter.widget-view+json": {
       "model_id": "e277a671742749c082d9f53bb95d6b1e",
       "version_major": 2,
       "version_minor": 0
      },
      "text/plain": [
       "special_tokens_map.json:   0%|          | 0.00/670 [00:00<?, ?B/s]"
      ]
     },
     "metadata": {},
     "output_type": "display_data"
    },
    {
     "data": {
      "application/vnd.jupyter.widget-view+json": {
       "model_id": "a005b0c81f9f4350aa010a7ebad9ccec",
       "version_major": 2,
       "version_minor": 0
      },
      "text/plain": [
       "tokenizer.model:   0%|          | 0.00/4.69M [00:00<?, ?B/s]"
      ]
     },
     "metadata": {},
     "output_type": "display_data"
    },
    {
     "data": {
      "application/vnd.jupyter.widget-view+json": {
       "model_id": "e254e29cf5db4a3ca4d877dafcd58d9e",
       "version_major": 2,
       "version_minor": 0
      },
      "text/plain": [
       "tokenizer_config.json: 0.00B [00:00, ?B/s]"
      ]
     },
     "metadata": {},
     "output_type": "display_data"
    },
    {
     "data": {
      "application/vnd.jupyter.widget-view+json": {
       "model_id": "edaa2e104a3444d989e7888d285b5bde",
       "version_major": 2,
       "version_minor": 0
      },
      "text/plain": [
       "training_args.bin:   0%|          | 0.00/6.52k [00:00<?, ?B/s]"
      ]
     },
     "metadata": {},
     "output_type": "display_data"
    },
    {
     "data": {
      "application/vnd.jupyter.widget-view+json": {
       "model_id": "b7ddab50bb5543f39bc1df5d702a53fa",
       "version_major": 2,
       "version_minor": 0
      },
      "text/plain": [
       "trainer_state.json: 0.00B [00:00, ?B/s]"
      ]
     },
     "metadata": {},
     "output_type": "display_data"
    },
    {
     "data": {
      "application/vnd.jupyter.widget-view+json": {
       "model_id": "3d2584dac8384d40976589989e63a198",
       "version_major": 2,
       "version_minor": 0
      },
      "text/plain": [
       "README.md: 0.00B [00:00, ?B/s]"
      ]
     },
     "metadata": {},
     "output_type": "display_data"
    },
    {
     "data": {
      "application/vnd.jupyter.widget-view+json": {
       "model_id": "c10d7c3eb8684f379ad922e209c7fce3",
       "version_major": 2,
       "version_minor": 0
      },
      "text/plain": [
       "adapter_model.safetensors:   0%|          | 0.00/52.2M [00:00<?, ?B/s]"
      ]
     },
     "metadata": {},
     "output_type": "display_data"
    },
    {
     "data": {
      "application/vnd.jupyter.widget-view+json": {
       "model_id": "c45fb06e9ab6421fbfa98da7d70972ba",
       "version_major": 2,
       "version_minor": 0
      },
      "text/plain": [
       "optimizer.pt:   0%|          | 0.00/27.9M [00:00<?, ?B/s]"
      ]
     },
     "metadata": {},
     "output_type": "display_data"
    },
    {
     "data": {
      "application/vnd.jupyter.widget-view+json": {
       "model_id": "d224a4afc7424a09973d0fd187daff5b",
       "version_major": 2,
       "version_minor": 0
      },
      "text/plain": [
       "adapter_config.json:   0%|          | 0.00/868 [00:00<?, ?B/s]"
      ]
     },
     "metadata": {},
     "output_type": "display_data"
    },
    {
     "data": {
      "application/vnd.jupyter.widget-view+json": {
       "model_id": "3997d0530f5a4c5dae02b51e668f6edf",
       "version_major": 2,
       "version_minor": 0
      },
      "text/plain": [
       "chat_template.jinja: 0.00B [00:00, ?B/s]"
      ]
     },
     "metadata": {},
     "output_type": "display_data"
    },
    {
     "data": {
      "application/vnd.jupyter.widget-view+json": {
       "model_id": "6df9258444d74d718d8011f3c4286c71",
       "version_major": 2,
       "version_minor": 0
      },
      "text/plain": [
       "added_tokens.json:   0%|          | 0.00/35.0 [00:00<?, ?B/s]"
      ]
     },
     "metadata": {},
     "output_type": "display_data"
    },
    {
     "data": {
      "application/vnd.jupyter.widget-view+json": {
       "model_id": "0c8dcbe055a94749a527b31b706a39db",
       "version_major": 2,
       "version_minor": 0
      },
      "text/plain": [
       "rng_state.pth:   0%|          | 0.00/14.2k [00:00<?, ?B/s]"
      ]
     },
     "metadata": {},
     "output_type": "display_data"
    },
    {
     "data": {
      "application/vnd.jupyter.widget-view+json": {
       "model_id": "b1b02cba2ab44e498f31d74ad7642a8a",
       "version_major": 2,
       "version_minor": 0
      },
      "text/plain": [
       "tokenizer.model:   0%|          | 0.00/4.69M [00:00<?, ?B/s]"
      ]
     },
     "metadata": {},
     "output_type": "display_data"
    },
    {
     "data": {
      "application/vnd.jupyter.widget-view+json": {
       "model_id": "0fd464e9ed814e25afd812fc9436fd77",
       "version_major": 2,
       "version_minor": 0
      },
      "text/plain": [
       "tokenizer.json:   0%|          | 0.00/33.4M [00:00<?, ?B/s]"
      ]
     },
     "metadata": {},
     "output_type": "display_data"
    },
    {
     "data": {
      "application/vnd.jupyter.widget-view+json": {
       "model_id": "c3274fddc1c44de0989d5429e93dee7a",
       "version_major": 2,
       "version_minor": 0
      },
      "text/plain": [
       "scheduler.pt:   0%|          | 0.00/1.06k [00:00<?, ?B/s]"
      ]
     },
     "metadata": {},
     "output_type": "display_data"
    },
    {
     "data": {
      "application/vnd.jupyter.widget-view+json": {
       "model_id": "a24143b625e44e6691f93e4ece4ec854",
       "version_major": 2,
       "version_minor": 0
      },
      "text/plain": [
       "special_tokens_map.json:   0%|          | 0.00/670 [00:00<?, ?B/s]"
      ]
     },
     "metadata": {},
     "output_type": "display_data"
    },
    {
     "data": {
      "application/vnd.jupyter.widget-view+json": {
       "model_id": "6dc7b4d1902a4e2287277f13ae95ebf7",
       "version_major": 2,
       "version_minor": 0
      },
      "text/plain": [
       "training_args.bin:   0%|          | 0.00/6.52k [00:00<?, ?B/s]"
      ]
     },
     "metadata": {},
     "output_type": "display_data"
    },
    {
     "data": {
      "application/vnd.jupyter.widget-view+json": {
       "model_id": "845c9264ce8749ec9268cc825be33ff0",
       "version_major": 2,
       "version_minor": 0
      },
      "text/plain": [
       "tokenizer_config.json: 0.00B [00:00, ?B/s]"
      ]
     },
     "metadata": {},
     "output_type": "display_data"
    },
    {
     "data": {
      "application/vnd.jupyter.widget-view+json": {
       "model_id": "40ecf1d6db5146e08558112474523f3e",
       "version_major": 2,
       "version_minor": 0
      },
      "text/plain": [
       "trainer_state.json: 0.00B [00:00, ?B/s]"
      ]
     },
     "metadata": {},
     "output_type": "display_data"
    },
    {
     "data": {
      "application/vnd.jupyter.widget-view+json": {
       "model_id": "832611b653a840a38be0135c07007a82",
       "version_major": 2,
       "version_minor": 0
      },
      "text/plain": [
       "README.md: 0.00B [00:00, ?B/s]"
      ]
     },
     "metadata": {},
     "output_type": "display_data"
    },
    {
     "data": {
      "application/vnd.jupyter.widget-view+json": {
       "model_id": "a619333175ab498785f751cd24f43f78",
       "version_major": 2,
       "version_minor": 0
      },
      "text/plain": [
       "adapter_model.safetensors:   0%|          | 0.00/52.2M [00:00<?, ?B/s]"
      ]
     },
     "metadata": {},
     "output_type": "display_data"
    },
    {
     "data": {
      "application/vnd.jupyter.widget-view+json": {
       "model_id": "d4ac942ebe924d64a7ff511cc2deebef",
       "version_major": 2,
       "version_minor": 0
      },
      "text/plain": [
       "adapter_config.json:   0%|          | 0.00/868 [00:00<?, ?B/s]"
      ]
     },
     "metadata": {},
     "output_type": "display_data"
    },
    {
     "data": {
      "application/vnd.jupyter.widget-view+json": {
       "model_id": "50531198b7d34a34b1634e78ef330d9d",
       "version_major": 2,
       "version_minor": 0
      },
      "text/plain": [
       "optimizer.pt:   0%|          | 0.00/27.9M [00:00<?, ?B/s]"
      ]
     },
     "metadata": {},
     "output_type": "display_data"
    },
    {
     "data": {
      "application/vnd.jupyter.widget-view+json": {
       "model_id": "89d3da0cb36d423ea7b659cb860de63e",
       "version_major": 2,
       "version_minor": 0
      },
      "text/plain": [
       "rng_state.pth:   0%|          | 0.00/14.2k [00:00<?, ?B/s]"
      ]
     },
     "metadata": {},
     "output_type": "display_data"
    },
    {
     "data": {
      "application/vnd.jupyter.widget-view+json": {
       "model_id": "bc3ef045e2f844e18ce7a89460fbc57b",
       "version_major": 2,
       "version_minor": 0
      },
      "text/plain": [
       "added_tokens.json:   0%|          | 0.00/35.0 [00:00<?, ?B/s]"
      ]
     },
     "metadata": {},
     "output_type": "display_data"
    },
    {
     "data": {
      "application/vnd.jupyter.widget-view+json": {
       "model_id": "8173c3281ab64e5ba68e96e6127112de",
       "version_major": 2,
       "version_minor": 0
      },
      "text/plain": [
       "chat_template.jinja: 0.00B [00:00, ?B/s]"
      ]
     },
     "metadata": {},
     "output_type": "display_data"
    },
    {
     "data": {
      "application/vnd.jupyter.widget-view+json": {
       "model_id": "ad1132f8c91f41519c9de1a03ee9e671",
       "version_major": 2,
       "version_minor": 0
      },
      "text/plain": [
       "scheduler.pt:   0%|          | 0.00/1.06k [00:00<?, ?B/s]"
      ]
     },
     "metadata": {},
     "output_type": "display_data"
    },
    {
     "data": {
      "application/vnd.jupyter.widget-view+json": {
       "model_id": "550a203cfbfc4ecd881383449d7e36ea",
       "version_major": 2,
       "version_minor": 0
      },
      "text/plain": [
       "tokenizer.json:   0%|          | 0.00/33.4M [00:00<?, ?B/s]"
      ]
     },
     "metadata": {},
     "output_type": "display_data"
    },
    {
     "data": {
      "application/vnd.jupyter.widget-view+json": {
       "model_id": "156e04a6fd8c4d0ea9c5d0e5aa4f5009",
       "version_major": 2,
       "version_minor": 0
      },
      "text/plain": [
       "tokenizer.model:   0%|          | 0.00/4.69M [00:00<?, ?B/s]"
      ]
     },
     "metadata": {},
     "output_type": "display_data"
    },
    {
     "data": {
      "application/vnd.jupyter.widget-view+json": {
       "model_id": "5b5fd43046014dddaa157c0ec9e20636",
       "version_major": 2,
       "version_minor": 0
      },
      "text/plain": [
       "training_args.bin:   0%|          | 0.00/6.52k [00:00<?, ?B/s]"
      ]
     },
     "metadata": {},
     "output_type": "display_data"
    },
    {
     "data": {
      "application/vnd.jupyter.widget-view+json": {
       "model_id": "415f24718fb54cb1b77978998f9f6d6f",
       "version_major": 2,
       "version_minor": 0
      },
      "text/plain": [
       "tokenizer_config.json: 0.00B [00:00, ?B/s]"
      ]
     },
     "metadata": {},
     "output_type": "display_data"
    },
    {
     "data": {
      "application/vnd.jupyter.widget-view+json": {
       "model_id": "2da8c5601c5b442996145e574641534e",
       "version_major": 2,
       "version_minor": 0
      },
      "text/plain": [
       "special_tokens_map.json:   0%|          | 0.00/670 [00:00<?, ?B/s]"
      ]
     },
     "metadata": {},
     "output_type": "display_data"
    },
    {
     "data": {
      "application/vnd.jupyter.widget-view+json": {
       "model_id": "702a1e08db14415b873372287b0d0c36",
       "version_major": 2,
       "version_minor": 0
      },
      "text/plain": [
       "trainer_state.json: 0.00B [00:00, ?B/s]"
      ]
     },
     "metadata": {},
     "output_type": "display_data"
    },
    {
     "data": {
      "application/vnd.jupyter.widget-view+json": {
       "model_id": "295a7c7780b245b4885518d1ceeda964",
       "version_major": 2,
       "version_minor": 0
      },
      "text/plain": [
       "adapter_model.safetensors:   0%|          | 0.00/52.2M [00:00<?, ?B/s]"
      ]
     },
     "metadata": {},
     "output_type": "display_data"
    },
    {
     "data": {
      "application/vnd.jupyter.widget-view+json": {
       "model_id": "3a2381d4f39c4562b2e32410b4509b10",
       "version_major": 2,
       "version_minor": 0
      },
      "text/plain": [
       "adapter_config.json:   0%|          | 0.00/868 [00:00<?, ?B/s]"
      ]
     },
     "metadata": {},
     "output_type": "display_data"
    },
    {
     "data": {
      "application/vnd.jupyter.widget-view+json": {
       "model_id": "b4113da6e665448bb831d9777c028992",
       "version_major": 2,
       "version_minor": 0
      },
      "text/plain": [
       "README.md: 0.00B [00:00, ?B/s]"
      ]
     },
     "metadata": {},
     "output_type": "display_data"
    },
    {
     "data": {
      "application/vnd.jupyter.widget-view+json": {
       "model_id": "1cf04a409dab4b0982e7d051ffa5acc0",
       "version_major": 2,
       "version_minor": 0
      },
      "text/plain": [
       "added_tokens.json:   0%|          | 0.00/35.0 [00:00<?, ?B/s]"
      ]
     },
     "metadata": {},
     "output_type": "display_data"
    },
    {
     "data": {
      "application/vnd.jupyter.widget-view+json": {
       "model_id": "96cc268605b94103ba18667c4804820b",
       "version_major": 2,
       "version_minor": 0
      },
      "text/plain": [
       "chat_template.jinja: 0.00B [00:00, ?B/s]"
      ]
     },
     "metadata": {},
     "output_type": "display_data"
    },
    {
     "data": {
      "application/vnd.jupyter.widget-view+json": {
       "model_id": "5cddd0d6b8984d09950b0cdcedbbd7e6",
       "version_major": 2,
       "version_minor": 0
      },
      "text/plain": [
       "optimizer.pt:   0%|          | 0.00/27.9M [00:00<?, ?B/s]"
      ]
     },
     "metadata": {},
     "output_type": "display_data"
    },
    {
     "data": {
      "application/vnd.jupyter.widget-view+json": {
       "model_id": "3bedabf7e65e44eea5e33229c2b2ee6d",
       "version_major": 2,
       "version_minor": 0
      },
      "text/plain": [
       "rng_state.pth:   0%|          | 0.00/14.2k [00:00<?, ?B/s]"
      ]
     },
     "metadata": {},
     "output_type": "display_data"
    },
    {
     "data": {
      "application/vnd.jupyter.widget-view+json": {
       "model_id": "ac0eb65cc1ed4fc18dba1b8f4aadcf50",
       "version_major": 2,
       "version_minor": 0
      },
      "text/plain": [
       "scheduler.pt:   0%|          | 0.00/1.06k [00:00<?, ?B/s]"
      ]
     },
     "metadata": {},
     "output_type": "display_data"
    },
    {
     "data": {
      "application/vnd.jupyter.widget-view+json": {
       "model_id": "3d5c328e7fa94f9dbcbd8d86d2a03a6b",
       "version_major": 2,
       "version_minor": 0
      },
      "text/plain": [
       "tokenizer.json:   0%|          | 0.00/33.4M [00:00<?, ?B/s]"
      ]
     },
     "metadata": {},
     "output_type": "display_data"
    },
    {
     "data": {
      "application/vnd.jupyter.widget-view+json": {
       "model_id": "6d2a7a49d3724efcae729e5498a65c9a",
       "version_major": 2,
       "version_minor": 0
      },
      "text/plain": [
       "special_tokens_map.json:   0%|          | 0.00/670 [00:00<?, ?B/s]"
      ]
     },
     "metadata": {},
     "output_type": "display_data"
    },
    {
     "data": {
      "application/vnd.jupyter.widget-view+json": {
       "model_id": "6b3903960a564a0d900216e655c078c0",
       "version_major": 2,
       "version_minor": 0
      },
      "text/plain": [
       "tokenizer.model:   0%|          | 0.00/4.69M [00:00<?, ?B/s]"
      ]
     },
     "metadata": {},
     "output_type": "display_data"
    },
    {
     "data": {
      "application/vnd.jupyter.widget-view+json": {
       "model_id": "d32711cf9dbc4feca046192f0b42914f",
       "version_major": 2,
       "version_minor": 0
      },
      "text/plain": [
       "tokenizer_config.json: 0.00B [00:00, ?B/s]"
      ]
     },
     "metadata": {},
     "output_type": "display_data"
    },
    {
     "data": {
      "application/vnd.jupyter.widget-view+json": {
       "model_id": "8d57ebadaa6449629a350e9ebe2804d7",
       "version_major": 2,
       "version_minor": 0
      },
      "text/plain": [
       "trainer_state.json: 0.00B [00:00, ?B/s]"
      ]
     },
     "metadata": {},
     "output_type": "display_data"
    },
    {
     "data": {
      "application/vnd.jupyter.widget-view+json": {
       "model_id": "4a790be588e24cc0978cb34c5d794544",
       "version_major": 2,
       "version_minor": 0
      },
      "text/plain": [
       "training_args.bin:   0%|          | 0.00/6.52k [00:00<?, ?B/s]"
      ]
     },
     "metadata": {},
     "output_type": "display_data"
    },
    {
     "data": {
      "application/vnd.jupyter.widget-view+json": {
       "model_id": "61dd37238cb14a1eace206a84220083b",
       "version_major": 2,
       "version_minor": 0
      },
      "text/plain": [
       "adapter_config.json:   0%|          | 0.00/868 [00:00<?, ?B/s]"
      ]
     },
     "metadata": {},
     "output_type": "display_data"
    },
    {
     "data": {
      "application/vnd.jupyter.widget-view+json": {
       "model_id": "65f86cb44c2547d1a19553c45c5c6ed5",
       "version_major": 2,
       "version_minor": 0
      },
      "text/plain": [
       "README.md: 0.00B [00:00, ?B/s]"
      ]
     },
     "metadata": {},
     "output_type": "display_data"
    },
    {
     "data": {
      "application/vnd.jupyter.widget-view+json": {
       "model_id": "c9c1048d754e46bd9635c11da477c30d",
       "version_major": 2,
       "version_minor": 0
      },
      "text/plain": [
       "added_tokens.json:   0%|          | 0.00/35.0 [00:00<?, ?B/s]"
      ]
     },
     "metadata": {},
     "output_type": "display_data"
    },
    {
     "data": {
      "application/vnd.jupyter.widget-view+json": {
       "model_id": "6e9be88f56e240448ec1f203c864a1a4",
       "version_major": 2,
       "version_minor": 0
      },
      "text/plain": [
       "rng_state.pth:   0%|          | 0.00/14.2k [00:00<?, ?B/s]"
      ]
     },
     "metadata": {},
     "output_type": "display_data"
    },
    {
     "data": {
      "application/vnd.jupyter.widget-view+json": {
       "model_id": "0c3ed8811a434ff4bf91fcc50b63a9b8",
       "version_major": 2,
       "version_minor": 0
      },
      "text/plain": [
       "chat_template.jinja: 0.00B [00:00, ?B/s]"
      ]
     },
     "metadata": {},
     "output_type": "display_data"
    },
    {
     "data": {
      "application/vnd.jupyter.widget-view+json": {
       "model_id": "33fe80c39f144098a694df27aebdb8fc",
       "version_major": 2,
       "version_minor": 0
      },
      "text/plain": [
       "adapter_model.safetensors:   0%|          | 0.00/52.2M [00:00<?, ?B/s]"
      ]
     },
     "metadata": {},
     "output_type": "display_data"
    },
    {
     "data": {
      "application/vnd.jupyter.widget-view+json": {
       "model_id": "135981fe4e0d4e94a802207b59697543",
       "version_major": 2,
       "version_minor": 0
      },
      "text/plain": [
       "tokenizer.json:   0%|          | 0.00/33.4M [00:00<?, ?B/s]"
      ]
     },
     "metadata": {},
     "output_type": "display_data"
    },
    {
     "data": {
      "application/vnd.jupyter.widget-view+json": {
       "model_id": "838dea07315044eca32d299bbbf07df8",
       "version_major": 2,
       "version_minor": 0
      },
      "text/plain": [
       "optimizer.pt:   0%|          | 0.00/27.9M [00:00<?, ?B/s]"
      ]
     },
     "metadata": {},
     "output_type": "display_data"
    },
    {
     "data": {
      "application/vnd.jupyter.widget-view+json": {
       "model_id": "641e7ae30c89450eb288c29a8541817a",
       "version_major": 2,
       "version_minor": 0
      },
      "text/plain": [
       "tokenizer.model:   0%|          | 0.00/4.69M [00:00<?, ?B/s]"
      ]
     },
     "metadata": {},
     "output_type": "display_data"
    },
    {
     "data": {
      "application/vnd.jupyter.widget-view+json": {
       "model_id": "999f52ace1d241709aaa2648f539f10a",
       "version_major": 2,
       "version_minor": 0
      },
      "text/plain": [
       "special_tokens_map.json:   0%|          | 0.00/670 [00:00<?, ?B/s]"
      ]
     },
     "metadata": {},
     "output_type": "display_data"
    },
    {
     "data": {
      "application/vnd.jupyter.widget-view+json": {
       "model_id": "bac6817f6a724970adf791ef402ff4a0",
       "version_major": 2,
       "version_minor": 0
      },
      "text/plain": [
       "scheduler.pt:   0%|          | 0.00/1.06k [00:00<?, ?B/s]"
      ]
     },
     "metadata": {},
     "output_type": "display_data"
    },
    {
     "data": {
      "application/vnd.jupyter.widget-view+json": {
       "model_id": "96606255cf0341f8968e49a5ee187922",
       "version_major": 2,
       "version_minor": 0
      },
      "text/plain": [
       "tokenizer_config.json: 0.00B [00:00, ?B/s]"
      ]
     },
     "metadata": {},
     "output_type": "display_data"
    },
    {
     "data": {
      "application/vnd.jupyter.widget-view+json": {
       "model_id": "67aa84a37d744432becb13a130a6431b",
       "version_major": 2,
       "version_minor": 0
      },
      "text/plain": [
       "training_args.bin:   0%|          | 0.00/6.52k [00:00<?, ?B/s]"
      ]
     },
     "metadata": {},
     "output_type": "display_data"
    },
    {
     "data": {
      "application/vnd.jupyter.widget-view+json": {
       "model_id": "fb49e435e7f445838e2d00d4c8cfb390",
       "version_major": 2,
       "version_minor": 0
      },
      "text/plain": [
       "trainer_state.json: 0.00B [00:00, ?B/s]"
      ]
     },
     "metadata": {},
     "output_type": "display_data"
    },
    {
     "data": {
      "application/vnd.jupyter.widget-view+json": {
       "model_id": "e931cba02adc432f849205c3fce74127",
       "version_major": 2,
       "version_minor": 0
      },
      "text/plain": [
       "adapter_config.json:   0%|          | 0.00/868 [00:00<?, ?B/s]"
      ]
     },
     "metadata": {},
     "output_type": "display_data"
    },
    {
     "data": {
      "application/vnd.jupyter.widget-view+json": {
       "model_id": "bb29973e68e94ca9bc15b28143a748fa",
       "version_major": 2,
       "version_minor": 0
      },
      "text/plain": [
       "added_tokens.json:   0%|          | 0.00/35.0 [00:00<?, ?B/s]"
      ]
     },
     "metadata": {},
     "output_type": "display_data"
    },
    {
     "data": {
      "application/vnd.jupyter.widget-view+json": {
       "model_id": "111a136e71224d5fa39885a591771de5",
       "version_major": 2,
       "version_minor": 0
      },
      "text/plain": [
       "README.md: 0.00B [00:00, ?B/s]"
      ]
     },
     "metadata": {},
     "output_type": "display_data"
    },
    {
     "data": {
      "application/vnd.jupyter.widget-view+json": {
       "model_id": "4098b770502a41ec98e088cfdfb4eec7",
       "version_major": 2,
       "version_minor": 0
      },
      "text/plain": [
       "adapter_model.safetensors:   0%|          | 0.00/52.2M [00:00<?, ?B/s]"
      ]
     },
     "metadata": {},
     "output_type": "display_data"
    },
    {
     "data": {
      "application/vnd.jupyter.widget-view+json": {
       "model_id": "2c7d284a85c740349a6acc130a9e2a9c",
       "version_major": 2,
       "version_minor": 0
      },
      "text/plain": [
       "rng_state.pth:   0%|          | 0.00/14.2k [00:00<?, ?B/s]"
      ]
     },
     "metadata": {},
     "output_type": "display_data"
    },
    {
     "data": {
      "application/vnd.jupyter.widget-view+json": {
       "model_id": "582dd33d98c64022995adcee9722abf7",
       "version_major": 2,
       "version_minor": 0
      },
      "text/plain": [
       "chat_template.jinja: 0.00B [00:00, ?B/s]"
      ]
     },
     "metadata": {},
     "output_type": "display_data"
    },
    {
     "data": {
      "application/vnd.jupyter.widget-view+json": {
       "model_id": "26bac280d64d4f40902b9f99371f0962",
       "version_major": 2,
       "version_minor": 0
      },
      "text/plain": [
       "scheduler.pt:   0%|          | 0.00/1.06k [00:00<?, ?B/s]"
      ]
     },
     "metadata": {},
     "output_type": "display_data"
    },
    {
     "data": {
      "application/vnd.jupyter.widget-view+json": {
       "model_id": "76891d0d02de4c6fa97ab958e9fc9177",
       "version_major": 2,
       "version_minor": 0
      },
      "text/plain": [
       "tokenizer.json:   0%|          | 0.00/33.4M [00:00<?, ?B/s]"
      ]
     },
     "metadata": {},
     "output_type": "display_data"
    },
    {
     "data": {
      "application/vnd.jupyter.widget-view+json": {
       "model_id": "40c8b48378ec415aa10e5886fca3fa73",
       "version_major": 2,
       "version_minor": 0
      },
      "text/plain": [
       "optimizer.pt:   0%|          | 0.00/27.9M [00:00<?, ?B/s]"
      ]
     },
     "metadata": {},
     "output_type": "display_data"
    },
    {
     "data": {
      "application/vnd.jupyter.widget-view+json": {
       "model_id": "cc25a56f09cb4f77942b484a689555b4",
       "version_major": 2,
       "version_minor": 0
      },
      "text/plain": [
       "tokenizer.model:   0%|          | 0.00/4.69M [00:00<?, ?B/s]"
      ]
     },
     "metadata": {},
     "output_type": "display_data"
    },
    {
     "data": {
      "application/vnd.jupyter.widget-view+json": {
       "model_id": "358a85423c9e4cbc8e010f4d684985a0",
       "version_major": 2,
       "version_minor": 0
      },
      "text/plain": [
       "special_tokens_map.json:   0%|          | 0.00/670 [00:00<?, ?B/s]"
      ]
     },
     "metadata": {},
     "output_type": "display_data"
    },
    {
     "data": {
      "application/vnd.jupyter.widget-view+json": {
       "model_id": "32ff098c95fb4ecdaceaa394ce489717",
       "version_major": 2,
       "version_minor": 0
      },
      "text/plain": [
       "tokenizer_config.json: 0.00B [00:00, ?B/s]"
      ]
     },
     "metadata": {},
     "output_type": "display_data"
    },
    {
     "data": {
      "application/vnd.jupyter.widget-view+json": {
       "model_id": "75460b2b5e2d416eb7cda1ba5a6ea3ae",
       "version_major": 2,
       "version_minor": 0
      },
      "text/plain": [
       "training_args.bin:   0%|          | 0.00/6.52k [00:00<?, ?B/s]"
      ]
     },
     "metadata": {},
     "output_type": "display_data"
    },
    {
     "data": {
      "application/vnd.jupyter.widget-view+json": {
       "model_id": "ecfffc75a21d4f9eb71de4bda7f9aaf5",
       "version_major": 2,
       "version_minor": 0
      },
      "text/plain": [
       "trainer_state.json: 0.00B [00:00, ?B/s]"
      ]
     },
     "metadata": {},
     "output_type": "display_data"
    },
    {
     "data": {
      "application/vnd.jupyter.widget-view+json": {
       "model_id": "27d1ad268e6f4eeab9280589462a7a4e",
       "version_major": 2,
       "version_minor": 0
      },
      "text/plain": [
       "adapter_config.json:   0%|          | 0.00/868 [00:00<?, ?B/s]"
      ]
     },
     "metadata": {},
     "output_type": "display_data"
    },
    {
     "data": {
      "application/vnd.jupyter.widget-view+json": {
       "model_id": "aa6c249344404721adbb5a877536ac27",
       "version_major": 2,
       "version_minor": 0
      },
      "text/plain": [
       "README.md: 0.00B [00:00, ?B/s]"
      ]
     },
     "metadata": {},
     "output_type": "display_data"
    },
    {
     "data": {
      "application/vnd.jupyter.widget-view+json": {
       "model_id": "0a692ea27388403287173869c9ef9450",
       "version_major": 2,
       "version_minor": 0
      },
      "text/plain": [
       "added_tokens.json:   0%|          | 0.00/35.0 [00:00<?, ?B/s]"
      ]
     },
     "metadata": {},
     "output_type": "display_data"
    },
    {
     "data": {
      "application/vnd.jupyter.widget-view+json": {
       "model_id": "7ed0d399564d4433b8bea6380a00f369",
       "version_major": 2,
       "version_minor": 0
      },
      "text/plain": [
       "adapter_model.safetensors:   0%|          | 0.00/52.2M [00:00<?, ?B/s]"
      ]
     },
     "metadata": {},
     "output_type": "display_data"
    },
    {
     "data": {
      "application/vnd.jupyter.widget-view+json": {
       "model_id": "b36db83c52bc4b7389cfe557492a1927",
       "version_major": 2,
       "version_minor": 0
      },
      "text/plain": [
       "chat_template.jinja: 0.00B [00:00, ?B/s]"
      ]
     },
     "metadata": {},
     "output_type": "display_data"
    },
    {
     "data": {
      "application/vnd.jupyter.widget-view+json": {
       "model_id": "21990431f18c43339def5c89f55572e4",
       "version_major": 2,
       "version_minor": 0
      },
      "text/plain": [
       "rng_state.pth:   0%|          | 0.00/14.2k [00:00<?, ?B/s]"
      ]
     },
     "metadata": {},
     "output_type": "display_data"
    },
    {
     "data": {
      "application/vnd.jupyter.widget-view+json": {
       "model_id": "01ebe15a88e448aaac88bcdd4702b3a9",
       "version_major": 2,
       "version_minor": 0
      },
      "text/plain": [
       "scheduler.pt:   0%|          | 0.00/1.06k [00:00<?, ?B/s]"
      ]
     },
     "metadata": {},
     "output_type": "display_data"
    },
    {
     "data": {
      "application/vnd.jupyter.widget-view+json": {
       "model_id": "33e5dd34ccef4b3c9f0a14bb59364197",
       "version_major": 2,
       "version_minor": 0
      },
      "text/plain": [
       "tokenizer.json:   0%|          | 0.00/33.4M [00:00<?, ?B/s]"
      ]
     },
     "metadata": {},
     "output_type": "display_data"
    },
    {
     "data": {
      "application/vnd.jupyter.widget-view+json": {
       "model_id": "804f865ca3f34404ad1d56740034b8b0",
       "version_major": 2,
       "version_minor": 0
      },
      "text/plain": [
       "tokenizer.model:   0%|          | 0.00/4.69M [00:00<?, ?B/s]"
      ]
     },
     "metadata": {},
     "output_type": "display_data"
    },
    {
     "data": {
      "application/vnd.jupyter.widget-view+json": {
       "model_id": "29b48786ca8645efb70836f8fbab6afd",
       "version_major": 2,
       "version_minor": 0
      },
      "text/plain": [
       "special_tokens_map.json:   0%|          | 0.00/670 [00:00<?, ?B/s]"
      ]
     },
     "metadata": {},
     "output_type": "display_data"
    },
    {
     "data": {
      "application/vnd.jupyter.widget-view+json": {
       "model_id": "1e99e4ab0e1b420f8e7fe4a45097502b",
       "version_major": 2,
       "version_minor": 0
      },
      "text/plain": [
       "optimizer.pt:   0%|          | 0.00/27.9M [00:00<?, ?B/s]"
      ]
     },
     "metadata": {},
     "output_type": "display_data"
    },
    {
     "data": {
      "application/vnd.jupyter.widget-view+json": {
       "model_id": "9539051ccb25473bb0f8d4506cb362d1",
       "version_major": 2,
       "version_minor": 0
      },
      "text/plain": [
       "tokenizer_config.json: 0.00B [00:00, ?B/s]"
      ]
     },
     "metadata": {},
     "output_type": "display_data"
    },
    {
     "data": {
      "application/vnd.jupyter.widget-view+json": {
       "model_id": "00e727d7bb904f178604020df514afd2",
       "version_major": 2,
       "version_minor": 0
      },
      "text/plain": [
       "trainer_state.json: 0.00B [00:00, ?B/s]"
      ]
     },
     "metadata": {},
     "output_type": "display_data"
    },
    {
     "data": {
      "application/vnd.jupyter.widget-view+json": {
       "model_id": "d9a168a676f044ee95a7c521bc1e35c6",
       "version_major": 2,
       "version_minor": 0
      },
      "text/plain": [
       "training_args.bin:   0%|          | 0.00/6.52k [00:00<?, ?B/s]"
      ]
     },
     "metadata": {},
     "output_type": "display_data"
    },
    {
     "data": {
      "application/vnd.jupyter.widget-view+json": {
       "model_id": "13f18d72b7ed4c8f961dc991a989bfe5",
       "version_major": 2,
       "version_minor": 0
      },
      "text/plain": [
       "README.md: 0.00B [00:00, ?B/s]"
      ]
     },
     "metadata": {},
     "output_type": "display_data"
    },
    {
     "data": {
      "application/vnd.jupyter.widget-view+json": {
       "model_id": "6018f30bf8db4f45853316beebbf8ae8",
       "version_major": 2,
       "version_minor": 0
      },
      "text/plain": [
       "adapter_config.json:   0%|          | 0.00/868 [00:00<?, ?B/s]"
      ]
     },
     "metadata": {},
     "output_type": "display_data"
    },
    {
     "data": {
      "application/vnd.jupyter.widget-view+json": {
       "model_id": "a66c2d13da804b288e1424946f78c619",
       "version_major": 2,
       "version_minor": 0
      },
      "text/plain": [
       "added_tokens.json:   0%|          | 0.00/35.0 [00:00<?, ?B/s]"
      ]
     },
     "metadata": {},
     "output_type": "display_data"
    },
    {
     "data": {
      "application/vnd.jupyter.widget-view+json": {
       "model_id": "e3c0f7caa8d942c8aa2871fde1060fa3",
       "version_major": 2,
       "version_minor": 0
      },
      "text/plain": [
       "chat_template.jinja: 0.00B [00:00, ?B/s]"
      ]
     },
     "metadata": {},
     "output_type": "display_data"
    },
    {
     "data": {
      "application/vnd.jupyter.widget-view+json": {
       "model_id": "8607e499059a46ad97880d6f5fc35a97",
       "version_major": 2,
       "version_minor": 0
      },
      "text/plain": [
       "adapter_model.safetensors:   0%|          | 0.00/52.2M [00:00<?, ?B/s]"
      ]
     },
     "metadata": {},
     "output_type": "display_data"
    },
    {
     "data": {
      "application/vnd.jupyter.widget-view+json": {
       "model_id": "6317b548e123475ea873dae4814eb7f5",
       "version_major": 2,
       "version_minor": 0
      },
      "text/plain": [
       "rng_state.pth:   0%|          | 0.00/14.2k [00:00<?, ?B/s]"
      ]
     },
     "metadata": {},
     "output_type": "display_data"
    },
    {
     "data": {
      "application/vnd.jupyter.widget-view+json": {
       "model_id": "cdf467c02c0f41179f133fba8d9a360b",
       "version_major": 2,
       "version_minor": 0
      },
      "text/plain": [
       "tokenizer.json:   0%|          | 0.00/33.4M [00:00<?, ?B/s]"
      ]
     },
     "metadata": {},
     "output_type": "display_data"
    },
    {
     "data": {
      "application/vnd.jupyter.widget-view+json": {
       "model_id": "9eb191721fe049408a77b34a5832a5a0",
       "version_major": 2,
       "version_minor": 0
      },
      "text/plain": [
       "scheduler.pt:   0%|          | 0.00/1.06k [00:00<?, ?B/s]"
      ]
     },
     "metadata": {},
     "output_type": "display_data"
    },
    {
     "data": {
      "application/vnd.jupyter.widget-view+json": {
       "model_id": "a59a4345ad8c4a1aa38427f4e7ea08a1",
       "version_major": 2,
       "version_minor": 0
      },
      "text/plain": [
       "optimizer.pt:   0%|          | 0.00/27.9M [00:00<?, ?B/s]"
      ]
     },
     "metadata": {},
     "output_type": "display_data"
    },
    {
     "data": {
      "application/vnd.jupyter.widget-view+json": {
       "model_id": "8799493ccbbc464bb00a032d75193016",
       "version_major": 2,
       "version_minor": 0
      },
      "text/plain": [
       "tokenizer.model:   0%|          | 0.00/4.69M [00:00<?, ?B/s]"
      ]
     },
     "metadata": {},
     "output_type": "display_data"
    },
    {
     "data": {
      "application/vnd.jupyter.widget-view+json": {
       "model_id": "11e1db425c934d52b77036f9309037e1",
       "version_major": 2,
       "version_minor": 0
      },
      "text/plain": [
       "special_tokens_map.json:   0%|          | 0.00/670 [00:00<?, ?B/s]"
      ]
     },
     "metadata": {},
     "output_type": "display_data"
    },
    {
     "data": {
      "application/vnd.jupyter.widget-view+json": {
       "model_id": "b4213208a7694fd69e01f5091b95cfcc",
       "version_major": 2,
       "version_minor": 0
      },
      "text/plain": [
       "tokenizer_config.json: 0.00B [00:00, ?B/s]"
      ]
     },
     "metadata": {},
     "output_type": "display_data"
    },
    {
     "data": {
      "application/vnd.jupyter.widget-view+json": {
       "model_id": "52f8fc49a4654b5db385d50e7f3d8fbf",
       "version_major": 2,
       "version_minor": 0
      },
      "text/plain": [
       "trainer_state.json: 0.00B [00:00, ?B/s]"
      ]
     },
     "metadata": {},
     "output_type": "display_data"
    },
    {
     "data": {
      "application/vnd.jupyter.widget-view+json": {
       "model_id": "fe2d2090efc242d78df92938b2084b41",
       "version_major": 2,
       "version_minor": 0
      },
      "text/plain": [
       "training_args.bin:   0%|          | 0.00/6.52k [00:00<?, ?B/s]"
      ]
     },
     "metadata": {},
     "output_type": "display_data"
    },
    {
     "data": {
      "application/vnd.jupyter.widget-view+json": {
       "model_id": "603243796e2640698690787c8879e01e",
       "version_major": 2,
       "version_minor": 0
      },
      "text/plain": [
       "README.md: 0.00B [00:00, ?B/s]"
      ]
     },
     "metadata": {},
     "output_type": "display_data"
    },
    {
     "data": {
      "application/vnd.jupyter.widget-view+json": {
       "model_id": "fcfe53db69124c36a4ff7885776808d3",
       "version_major": 2,
       "version_minor": 0
      },
      "text/plain": [
       "adapter_config.json:   0%|          | 0.00/868 [00:00<?, ?B/s]"
      ]
     },
     "metadata": {},
     "output_type": "display_data"
    },
    {
     "data": {
      "application/vnd.jupyter.widget-view+json": {
       "model_id": "fb1022705e5242d6a412e2b23853d7ab",
       "version_major": 2,
       "version_minor": 0
      },
      "text/plain": [
       "adapter_model.safetensors:   0%|          | 0.00/52.2M [00:00<?, ?B/s]"
      ]
     },
     "metadata": {},
     "output_type": "display_data"
    },
    {
     "data": {
      "application/vnd.jupyter.widget-view+json": {
       "model_id": "306df46542ec44dfb67e0c537fc2b997",
       "version_major": 2,
       "version_minor": 0
      },
      "text/plain": [
       "chat_template.jinja: 0.00B [00:00, ?B/s]"
      ]
     },
     "metadata": {},
     "output_type": "display_data"
    },
    {
     "data": {
      "application/vnd.jupyter.widget-view+json": {
       "model_id": "b422b095c88343dd8164f9c60f90dd79",
       "version_major": 2,
       "version_minor": 0
      },
      "text/plain": [
       "added_tokens.json:   0%|          | 0.00/35.0 [00:00<?, ?B/s]"
      ]
     },
     "metadata": {},
     "output_type": "display_data"
    },
    {
     "data": {
      "application/vnd.jupyter.widget-view+json": {
       "model_id": "44d0b19d31464fe795318422ba51691b",
       "version_major": 2,
       "version_minor": 0
      },
      "text/plain": [
       "scheduler.pt:   0%|          | 0.00/1.06k [00:00<?, ?B/s]"
      ]
     },
     "metadata": {},
     "output_type": "display_data"
    },
    {
     "data": {
      "application/vnd.jupyter.widget-view+json": {
       "model_id": "977c02cf576442d0a0acd40b88001849",
       "version_major": 2,
       "version_minor": 0
      },
      "text/plain": [
       "rng_state.pth:   0%|          | 0.00/14.2k [00:00<?, ?B/s]"
      ]
     },
     "metadata": {},
     "output_type": "display_data"
    },
    {
     "data": {
      "application/vnd.jupyter.widget-view+json": {
       "model_id": "6cc422d49e8d46678522d8d1097b68ba",
       "version_major": 2,
       "version_minor": 0
      },
      "text/plain": [
       "optimizer.pt:   0%|          | 0.00/27.9M [00:00<?, ?B/s]"
      ]
     },
     "metadata": {},
     "output_type": "display_data"
    },
    {
     "data": {
      "application/vnd.jupyter.widget-view+json": {
       "model_id": "bdb22002b59148d3afef059b186d51b8",
       "version_major": 2,
       "version_minor": 0
      },
      "text/plain": [
       "special_tokens_map.json:   0%|          | 0.00/670 [00:00<?, ?B/s]"
      ]
     },
     "metadata": {},
     "output_type": "display_data"
    },
    {
     "data": {
      "application/vnd.jupyter.widget-view+json": {
       "model_id": "1f5a25f618254edf80c41007867740f2",
       "version_major": 2,
       "version_minor": 0
      },
      "text/plain": [
       "tokenizer.json:   0%|          | 0.00/33.4M [00:00<?, ?B/s]"
      ]
     },
     "metadata": {},
     "output_type": "display_data"
    },
    {
     "data": {
      "application/vnd.jupyter.widget-view+json": {
       "model_id": "e6ae36baee38411e877f6fb983d39e95",
       "version_major": 2,
       "version_minor": 0
      },
      "text/plain": [
       "tokenizer.model:   0%|          | 0.00/4.69M [00:00<?, ?B/s]"
      ]
     },
     "metadata": {},
     "output_type": "display_data"
    },
    {
     "data": {
      "application/vnd.jupyter.widget-view+json": {
       "model_id": "58b5e07e9faa4a17aa31d5de0026204c",
       "version_major": 2,
       "version_minor": 0
      },
      "text/plain": [
       "tokenizer_config.json: 0.00B [00:00, ?B/s]"
      ]
     },
     "metadata": {},
     "output_type": "display_data"
    },
    {
     "data": {
      "application/vnd.jupyter.widget-view+json": {
       "model_id": "52e7d9c2560840438093e1dcbdabc407",
       "version_major": 2,
       "version_minor": 0
      },
      "text/plain": [
       "training_args.bin:   0%|          | 0.00/6.52k [00:00<?, ?B/s]"
      ]
     },
     "metadata": {},
     "output_type": "display_data"
    },
    {
     "data": {
      "application/vnd.jupyter.widget-view+json": {
       "model_id": "e9e9c09f2cd74c1a9baf1214c8addba4",
       "version_major": 2,
       "version_minor": 0
      },
      "text/plain": [
       "trainer_state.json: 0.00B [00:00, ?B/s]"
      ]
     },
     "metadata": {},
     "output_type": "display_data"
    },
    {
     "data": {
      "application/vnd.jupyter.widget-view+json": {
       "model_id": "9770b3318b154f57a5104f0453cd4f64",
       "version_major": 2,
       "version_minor": 0
      },
      "text/plain": [
       "README.md: 0.00B [00:00, ?B/s]"
      ]
     },
     "metadata": {},
     "output_type": "display_data"
    },
    {
     "data": {
      "application/vnd.jupyter.widget-view+json": {
       "model_id": "2c58e99511084043a05a784fbd0e17be",
       "version_major": 2,
       "version_minor": 0
      },
      "text/plain": [
       "adapter_model.safetensors:   0%|          | 0.00/52.2M [00:00<?, ?B/s]"
      ]
     },
     "metadata": {},
     "output_type": "display_data"
    },
    {
     "data": {
      "application/vnd.jupyter.widget-view+json": {
       "model_id": "f7ca5131899a42119cca7a0622f3d03c",
       "version_major": 2,
       "version_minor": 0
      },
      "text/plain": [
       "adapter_config.json:   0%|          | 0.00/868 [00:00<?, ?B/s]"
      ]
     },
     "metadata": {},
     "output_type": "display_data"
    },
    {
     "data": {
      "application/vnd.jupyter.widget-view+json": {
       "model_id": "92f4ce1c646748c0bde1ae1b95c3d138",
       "version_major": 2,
       "version_minor": 0
      },
      "text/plain": [
       "optimizer.pt:   0%|          | 0.00/27.9M [00:00<?, ?B/s]"
      ]
     },
     "metadata": {},
     "output_type": "display_data"
    },
    {
     "data": {
      "application/vnd.jupyter.widget-view+json": {
       "model_id": "a53330132bc14d80ac8363fa604e5acf",
       "version_major": 2,
       "version_minor": 0
      },
      "text/plain": [
       "chat_template.jinja: 0.00B [00:00, ?B/s]"
      ]
     },
     "metadata": {},
     "output_type": "display_data"
    },
    {
     "data": {
      "application/vnd.jupyter.widget-view+json": {
       "model_id": "7de11dfe8dbd44e7864df31b50ff885d",
       "version_major": 2,
       "version_minor": 0
      },
      "text/plain": [
       "added_tokens.json:   0%|          | 0.00/35.0 [00:00<?, ?B/s]"
      ]
     },
     "metadata": {},
     "output_type": "display_data"
    },
    {
     "data": {
      "application/vnd.jupyter.widget-view+json": {
       "model_id": "ed3e3be8bd314512b73adf021f12e87e",
       "version_major": 2,
       "version_minor": 0
      },
      "text/plain": [
       "rng_state.pth:   0%|          | 0.00/14.2k [00:00<?, ?B/s]"
      ]
     },
     "metadata": {},
     "output_type": "display_data"
    },
    {
     "data": {
      "application/vnd.jupyter.widget-view+json": {
       "model_id": "1a466c7be0ac4258b443a5131dd277fe",
       "version_major": 2,
       "version_minor": 0
      },
      "text/plain": [
       "scheduler.pt:   0%|          | 0.00/1.06k [00:00<?, ?B/s]"
      ]
     },
     "metadata": {},
     "output_type": "display_data"
    },
    {
     "data": {
      "application/vnd.jupyter.widget-view+json": {
       "model_id": "9015ebee4b5f4978a386981cf068c50d",
       "version_major": 2,
       "version_minor": 0
      },
      "text/plain": [
       "tokenizer.json:   0%|          | 0.00/33.4M [00:00<?, ?B/s]"
      ]
     },
     "metadata": {},
     "output_type": "display_data"
    },
    {
     "data": {
      "application/vnd.jupyter.widget-view+json": {
       "model_id": "630835758f9642d48d4e1d66abb815ac",
       "version_major": 2,
       "version_minor": 0
      },
      "text/plain": [
       "tokenizer.model:   0%|          | 0.00/4.69M [00:00<?, ?B/s]"
      ]
     },
     "metadata": {},
     "output_type": "display_data"
    },
    {
     "data": {
      "application/vnd.jupyter.widget-view+json": {
       "model_id": "22b619fb11fc4cf589faae5ad23e4ac7",
       "version_major": 2,
       "version_minor": 0
      },
      "text/plain": [
       "special_tokens_map.json:   0%|          | 0.00/670 [00:00<?, ?B/s]"
      ]
     },
     "metadata": {},
     "output_type": "display_data"
    },
    {
     "data": {
      "application/vnd.jupyter.widget-view+json": {
       "model_id": "4c1468e670fc408abc63e26a8a002573",
       "version_major": 2,
       "version_minor": 0
      },
      "text/plain": [
       "tokenizer_config.json: 0.00B [00:00, ?B/s]"
      ]
     },
     "metadata": {},
     "output_type": "display_data"
    },
    {
     "data": {
      "application/vnd.jupyter.widget-view+json": {
       "model_id": "1dd50f2f22354201ac0e86b7aee0b3b3",
       "version_major": 2,
       "version_minor": 0
      },
      "text/plain": [
       "trainer_state.json: 0.00B [00:00, ?B/s]"
      ]
     },
     "metadata": {},
     "output_type": "display_data"
    },
    {
     "data": {
      "application/vnd.jupyter.widget-view+json": {
       "model_id": "b21791554984441197ef9444b3d41e6f",
       "version_major": 2,
       "version_minor": 0
      },
      "text/plain": [
       "training_args.bin:   0%|          | 0.00/6.52k [00:00<?, ?B/s]"
      ]
     },
     "metadata": {},
     "output_type": "display_data"
    },
    {
     "data": {
      "application/vnd.jupyter.widget-view+json": {
       "model_id": "2c199662cbf84bd394c4faac5f9aceda",
       "version_major": 2,
       "version_minor": 0
      },
      "text/plain": [
       "README.md: 0.00B [00:00, ?B/s]"
      ]
     },
     "metadata": {},
     "output_type": "display_data"
    },
    {
     "data": {
      "application/vnd.jupyter.widget-view+json": {
       "model_id": "05d588b6204244b5bc824319f93994b8",
       "version_major": 2,
       "version_minor": 0
      },
      "text/plain": [
       "adapter_model.safetensors:   0%|          | 0.00/52.2M [00:00<?, ?B/s]"
      ]
     },
     "metadata": {},
     "output_type": "display_data"
    },
    {
     "data": {
      "application/vnd.jupyter.widget-view+json": {
       "model_id": "20a5f2ac18af4b769e3c8eebcf65632b",
       "version_major": 2,
       "version_minor": 0
      },
      "text/plain": [
       "adapter_config.json:   0%|          | 0.00/868 [00:00<?, ?B/s]"
      ]
     },
     "metadata": {},
     "output_type": "display_data"
    },
    {
     "data": {
      "application/vnd.jupyter.widget-view+json": {
       "model_id": "1bfc789125424018a0064020720c6517",
       "version_major": 2,
       "version_minor": 0
      },
      "text/plain": [
       "optimizer.pt:   0%|          | 0.00/27.9M [00:00<?, ?B/s]"
      ]
     },
     "metadata": {},
     "output_type": "display_data"
    },
    {
     "data": {
      "application/vnd.jupyter.widget-view+json": {
       "model_id": "0471e46f09384bb08f58d74fd1dac0d7",
       "version_major": 2,
       "version_minor": 0
      },
      "text/plain": [
       "added_tokens.json:   0%|          | 0.00/35.0 [00:00<?, ?B/s]"
      ]
     },
     "metadata": {},
     "output_type": "display_data"
    },
    {
     "data": {
      "application/vnd.jupyter.widget-view+json": {
       "model_id": "26d5eebc50004bd59183888ad4d9b0ce",
       "version_major": 2,
       "version_minor": 0
      },
      "text/plain": [
       "chat_template.jinja: 0.00B [00:00, ?B/s]"
      ]
     },
     "metadata": {},
     "output_type": "display_data"
    },
    {
     "data": {
      "application/vnd.jupyter.widget-view+json": {
       "model_id": "385d806e1674415db2fb70331b294543",
       "version_major": 2,
       "version_minor": 0
      },
      "text/plain": [
       "rng_state.pth:   0%|          | 0.00/14.2k [00:00<?, ?B/s]"
      ]
     },
     "metadata": {},
     "output_type": "display_data"
    },
    {
     "data": {
      "application/vnd.jupyter.widget-view+json": {
       "model_id": "142a20c8d5e941f4be0808ca58c4305a",
       "version_major": 2,
       "version_minor": 0
      },
      "text/plain": [
       "scheduler.pt:   0%|          | 0.00/1.06k [00:00<?, ?B/s]"
      ]
     },
     "metadata": {},
     "output_type": "display_data"
    },
    {
     "data": {
      "application/vnd.jupyter.widget-view+json": {
       "model_id": "ff783aa551f646ffa93a6af903c5b8e9",
       "version_major": 2,
       "version_minor": 0
      },
      "text/plain": [
       "tokenizer.model:   0%|          | 0.00/4.69M [00:00<?, ?B/s]"
      ]
     },
     "metadata": {},
     "output_type": "display_data"
    },
    {
     "data": {
      "application/vnd.jupyter.widget-view+json": {
       "model_id": "b2ad437b85cb4fbdaa222bd87ab7fedd",
       "version_major": 2,
       "version_minor": 0
      },
      "text/plain": [
       "tokenizer.json:   0%|          | 0.00/33.4M [00:00<?, ?B/s]"
      ]
     },
     "metadata": {},
     "output_type": "display_data"
    },
    {
     "data": {
      "application/vnd.jupyter.widget-view+json": {
       "model_id": "f50dfc68caa44d8a941eb63734f691d6",
       "version_major": 2,
       "version_minor": 0
      },
      "text/plain": [
       "special_tokens_map.json:   0%|          | 0.00/670 [00:00<?, ?B/s]"
      ]
     },
     "metadata": {},
     "output_type": "display_data"
    },
    {
     "data": {
      "application/vnd.jupyter.widget-view+json": {
       "model_id": "e61fba7babca4cb48720398bf4bf6614",
       "version_major": 2,
       "version_minor": 0
      },
      "text/plain": [
       "training_args.bin:   0%|          | 0.00/6.52k [00:00<?, ?B/s]"
      ]
     },
     "metadata": {},
     "output_type": "display_data"
    },
    {
     "data": {
      "application/vnd.jupyter.widget-view+json": {
       "model_id": "d507e698ab2b423aabc419b405ec54c5",
       "version_major": 2,
       "version_minor": 0
      },
      "text/plain": [
       "trainer_state.json: 0.00B [00:00, ?B/s]"
      ]
     },
     "metadata": {},
     "output_type": "display_data"
    },
    {
     "data": {
      "application/vnd.jupyter.widget-view+json": {
       "model_id": "a623c8fea7e946ad94970e364b873b24",
       "version_major": 2,
       "version_minor": 0
      },
      "text/plain": [
       "tokenizer_config.json: 0.00B [00:00, ?B/s]"
      ]
     },
     "metadata": {},
     "output_type": "display_data"
    },
    {
     "data": {
      "application/vnd.jupyter.widget-view+json": {
       "model_id": "67787013252a479eb4df58064998b31c",
       "version_major": 2,
       "version_minor": 0
      },
      "text/plain": [
       "adapter_model.safetensors:   0%|          | 0.00/52.2M [00:00<?, ?B/s]"
      ]
     },
     "metadata": {},
     "output_type": "display_data"
    },
    {
     "data": {
      "application/vnd.jupyter.widget-view+json": {
       "model_id": "c4cf0391008f4bb68be71e0b2e145166",
       "version_major": 2,
       "version_minor": 0
      },
      "text/plain": [
       "README.md: 0.00B [00:00, ?B/s]"
      ]
     },
     "metadata": {},
     "output_type": "display_data"
    },
    {
     "data": {
      "application/vnd.jupyter.widget-view+json": {
       "model_id": "6e81901282d84f24894b2bc54ba305c3",
       "version_major": 2,
       "version_minor": 0
      },
      "text/plain": [
       "adapter_config.json:   0%|          | 0.00/868 [00:00<?, ?B/s]"
      ]
     },
     "metadata": {},
     "output_type": "display_data"
    },
    {
     "data": {
      "application/vnd.jupyter.widget-view+json": {
       "model_id": "b7022b24bd75496a9030e77c5f7efa0a",
       "version_major": 2,
       "version_minor": 0
      },
      "text/plain": [
       "chat_template.jinja: 0.00B [00:00, ?B/s]"
      ]
     },
     "metadata": {},
     "output_type": "display_data"
    },
    {
     "data": {
      "application/vnd.jupyter.widget-view+json": {
       "model_id": "c4c74951515c412c8274ddb2d81a40c1",
       "version_major": 2,
       "version_minor": 0
      },
      "text/plain": [
       "rng_state.pth:   0%|          | 0.00/14.2k [00:00<?, ?B/s]"
      ]
     },
     "metadata": {},
     "output_type": "display_data"
    },
    {
     "data": {
      "application/vnd.jupyter.widget-view+json": {
       "model_id": "d23809508ec14ab2af9abc9c3c3fa1ff",
       "version_major": 2,
       "version_minor": 0
      },
      "text/plain": [
       "optimizer.pt:   0%|          | 0.00/27.9M [00:00<?, ?B/s]"
      ]
     },
     "metadata": {},
     "output_type": "display_data"
    },
    {
     "data": {
      "application/vnd.jupyter.widget-view+json": {
       "model_id": "c37807003d344bdc913004108cc1a154",
       "version_major": 2,
       "version_minor": 0
      },
      "text/plain": [
       "added_tokens.json:   0%|          | 0.00/35.0 [00:00<?, ?B/s]"
      ]
     },
     "metadata": {},
     "output_type": "display_data"
    },
    {
     "data": {
      "application/vnd.jupyter.widget-view+json": {
       "model_id": "9ab6565ef42945049b124cbaeabd8d62",
       "version_major": 2,
       "version_minor": 0
      },
      "text/plain": [
       "scheduler.pt:   0%|          | 0.00/1.06k [00:00<?, ?B/s]"
      ]
     },
     "metadata": {},
     "output_type": "display_data"
    },
    {
     "data": {
      "application/vnd.jupyter.widget-view+json": {
       "model_id": "4c24a2677dab4fbcb616dac9224bdcb6",
       "version_major": 2,
       "version_minor": 0
      },
      "text/plain": [
       "tokenizer.json:   0%|          | 0.00/33.4M [00:00<?, ?B/s]"
      ]
     },
     "metadata": {},
     "output_type": "display_data"
    },
    {
     "data": {
      "application/vnd.jupyter.widget-view+json": {
       "model_id": "cd9f624ae83a487bb4b36485df7f6449",
       "version_major": 2,
       "version_minor": 0
      },
      "text/plain": [
       "tokenizer.model:   0%|          | 0.00/4.69M [00:00<?, ?B/s]"
      ]
     },
     "metadata": {},
     "output_type": "display_data"
    },
    {
     "data": {
      "application/vnd.jupyter.widget-view+json": {
       "model_id": "9a624903e69c4fe6bf8bc7196d732bd5",
       "version_major": 2,
       "version_minor": 0
      },
      "text/plain": [
       "special_tokens_map.json:   0%|          | 0.00/670 [00:00<?, ?B/s]"
      ]
     },
     "metadata": {},
     "output_type": "display_data"
    },
    {
     "data": {
      "application/vnd.jupyter.widget-view+json": {
       "model_id": "a7e21dd53f7c48f493f65ed08a0255e0",
       "version_major": 2,
       "version_minor": 0
      },
      "text/plain": [
       "tokenizer_config.json: 0.00B [00:00, ?B/s]"
      ]
     },
     "metadata": {},
     "output_type": "display_data"
    },
    {
     "data": {
      "application/vnd.jupyter.widget-view+json": {
       "model_id": "65b763676d4349369914d78bcc2fd9f1",
       "version_major": 2,
       "version_minor": 0
      },
      "text/plain": [
       "trainer_state.json: 0.00B [00:00, ?B/s]"
      ]
     },
     "metadata": {},
     "output_type": "display_data"
    },
    {
     "data": {
      "application/vnd.jupyter.widget-view+json": {
       "model_id": "e22337ad4c234000af016fa59ccfb820",
       "version_major": 2,
       "version_minor": 0
      },
      "text/plain": [
       "training_args.bin:   0%|          | 0.00/6.52k [00:00<?, ?B/s]"
      ]
     },
     "metadata": {},
     "output_type": "display_data"
    },
    {
     "data": {
      "application/vnd.jupyter.widget-view+json": {
       "model_id": "8e174f91e93b448782af3da605d86311",
       "version_major": 2,
       "version_minor": 0
      },
      "text/plain": [
       "adapter_model.safetensors:   0%|          | 0.00/52.2M [00:00<?, ?B/s]"
      ]
     },
     "metadata": {},
     "output_type": "display_data"
    },
    {
     "data": {
      "application/vnd.jupyter.widget-view+json": {
       "model_id": "b3b96053c47e4548a1e01fcae2308f70",
       "version_major": 2,
       "version_minor": 0
      },
      "text/plain": [
       "README.md: 0.00B [00:00, ?B/s]"
      ]
     },
     "metadata": {},
     "output_type": "display_data"
    },
    {
     "data": {
      "application/vnd.jupyter.widget-view+json": {
       "model_id": "441f9150e15d4e79b9ed61f45af1abf2",
       "version_major": 2,
       "version_minor": 0
      },
      "text/plain": [
       "adapter_config.json:   0%|          | 0.00/868 [00:00<?, ?B/s]"
      ]
     },
     "metadata": {},
     "output_type": "display_data"
    },
    {
     "data": {
      "application/vnd.jupyter.widget-view+json": {
       "model_id": "f164db948de143d78a3327c1559b1eca",
       "version_major": 2,
       "version_minor": 0
      },
      "text/plain": [
       "added_tokens.json:   0%|          | 0.00/35.0 [00:00<?, ?B/s]"
      ]
     },
     "metadata": {},
     "output_type": "display_data"
    },
    {
     "data": {
      "application/vnd.jupyter.widget-view+json": {
       "model_id": "855d3bc31fcf4a559f1943c7c72d47df",
       "version_major": 2,
       "version_minor": 0
      },
      "text/plain": [
       "chat_template.jinja: 0.00B [00:00, ?B/s]"
      ]
     },
     "metadata": {},
     "output_type": "display_data"
    },
    {
     "data": {
      "application/vnd.jupyter.widget-view+json": {
       "model_id": "58e56ef3256643c7a0cd00f6be588f68",
       "version_major": 2,
       "version_minor": 0
      },
      "text/plain": [
       "optimizer.pt:   0%|          | 0.00/27.9M [00:00<?, ?B/s]"
      ]
     },
     "metadata": {},
     "output_type": "display_data"
    },
    {
     "data": {
      "application/vnd.jupyter.widget-view+json": {
       "model_id": "fb01f5f7d917450190bb669485b9a39a",
       "version_major": 2,
       "version_minor": 0
      },
      "text/plain": [
       "rng_state.pth:   0%|          | 0.00/14.2k [00:00<?, ?B/s]"
      ]
     },
     "metadata": {},
     "output_type": "display_data"
    },
    {
     "data": {
      "application/vnd.jupyter.widget-view+json": {
       "model_id": "182a16bec0fe43aba87df6754331abf2",
       "version_major": 2,
       "version_minor": 0
      },
      "text/plain": [
       "scheduler.pt:   0%|          | 0.00/1.06k [00:00<?, ?B/s]"
      ]
     },
     "metadata": {},
     "output_type": "display_data"
    },
    {
     "data": {
      "application/vnd.jupyter.widget-view+json": {
       "model_id": "5db3764bca4a45aeae5da06ffe5c191c",
       "version_major": 2,
       "version_minor": 0
      },
      "text/plain": [
       "tokenizer.json:   0%|          | 0.00/33.4M [00:00<?, ?B/s]"
      ]
     },
     "metadata": {},
     "output_type": "display_data"
    },
    {
     "data": {
      "application/vnd.jupyter.widget-view+json": {
       "model_id": "c438510c8ddc459ebd864e51c5564ea1",
       "version_major": 2,
       "version_minor": 0
      },
      "text/plain": [
       "tokenizer.model:   0%|          | 0.00/4.69M [00:00<?, ?B/s]"
      ]
     },
     "metadata": {},
     "output_type": "display_data"
    },
    {
     "data": {
      "application/vnd.jupyter.widget-view+json": {
       "model_id": "e570f75a0af34a29a2d62766a7ae57d2",
       "version_major": 2,
       "version_minor": 0
      },
      "text/plain": [
       "special_tokens_map.json:   0%|          | 0.00/670 [00:00<?, ?B/s]"
      ]
     },
     "metadata": {},
     "output_type": "display_data"
    },
    {
     "data": {
      "application/vnd.jupyter.widget-view+json": {
       "model_id": "2bed060a9c8c455b90371721277b7118",
       "version_major": 2,
       "version_minor": 0
      },
      "text/plain": [
       "training_args.bin:   0%|          | 0.00/6.52k [00:00<?, ?B/s]"
      ]
     },
     "metadata": {},
     "output_type": "display_data"
    },
    {
     "data": {
      "application/vnd.jupyter.widget-view+json": {
       "model_id": "6bcecca79b014adbb548a53c91a5cf3e",
       "version_major": 2,
       "version_minor": 0
      },
      "text/plain": [
       "tokenizer_config.json: 0.00B [00:00, ?B/s]"
      ]
     },
     "metadata": {},
     "output_type": "display_data"
    },
    {
     "data": {
      "application/vnd.jupyter.widget-view+json": {
       "model_id": "ac33cbef2f1441eca3ea90fdae7caa5f",
       "version_major": 2,
       "version_minor": 0
      },
      "text/plain": [
       "trainer_state.json: 0.00B [00:00, ?B/s]"
      ]
     },
     "metadata": {},
     "output_type": "display_data"
    },
    {
     "data": {
      "application/vnd.jupyter.widget-view+json": {
       "model_id": "fe4f8450e4694c3c877a05c3fd77e780",
       "version_major": 2,
       "version_minor": 0
      },
      "text/plain": [
       "adapter_model.safetensors:   0%|          | 0.00/52.2M [00:00<?, ?B/s]"
      ]
     },
     "metadata": {},
     "output_type": "display_data"
    },
    {
     "data": {
      "application/vnd.jupyter.widget-view+json": {
       "model_id": "668721b168c94490928b6286d2fa4f79",
       "version_major": 2,
       "version_minor": 0
      },
      "text/plain": [
       "adapter_config.json:   0%|          | 0.00/868 [00:00<?, ?B/s]"
      ]
     },
     "metadata": {},
     "output_type": "display_data"
    },
    {
     "data": {
      "application/vnd.jupyter.widget-view+json": {
       "model_id": "3599d43540264870a37aa4744f6feafb",
       "version_major": 2,
       "version_minor": 0
      },
      "text/plain": [
       "README.md: 0.00B [00:00, ?B/s]"
      ]
     },
     "metadata": {},
     "output_type": "display_data"
    },
    {
     "data": {
      "application/vnd.jupyter.widget-view+json": {
       "model_id": "3efc0bb7f08d4afbbf506c2c3322f520",
       "version_major": 2,
       "version_minor": 0
      },
      "text/plain": [
       "added_tokens.json:   0%|          | 0.00/35.0 [00:00<?, ?B/s]"
      ]
     },
     "metadata": {},
     "output_type": "display_data"
    },
    {
     "data": {
      "application/vnd.jupyter.widget-view+json": {
       "model_id": "4f9213b40c514d0090cb4b5956000145",
       "version_major": 2,
       "version_minor": 0
      },
      "text/plain": [
       "optimizer.pt:   0%|          | 0.00/26.9M [00:00<?, ?B/s]"
      ]
     },
     "metadata": {},
     "output_type": "display_data"
    },
    {
     "data": {
      "application/vnd.jupyter.widget-view+json": {
       "model_id": "4086fc341f9e45bcb61783806e9f9a20",
       "version_major": 2,
       "version_minor": 0
      },
      "text/plain": [
       "rng_state.pth:   0%|          | 0.00/14.2k [00:00<?, ?B/s]"
      ]
     },
     "metadata": {},
     "output_type": "display_data"
    },
    {
     "data": {
      "application/vnd.jupyter.widget-view+json": {
       "model_id": "5a579978e16e4dfeb84d355d1aa18e29",
       "version_major": 2,
       "version_minor": 0
      },
      "text/plain": [
       "scheduler.pt:   0%|          | 0.00/1.06k [00:00<?, ?B/s]"
      ]
     },
     "metadata": {},
     "output_type": "display_data"
    },
    {
     "data": {
      "application/vnd.jupyter.widget-view+json": {
       "model_id": "2345e611884342a8850d217d8df4db01",
       "version_major": 2,
       "version_minor": 0
      },
      "text/plain": [
       "tokenizer.json:   0%|          | 0.00/33.4M [00:00<?, ?B/s]"
      ]
     },
     "metadata": {},
     "output_type": "display_data"
    },
    {
     "data": {
      "application/vnd.jupyter.widget-view+json": {
       "model_id": "1e200659ea864532b9a8a1444c766cf8",
       "version_major": 2,
       "version_minor": 0
      },
      "text/plain": [
       "chat_template.jinja: 0.00B [00:00, ?B/s]"
      ]
     },
     "metadata": {},
     "output_type": "display_data"
    },
    {
     "data": {
      "application/vnd.jupyter.widget-view+json": {
       "model_id": "c4dc0a25312a44ef9558007aa9646177",
       "version_major": 2,
       "version_minor": 0
      },
      "text/plain": [
       "tokenizer.model:   0%|          | 0.00/4.69M [00:00<?, ?B/s]"
      ]
     },
     "metadata": {},
     "output_type": "display_data"
    },
    {
     "data": {
      "application/vnd.jupyter.widget-view+json": {
       "model_id": "896be6ebb6844ed8b912da74b996a98b",
       "version_major": 2,
       "version_minor": 0
      },
      "text/plain": [
       "special_tokens_map.json:   0%|          | 0.00/670 [00:00<?, ?B/s]"
      ]
     },
     "metadata": {},
     "output_type": "display_data"
    },
    {
     "data": {
      "application/vnd.jupyter.widget-view+json": {
       "model_id": "6014ecbc3bf94e3091519746e69ffe11",
       "version_major": 2,
       "version_minor": 0
      },
      "text/plain": [
       "training_args.bin:   0%|          | 0.00/6.52k [00:00<?, ?B/s]"
      ]
     },
     "metadata": {},
     "output_type": "display_data"
    },
    {
     "data": {
      "application/vnd.jupyter.widget-view+json": {
       "model_id": "b5544e2b7181476eb5a60c402d856b5f",
       "version_major": 2,
       "version_minor": 0
      },
      "text/plain": [
       "tokenizer_config.json: 0.00B [00:00, ?B/s]"
      ]
     },
     "metadata": {},
     "output_type": "display_data"
    },
    {
     "data": {
      "application/vnd.jupyter.widget-view+json": {
       "model_id": "87c8744240454075898b2302afe02ee7",
       "version_major": 2,
       "version_minor": 0
      },
      "text/plain": [
       "trainer_state.json: 0.00B [00:00, ?B/s]"
      ]
     },
     "metadata": {},
     "output_type": "display_data"
    },
    {
     "data": {
      "application/vnd.jupyter.widget-view+json": {
       "model_id": "929d38120eaf4503927fcc7197d75899",
       "version_major": 2,
       "version_minor": 0
      },
      "text/plain": [
       "adapter_model.safetensors:   0%|          | 0.00/52.2M [00:00<?, ?B/s]"
      ]
     },
     "metadata": {},
     "output_type": "display_data"
    },
    {
     "data": {
      "application/vnd.jupyter.widget-view+json": {
       "model_id": "b75e4a3876134f0abf55ce9f2de68774",
       "version_major": 2,
       "version_minor": 0
      },
      "text/plain": [
       "README.md: 0.00B [00:00, ?B/s]"
      ]
     },
     "metadata": {},
     "output_type": "display_data"
    },
    {
     "data": {
      "application/vnd.jupyter.widget-view+json": {
       "model_id": "e25e5e5b5e854eec91115316209c433b",
       "version_major": 2,
       "version_minor": 0
      },
      "text/plain": [
       "adapter_config.json:   0%|          | 0.00/868 [00:00<?, ?B/s]"
      ]
     },
     "metadata": {},
     "output_type": "display_data"
    },
    {
     "data": {
      "application/vnd.jupyter.widget-view+json": {
       "model_id": "088277772cb345e684e5005942c49f8c",
       "version_major": 2,
       "version_minor": 0
      },
      "text/plain": [
       "added_tokens.json:   0%|          | 0.00/35.0 [00:00<?, ?B/s]"
      ]
     },
     "metadata": {},
     "output_type": "display_data"
    },
    {
     "data": {
      "application/vnd.jupyter.widget-view+json": {
       "model_id": "b685cf2220f84372b99a5f25cad53b15",
       "version_major": 2,
       "version_minor": 0
      },
      "text/plain": [
       "optimizer.pt:   0%|          | 0.00/27.9M [00:00<?, ?B/s]"
      ]
     },
     "metadata": {},
     "output_type": "display_data"
    },
    {
     "data": {
      "application/vnd.jupyter.widget-view+json": {
       "model_id": "325beb435d3d43e3a725a6a5d676f9c0",
       "version_major": 2,
       "version_minor": 0
      },
      "text/plain": [
       "chat_template.jinja: 0.00B [00:00, ?B/s]"
      ]
     },
     "metadata": {},
     "output_type": "display_data"
    },
    {
     "data": {
      "application/vnd.jupyter.widget-view+json": {
       "model_id": "f070bf67d6ed43bab28b109ce7aefc37",
       "version_major": 2,
       "version_minor": 0
      },
      "text/plain": [
       "rng_state.pth:   0%|          | 0.00/14.2k [00:00<?, ?B/s]"
      ]
     },
     "metadata": {},
     "output_type": "display_data"
    },
    {
     "data": {
      "application/vnd.jupyter.widget-view+json": {
       "model_id": "633b90a59281464e876ae170cb52d816",
       "version_major": 2,
       "version_minor": 0
      },
      "text/plain": [
       "scheduler.pt:   0%|          | 0.00/1.06k [00:00<?, ?B/s]"
      ]
     },
     "metadata": {},
     "output_type": "display_data"
    },
    {
     "data": {
      "application/vnd.jupyter.widget-view+json": {
       "model_id": "e32b41eefc54453d8710ead0d9ca3860",
       "version_major": 2,
       "version_minor": 0
      },
      "text/plain": [
       "tokenizer.json:   0%|          | 0.00/33.4M [00:00<?, ?B/s]"
      ]
     },
     "metadata": {},
     "output_type": "display_data"
    },
    {
     "data": {
      "application/vnd.jupyter.widget-view+json": {
       "model_id": "d45d4bc7ebb945c88a2269b6ccc3f8dc",
       "version_major": 2,
       "version_minor": 0
      },
      "text/plain": [
       "tokenizer.model:   0%|          | 0.00/4.69M [00:00<?, ?B/s]"
      ]
     },
     "metadata": {},
     "output_type": "display_data"
    },
    {
     "data": {
      "application/vnd.jupyter.widget-view+json": {
       "model_id": "47a2ac81cd69459e8a1bc75317a5bc1d",
       "version_major": 2,
       "version_minor": 0
      },
      "text/plain": [
       "special_tokens_map.json:   0%|          | 0.00/670 [00:00<?, ?B/s]"
      ]
     },
     "metadata": {},
     "output_type": "display_data"
    },
    {
     "data": {
      "application/vnd.jupyter.widget-view+json": {
       "model_id": "c9d66585c03f4ef39a9d627760f27361",
       "version_major": 2,
       "version_minor": 0
      },
      "text/plain": [
       "training_args.bin:   0%|          | 0.00/6.52k [00:00<?, ?B/s]"
      ]
     },
     "metadata": {},
     "output_type": "display_data"
    },
    {
     "data": {
      "application/vnd.jupyter.widget-view+json": {
       "model_id": "3117f75af1a446d788105d9206581145",
       "version_major": 2,
       "version_minor": 0
      },
      "text/plain": [
       "tokenizer_config.json: 0.00B [00:00, ?B/s]"
      ]
     },
     "metadata": {},
     "output_type": "display_data"
    },
    {
     "data": {
      "application/vnd.jupyter.widget-view+json": {
       "model_id": "15ed3f7879c84b1191207e29e108e1cb",
       "version_major": 2,
       "version_minor": 0
      },
      "text/plain": [
       "trainer_state.json: 0.00B [00:00, ?B/s]"
      ]
     },
     "metadata": {},
     "output_type": "display_data"
    },
    {
     "data": {
      "application/vnd.jupyter.widget-view+json": {
       "model_id": "56629758c1ee41d8813d340fe3e0158a",
       "version_major": 2,
       "version_minor": 0
      },
      "text/plain": [
       "README.md: 0.00B [00:00, ?B/s]"
      ]
     },
     "metadata": {},
     "output_type": "display_data"
    },
    {
     "data": {
      "application/vnd.jupyter.widget-view+json": {
       "model_id": "1009397c0a8f48cfbb15a0ae1bddd452",
       "version_major": 2,
       "version_minor": 0
      },
      "text/plain": [
       "adapter_model.safetensors:   0%|          | 0.00/52.2M [00:00<?, ?B/s]"
      ]
     },
     "metadata": {},
     "output_type": "display_data"
    },
    {
     "data": {
      "application/vnd.jupyter.widget-view+json": {
       "model_id": "8d01fcb272db48409658b0f8edf6c53d",
       "version_major": 2,
       "version_minor": 0
      },
      "text/plain": [
       "adapter_config.json:   0%|          | 0.00/868 [00:00<?, ?B/s]"
      ]
     },
     "metadata": {},
     "output_type": "display_data"
    },
    {
     "data": {
      "application/vnd.jupyter.widget-view+json": {
       "model_id": "2567c0be392f4823803352676e63715a",
       "version_major": 2,
       "version_minor": 0
      },
      "text/plain": [
       "chat_template.jinja: 0.00B [00:00, ?B/s]"
      ]
     },
     "metadata": {},
     "output_type": "display_data"
    },
    {
     "data": {
      "application/vnd.jupyter.widget-view+json": {
       "model_id": "5b1ee7b94ab44a2bb1cd39987c7f0cd3",
       "version_major": 2,
       "version_minor": 0
      },
      "text/plain": [
       "added_tokens.json:   0%|          | 0.00/35.0 [00:00<?, ?B/s]"
      ]
     },
     "metadata": {},
     "output_type": "display_data"
    },
    {
     "data": {
      "application/vnd.jupyter.widget-view+json": {
       "model_id": "723b050e41364acc8222859b0001a88b",
       "version_major": 2,
       "version_minor": 0
      },
      "text/plain": [
       "optimizer.pt:   0%|          | 0.00/27.9M [00:00<?, ?B/s]"
      ]
     },
     "metadata": {},
     "output_type": "display_data"
    },
    {
     "data": {
      "application/vnd.jupyter.widget-view+json": {
       "model_id": "6836c4a0e3114bfd9d0f8b27a67ee0b7",
       "version_major": 2,
       "version_minor": 0
      },
      "text/plain": [
       "rng_state.pth:   0%|          | 0.00/14.2k [00:00<?, ?B/s]"
      ]
     },
     "metadata": {},
     "output_type": "display_data"
    },
    {
     "data": {
      "application/vnd.jupyter.widget-view+json": {
       "model_id": "6493c99e4f8b4cc589750f8db0073f9f",
       "version_major": 2,
       "version_minor": 0
      },
      "text/plain": [
       "scheduler.pt:   0%|          | 0.00/1.06k [00:00<?, ?B/s]"
      ]
     },
     "metadata": {},
     "output_type": "display_data"
    },
    {
     "data": {
      "application/vnd.jupyter.widget-view+json": {
       "model_id": "0a6d568b0c5948e0b7beb6a0856ffbc9",
       "version_major": 2,
       "version_minor": 0
      },
      "text/plain": [
       "tokenizer.json:   0%|          | 0.00/33.4M [00:00<?, ?B/s]"
      ]
     },
     "metadata": {},
     "output_type": "display_data"
    },
    {
     "data": {
      "application/vnd.jupyter.widget-view+json": {
       "model_id": "c60c553c15694e358c55ad257ef2ae2f",
       "version_major": 2,
       "version_minor": 0
      },
      "text/plain": [
       "special_tokens_map.json:   0%|          | 0.00/670 [00:00<?, ?B/s]"
      ]
     },
     "metadata": {},
     "output_type": "display_data"
    },
    {
     "data": {
      "application/vnd.jupyter.widget-view+json": {
       "model_id": "2b5621f53e7f417fba6b02c8f58e555b",
       "version_major": 2,
       "version_minor": 0
      },
      "text/plain": [
       "tokenizer.model:   0%|          | 0.00/4.69M [00:00<?, ?B/s]"
      ]
     },
     "metadata": {},
     "output_type": "display_data"
    },
    {
     "data": {
      "application/vnd.jupyter.widget-view+json": {
       "model_id": "e1cd6c4acc764260ae2284504d1c0eda",
       "version_major": 2,
       "version_minor": 0
      },
      "text/plain": [
       "tokenizer_config.json: 0.00B [00:00, ?B/s]"
      ]
     },
     "metadata": {},
     "output_type": "display_data"
    },
    {
     "data": {
      "application/vnd.jupyter.widget-view+json": {
       "model_id": "da4f621c4e154a2195d41b86dd8cd959",
       "version_major": 2,
       "version_minor": 0
      },
      "text/plain": [
       "trainer_state.json: 0.00B [00:00, ?B/s]"
      ]
     },
     "metadata": {},
     "output_type": "display_data"
    },
    {
     "data": {
      "application/vnd.jupyter.widget-view+json": {
       "model_id": "7b7606f004074767ae9574268731eb80",
       "version_major": 2,
       "version_minor": 0
      },
      "text/plain": [
       "training_args.bin:   0%|          | 0.00/6.52k [00:00<?, ?B/s]"
      ]
     },
     "metadata": {},
     "output_type": "display_data"
    },
    {
     "data": {
      "application/vnd.jupyter.widget-view+json": {
       "model_id": "5f68adbbdc6a4b8a907d148ece906458",
       "version_major": 2,
       "version_minor": 0
      },
      "text/plain": [
       "README.md: 0.00B [00:00, ?B/s]"
      ]
     },
     "metadata": {},
     "output_type": "display_data"
    },
    {
     "data": {
      "application/vnd.jupyter.widget-view+json": {
       "model_id": "ae8cd5ed08ed4d39a5df948409e230cd",
       "version_major": 2,
       "version_minor": 0
      },
      "text/plain": [
       "adapter_config.json:   0%|          | 0.00/868 [00:00<?, ?B/s]"
      ]
     },
     "metadata": {},
     "output_type": "display_data"
    },
    {
     "data": {
      "application/vnd.jupyter.widget-view+json": {
       "model_id": "94182998d91f4ba39267c21ef8ac482b",
       "version_major": 2,
       "version_minor": 0
      },
      "text/plain": [
       "adapter_model.safetensors:   0%|          | 0.00/52.2M [00:00<?, ?B/s]"
      ]
     },
     "metadata": {},
     "output_type": "display_data"
    },
    {
     "data": {
      "application/vnd.jupyter.widget-view+json": {
       "model_id": "2e4b8d5b436146d8a00cb51d2c98c93b",
       "version_major": 2,
       "version_minor": 0
      },
      "text/plain": [
       "rng_state.pth:   0%|          | 0.00/14.2k [00:00<?, ?B/s]"
      ]
     },
     "metadata": {},
     "output_type": "display_data"
    },
    {
     "data": {
      "application/vnd.jupyter.widget-view+json": {
       "model_id": "8dae8ce5fb904033ac8c0f37e2346d0c",
       "version_major": 2,
       "version_minor": 0
      },
      "text/plain": [
       "optimizer.pt:   0%|          | 0.00/27.9M [00:00<?, ?B/s]"
      ]
     },
     "metadata": {},
     "output_type": "display_data"
    },
    {
     "data": {
      "application/vnd.jupyter.widget-view+json": {
       "model_id": "6d97b485e4f74357be3c88a5d29327fa",
       "version_major": 2,
       "version_minor": 0
      },
      "text/plain": [
       "added_tokens.json:   0%|          | 0.00/35.0 [00:00<?, ?B/s]"
      ]
     },
     "metadata": {},
     "output_type": "display_data"
    },
    {
     "data": {
      "application/vnd.jupyter.widget-view+json": {
       "model_id": "e516f9c22b0b4da5a9e634fded89e8a9",
       "version_major": 2,
       "version_minor": 0
      },
      "text/plain": [
       "chat_template.jinja: 0.00B [00:00, ?B/s]"
      ]
     },
     "metadata": {},
     "output_type": "display_data"
    },
    {
     "data": {
      "application/vnd.jupyter.widget-view+json": {
       "model_id": "3733cf90d7724a63bc606d8de3aa06bb",
       "version_major": 2,
       "version_minor": 0
      },
      "text/plain": [
       "scheduler.pt:   0%|          | 0.00/1.06k [00:00<?, ?B/s]"
      ]
     },
     "metadata": {},
     "output_type": "display_data"
    },
    {
     "data": {
      "application/vnd.jupyter.widget-view+json": {
       "model_id": "b2b478bf0cfb4344b76ba0a0863de66d",
       "version_major": 2,
       "version_minor": 0
      },
      "text/plain": [
       "tokenizer.json:   0%|          | 0.00/33.4M [00:00<?, ?B/s]"
      ]
     },
     "metadata": {},
     "output_type": "display_data"
    },
    {
     "data": {
      "application/vnd.jupyter.widget-view+json": {
       "model_id": "8afb336815d14dc397b489d5da056502",
       "version_major": 2,
       "version_minor": 0
      },
      "text/plain": [
       "tokenizer.model:   0%|          | 0.00/4.69M [00:00<?, ?B/s]"
      ]
     },
     "metadata": {},
     "output_type": "display_data"
    },
    {
     "data": {
      "application/vnd.jupyter.widget-view+json": {
       "model_id": "86eb0b4bfbd7413bb50b4c3bd588e214",
       "version_major": 2,
       "version_minor": 0
      },
      "text/plain": [
       "training_args.bin:   0%|          | 0.00/6.52k [00:00<?, ?B/s]"
      ]
     },
     "metadata": {},
     "output_type": "display_data"
    },
    {
     "data": {
      "application/vnd.jupyter.widget-view+json": {
       "model_id": "ac07b8a9d81d455d9fd32aaa0e4053e1",
       "version_major": 2,
       "version_minor": 0
      },
      "text/plain": [
       "tokenizer_config.json: 0.00B [00:00, ?B/s]"
      ]
     },
     "metadata": {},
     "output_type": "display_data"
    },
    {
     "data": {
      "application/vnd.jupyter.widget-view+json": {
       "model_id": "64a7e9aef62c4c2394969b83e15c5c6f",
       "version_major": 2,
       "version_minor": 0
      },
      "text/plain": [
       "trainer_state.json: 0.00B [00:00, ?B/s]"
      ]
     },
     "metadata": {},
     "output_type": "display_data"
    },
    {
     "data": {
      "application/vnd.jupyter.widget-view+json": {
       "model_id": "752425f242b142de992cf1c9d8429c00",
       "version_major": 2,
       "version_minor": 0
      },
      "text/plain": [
       "adapter_config.json:   0%|          | 0.00/868 [00:00<?, ?B/s]"
      ]
     },
     "metadata": {},
     "output_type": "display_data"
    },
    {
     "data": {
      "application/vnd.jupyter.widget-view+json": {
       "model_id": "c50fce366374448db55911b63805030c",
       "version_major": 2,
       "version_minor": 0
      },
      "text/plain": [
       "adapter_model.safetensors:   0%|          | 0.00/52.2M [00:00<?, ?B/s]"
      ]
     },
     "metadata": {},
     "output_type": "display_data"
    },
    {
     "data": {
      "application/vnd.jupyter.widget-view+json": {
       "model_id": "1fe82737b9284e3b88d22d8169331ca2",
       "version_major": 2,
       "version_minor": 0
      },
      "text/plain": [
       "special_tokens_map.json:   0%|          | 0.00/670 [00:00<?, ?B/s]"
      ]
     },
     "metadata": {},
     "output_type": "display_data"
    },
    {
     "data": {
      "application/vnd.jupyter.widget-view+json": {
       "model_id": "faf2a9311b8d4481a9bb18b05bed55c3",
       "version_major": 2,
       "version_minor": 0
      },
      "text/plain": [
       "README.md: 0.00B [00:00, ?B/s]"
      ]
     },
     "metadata": {},
     "output_type": "display_data"
    },
    {
     "data": {
      "application/vnd.jupyter.widget-view+json": {
       "model_id": "4ff6e67e7ce24b3fb2e994d2914c9424",
       "version_major": 2,
       "version_minor": 0
      },
      "text/plain": [
       "optimizer.pt:   0%|          | 0.00/27.9M [00:00<?, ?B/s]"
      ]
     },
     "metadata": {},
     "output_type": "display_data"
    },
    {
     "data": {
      "application/vnd.jupyter.widget-view+json": {
       "model_id": "6f0ac664d6544b1283d4fc9579788c15",
       "version_major": 2,
       "version_minor": 0
      },
      "text/plain": [
       "rng_state.pth:   0%|          | 0.00/14.2k [00:00<?, ?B/s]"
      ]
     },
     "metadata": {},
     "output_type": "display_data"
    },
    {
     "data": {
      "application/vnd.jupyter.widget-view+json": {
       "model_id": "240c9b759a3940218fe5d30b5dd0c6c1",
       "version_major": 2,
       "version_minor": 0
      },
      "text/plain": [
       "scheduler.pt:   0%|          | 0.00/1.06k [00:00<?, ?B/s]"
      ]
     },
     "metadata": {},
     "output_type": "display_data"
    },
    {
     "data": {
      "application/vnd.jupyter.widget-view+json": {
       "model_id": "f1c9b78f8f6843448b6f59ff6e92c7f5",
       "version_major": 2,
       "version_minor": 0
      },
      "text/plain": [
       "chat_template.jinja: 0.00B [00:00, ?B/s]"
      ]
     },
     "metadata": {},
     "output_type": "display_data"
    },
    {
     "data": {
      "application/vnd.jupyter.widget-view+json": {
       "model_id": "b25ff4c94f2444b0975d54f120849126",
       "version_major": 2,
       "version_minor": 0
      },
      "text/plain": [
       "added_tokens.json:   0%|          | 0.00/35.0 [00:00<?, ?B/s]"
      ]
     },
     "metadata": {},
     "output_type": "display_data"
    },
    {
     "data": {
      "application/vnd.jupyter.widget-view+json": {
       "model_id": "2e48bb8ddec84fb6ad86f8e6573b76e1",
       "version_major": 2,
       "version_minor": 0
      },
      "text/plain": [
       "tokenizer.json:   0%|          | 0.00/33.4M [00:00<?, ?B/s]"
      ]
     },
     "metadata": {},
     "output_type": "display_data"
    },
    {
     "data": {
      "application/vnd.jupyter.widget-view+json": {
       "model_id": "71f514afe086499286a59fec85904300",
       "version_major": 2,
       "version_minor": 0
      },
      "text/plain": [
       "tokenizer.model:   0%|          | 0.00/4.69M [00:00<?, ?B/s]"
      ]
     },
     "metadata": {},
     "output_type": "display_data"
    },
    {
     "data": {
      "application/vnd.jupyter.widget-view+json": {
       "model_id": "3d1e33d371964d348699554cd304c8e4",
       "version_major": 2,
       "version_minor": 0
      },
      "text/plain": [
       "trainer_state.json: 0.00B [00:00, ?B/s]"
      ]
     },
     "metadata": {},
     "output_type": "display_data"
    },
    {
     "data": {
      "application/vnd.jupyter.widget-view+json": {
       "model_id": "86e61526667546dcbebd326f0f39a450",
       "version_major": 2,
       "version_minor": 0
      },
      "text/plain": [
       "special_tokens_map.json:   0%|          | 0.00/670 [00:00<?, ?B/s]"
      ]
     },
     "metadata": {},
     "output_type": "display_data"
    },
    {
     "data": {
      "application/vnd.jupyter.widget-view+json": {
       "model_id": "9f888db5669a4ddd9d24941a77771528",
       "version_major": 2,
       "version_minor": 0
      },
      "text/plain": [
       "training_args.bin:   0%|          | 0.00/6.52k [00:00<?, ?B/s]"
      ]
     },
     "metadata": {},
     "output_type": "display_data"
    },
    {
     "data": {
      "application/vnd.jupyter.widget-view+json": {
       "model_id": "53893003f4c145dca79e3c1e538b2108",
       "version_major": 2,
       "version_minor": 0
      },
      "text/plain": [
       "tokenizer_config.json: 0.00B [00:00, ?B/s]"
      ]
     },
     "metadata": {},
     "output_type": "display_data"
    },
    {
     "data": {
      "application/vnd.jupyter.widget-view+json": {
       "model_id": "2d8f63f13ef84879952840c79611dabf",
       "version_major": 2,
       "version_minor": 0
      },
      "text/plain": [
       "adapter_model.safetensors:   0%|          | 0.00/52.2M [00:00<?, ?B/s]"
      ]
     },
     "metadata": {},
     "output_type": "display_data"
    },
    {
     "data": {
      "application/vnd.jupyter.widget-view+json": {
       "model_id": "12037a830e594fb3b9431d8e13ac7cbb",
       "version_major": 2,
       "version_minor": 0
      },
      "text/plain": [
       "README.md: 0.00B [00:00, ?B/s]"
      ]
     },
     "metadata": {},
     "output_type": "display_data"
    },
    {
     "data": {
      "application/vnd.jupyter.widget-view+json": {
       "model_id": "07c065287f6a42afa5e83c5a240cbbd6",
       "version_major": 2,
       "version_minor": 0
      },
      "text/plain": [
       "added_tokens.json:   0%|          | 0.00/35.0 [00:00<?, ?B/s]"
      ]
     },
     "metadata": {},
     "output_type": "display_data"
    },
    {
     "data": {
      "application/vnd.jupyter.widget-view+json": {
       "model_id": "5c6bb074f3824e7faba2647a893f448e",
       "version_major": 2,
       "version_minor": 0
      },
      "text/plain": [
       "adapter_config.json:   0%|          | 0.00/868 [00:00<?, ?B/s]"
      ]
     },
     "metadata": {},
     "output_type": "display_data"
    },
    {
     "data": {
      "application/vnd.jupyter.widget-view+json": {
       "model_id": "3773ad3040a7434397ab294dc0e1a8b9",
       "version_major": 2,
       "version_minor": 0
      },
      "text/plain": [
       "optimizer.pt:   0%|          | 0.00/27.9M [00:00<?, ?B/s]"
      ]
     },
     "metadata": {},
     "output_type": "display_data"
    },
    {
     "data": {
      "application/vnd.jupyter.widget-view+json": {
       "model_id": "f92e904d61334b799517bc42507bfe8e",
       "version_major": 2,
       "version_minor": 0
      },
      "text/plain": [
       "chat_template.jinja: 0.00B [00:00, ?B/s]"
      ]
     },
     "metadata": {},
     "output_type": "display_data"
    },
    {
     "data": {
      "application/vnd.jupyter.widget-view+json": {
       "model_id": "bdbc1b5ab34c4f97bd10fa8505ac2b4a",
       "version_major": 2,
       "version_minor": 0
      },
      "text/plain": [
       "rng_state.pth:   0%|          | 0.00/14.2k [00:00<?, ?B/s]"
      ]
     },
     "metadata": {},
     "output_type": "display_data"
    },
    {
     "data": {
      "application/vnd.jupyter.widget-view+json": {
       "model_id": "3c30e8ef60d842c48d4c76f33e854977",
       "version_major": 2,
       "version_minor": 0
      },
      "text/plain": [
       "tokenizer.model:   0%|          | 0.00/4.69M [00:00<?, ?B/s]"
      ]
     },
     "metadata": {},
     "output_type": "display_data"
    },
    {
     "data": {
      "application/vnd.jupyter.widget-view+json": {
       "model_id": "36eeecdff82f43b9ba6786376927aa34",
       "version_major": 2,
       "version_minor": 0
      },
      "text/plain": [
       "tokenizer.json:   0%|          | 0.00/33.4M [00:00<?, ?B/s]"
      ]
     },
     "metadata": {},
     "output_type": "display_data"
    },
    {
     "data": {
      "application/vnd.jupyter.widget-view+json": {
       "model_id": "e809fb1c8c9440a78016d921e5d5e3dc",
       "version_major": 2,
       "version_minor": 0
      },
      "text/plain": [
       "scheduler.pt:   0%|          | 0.00/1.06k [00:00<?, ?B/s]"
      ]
     },
     "metadata": {},
     "output_type": "display_data"
    },
    {
     "data": {
      "application/vnd.jupyter.widget-view+json": {
       "model_id": "098d4d8e4f7649da87d4618222329a92",
       "version_major": 2,
       "version_minor": 0
      },
      "text/plain": [
       "special_tokens_map.json:   0%|          | 0.00/670 [00:00<?, ?B/s]"
      ]
     },
     "metadata": {},
     "output_type": "display_data"
    },
    {
     "data": {
      "application/vnd.jupyter.widget-view+json": {
       "model_id": "787809402359405799c9ecd9541d614f",
       "version_major": 2,
       "version_minor": 0
      },
      "text/plain": [
       "training_args.bin:   0%|          | 0.00/6.52k [00:00<?, ?B/s]"
      ]
     },
     "metadata": {},
     "output_type": "display_data"
    },
    {
     "data": {
      "application/vnd.jupyter.widget-view+json": {
       "model_id": "8423057f954c48fb855ba541073fd943",
       "version_major": 2,
       "version_minor": 0
      },
      "text/plain": [
       "trainer_state.json: 0.00B [00:00, ?B/s]"
      ]
     },
     "metadata": {},
     "output_type": "display_data"
    },
    {
     "data": {
      "application/vnd.jupyter.widget-view+json": {
       "model_id": "eeb389d5d4d248af927559b2978f61bf",
       "version_major": 2,
       "version_minor": 0
      },
      "text/plain": [
       "tokenizer_config.json: 0.00B [00:00, ?B/s]"
      ]
     },
     "metadata": {},
     "output_type": "display_data"
    },
    {
     "data": {
      "application/vnd.jupyter.widget-view+json": {
       "model_id": "630d2f4fa73f4b09b07cbdadc08df59c",
       "version_major": 2,
       "version_minor": 0
      },
      "text/plain": [
       "adapter_model.safetensors:   0%|          | 0.00/52.2M [00:00<?, ?B/s]"
      ]
     },
     "metadata": {},
     "output_type": "display_data"
    },
    {
     "data": {
      "application/vnd.jupyter.widget-view+json": {
       "model_id": "d63b46a36d5240f482a56e719e601fc8",
       "version_major": 2,
       "version_minor": 0
      },
      "text/plain": [
       "adapter_config.json:   0%|          | 0.00/868 [00:00<?, ?B/s]"
      ]
     },
     "metadata": {},
     "output_type": "display_data"
    },
    {
     "data": {
      "application/vnd.jupyter.widget-view+json": {
       "model_id": "6e3cb492e56243289fedbf4e8e0f5b83",
       "version_major": 2,
       "version_minor": 0
      },
      "text/plain": [
       "README.md: 0.00B [00:00, ?B/s]"
      ]
     },
     "metadata": {},
     "output_type": "display_data"
    },
    {
     "data": {
      "application/vnd.jupyter.widget-view+json": {
       "model_id": "1108008155c142fdba9df65a5242c57c",
       "version_major": 2,
       "version_minor": 0
      },
      "text/plain": [
       "optimizer.pt:   0%|          | 0.00/27.9M [00:00<?, ?B/s]"
      ]
     },
     "metadata": {},
     "output_type": "display_data"
    },
    {
     "data": {
      "application/vnd.jupyter.widget-view+json": {
       "model_id": "46eb5c92ca824584a008e24d736e69bc",
       "version_major": 2,
       "version_minor": 0
      },
      "text/plain": [
       "scheduler.pt:   0%|          | 0.00/1.06k [00:00<?, ?B/s]"
      ]
     },
     "metadata": {},
     "output_type": "display_data"
    },
    {
     "data": {
      "application/vnd.jupyter.widget-view+json": {
       "model_id": "4abd78dcffba4ddfb22e015b5e02ce71",
       "version_major": 2,
       "version_minor": 0
      },
      "text/plain": [
       "chat_template.jinja: 0.00B [00:00, ?B/s]"
      ]
     },
     "metadata": {},
     "output_type": "display_data"
    },
    {
     "data": {
      "application/vnd.jupyter.widget-view+json": {
       "model_id": "4cae7ab04af94f29802f5f064f88a9a1",
       "version_major": 2,
       "version_minor": 0
      },
      "text/plain": [
       "added_tokens.json:   0%|          | 0.00/35.0 [00:00<?, ?B/s]"
      ]
     },
     "metadata": {},
     "output_type": "display_data"
    },
    {
     "data": {
      "application/vnd.jupyter.widget-view+json": {
       "model_id": "08c960a43d584b0b9f4d33cbb148cbee",
       "version_major": 2,
       "version_minor": 0
      },
      "text/plain": [
       "rng_state.pth:   0%|          | 0.00/14.2k [00:00<?, ?B/s]"
      ]
     },
     "metadata": {},
     "output_type": "display_data"
    },
    {
     "data": {
      "application/vnd.jupyter.widget-view+json": {
       "model_id": "d40bf5a2e70f4fab88e3521be4ff580a",
       "version_major": 2,
       "version_minor": 0
      },
      "text/plain": [
       "tokenizer.json:   0%|          | 0.00/33.4M [00:00<?, ?B/s]"
      ]
     },
     "metadata": {},
     "output_type": "display_data"
    },
    {
     "data": {
      "application/vnd.jupyter.widget-view+json": {
       "model_id": "055a8f2a34a141bc8df83f2abbf8e8f6",
       "version_major": 2,
       "version_minor": 0
      },
      "text/plain": [
       "tokenizer.model:   0%|          | 0.00/4.69M [00:00<?, ?B/s]"
      ]
     },
     "metadata": {},
     "output_type": "display_data"
    },
    {
     "data": {
      "application/vnd.jupyter.widget-view+json": {
       "model_id": "b6eb3d6196214bfc85f5e2bd12f73ef3",
       "version_major": 2,
       "version_minor": 0
      },
      "text/plain": [
       "training_args.bin:   0%|          | 0.00/6.52k [00:00<?, ?B/s]"
      ]
     },
     "metadata": {},
     "output_type": "display_data"
    },
    {
     "data": {
      "application/vnd.jupyter.widget-view+json": {
       "model_id": "679bacc429a347028ccd6f74ae8ee3ae",
       "version_major": 2,
       "version_minor": 0
      },
      "text/plain": [
       "special_tokens_map.json:   0%|          | 0.00/670 [00:00<?, ?B/s]"
      ]
     },
     "metadata": {},
     "output_type": "display_data"
    },
    {
     "data": {
      "application/vnd.jupyter.widget-view+json": {
       "model_id": "bcb6fdd345fa4e6594c42524442b6409",
       "version_major": 2,
       "version_minor": 0
      },
      "text/plain": [
       "tokenizer_config.json: 0.00B [00:00, ?B/s]"
      ]
     },
     "metadata": {},
     "output_type": "display_data"
    },
    {
     "data": {
      "application/vnd.jupyter.widget-view+json": {
       "model_id": "97ef397493414c449e0ae64c1b17d237",
       "version_major": 2,
       "version_minor": 0
      },
      "text/plain": [
       "trainer_state.json: 0.00B [00:00, ?B/s]"
      ]
     },
     "metadata": {},
     "output_type": "display_data"
    },
    {
     "data": {
      "application/vnd.jupyter.widget-view+json": {
       "model_id": "cff9f180636e46278a346331e3a9e027",
       "version_major": 2,
       "version_minor": 0
      },
      "text/plain": [
       "adapter_model.safetensors:   0%|          | 0.00/52.2M [00:00<?, ?B/s]"
      ]
     },
     "metadata": {},
     "output_type": "display_data"
    },
    {
     "data": {
      "application/vnd.jupyter.widget-view+json": {
       "model_id": "2346c574b3dc440ebd20ddc7712135f4",
       "version_major": 2,
       "version_minor": 0
      },
      "text/plain": [
       "adapter_config.json:   0%|          | 0.00/868 [00:00<?, ?B/s]"
      ]
     },
     "metadata": {},
     "output_type": "display_data"
    },
    {
     "data": {
      "application/vnd.jupyter.widget-view+json": {
       "model_id": "8c6fe07b125842fa9788b5695f9b1906",
       "version_major": 2,
       "version_minor": 0
      },
      "text/plain": [
       "optimizer.pt:   0%|          | 0.00/27.9M [00:00<?, ?B/s]"
      ]
     },
     "metadata": {},
     "output_type": "display_data"
    },
    {
     "data": {
      "application/vnd.jupyter.widget-view+json": {
       "model_id": "a6511e2e973243b096c0e837bb55b55f",
       "version_major": 2,
       "version_minor": 0
      },
      "text/plain": [
       "chat_template.jinja: 0.00B [00:00, ?B/s]"
      ]
     },
     "metadata": {},
     "output_type": "display_data"
    },
    {
     "data": {
      "application/vnd.jupyter.widget-view+json": {
       "model_id": "5a9a6fdb87bf43308999636bbaf3a612",
       "version_major": 2,
       "version_minor": 0
      },
      "text/plain": [
       "added_tokens.json:   0%|          | 0.00/35.0 [00:00<?, ?B/s]"
      ]
     },
     "metadata": {},
     "output_type": "display_data"
    },
    {
     "data": {
      "application/vnd.jupyter.widget-view+json": {
       "model_id": "811b641eb070473b897e0ebc754f8130",
       "version_major": 2,
       "version_minor": 0
      },
      "text/plain": [
       "rng_state.pth:   0%|          | 0.00/14.2k [00:00<?, ?B/s]"
      ]
     },
     "metadata": {},
     "output_type": "display_data"
    },
    {
     "data": {
      "application/vnd.jupyter.widget-view+json": {
       "model_id": "7eb143b0e2b242f98d069289ba08efe6",
       "version_major": 2,
       "version_minor": 0
      },
      "text/plain": [
       "tokenizer.json:   0%|          | 0.00/33.4M [00:00<?, ?B/s]"
      ]
     },
     "metadata": {},
     "output_type": "display_data"
    },
    {
     "data": {
      "application/vnd.jupyter.widget-view+json": {
       "model_id": "561dcbaa7a1c4ebb9f478281907726ba",
       "version_major": 2,
       "version_minor": 0
      },
      "text/plain": [
       "scheduler.pt:   0%|          | 0.00/1.06k [00:00<?, ?B/s]"
      ]
     },
     "metadata": {},
     "output_type": "display_data"
    },
    {
     "data": {
      "application/vnd.jupyter.widget-view+json": {
       "model_id": "763550d84aad470eb25129af7f5fecf7",
       "version_major": 2,
       "version_minor": 0
      },
      "text/plain": [
       "tokenizer.model:   0%|          | 0.00/4.69M [00:00<?, ?B/s]"
      ]
     },
     "metadata": {},
     "output_type": "display_data"
    },
    {
     "data": {
      "application/vnd.jupyter.widget-view+json": {
       "model_id": "8c19303b57e941cd9478ca915bcf69d5",
       "version_major": 2,
       "version_minor": 0
      },
      "text/plain": [
       "special_tokens_map.json:   0%|          | 0.00/670 [00:00<?, ?B/s]"
      ]
     },
     "metadata": {},
     "output_type": "display_data"
    },
    {
     "data": {
      "application/vnd.jupyter.widget-view+json": {
       "model_id": "b1e08e2f13c54f16a2450630ed13cd09",
       "version_major": 2,
       "version_minor": 0
      },
      "text/plain": [
       "tokenizer_config.json: 0.00B [00:00, ?B/s]"
      ]
     },
     "metadata": {},
     "output_type": "display_data"
    },
    {
     "data": {
      "application/vnd.jupyter.widget-view+json": {
       "model_id": "98fbefcc399041d98a1fce2e3d274c1e",
       "version_major": 2,
       "version_minor": 0
      },
      "text/plain": [
       "README.md: 0.00B [00:00, ?B/s]"
      ]
     },
     "metadata": {},
     "output_type": "display_data"
    },
    {
     "data": {
      "application/vnd.jupyter.widget-view+json": {
       "model_id": "1a2938214c4e4d12accaebb71bb27742",
       "version_major": 2,
       "version_minor": 0
      },
      "text/plain": [
       "training_args.bin:   0%|          | 0.00/6.52k [00:00<?, ?B/s]"
      ]
     },
     "metadata": {},
     "output_type": "display_data"
    },
    {
     "data": {
      "application/vnd.jupyter.widget-view+json": {
       "model_id": "235d02d33bb245e39bddb7f5c56f06d9",
       "version_major": 2,
       "version_minor": 0
      },
      "text/plain": [
       "trainer_state.json: 0.00B [00:00, ?B/s]"
      ]
     },
     "metadata": {},
     "output_type": "display_data"
    },
    {
     "data": {
      "application/vnd.jupyter.widget-view+json": {
       "model_id": "6d8e3ed6f7c94d3ba7758348fddc1668",
       "version_major": 2,
       "version_minor": 0
      },
      "text/plain": [
       "adapter_model.safetensors:   0%|          | 0.00/52.2M [00:00<?, ?B/s]"
      ]
     },
     "metadata": {},
     "output_type": "display_data"
    },
    {
     "data": {
      "application/vnd.jupyter.widget-view+json": {
       "model_id": "3d8c733cd5ed4972bce74b3b97dcd1f9",
       "version_major": 2,
       "version_minor": 0
      },
      "text/plain": [
       "README.md: 0.00B [00:00, ?B/s]"
      ]
     },
     "metadata": {},
     "output_type": "display_data"
    },
    {
     "data": {
      "application/vnd.jupyter.widget-view+json": {
       "model_id": "e2bd1f3b35f641b090b495b89f76b0ca",
       "version_major": 2,
       "version_minor": 0
      },
      "text/plain": [
       "adapter_config.json:   0%|          | 0.00/868 [00:00<?, ?B/s]"
      ]
     },
     "metadata": {},
     "output_type": "display_data"
    },
    {
     "data": {
      "application/vnd.jupyter.widget-view+json": {
       "model_id": "054eac93daf547489953f63efa79fb0e",
       "version_major": 2,
       "version_minor": 0
      },
      "text/plain": [
       "added_tokens.json:   0%|          | 0.00/35.0 [00:00<?, ?B/s]"
      ]
     },
     "metadata": {},
     "output_type": "display_data"
    },
    {
     "data": {
      "application/vnd.jupyter.widget-view+json": {
       "model_id": "9b8beffa0235449a904b8dbe4ca257c6",
       "version_major": 2,
       "version_minor": 0
      },
      "text/plain": [
       "optimizer.pt:   0%|          | 0.00/27.9M [00:00<?, ?B/s]"
      ]
     },
     "metadata": {},
     "output_type": "display_data"
    },
    {
     "data": {
      "application/vnd.jupyter.widget-view+json": {
       "model_id": "eb950e40e56742e9b73aa39b47ee356e",
       "version_major": 2,
       "version_minor": 0
      },
      "text/plain": [
       "rng_state.pth:   0%|          | 0.00/14.2k [00:00<?, ?B/s]"
      ]
     },
     "metadata": {},
     "output_type": "display_data"
    },
    {
     "data": {
      "application/vnd.jupyter.widget-view+json": {
       "model_id": "9320552d330b4bedaeeb7ac1c47bc721",
       "version_major": 2,
       "version_minor": 0
      },
      "text/plain": [
       "chat_template.jinja: 0.00B [00:00, ?B/s]"
      ]
     },
     "metadata": {},
     "output_type": "display_data"
    },
    {
     "data": {
      "application/vnd.jupyter.widget-view+json": {
       "model_id": "2a3bd6f74d0641348c0e5d848e25ceef",
       "version_major": 2,
       "version_minor": 0
      },
      "text/plain": [
       "scheduler.pt:   0%|          | 0.00/1.06k [00:00<?, ?B/s]"
      ]
     },
     "metadata": {},
     "output_type": "display_data"
    },
    {
     "data": {
      "application/vnd.jupyter.widget-view+json": {
       "model_id": "98c30756834d4c87b1d171565fbe6c5a",
       "version_major": 2,
       "version_minor": 0
      },
      "text/plain": [
       "tokenizer.json:   0%|          | 0.00/33.4M [00:00<?, ?B/s]"
      ]
     },
     "metadata": {},
     "output_type": "display_data"
    },
    {
     "data": {
      "application/vnd.jupyter.widget-view+json": {
       "model_id": "47831d42cda34e45bf21ca4ec9d04c8a",
       "version_major": 2,
       "version_minor": 0
      },
      "text/plain": [
       "tokenizer.model:   0%|          | 0.00/4.69M [00:00<?, ?B/s]"
      ]
     },
     "metadata": {},
     "output_type": "display_data"
    },
    {
     "data": {
      "application/vnd.jupyter.widget-view+json": {
       "model_id": "f9f08af355054c1cb5da1edf09cf810c",
       "version_major": 2,
       "version_minor": 0
      },
      "text/plain": [
       "special_tokens_map.json:   0%|          | 0.00/670 [00:00<?, ?B/s]"
      ]
     },
     "metadata": {},
     "output_type": "display_data"
    },
    {
     "data": {
      "application/vnd.jupyter.widget-view+json": {
       "model_id": "c0c92f5849b74cb7a25b494f30d69824",
       "version_major": 2,
       "version_minor": 0
      },
      "text/plain": [
       "training_args.bin:   0%|          | 0.00/6.52k [00:00<?, ?B/s]"
      ]
     },
     "metadata": {},
     "output_type": "display_data"
    },
    {
     "data": {
      "application/vnd.jupyter.widget-view+json": {
       "model_id": "89563b68b5b14011bf39f43a85f520ae",
       "version_major": 2,
       "version_minor": 0
      },
      "text/plain": [
       "trainer_state.json: 0.00B [00:00, ?B/s]"
      ]
     },
     "metadata": {},
     "output_type": "display_data"
    },
    {
     "data": {
      "application/vnd.jupyter.widget-view+json": {
       "model_id": "66d338d16d01498892602c28cadc697e",
       "version_major": 2,
       "version_minor": 0
      },
      "text/plain": [
       "tokenizer_config.json: 0.00B [00:00, ?B/s]"
      ]
     },
     "metadata": {},
     "output_type": "display_data"
    },
    {
     "data": {
      "application/vnd.jupyter.widget-view+json": {
       "model_id": "1ebafd48c5d34b1d81dcc67b87eb42ed",
       "version_major": 2,
       "version_minor": 0
      },
      "text/plain": [
       "README.md: 0.00B [00:00, ?B/s]"
      ]
     },
     "metadata": {},
     "output_type": "display_data"
    },
    {
     "data": {
      "application/vnd.jupyter.widget-view+json": {
       "model_id": "6ade1bd1c73a4171a789647e511efbcc",
       "version_major": 2,
       "version_minor": 0
      },
      "text/plain": [
       "adapter_config.json:   0%|          | 0.00/868 [00:00<?, ?B/s]"
      ]
     },
     "metadata": {},
     "output_type": "display_data"
    },
    {
     "data": {
      "application/vnd.jupyter.widget-view+json": {
       "model_id": "17c0e3fb4d30433fbf5c9c89c79619d1",
       "version_major": 2,
       "version_minor": 0
      },
      "text/plain": [
       "adapter_model.safetensors:   0%|          | 0.00/52.2M [00:00<?, ?B/s]"
      ]
     },
     "metadata": {},
     "output_type": "display_data"
    },
    {
     "data": {
      "application/vnd.jupyter.widget-view+json": {
       "model_id": "fbf6bd5bf4804b2d95cb900bc6190072",
       "version_major": 2,
       "version_minor": 0
      },
      "text/plain": [
       "added_tokens.json:   0%|          | 0.00/35.0 [00:00<?, ?B/s]"
      ]
     },
     "metadata": {},
     "output_type": "display_data"
    },
    {
     "data": {
      "application/vnd.jupyter.widget-view+json": {
       "model_id": "b1979c3f20884153a72cbb86f73f0b5e",
       "version_major": 2,
       "version_minor": 0
      },
      "text/plain": [
       "optimizer.pt:   0%|          | 0.00/27.9M [00:00<?, ?B/s]"
      ]
     },
     "metadata": {},
     "output_type": "display_data"
    },
    {
     "data": {
      "application/vnd.jupyter.widget-view+json": {
       "model_id": "f9028ecfc28340649bbfd2291b26f2e5",
       "version_major": 2,
       "version_minor": 0
      },
      "text/plain": [
       "scheduler.pt:   0%|          | 0.00/1.06k [00:00<?, ?B/s]"
      ]
     },
     "metadata": {},
     "output_type": "display_data"
    },
    {
     "data": {
      "application/vnd.jupyter.widget-view+json": {
       "model_id": "fc89c4992903407e855ea3a142d10f0c",
       "version_major": 2,
       "version_minor": 0
      },
      "text/plain": [
       "rng_state.pth:   0%|          | 0.00/14.2k [00:00<?, ?B/s]"
      ]
     },
     "metadata": {},
     "output_type": "display_data"
    },
    {
     "data": {
      "application/vnd.jupyter.widget-view+json": {
       "model_id": "d8e7ed238fa547d4bfe37df31d5ec464",
       "version_major": 2,
       "version_minor": 0
      },
      "text/plain": [
       "chat_template.jinja: 0.00B [00:00, ?B/s]"
      ]
     },
     "metadata": {},
     "output_type": "display_data"
    },
    {
     "data": {
      "application/vnd.jupyter.widget-view+json": {
       "model_id": "8538e07d574e4742b8be34b67f686cd9",
       "version_major": 2,
       "version_minor": 0
      },
      "text/plain": [
       "tokenizer.json:   0%|          | 0.00/33.4M [00:00<?, ?B/s]"
      ]
     },
     "metadata": {},
     "output_type": "display_data"
    },
    {
     "data": {
      "application/vnd.jupyter.widget-view+json": {
       "model_id": "591e48cb22e647ff907b015cb3a1d212",
       "version_major": 2,
       "version_minor": 0
      },
      "text/plain": [
       "tokenizer.model:   0%|          | 0.00/4.69M [00:00<?, ?B/s]"
      ]
     },
     "metadata": {},
     "output_type": "display_data"
    },
    {
     "data": {
      "application/vnd.jupyter.widget-view+json": {
       "model_id": "9a1d3ce09ffe441089b5ad0c5c02633e",
       "version_major": 2,
       "version_minor": 0
      },
      "text/plain": [
       "special_tokens_map.json:   0%|          | 0.00/670 [00:00<?, ?B/s]"
      ]
     },
     "metadata": {},
     "output_type": "display_data"
    },
    {
     "data": {
      "application/vnd.jupyter.widget-view+json": {
       "model_id": "e70f9ab85f5d495396a803b447261b4a",
       "version_major": 2,
       "version_minor": 0
      },
      "text/plain": [
       "training_args.bin:   0%|          | 0.00/6.52k [00:00<?, ?B/s]"
      ]
     },
     "metadata": {},
     "output_type": "display_data"
    },
    {
     "data": {
      "application/vnd.jupyter.widget-view+json": {
       "model_id": "b35bac46349041d7a5aa9d747f4f180d",
       "version_major": 2,
       "version_minor": 0
      },
      "text/plain": [
       "tokenizer_config.json: 0.00B [00:00, ?B/s]"
      ]
     },
     "metadata": {},
     "output_type": "display_data"
    },
    {
     "data": {
      "application/vnd.jupyter.widget-view+json": {
       "model_id": "509a8c6cfe92405981ec837927fea99f",
       "version_major": 2,
       "version_minor": 0
      },
      "text/plain": [
       "trainer_state.json: 0.00B [00:00, ?B/s]"
      ]
     },
     "metadata": {},
     "output_type": "display_data"
    },
    {
     "data": {
      "application/vnd.jupyter.widget-view+json": {
       "model_id": "5683bae6186044b6a70ec5aa12d96b45",
       "version_major": 2,
       "version_minor": 0
      },
      "text/plain": [
       "adapter_model.safetensors:   0%|          | 0.00/52.2M [00:00<?, ?B/s]"
      ]
     },
     "metadata": {},
     "output_type": "display_data"
    },
    {
     "data": {
      "application/vnd.jupyter.widget-view+json": {
       "model_id": "d02a0f061946449dac2418b1f864a986",
       "version_major": 2,
       "version_minor": 0
      },
      "text/plain": [
       "README.md: 0.00B [00:00, ?B/s]"
      ]
     },
     "metadata": {},
     "output_type": "display_data"
    },
    {
     "data": {
      "application/vnd.jupyter.widget-view+json": {
       "model_id": "b1429b6df48642f88dc91724f7babfa8",
       "version_major": 2,
       "version_minor": 0
      },
      "text/plain": [
       "adapter_config.json:   0%|          | 0.00/868 [00:00<?, ?B/s]"
      ]
     },
     "metadata": {},
     "output_type": "display_data"
    },
    {
     "data": {
      "application/vnd.jupyter.widget-view+json": {
       "model_id": "5a3155b9fe674b6092407bcb05d57e19",
       "version_major": 2,
       "version_minor": 0
      },
      "text/plain": [
       "optimizer.pt:   0%|          | 0.00/27.9M [00:00<?, ?B/s]"
      ]
     },
     "metadata": {},
     "output_type": "display_data"
    },
    {
     "data": {
      "application/vnd.jupyter.widget-view+json": {
       "model_id": "bbb70e802ae34f12bd64a9636b0ce8f0",
       "version_major": 2,
       "version_minor": 0
      },
      "text/plain": [
       "added_tokens.json:   0%|          | 0.00/35.0 [00:00<?, ?B/s]"
      ]
     },
     "metadata": {},
     "output_type": "display_data"
    },
    {
     "data": {
      "application/vnd.jupyter.widget-view+json": {
       "model_id": "cf74776262744b10966e01daeeacba1a",
       "version_major": 2,
       "version_minor": 0
      },
      "text/plain": [
       "chat_template.jinja: 0.00B [00:00, ?B/s]"
      ]
     },
     "metadata": {},
     "output_type": "display_data"
    },
    {
     "data": {
      "application/vnd.jupyter.widget-view+json": {
       "model_id": "4653e536a210488a8675a85ffd378563",
       "version_major": 2,
       "version_minor": 0
      },
      "text/plain": [
       "rng_state.pth:   0%|          | 0.00/14.2k [00:00<?, ?B/s]"
      ]
     },
     "metadata": {},
     "output_type": "display_data"
    },
    {
     "data": {
      "application/vnd.jupyter.widget-view+json": {
       "model_id": "3e0cab564cfa47d8bc92e1b9a63994b3",
       "version_major": 2,
       "version_minor": 0
      },
      "text/plain": [
       "tokenizer.json:   0%|          | 0.00/33.4M [00:00<?, ?B/s]"
      ]
     },
     "metadata": {},
     "output_type": "display_data"
    },
    {
     "data": {
      "application/vnd.jupyter.widget-view+json": {
       "model_id": "dc2d9711d3ea448f84e144049f154cd1",
       "version_major": 2,
       "version_minor": 0
      },
      "text/plain": [
       "scheduler.pt:   0%|          | 0.00/1.06k [00:00<?, ?B/s]"
      ]
     },
     "metadata": {},
     "output_type": "display_data"
    },
    {
     "data": {
      "application/vnd.jupyter.widget-view+json": {
       "model_id": "6d453d9957cd443eba1814c18480a0e3",
       "version_major": 2,
       "version_minor": 0
      },
      "text/plain": [
       "tokenizer.model:   0%|          | 0.00/4.69M [00:00<?, ?B/s]"
      ]
     },
     "metadata": {},
     "output_type": "display_data"
    },
    {
     "data": {
      "application/vnd.jupyter.widget-view+json": {
       "model_id": "eff6325933154803b6801099407f9b3e",
       "version_major": 2,
       "version_minor": 0
      },
      "text/plain": [
       "training_args.bin:   0%|          | 0.00/6.52k [00:00<?, ?B/s]"
      ]
     },
     "metadata": {},
     "output_type": "display_data"
    },
    {
     "data": {
      "application/vnd.jupyter.widget-view+json": {
       "model_id": "0d94a3119a084d6cab788f929baf71d4",
       "version_major": 2,
       "version_minor": 0
      },
      "text/plain": [
       "tokenizer_config.json: 0.00B [00:00, ?B/s]"
      ]
     },
     "metadata": {},
     "output_type": "display_data"
    },
    {
     "data": {
      "application/vnd.jupyter.widget-view+json": {
       "model_id": "8b651a241ac94fa18f84581212d5ee16",
       "version_major": 2,
       "version_minor": 0
      },
      "text/plain": [
       "trainer_state.json: 0.00B [00:00, ?B/s]"
      ]
     },
     "metadata": {},
     "output_type": "display_data"
    },
    {
     "data": {
      "application/vnd.jupyter.widget-view+json": {
       "model_id": "26b5a918d7e24f228633cccb70b95925",
       "version_major": 2,
       "version_minor": 0
      },
      "text/plain": [
       "special_tokens_map.json:   0%|          | 0.00/670 [00:00<?, ?B/s]"
      ]
     },
     "metadata": {},
     "output_type": "display_data"
    },
    {
     "data": {
      "application/vnd.jupyter.widget-view+json": {
       "model_id": "ce908daf8e094756bc43b59581005ba0",
       "version_major": 2,
       "version_minor": 0
      },
      "text/plain": [
       "README.md: 0.00B [00:00, ?B/s]"
      ]
     },
     "metadata": {},
     "output_type": "display_data"
    },
    {
     "data": {
      "application/vnd.jupyter.widget-view+json": {
       "model_id": "e6b8df4c943a481aabf2296f735e05da",
       "version_major": 2,
       "version_minor": 0
      },
      "text/plain": [
       "adapter_model.safetensors:   0%|          | 0.00/52.2M [00:00<?, ?B/s]"
      ]
     },
     "metadata": {},
     "output_type": "display_data"
    },
    {
     "data": {
      "application/vnd.jupyter.widget-view+json": {
       "model_id": "46dfabd8f1c344cd90bf0a4ecd656f4e",
       "version_major": 2,
       "version_minor": 0
      },
      "text/plain": [
       "adapter_config.json:   0%|          | 0.00/868 [00:00<?, ?B/s]"
      ]
     },
     "metadata": {},
     "output_type": "display_data"
    },
    {
     "data": {
      "application/vnd.jupyter.widget-view+json": {
       "model_id": "f83e088f11e845d1a4507268644c8e51",
       "version_major": 2,
       "version_minor": 0
      },
      "text/plain": [
       "optimizer.pt:   0%|          | 0.00/26.9M [00:00<?, ?B/s]"
      ]
     },
     "metadata": {},
     "output_type": "display_data"
    },
    {
     "data": {
      "application/vnd.jupyter.widget-view+json": {
       "model_id": "6ba1fd2b37834f95ba10d7bf824bff52",
       "version_major": 2,
       "version_minor": 0
      },
      "text/plain": [
       "chat_template.jinja: 0.00B [00:00, ?B/s]"
      ]
     },
     "metadata": {},
     "output_type": "display_data"
    },
    {
     "data": {
      "application/vnd.jupyter.widget-view+json": {
       "model_id": "49a9c17816f8490988f5214b9069b6f0",
       "version_major": 2,
       "version_minor": 0
      },
      "text/plain": [
       "added_tokens.json:   0%|          | 0.00/35.0 [00:00<?, ?B/s]"
      ]
     },
     "metadata": {},
     "output_type": "display_data"
    },
    {
     "data": {
      "application/vnd.jupyter.widget-view+json": {
       "model_id": "0041f2516b7f4fd999f1462464c0ed30",
       "version_major": 2,
       "version_minor": 0
      },
      "text/plain": [
       "rng_state.pth:   0%|          | 0.00/14.2k [00:00<?, ?B/s]"
      ]
     },
     "metadata": {},
     "output_type": "display_data"
    },
    {
     "data": {
      "application/vnd.jupyter.widget-view+json": {
       "model_id": "0abe578b04ae4d73af42549a432501fc",
       "version_major": 2,
       "version_minor": 0
      },
      "text/plain": [
       "scheduler.pt:   0%|          | 0.00/1.06k [00:00<?, ?B/s]"
      ]
     },
     "metadata": {},
     "output_type": "display_data"
    },
    {
     "data": {
      "application/vnd.jupyter.widget-view+json": {
       "model_id": "d9c9c413d8fe4689bddc95e38fd0ed9c",
       "version_major": 2,
       "version_minor": 0
      },
      "text/plain": [
       "tokenizer.json:   0%|          | 0.00/33.4M [00:00<?, ?B/s]"
      ]
     },
     "metadata": {},
     "output_type": "display_data"
    },
    {
     "data": {
      "application/vnd.jupyter.widget-view+json": {
       "model_id": "8d38bdf9345a4d67ad1a22dd971c210a",
       "version_major": 2,
       "version_minor": 0
      },
      "text/plain": [
       "tokenizer.model:   0%|          | 0.00/4.69M [00:00<?, ?B/s]"
      ]
     },
     "metadata": {},
     "output_type": "display_data"
    },
    {
     "data": {
      "application/vnd.jupyter.widget-view+json": {
       "model_id": "d62b3f39ec7849a4b2b8024a9ce4f3e7",
       "version_major": 2,
       "version_minor": 0
      },
      "text/plain": [
       "special_tokens_map.json:   0%|          | 0.00/670 [00:00<?, ?B/s]"
      ]
     },
     "metadata": {},
     "output_type": "display_data"
    },
    {
     "data": {
      "application/vnd.jupyter.widget-view+json": {
       "model_id": "ca403294cabf4e5488fcd0e5e6caef93",
       "version_major": 2,
       "version_minor": 0
      },
      "text/plain": [
       "training_args.bin:   0%|          | 0.00/6.52k [00:00<?, ?B/s]"
      ]
     },
     "metadata": {},
     "output_type": "display_data"
    },
    {
     "data": {
      "application/vnd.jupyter.widget-view+json": {
       "model_id": "c2c4609f5bff46a0877230d2afd44012",
       "version_major": 2,
       "version_minor": 0
      },
      "text/plain": [
       "trainer_state.json: 0.00B [00:00, ?B/s]"
      ]
     },
     "metadata": {},
     "output_type": "display_data"
    },
    {
     "data": {
      "application/vnd.jupyter.widget-view+json": {
       "model_id": "916c77d478a140ff903ec83b1a3c2a05",
       "version_major": 2,
       "version_minor": 0
      },
      "text/plain": [
       "tokenizer_config.json: 0.00B [00:00, ?B/s]"
      ]
     },
     "metadata": {},
     "output_type": "display_data"
    },
    {
     "data": {
      "application/vnd.jupyter.widget-view+json": {
       "model_id": "fdf3d0fcbc5c4238a13546e9b0b79a17",
       "version_major": 2,
       "version_minor": 0
      },
      "text/plain": [
       "adapter_model.safetensors:   0%|          | 0.00/52.2M [00:00<?, ?B/s]"
      ]
     },
     "metadata": {},
     "output_type": "display_data"
    },
    {
     "data": {
      "application/vnd.jupyter.widget-view+json": {
       "model_id": "bd840210d4634e679254c7d64995b598",
       "version_major": 2,
       "version_minor": 0
      },
      "text/plain": [
       "README.md: 0.00B [00:00, ?B/s]"
      ]
     },
     "metadata": {},
     "output_type": "display_data"
    },
    {
     "data": {
      "application/vnd.jupyter.widget-view+json": {
       "model_id": "11d194b5e1db45ad9d6e530a25502cbc",
       "version_major": 2,
       "version_minor": 0
      },
      "text/plain": [
       "adapter_config.json:   0%|          | 0.00/868 [00:00<?, ?B/s]"
      ]
     },
     "metadata": {},
     "output_type": "display_data"
    },
    {
     "data": {
      "application/vnd.jupyter.widget-view+json": {
       "model_id": "533805dddcce49d2be3ec682fca82984",
       "version_major": 2,
       "version_minor": 0
      },
      "text/plain": [
       "added_tokens.json:   0%|          | 0.00/35.0 [00:00<?, ?B/s]"
      ]
     },
     "metadata": {},
     "output_type": "display_data"
    },
    {
     "data": {
      "application/vnd.jupyter.widget-view+json": {
       "model_id": "4ff1f6c45afa4e948f0d45d11caae42c",
       "version_major": 2,
       "version_minor": 0
      },
      "text/plain": [
       "optimizer.pt:   0%|          | 0.00/27.9M [00:00<?, ?B/s]"
      ]
     },
     "metadata": {},
     "output_type": "display_data"
    },
    {
     "data": {
      "application/vnd.jupyter.widget-view+json": {
       "model_id": "97d7f5a19f5a487b9f79c523ba191aba",
       "version_major": 2,
       "version_minor": 0
      },
      "text/plain": [
       "chat_template.jinja: 0.00B [00:00, ?B/s]"
      ]
     },
     "metadata": {},
     "output_type": "display_data"
    },
    {
     "data": {
      "application/vnd.jupyter.widget-view+json": {
       "model_id": "4b867a91d9bc49348000a406790d01c7",
       "version_major": 2,
       "version_minor": 0
      },
      "text/plain": [
       "rng_state.pth:   0%|          | 0.00/14.2k [00:00<?, ?B/s]"
      ]
     },
     "metadata": {},
     "output_type": "display_data"
    },
    {
     "data": {
      "application/vnd.jupyter.widget-view+json": {
       "model_id": "88103055ff704233b25243c9d1ec6731",
       "version_major": 2,
       "version_minor": 0
      },
      "text/plain": [
       "scheduler.pt:   0%|          | 0.00/1.06k [00:00<?, ?B/s]"
      ]
     },
     "metadata": {},
     "output_type": "display_data"
    },
    {
     "data": {
      "application/vnd.jupyter.widget-view+json": {
       "model_id": "e6abfe8b31284432aee1a2238aa2e1ba",
       "version_major": 2,
       "version_minor": 0
      },
      "text/plain": [
       "special_tokens_map.json:   0%|          | 0.00/670 [00:00<?, ?B/s]"
      ]
     },
     "metadata": {},
     "output_type": "display_data"
    },
    {
     "data": {
      "application/vnd.jupyter.widget-view+json": {
       "model_id": "d4ebd448e1a144a9b0fafb1699f5c320",
       "version_major": 2,
       "version_minor": 0
      },
      "text/plain": [
       "tokenizer.model:   0%|          | 0.00/4.69M [00:00<?, ?B/s]"
      ]
     },
     "metadata": {},
     "output_type": "display_data"
    },
    {
     "data": {
      "application/vnd.jupyter.widget-view+json": {
       "model_id": "a0761eb9142b4762b7f22ee37ef0374f",
       "version_major": 2,
       "version_minor": 0
      },
      "text/plain": [
       "training_args.bin:   0%|          | 0.00/6.52k [00:00<?, ?B/s]"
      ]
     },
     "metadata": {},
     "output_type": "display_data"
    },
    {
     "data": {
      "application/vnd.jupyter.widget-view+json": {
       "model_id": "0e03c071bc8346aa9609c71635326678",
       "version_major": 2,
       "version_minor": 0
      },
      "text/plain": [
       "tokenizer.json:   0%|          | 0.00/33.4M [00:00<?, ?B/s]"
      ]
     },
     "metadata": {},
     "output_type": "display_data"
    },
    {
     "data": {
      "application/vnd.jupyter.widget-view+json": {
       "model_id": "c3e90bb760734e1b9af8df46a7a1f207",
       "version_major": 2,
       "version_minor": 0
      },
      "text/plain": [
       "tokenizer_config.json: 0.00B [00:00, ?B/s]"
      ]
     },
     "metadata": {},
     "output_type": "display_data"
    },
    {
     "data": {
      "application/vnd.jupyter.widget-view+json": {
       "model_id": "1848b82b07d24d4a96a07cc3e77d87f7",
       "version_major": 2,
       "version_minor": 0
      },
      "text/plain": [
       "trainer_state.json: 0.00B [00:00, ?B/s]"
      ]
     },
     "metadata": {},
     "output_type": "display_data"
    },
    {
     "data": {
      "application/vnd.jupyter.widget-view+json": {
       "model_id": "fa42756c98834e1b81189da362c6acdf",
       "version_major": 2,
       "version_minor": 0
      },
      "text/plain": [
       "README.md: 0.00B [00:00, ?B/s]"
      ]
     },
     "metadata": {},
     "output_type": "display_data"
    },
    {
     "data": {
      "application/vnd.jupyter.widget-view+json": {
       "model_id": "e64361fa93aa409297a6a99a5a528e5a",
       "version_major": 2,
       "version_minor": 0
      },
      "text/plain": [
       "adapter_config.json:   0%|          | 0.00/868 [00:00<?, ?B/s]"
      ]
     },
     "metadata": {},
     "output_type": "display_data"
    },
    {
     "data": {
      "application/vnd.jupyter.widget-view+json": {
       "model_id": "31a2d6ed6485417588ddddec3876cdcd",
       "version_major": 2,
       "version_minor": 0
      },
      "text/plain": [
       "adapter_model.safetensors:   0%|          | 0.00/52.2M [00:00<?, ?B/s]"
      ]
     },
     "metadata": {},
     "output_type": "display_data"
    },
    {
     "data": {
      "application/vnd.jupyter.widget-view+json": {
       "model_id": "063677cee60846639b3c312c7497a4ed",
       "version_major": 2,
       "version_minor": 0
      },
      "text/plain": [
       "added_tokens.json:   0%|          | 0.00/35.0 [00:00<?, ?B/s]"
      ]
     },
     "metadata": {},
     "output_type": "display_data"
    },
    {
     "data": {
      "application/vnd.jupyter.widget-view+json": {
       "model_id": "d56abb2e350e408888705be96be2a4a2",
       "version_major": 2,
       "version_minor": 0
      },
      "text/plain": [
       "optimizer.pt:   0%|          | 0.00/27.9M [00:00<?, ?B/s]"
      ]
     },
     "metadata": {},
     "output_type": "display_data"
    },
    {
     "data": {
      "application/vnd.jupyter.widget-view+json": {
       "model_id": "5433c860773144ada95e5879748fb933",
       "version_major": 2,
       "version_minor": 0
      },
      "text/plain": [
       "chat_template.jinja: 0.00B [00:00, ?B/s]"
      ]
     },
     "metadata": {},
     "output_type": "display_data"
    },
    {
     "data": {
      "application/vnd.jupyter.widget-view+json": {
       "model_id": "9d39c1c2a9324eed9629dd81de62e203",
       "version_major": 2,
       "version_minor": 0
      },
      "text/plain": [
       "rng_state.pth:   0%|          | 0.00/14.2k [00:00<?, ?B/s]"
      ]
     },
     "metadata": {},
     "output_type": "display_data"
    },
    {
     "data": {
      "application/vnd.jupyter.widget-view+json": {
       "model_id": "95c551bba4c447d5bf1d516880c1f92b",
       "version_major": 2,
       "version_minor": 0
      },
      "text/plain": [
       "tokenizer.json:   0%|          | 0.00/33.4M [00:00<?, ?B/s]"
      ]
     },
     "metadata": {},
     "output_type": "display_data"
    },
    {
     "data": {
      "application/vnd.jupyter.widget-view+json": {
       "model_id": "3c576a43e3bc44f3921e7a7ab69754a2",
       "version_major": 2,
       "version_minor": 0
      },
      "text/plain": [
       "scheduler.pt:   0%|          | 0.00/1.06k [00:00<?, ?B/s]"
      ]
     },
     "metadata": {},
     "output_type": "display_data"
    },
    {
     "data": {
      "application/vnd.jupyter.widget-view+json": {
       "model_id": "c949251d82d3450ba786940e6ca5ea31",
       "version_major": 2,
       "version_minor": 0
      },
      "text/plain": [
       "tokenizer.model:   0%|          | 0.00/4.69M [00:00<?, ?B/s]"
      ]
     },
     "metadata": {},
     "output_type": "display_data"
    },
    {
     "data": {
      "application/vnd.jupyter.widget-view+json": {
       "model_id": "c376f5743ce642508140146c4640723f",
       "version_major": 2,
       "version_minor": 0
      },
      "text/plain": [
       "special_tokens_map.json:   0%|          | 0.00/670 [00:00<?, ?B/s]"
      ]
     },
     "metadata": {},
     "output_type": "display_data"
    },
    {
     "data": {
      "application/vnd.jupyter.widget-view+json": {
       "model_id": "5781ebbed8444578b1a1dfa3e5736074",
       "version_major": 2,
       "version_minor": 0
      },
      "text/plain": [
       "training_args.bin:   0%|          | 0.00/6.52k [00:00<?, ?B/s]"
      ]
     },
     "metadata": {},
     "output_type": "display_data"
    },
    {
     "data": {
      "application/vnd.jupyter.widget-view+json": {
       "model_id": "1640c70766334038b9b2c9bb6a419eac",
       "version_major": 2,
       "version_minor": 0
      },
      "text/plain": [
       "tokenizer_config.json: 0.00B [00:00, ?B/s]"
      ]
     },
     "metadata": {},
     "output_type": "display_data"
    },
    {
     "data": {
      "application/vnd.jupyter.widget-view+json": {
       "model_id": "d5bba8cddbd54de09986637ce4f5a2ad",
       "version_major": 2,
       "version_minor": 0
      },
      "text/plain": [
       "trainer_state.json: 0.00B [00:00, ?B/s]"
      ]
     },
     "metadata": {},
     "output_type": "display_data"
    },
    {
     "data": {
      "application/vnd.jupyter.widget-view+json": {
       "model_id": "8900966a0d7b43f6878869f41d7ecc7f",
       "version_major": 2,
       "version_minor": 0
      },
      "text/plain": [
       "README.md: 0.00B [00:00, ?B/s]"
      ]
     },
     "metadata": {},
     "output_type": "display_data"
    },
    {
     "data": {
      "application/vnd.jupyter.widget-view+json": {
       "model_id": "cb0c4e81711d4a35be4dd1fecc666df6",
       "version_major": 2,
       "version_minor": 0
      },
      "text/plain": [
       "adapter_model.safetensors:   0%|          | 0.00/52.2M [00:00<?, ?B/s]"
      ]
     },
     "metadata": {},
     "output_type": "display_data"
    },
    {
     "data": {
      "application/vnd.jupyter.widget-view+json": {
       "model_id": "d4d45462deca4534bf5d3f752f7e7e00",
       "version_major": 2,
       "version_minor": 0
      },
      "text/plain": [
       "added_tokens.json:   0%|          | 0.00/35.0 [00:00<?, ?B/s]"
      ]
     },
     "metadata": {},
     "output_type": "display_data"
    },
    {
     "data": {
      "application/vnd.jupyter.widget-view+json": {
       "model_id": "e07147ed1f4645e4b68227e381815f57",
       "version_major": 2,
       "version_minor": 0
      },
      "text/plain": [
       "adapter_config.json:   0%|          | 0.00/868 [00:00<?, ?B/s]"
      ]
     },
     "metadata": {},
     "output_type": "display_data"
    },
    {
     "data": {
      "application/vnd.jupyter.widget-view+json": {
       "model_id": "c66f95603eda4c10916d598630a1bdbc",
       "version_major": 2,
       "version_minor": 0
      },
      "text/plain": [
       "rng_state.pth:   0%|          | 0.00/14.2k [00:00<?, ?B/s]"
      ]
     },
     "metadata": {},
     "output_type": "display_data"
    },
    {
     "data": {
      "application/vnd.jupyter.widget-view+json": {
       "model_id": "87cfeb55b84f457eb2484bdd386fde16",
       "version_major": 2,
       "version_minor": 0
      },
      "text/plain": [
       "optimizer.pt:   0%|          | 0.00/27.9M [00:00<?, ?B/s]"
      ]
     },
     "metadata": {},
     "output_type": "display_data"
    },
    {
     "data": {
      "application/vnd.jupyter.widget-view+json": {
       "model_id": "84e2dc45dbb645c1a06765c5e3c288a2",
       "version_major": 2,
       "version_minor": 0
      },
      "text/plain": [
       "chat_template.jinja: 0.00B [00:00, ?B/s]"
      ]
     },
     "metadata": {},
     "output_type": "display_data"
    },
    {
     "data": {
      "application/vnd.jupyter.widget-view+json": {
       "model_id": "2f74dfd74e7d46d093a8eab5545c5018",
       "version_major": 2,
       "version_minor": 0
      },
      "text/plain": [
       "scheduler.pt:   0%|          | 0.00/1.06k [00:00<?, ?B/s]"
      ]
     },
     "metadata": {},
     "output_type": "display_data"
    },
    {
     "data": {
      "application/vnd.jupyter.widget-view+json": {
       "model_id": "b75fa46266ac45b191bb15835b7c9fd5",
       "version_major": 2,
       "version_minor": 0
      },
      "text/plain": [
       "tokenizer.json:   0%|          | 0.00/33.4M [00:00<?, ?B/s]"
      ]
     },
     "metadata": {},
     "output_type": "display_data"
    },
    {
     "data": {
      "application/vnd.jupyter.widget-view+json": {
       "model_id": "98e721bbba0f447db872db2f258073d8",
       "version_major": 2,
       "version_minor": 0
      },
      "text/plain": [
       "tokenizer.model:   0%|          | 0.00/4.69M [00:00<?, ?B/s]"
      ]
     },
     "metadata": {},
     "output_type": "display_data"
    },
    {
     "data": {
      "application/vnd.jupyter.widget-view+json": {
       "model_id": "f76b1496eb934ad4986e779346e05047",
       "version_major": 2,
       "version_minor": 0
      },
      "text/plain": [
       "special_tokens_map.json:   0%|          | 0.00/670 [00:00<?, ?B/s]"
      ]
     },
     "metadata": {},
     "output_type": "display_data"
    },
    {
     "data": {
      "application/vnd.jupyter.widget-view+json": {
       "model_id": "f8f90eefeec24d60946320f2db186b6f",
       "version_major": 2,
       "version_minor": 0
      },
      "text/plain": [
       "training_args.bin:   0%|          | 0.00/6.52k [00:00<?, ?B/s]"
      ]
     },
     "metadata": {},
     "output_type": "display_data"
    },
    {
     "data": {
      "application/vnd.jupyter.widget-view+json": {
       "model_id": "d3ec22766d9e4f5fa7ec5ee397655b71",
       "version_major": 2,
       "version_minor": 0
      },
      "text/plain": [
       "trainer_state.json: 0.00B [00:00, ?B/s]"
      ]
     },
     "metadata": {},
     "output_type": "display_data"
    },
    {
     "data": {
      "application/vnd.jupyter.widget-view+json": {
       "model_id": "b6dc1a93a2984d5ba8110664b97fadda",
       "version_major": 2,
       "version_minor": 0
      },
      "text/plain": [
       "adapter_model.safetensors:   0%|          | 0.00/52.2M [00:00<?, ?B/s]"
      ]
     },
     "metadata": {},
     "output_type": "display_data"
    },
    {
     "data": {
      "application/vnd.jupyter.widget-view+json": {
       "model_id": "2de152927abc4d99b6026fc08b314b4a",
       "version_major": 2,
       "version_minor": 0
      },
      "text/plain": [
       "adapter_config.json:   0%|          | 0.00/868 [00:00<?, ?B/s]"
      ]
     },
     "metadata": {},
     "output_type": "display_data"
    },
    {
     "data": {
      "application/vnd.jupyter.widget-view+json": {
       "model_id": "94c56f05fa49493093a55d7ad89652d3",
       "version_major": 2,
       "version_minor": 0
      },
      "text/plain": [
       "optimizer.pt:   0%|          | 0.00/27.9M [00:00<?, ?B/s]"
      ]
     },
     "metadata": {},
     "output_type": "display_data"
    },
    {
     "data": {
      "application/vnd.jupyter.widget-view+json": {
       "model_id": "9873cc53891f49f1a6e3d0c3cf8561f1",
       "version_major": 2,
       "version_minor": 0
      },
      "text/plain": [
       "added_tokens.json:   0%|          | 0.00/35.0 [00:00<?, ?B/s]"
      ]
     },
     "metadata": {},
     "output_type": "display_data"
    },
    {
     "data": {
      "application/vnd.jupyter.widget-view+json": {
       "model_id": "ee555533ce2747f6a663456a4b6d480e",
       "version_major": 2,
       "version_minor": 0
      },
      "text/plain": [
       "tokenizer_config.json: 0.00B [00:00, ?B/s]"
      ]
     },
     "metadata": {},
     "output_type": "display_data"
    },
    {
     "data": {
      "application/vnd.jupyter.widget-view+json": {
       "model_id": "a900c169b4bd43f498faaeec1928c642",
       "version_major": 2,
       "version_minor": 0
      },
      "text/plain": [
       "chat_template.jinja: 0.00B [00:00, ?B/s]"
      ]
     },
     "metadata": {},
     "output_type": "display_data"
    },
    {
     "data": {
      "application/vnd.jupyter.widget-view+json": {
       "model_id": "e3ec101b0ec7444e8db021915a35f0ac",
       "version_major": 2,
       "version_minor": 0
      },
      "text/plain": [
       "scheduler.pt:   0%|          | 0.00/1.06k [00:00<?, ?B/s]"
      ]
     },
     "metadata": {},
     "output_type": "display_data"
    },
    {
     "data": {
      "application/vnd.jupyter.widget-view+json": {
       "model_id": "d8e0854d326e4b90b45ab30580424afd",
       "version_major": 2,
       "version_minor": 0
      },
      "text/plain": [
       "README.md: 0.00B [00:00, ?B/s]"
      ]
     },
     "metadata": {},
     "output_type": "display_data"
    },
    {
     "data": {
      "application/vnd.jupyter.widget-view+json": {
       "model_id": "43a520f8e8ce46b994f97dc5ba7a6b7c",
       "version_major": 2,
       "version_minor": 0
      },
      "text/plain": [
       "rng_state.pth:   0%|          | 0.00/14.2k [00:00<?, ?B/s]"
      ]
     },
     "metadata": {},
     "output_type": "display_data"
    },
    {
     "data": {
      "application/vnd.jupyter.widget-view+json": {
       "model_id": "cb008962dc5547a7b7ec0c00a3f0c107",
       "version_major": 2,
       "version_minor": 0
      },
      "text/plain": [
       "tokenizer.json:   0%|          | 0.00/33.4M [00:00<?, ?B/s]"
      ]
     },
     "metadata": {},
     "output_type": "display_data"
    },
    {
     "data": {
      "application/vnd.jupyter.widget-view+json": {
       "model_id": "db8b4a4deae34c0fb723986488b65dad",
       "version_major": 2,
       "version_minor": 0
      },
      "text/plain": [
       "tokenizer.model:   0%|          | 0.00/4.69M [00:00<?, ?B/s]"
      ]
     },
     "metadata": {},
     "output_type": "display_data"
    },
    {
     "data": {
      "application/vnd.jupyter.widget-view+json": {
       "model_id": "b27d4d7998544b61a64ae3e2433fccc2",
       "version_major": 2,
       "version_minor": 0
      },
      "text/plain": [
       "special_tokens_map.json:   0%|          | 0.00/670 [00:00<?, ?B/s]"
      ]
     },
     "metadata": {},
     "output_type": "display_data"
    },
    {
     "data": {
      "application/vnd.jupyter.widget-view+json": {
       "model_id": "e4725654dc124d98b1775448ba0a641d",
       "version_major": 2,
       "version_minor": 0
      },
      "text/plain": [
       "training_args.bin:   0%|          | 0.00/6.52k [00:00<?, ?B/s]"
      ]
     },
     "metadata": {},
     "output_type": "display_data"
    },
    {
     "data": {
      "application/vnd.jupyter.widget-view+json": {
       "model_id": "77ca25bfc68f4d4bb5131a8762dfc07e",
       "version_major": 2,
       "version_minor": 0
      },
      "text/plain": [
       "tokenizer_config.json: 0.00B [00:00, ?B/s]"
      ]
     },
     "metadata": {},
     "output_type": "display_data"
    },
    {
     "data": {
      "application/vnd.jupyter.widget-view+json": {
       "model_id": "62013abb6daf43bfaff126f1ac42210e",
       "version_major": 2,
       "version_minor": 0
      },
      "text/plain": [
       "trainer_state.json: 0.00B [00:00, ?B/s]"
      ]
     },
     "metadata": {},
     "output_type": "display_data"
    },
    {
     "data": {
      "application/vnd.jupyter.widget-view+json": {
       "model_id": "0bd75001a77d43eba9178e665055281c",
       "version_major": 2,
       "version_minor": 0
      },
      "text/plain": [
       "adapter_model.safetensors:   0%|          | 0.00/52.2M [00:00<?, ?B/s]"
      ]
     },
     "metadata": {},
     "output_type": "display_data"
    },
    {
     "data": {
      "application/vnd.jupyter.widget-view+json": {
       "model_id": "8ffa8b6c9ddb46e590c049e465746340",
       "version_major": 2,
       "version_minor": 0
      },
      "text/plain": [
       "adapter_config.json:   0%|          | 0.00/868 [00:00<?, ?B/s]"
      ]
     },
     "metadata": {},
     "output_type": "display_data"
    },
    {
     "data": {
      "application/vnd.jupyter.widget-view+json": {
       "model_id": "56cc6707e6ee4682804467dffb4920cb",
       "version_major": 2,
       "version_minor": 0
      },
      "text/plain": [
       "added_tokens.json:   0%|          | 0.00/35.0 [00:00<?, ?B/s]"
      ]
     },
     "metadata": {},
     "output_type": "display_data"
    },
    {
     "data": {
      "application/vnd.jupyter.widget-view+json": {
       "model_id": "a0e9ec88006d499cb9c1bcf27e678e99",
       "version_major": 2,
       "version_minor": 0
      },
      "text/plain": [
       "optimizer.pt:   0%|          | 0.00/27.9M [00:00<?, ?B/s]"
      ]
     },
     "metadata": {},
     "output_type": "display_data"
    },
    {
     "data": {
      "application/vnd.jupyter.widget-view+json": {
       "model_id": "49397933a46c43b196e65177af18cd4a",
       "version_major": 2,
       "version_minor": 0
      },
      "text/plain": [
       "README.md: 0.00B [00:00, ?B/s]"
      ]
     },
     "metadata": {},
     "output_type": "display_data"
    },
    {
     "data": {
      "application/vnd.jupyter.widget-view+json": {
       "model_id": "c11eab9df4664b00898fa517565b8eec",
       "version_major": 2,
       "version_minor": 0
      },
      "text/plain": [
       "chat_template.jinja: 0.00B [00:00, ?B/s]"
      ]
     },
     "metadata": {},
     "output_type": "display_data"
    },
    {
     "data": {
      "application/vnd.jupyter.widget-view+json": {
       "model_id": "52656a5f87b443dfa737ea0f53b04f09",
       "version_major": 2,
       "version_minor": 0
      },
      "text/plain": [
       "rng_state.pth:   0%|          | 0.00/14.2k [00:00<?, ?B/s]"
      ]
     },
     "metadata": {},
     "output_type": "display_data"
    },
    {
     "data": {
      "application/vnd.jupyter.widget-view+json": {
       "model_id": "a04d64b8feee4e90ab011be9d0094edf",
       "version_major": 2,
       "version_minor": 0
      },
      "text/plain": [
       "scheduler.pt:   0%|          | 0.00/1.06k [00:00<?, ?B/s]"
      ]
     },
     "metadata": {},
     "output_type": "display_data"
    },
    {
     "data": {
      "application/vnd.jupyter.widget-view+json": {
       "model_id": "57d5acfe12ee4529b173d23c9f5bdb16",
       "version_major": 2,
       "version_minor": 0
      },
      "text/plain": [
       "tokenizer.json:   0%|          | 0.00/33.4M [00:00<?, ?B/s]"
      ]
     },
     "metadata": {},
     "output_type": "display_data"
    },
    {
     "data": {
      "application/vnd.jupyter.widget-view+json": {
       "model_id": "2fecb4cf5df54efd8817a900d6690ef1",
       "version_major": 2,
       "version_minor": 0
      },
      "text/plain": [
       "special_tokens_map.json:   0%|          | 0.00/670 [00:00<?, ?B/s]"
      ]
     },
     "metadata": {},
     "output_type": "display_data"
    },
    {
     "data": {
      "application/vnd.jupyter.widget-view+json": {
       "model_id": "11af4e9a05dc42a7a4004bf3e34e88a4",
       "version_major": 2,
       "version_minor": 0
      },
      "text/plain": [
       "tokenizer.model:   0%|          | 0.00/4.69M [00:00<?, ?B/s]"
      ]
     },
     "metadata": {},
     "output_type": "display_data"
    },
    {
     "data": {
      "application/vnd.jupyter.widget-view+json": {
       "model_id": "86fb0a1243e54316b659d7503b985430",
       "version_major": 2,
       "version_minor": 0
      },
      "text/plain": [
       "training_args.bin:   0%|          | 0.00/6.52k [00:00<?, ?B/s]"
      ]
     },
     "metadata": {},
     "output_type": "display_data"
    },
    {
     "data": {
      "application/vnd.jupyter.widget-view+json": {
       "model_id": "cb8d5fc6b0a248ec9f2807b8f487a7a7",
       "version_major": 2,
       "version_minor": 0
      },
      "text/plain": [
       "tokenizer_config.json: 0.00B [00:00, ?B/s]"
      ]
     },
     "metadata": {},
     "output_type": "display_data"
    },
    {
     "data": {
      "application/vnd.jupyter.widget-view+json": {
       "model_id": "8e722a26e4c64a9a86d8b7bff6554e2c",
       "version_major": 2,
       "version_minor": 0
      },
      "text/plain": [
       "README.md: 0.00B [00:00, ?B/s]"
      ]
     },
     "metadata": {},
     "output_type": "display_data"
    },
    {
     "data": {
      "application/vnd.jupyter.widget-view+json": {
       "model_id": "7ad2f1fd013c49d9ac8dff82e4e3a4ea",
       "version_major": 2,
       "version_minor": 0
      },
      "text/plain": [
       "adapter_model.safetensors:   0%|          | 0.00/52.2M [00:00<?, ?B/s]"
      ]
     },
     "metadata": {},
     "output_type": "display_data"
    },
    {
     "data": {
      "application/vnd.jupyter.widget-view+json": {
       "model_id": "0422e0e1dfea4ef28d4dbb56b226ea8f",
       "version_major": 2,
       "version_minor": 0
      },
      "text/plain": [
       "trainer_state.json: 0.00B [00:00, ?B/s]"
      ]
     },
     "metadata": {},
     "output_type": "display_data"
    },
    {
     "data": {
      "application/vnd.jupyter.widget-view+json": {
       "model_id": "c8bd7c1ecf1b46799454dde5fa44659b",
       "version_major": 2,
       "version_minor": 0
      },
      "text/plain": [
       "adapter_config.json:   0%|          | 0.00/868 [00:00<?, ?B/s]"
      ]
     },
     "metadata": {},
     "output_type": "display_data"
    },
    {
     "data": {
      "application/vnd.jupyter.widget-view+json": {
       "model_id": "c9c18e6e42264f3a8043f4513cce5f0f",
       "version_major": 2,
       "version_minor": 0
      },
      "text/plain": [
       "optimizer.pt:   0%|          | 0.00/27.9M [00:00<?, ?B/s]"
      ]
     },
     "metadata": {},
     "output_type": "display_data"
    },
    {
     "data": {
      "application/vnd.jupyter.widget-view+json": {
       "model_id": "f7faf3e3e68a4af79e5f93379c0a0596",
       "version_major": 2,
       "version_minor": 0
      },
      "text/plain": [
       "rng_state.pth:   0%|          | 0.00/14.2k [00:00<?, ?B/s]"
      ]
     },
     "metadata": {},
     "output_type": "display_data"
    },
    {
     "data": {
      "application/vnd.jupyter.widget-view+json": {
       "model_id": "8382f0b86d154095933352a021de3091",
       "version_major": 2,
       "version_minor": 0
      },
      "text/plain": [
       "added_tokens.json:   0%|          | 0.00/35.0 [00:00<?, ?B/s]"
      ]
     },
     "metadata": {},
     "output_type": "display_data"
    },
    {
     "data": {
      "application/vnd.jupyter.widget-view+json": {
       "model_id": "96e573e68c2e4c619a2619aa290b0e84",
       "version_major": 2,
       "version_minor": 0
      },
      "text/plain": [
       "chat_template.jinja: 0.00B [00:00, ?B/s]"
      ]
     },
     "metadata": {},
     "output_type": "display_data"
    },
    {
     "data": {
      "application/vnd.jupyter.widget-view+json": {
       "model_id": "06a8977311e740e0a7c476e691f36dea",
       "version_major": 2,
       "version_minor": 0
      },
      "text/plain": [
       "scheduler.pt:   0%|          | 0.00/1.06k [00:00<?, ?B/s]"
      ]
     },
     "metadata": {},
     "output_type": "display_data"
    },
    {
     "data": {
      "application/vnd.jupyter.widget-view+json": {
       "model_id": "475ccdd580c9498e95f054e4bf2cf069",
       "version_major": 2,
       "version_minor": 0
      },
      "text/plain": [
       "tokenizer.model:   0%|          | 0.00/4.69M [00:00<?, ?B/s]"
      ]
     },
     "metadata": {},
     "output_type": "display_data"
    },
    {
     "data": {
      "application/vnd.jupyter.widget-view+json": {
       "model_id": "c5ce6e8a7847414cbb24e6aec8c63893",
       "version_major": 2,
       "version_minor": 0
      },
      "text/plain": [
       "tokenizer.json:   0%|          | 0.00/33.4M [00:00<?, ?B/s]"
      ]
     },
     "metadata": {},
     "output_type": "display_data"
    },
    {
     "data": {
      "application/vnd.jupyter.widget-view+json": {
       "model_id": "c12699309ea04359a043f8918b62e15b",
       "version_major": 2,
       "version_minor": 0
      },
      "text/plain": [
       "training_args.bin:   0%|          | 0.00/6.52k [00:00<?, ?B/s]"
      ]
     },
     "metadata": {},
     "output_type": "display_data"
    },
    {
     "data": {
      "application/vnd.jupyter.widget-view+json": {
       "model_id": "78ff64d41b844158a8b0710d17cc4449",
       "version_major": 2,
       "version_minor": 0
      },
      "text/plain": [
       "special_tokens_map.json:   0%|          | 0.00/670 [00:00<?, ?B/s]"
      ]
     },
     "metadata": {},
     "output_type": "display_data"
    },
    {
     "data": {
      "application/vnd.jupyter.widget-view+json": {
       "model_id": "161549a4376d4992bf95534e560bbbee",
       "version_major": 2,
       "version_minor": 0
      },
      "text/plain": [
       "tokenizer_config.json: 0.00B [00:00, ?B/s]"
      ]
     },
     "metadata": {},
     "output_type": "display_data"
    },
    {
     "data": {
      "application/vnd.jupyter.widget-view+json": {
       "model_id": "9576b2962dac488ebf04184bb499c1f3",
       "version_major": 2,
       "version_minor": 0
      },
      "text/plain": [
       "trainer_state.json: 0.00B [00:00, ?B/s]"
      ]
     },
     "metadata": {},
     "output_type": "display_data"
    },
    {
     "data": {
      "application/vnd.jupyter.widget-view+json": {
       "model_id": "4541472057b845ad9d338017fcaba432",
       "version_major": 2,
       "version_minor": 0
      },
      "text/plain": [
       "adapter_model.safetensors:   0%|          | 0.00/52.2M [00:00<?, ?B/s]"
      ]
     },
     "metadata": {},
     "output_type": "display_data"
    },
    {
     "data": {
      "application/vnd.jupyter.widget-view+json": {
       "model_id": "8b26adf0eac6424183a2bde35e4cd714",
       "version_major": 2,
       "version_minor": 0
      },
      "text/plain": [
       "README.md: 0.00B [00:00, ?B/s]"
      ]
     },
     "metadata": {},
     "output_type": "display_data"
    },
    {
     "data": {
      "application/vnd.jupyter.widget-view+json": {
       "model_id": "aa2aedcfb1184e38a25d75729ca26d00",
       "version_major": 2,
       "version_minor": 0
      },
      "text/plain": [
       "adapter_config.json:   0%|          | 0.00/868 [00:00<?, ?B/s]"
      ]
     },
     "metadata": {},
     "output_type": "display_data"
    },
    {
     "data": {
      "application/vnd.jupyter.widget-view+json": {
       "model_id": "f303f216a21a40229246339a970e247d",
       "version_major": 2,
       "version_minor": 0
      },
      "text/plain": [
       "optimizer.pt:   0%|          | 0.00/27.9M [00:00<?, ?B/s]"
      ]
     },
     "metadata": {},
     "output_type": "display_data"
    },
    {
     "data": {
      "application/vnd.jupyter.widget-view+json": {
       "model_id": "30918d4c4b7f427ab7eb1abeeb0efc9a",
       "version_major": 2,
       "version_minor": 0
      },
      "text/plain": [
       "added_tokens.json:   0%|          | 0.00/35.0 [00:00<?, ?B/s]"
      ]
     },
     "metadata": {},
     "output_type": "display_data"
    },
    {
     "data": {
      "application/vnd.jupyter.widget-view+json": {
       "model_id": "3fded8dfafbe4f7ebce9dec368b7b115",
       "version_major": 2,
       "version_minor": 0
      },
      "text/plain": [
       "chat_template.jinja: 0.00B [00:00, ?B/s]"
      ]
     },
     "metadata": {},
     "output_type": "display_data"
    },
    {
     "data": {
      "application/vnd.jupyter.widget-view+json": {
       "model_id": "7628cc588d8e4941a57087f9ea1edb73",
       "version_major": 2,
       "version_minor": 0
      },
      "text/plain": [
       "rng_state.pth:   0%|          | 0.00/14.2k [00:00<?, ?B/s]"
      ]
     },
     "metadata": {},
     "output_type": "display_data"
    },
    {
     "data": {
      "application/vnd.jupyter.widget-view+json": {
       "model_id": "e35ef028852e4b938a883bcfe650baac",
       "version_major": 2,
       "version_minor": 0
      },
      "text/plain": [
       "scheduler.pt:   0%|          | 0.00/1.06k [00:00<?, ?B/s]"
      ]
     },
     "metadata": {},
     "output_type": "display_data"
    },
    {
     "data": {
      "application/vnd.jupyter.widget-view+json": {
       "model_id": "e9ed477058234dd68c32d20f02fed08a",
       "version_major": 2,
       "version_minor": 0
      },
      "text/plain": [
       "tokenizer.json:   0%|          | 0.00/33.4M [00:00<?, ?B/s]"
      ]
     },
     "metadata": {},
     "output_type": "display_data"
    },
    {
     "data": {
      "application/vnd.jupyter.widget-view+json": {
       "model_id": "73e3e49c102d4a48824bc4bbe164f0d3",
       "version_major": 2,
       "version_minor": 0
      },
      "text/plain": [
       "training_args.bin:   0%|          | 0.00/6.52k [00:00<?, ?B/s]"
      ]
     },
     "metadata": {},
     "output_type": "display_data"
    },
    {
     "data": {
      "application/vnd.jupyter.widget-view+json": {
       "model_id": "bfc61ce3124a4a39bb4c2e87a16db806",
       "version_major": 2,
       "version_minor": 0
      },
      "text/plain": [
       "tokenizer_config.json: 0.00B [00:00, ?B/s]"
      ]
     },
     "metadata": {},
     "output_type": "display_data"
    },
    {
     "data": {
      "application/vnd.jupyter.widget-view+json": {
       "model_id": "310276484d544baa8ff0ec0d512c5efd",
       "version_major": 2,
       "version_minor": 0
      },
      "text/plain": [
       "special_tokens_map.json:   0%|          | 0.00/670 [00:00<?, ?B/s]"
      ]
     },
     "metadata": {},
     "output_type": "display_data"
    },
    {
     "data": {
      "application/vnd.jupyter.widget-view+json": {
       "model_id": "32eaf3b8ffe84867a7b909dc7d98e5d3",
       "version_major": 2,
       "version_minor": 0
      },
      "text/plain": [
       "tokenizer.model:   0%|          | 0.00/4.69M [00:00<?, ?B/s]"
      ]
     },
     "metadata": {},
     "output_type": "display_data"
    },
    {
     "data": {
      "application/vnd.jupyter.widget-view+json": {
       "model_id": "18dacf47b89c4e0d97fec0fc8f10fdde",
       "version_major": 2,
       "version_minor": 0
      },
      "text/plain": [
       "trainer_state.json: 0.00B [00:00, ?B/s]"
      ]
     },
     "metadata": {},
     "output_type": "display_data"
    },
    {
     "data": {
      "application/vnd.jupyter.widget-view+json": {
       "model_id": "6b5cf58dc92f4dc99720ba0044868c21",
       "version_major": 2,
       "version_minor": 0
      },
      "text/plain": [
       "adapter_model.safetensors:   0%|          | 0.00/52.2M [00:00<?, ?B/s]"
      ]
     },
     "metadata": {},
     "output_type": "display_data"
    },
    {
     "data": {
      "application/vnd.jupyter.widget-view+json": {
       "model_id": "59a7872c134146ae8f96a14ba89cfa3a",
       "version_major": 2,
       "version_minor": 0
      },
      "text/plain": [
       "README.md: 0.00B [00:00, ?B/s]"
      ]
     },
     "metadata": {},
     "output_type": "display_data"
    },
    {
     "data": {
      "application/vnd.jupyter.widget-view+json": {
       "model_id": "fc084d1a88bf4786b66a6eaa5166791f",
       "version_major": 2,
       "version_minor": 0
      },
      "text/plain": [
       "optimizer.pt:   0%|          | 0.00/27.9M [00:00<?, ?B/s]"
      ]
     },
     "metadata": {},
     "output_type": "display_data"
    },
    {
     "data": {
      "application/vnd.jupyter.widget-view+json": {
       "model_id": "c3f15016b8f24cd588e05f6e50514f11",
       "version_major": 2,
       "version_minor": 0
      },
      "text/plain": [
       "adapter_config.json:   0%|          | 0.00/868 [00:00<?, ?B/s]"
      ]
     },
     "metadata": {},
     "output_type": "display_data"
    },
    {
     "data": {
      "application/vnd.jupyter.widget-view+json": {
       "model_id": "f696d707534140ea87a6eb9fdd525b9b",
       "version_major": 2,
       "version_minor": 0
      },
      "text/plain": [
       "added_tokens.json:   0%|          | 0.00/35.0 [00:00<?, ?B/s]"
      ]
     },
     "metadata": {},
     "output_type": "display_data"
    },
    {
     "data": {
      "application/vnd.jupyter.widget-view+json": {
       "model_id": "dfbb1255a72a4fa28c85d1ec3a9054dd",
       "version_major": 2,
       "version_minor": 0
      },
      "text/plain": [
       "chat_template.jinja: 0.00B [00:00, ?B/s]"
      ]
     },
     "metadata": {},
     "output_type": "display_data"
    },
    {
     "data": {
      "application/vnd.jupyter.widget-view+json": {
       "model_id": "f20287d4268a40fb85b0c3dc5be5378d",
       "version_major": 2,
       "version_minor": 0
      },
      "text/plain": [
       "rng_state.pth:   0%|          | 0.00/14.2k [00:00<?, ?B/s]"
      ]
     },
     "metadata": {},
     "output_type": "display_data"
    },
    {
     "data": {
      "application/vnd.jupyter.widget-view+json": {
       "model_id": "dad0009cb0524dbd8ef7479b9eb17766",
       "version_major": 2,
       "version_minor": 0
      },
      "text/plain": [
       "scheduler.pt:   0%|          | 0.00/1.06k [00:00<?, ?B/s]"
      ]
     },
     "metadata": {},
     "output_type": "display_data"
    },
    {
     "data": {
      "application/vnd.jupyter.widget-view+json": {
       "model_id": "f97e702596cb45bebee5f1860bb3500c",
       "version_major": 2,
       "version_minor": 0
      },
      "text/plain": [
       "tokenizer.json:   0%|          | 0.00/33.4M [00:00<?, ?B/s]"
      ]
     },
     "metadata": {},
     "output_type": "display_data"
    },
    {
     "data": {
      "application/vnd.jupyter.widget-view+json": {
       "model_id": "a2835d7a9b5745b4923a69a620ab452d",
       "version_major": 2,
       "version_minor": 0
      },
      "text/plain": [
       "tokenizer.model:   0%|          | 0.00/4.69M [00:00<?, ?B/s]"
      ]
     },
     "metadata": {},
     "output_type": "display_data"
    },
    {
     "data": {
      "application/vnd.jupyter.widget-view+json": {
       "model_id": "ff3851c57afc43b48ebb69e4b67598bd",
       "version_major": 2,
       "version_minor": 0
      },
      "text/plain": [
       "special_tokens_map.json:   0%|          | 0.00/670 [00:00<?, ?B/s]"
      ]
     },
     "metadata": {},
     "output_type": "display_data"
    },
    {
     "data": {
      "application/vnd.jupyter.widget-view+json": {
       "model_id": "b88e91abf8d44444b9e9c3cde712968e",
       "version_major": 2,
       "version_minor": 0
      },
      "text/plain": [
       "training_args.bin:   0%|          | 0.00/6.52k [00:00<?, ?B/s]"
      ]
     },
     "metadata": {},
     "output_type": "display_data"
    },
    {
     "data": {
      "application/vnd.jupyter.widget-view+json": {
       "model_id": "952ed8759baa490ea38437fcd39c9f55",
       "version_major": 2,
       "version_minor": 0
      },
      "text/plain": [
       "tokenizer_config.json: 0.00B [00:00, ?B/s]"
      ]
     },
     "metadata": {},
     "output_type": "display_data"
    },
    {
     "data": {
      "application/vnd.jupyter.widget-view+json": {
       "model_id": "758d075242204778b7ec940395446272",
       "version_major": 2,
       "version_minor": 0
      },
      "text/plain": [
       "trainer_state.json: 0.00B [00:00, ?B/s]"
      ]
     },
     "metadata": {},
     "output_type": "display_data"
    },
    {
     "data": {
      "application/vnd.jupyter.widget-view+json": {
       "model_id": "25cfa18c7c7a4bed9d9ee8aba1217d7a",
       "version_major": 2,
       "version_minor": 0
      },
      "text/plain": [
       "adapter_config.json:   0%|          | 0.00/868 [00:00<?, ?B/s]"
      ]
     },
     "metadata": {},
     "output_type": "display_data"
    },
    {
     "data": {
      "application/vnd.jupyter.widget-view+json": {
       "model_id": "4d6ad0d35a7843d58f28ef98dd737d15",
       "version_major": 2,
       "version_minor": 0
      },
      "text/plain": [
       "README.md: 0.00B [00:00, ?B/s]"
      ]
     },
     "metadata": {},
     "output_type": "display_data"
    },
    {
     "data": {
      "application/vnd.jupyter.widget-view+json": {
       "model_id": "48151ef8125c421bb8d717b9e0a47c7f",
       "version_major": 2,
       "version_minor": 0
      },
      "text/plain": [
       "adapter_model.safetensors:   0%|          | 0.00/52.2M [00:00<?, ?B/s]"
      ]
     },
     "metadata": {},
     "output_type": "display_data"
    },
    {
     "data": {
      "application/vnd.jupyter.widget-view+json": {
       "model_id": "036edc1bdfea4e77b8f6bea2e81690f8",
       "version_major": 2,
       "version_minor": 0
      },
      "text/plain": [
       "optimizer.pt:   0%|          | 0.00/27.9M [00:00<?, ?B/s]"
      ]
     },
     "metadata": {},
     "output_type": "display_data"
    },
    {
     "data": {
      "application/vnd.jupyter.widget-view+json": {
       "model_id": "67c261cfd6034058996a213690bb093c",
       "version_major": 2,
       "version_minor": 0
      },
      "text/plain": [
       "chat_template.jinja: 0.00B [00:00, ?B/s]"
      ]
     },
     "metadata": {},
     "output_type": "display_data"
    },
    {
     "data": {
      "application/vnd.jupyter.widget-view+json": {
       "model_id": "b20749b55c3a47939a919f3394ba9a7e",
       "version_major": 2,
       "version_minor": 0
      },
      "text/plain": [
       "added_tokens.json:   0%|          | 0.00/35.0 [00:00<?, ?B/s]"
      ]
     },
     "metadata": {},
     "output_type": "display_data"
    },
    {
     "data": {
      "application/vnd.jupyter.widget-view+json": {
       "model_id": "215985b718dc43bab1ec1c924b2cd316",
       "version_major": 2,
       "version_minor": 0
      },
      "text/plain": [
       "rng_state.pth:   0%|          | 0.00/14.2k [00:00<?, ?B/s]"
      ]
     },
     "metadata": {},
     "output_type": "display_data"
    },
    {
     "data": {
      "application/vnd.jupyter.widget-view+json": {
       "model_id": "315105c38ad24115aacb79818d73bbcd",
       "version_major": 2,
       "version_minor": 0
      },
      "text/plain": [
       "scheduler.pt:   0%|          | 0.00/1.06k [00:00<?, ?B/s]"
      ]
     },
     "metadata": {},
     "output_type": "display_data"
    },
    {
     "data": {
      "application/vnd.jupyter.widget-view+json": {
       "model_id": "ce6ec75c448949e084de9bd97579ae41",
       "version_major": 2,
       "version_minor": 0
      },
      "text/plain": [
       "tokenizer.json:   0%|          | 0.00/33.4M [00:00<?, ?B/s]"
      ]
     },
     "metadata": {},
     "output_type": "display_data"
    },
    {
     "data": {
      "application/vnd.jupyter.widget-view+json": {
       "model_id": "3e31c366d9644f7397e848eba261f193",
       "version_major": 2,
       "version_minor": 0
      },
      "text/plain": [
       "tokenizer.model:   0%|          | 0.00/4.69M [00:00<?, ?B/s]"
      ]
     },
     "metadata": {},
     "output_type": "display_data"
    },
    {
     "data": {
      "application/vnd.jupyter.widget-view+json": {
       "model_id": "70fcdfa074fa47b188699966e95189d1",
       "version_major": 2,
       "version_minor": 0
      },
      "text/plain": [
       "special_tokens_map.json:   0%|          | 0.00/670 [00:00<?, ?B/s]"
      ]
     },
     "metadata": {},
     "output_type": "display_data"
    },
    {
     "data": {
      "application/vnd.jupyter.widget-view+json": {
       "model_id": "645b5db51eab4dc9a6e1a6239c1f0718",
       "version_major": 2,
       "version_minor": 0
      },
      "text/plain": [
       "tokenizer_config.json: 0.00B [00:00, ?B/s]"
      ]
     },
     "metadata": {},
     "output_type": "display_data"
    },
    {
     "data": {
      "application/vnd.jupyter.widget-view+json": {
       "model_id": "a3c7201b3d29429f8643c774b21615f1",
       "version_major": 2,
       "version_minor": 0
      },
      "text/plain": [
       "training_args.bin:   0%|          | 0.00/6.52k [00:00<?, ?B/s]"
      ]
     },
     "metadata": {},
     "output_type": "display_data"
    },
    {
     "data": {
      "application/vnd.jupyter.widget-view+json": {
       "model_id": "5395d2628bf64547b1522357095196b3",
       "version_major": 2,
       "version_minor": 0
      },
      "text/plain": [
       "trainer_state.json: 0.00B [00:00, ?B/s]"
      ]
     },
     "metadata": {},
     "output_type": "display_data"
    },
    {
     "data": {
      "application/vnd.jupyter.widget-view+json": {
       "model_id": "149e83f8f45c4468a47a1ed24a823953",
       "version_major": 2,
       "version_minor": 0
      },
      "text/plain": [
       "adapter_config.json:   0%|          | 0.00/868 [00:00<?, ?B/s]"
      ]
     },
     "metadata": {},
     "output_type": "display_data"
    },
    {
     "data": {
      "application/vnd.jupyter.widget-view+json": {
       "model_id": "a6c30d60559440f79e4ed313222f3c63",
       "version_major": 2,
       "version_minor": 0
      },
      "text/plain": [
       "README.md: 0.00B [00:00, ?B/s]"
      ]
     },
     "metadata": {},
     "output_type": "display_data"
    },
    {
     "data": {
      "application/vnd.jupyter.widget-view+json": {
       "model_id": "f885b2cb93804c9da796c6841f02b0cc",
       "version_major": 2,
       "version_minor": 0
      },
      "text/plain": [
       "adapter_model.safetensors:   0%|          | 0.00/52.2M [00:00<?, ?B/s]"
      ]
     },
     "metadata": {},
     "output_type": "display_data"
    },
    {
     "data": {
      "application/vnd.jupyter.widget-view+json": {
       "model_id": "0f1dab44ec584f98859b2508cf81b3ac",
       "version_major": 2,
       "version_minor": 0
      },
      "text/plain": [
       "optimizer.pt:   0%|          | 0.00/27.9M [00:00<?, ?B/s]"
      ]
     },
     "metadata": {},
     "output_type": "display_data"
    },
    {
     "data": {
      "application/vnd.jupyter.widget-view+json": {
       "model_id": "7fd0eb7786224c5fa9d35f2667103904",
       "version_major": 2,
       "version_minor": 0
      },
      "text/plain": [
       "chat_template.jinja: 0.00B [00:00, ?B/s]"
      ]
     },
     "metadata": {},
     "output_type": "display_data"
    },
    {
     "data": {
      "application/vnd.jupyter.widget-view+json": {
       "model_id": "babaa058a35d49f3916f43311e8f200b",
       "version_major": 2,
       "version_minor": 0
      },
      "text/plain": [
       "added_tokens.json:   0%|          | 0.00/35.0 [00:00<?, ?B/s]"
      ]
     },
     "metadata": {},
     "output_type": "display_data"
    },
    {
     "data": {
      "application/vnd.jupyter.widget-view+json": {
       "model_id": "0d0e50d86867407795576113a17f5aaf",
       "version_major": 2,
       "version_minor": 0
      },
      "text/plain": [
       "rng_state.pth:   0%|          | 0.00/14.2k [00:00<?, ?B/s]"
      ]
     },
     "metadata": {},
     "output_type": "display_data"
    },
    {
     "data": {
      "application/vnd.jupyter.widget-view+json": {
       "model_id": "058d666fdb9045568ea8e007f2316153",
       "version_major": 2,
       "version_minor": 0
      },
      "text/plain": [
       "scheduler.pt:   0%|          | 0.00/1.06k [00:00<?, ?B/s]"
      ]
     },
     "metadata": {},
     "output_type": "display_data"
    },
    {
     "data": {
      "application/vnd.jupyter.widget-view+json": {
       "model_id": "b0fe3dfc07df4002927a88140d3f75ed",
       "version_major": 2,
       "version_minor": 0
      },
      "text/plain": [
       "tokenizer.model:   0%|          | 0.00/4.69M [00:00<?, ?B/s]"
      ]
     },
     "metadata": {},
     "output_type": "display_data"
    },
    {
     "data": {
      "application/vnd.jupyter.widget-view+json": {
       "model_id": "49122bf5aa514aedb84d1971b1089a23",
       "version_major": 2,
       "version_minor": 0
      },
      "text/plain": [
       "tokenizer.json:   0%|          | 0.00/33.4M [00:00<?, ?B/s]"
      ]
     },
     "metadata": {},
     "output_type": "display_data"
    },
    {
     "data": {
      "application/vnd.jupyter.widget-view+json": {
       "model_id": "84698a28eac14c36a7f796a41e658132",
       "version_major": 2,
       "version_minor": 0
      },
      "text/plain": [
       "special_tokens_map.json:   0%|          | 0.00/670 [00:00<?, ?B/s]"
      ]
     },
     "metadata": {},
     "output_type": "display_data"
    },
    {
     "data": {
      "application/vnd.jupyter.widget-view+json": {
       "model_id": "d1b63b56bf2646d79da7f5aec601ef69",
       "version_major": 2,
       "version_minor": 0
      },
      "text/plain": [
       "trainer_state.json: 0.00B [00:00, ?B/s]"
      ]
     },
     "metadata": {},
     "output_type": "display_data"
    },
    {
     "data": {
      "application/vnd.jupyter.widget-view+json": {
       "model_id": "977457d6f60b471b8a3752a008ef297b",
       "version_major": 2,
       "version_minor": 0
      },
      "text/plain": [
       "tokenizer_config.json: 0.00B [00:00, ?B/s]"
      ]
     },
     "metadata": {},
     "output_type": "display_data"
    },
    {
     "data": {
      "application/vnd.jupyter.widget-view+json": {
       "model_id": "b6bfdc07829e46468030eb25abc225a6",
       "version_major": 2,
       "version_minor": 0
      },
      "text/plain": [
       "training_args.bin:   0%|          | 0.00/6.52k [00:00<?, ?B/s]"
      ]
     },
     "metadata": {},
     "output_type": "display_data"
    },
    {
     "data": {
      "application/vnd.jupyter.widget-view+json": {
       "model_id": "ae7e1c6004ae4303be80ab8a3b4927cd",
       "version_major": 2,
       "version_minor": 0
      },
      "text/plain": [
       "README.md: 0.00B [00:00, ?B/s]"
      ]
     },
     "metadata": {},
     "output_type": "display_data"
    },
    {
     "data": {
      "application/vnd.jupyter.widget-view+json": {
       "model_id": "dc3a0abc32e24bf8a21023a267341c07",
       "version_major": 2,
       "version_minor": 0
      },
      "text/plain": [
       "adapter_model.safetensors:   0%|          | 0.00/52.2M [00:00<?, ?B/s]"
      ]
     },
     "metadata": {},
     "output_type": "display_data"
    },
    {
     "data": {
      "application/vnd.jupyter.widget-view+json": {
       "model_id": "6c80b51aae43482ca5fb749b38f74ea3",
       "version_major": 2,
       "version_minor": 0
      },
      "text/plain": [
       "added_tokens.json:   0%|          | 0.00/35.0 [00:00<?, ?B/s]"
      ]
     },
     "metadata": {},
     "output_type": "display_data"
    },
    {
     "data": {
      "application/vnd.jupyter.widget-view+json": {
       "model_id": "38d76ab29fe3408d9799818029e447dd",
       "version_major": 2,
       "version_minor": 0
      },
      "text/plain": [
       "optimizer.pt:   0%|          | 0.00/26.9M [00:00<?, ?B/s]"
      ]
     },
     "metadata": {},
     "output_type": "display_data"
    },
    {
     "data": {
      "application/vnd.jupyter.widget-view+json": {
       "model_id": "0e9ba9a02e154c2c8aaa95d39b3f8788",
       "version_major": 2,
       "version_minor": 0
      },
      "text/plain": [
       "adapter_config.json:   0%|          | 0.00/868 [00:00<?, ?B/s]"
      ]
     },
     "metadata": {},
     "output_type": "display_data"
    },
    {
     "data": {
      "application/vnd.jupyter.widget-view+json": {
       "model_id": "b1e5e4d06fd34e89af9765dfeb2d5e95",
       "version_major": 2,
       "version_minor": 0
      },
      "text/plain": [
       "rng_state.pth:   0%|          | 0.00/14.2k [00:00<?, ?B/s]"
      ]
     },
     "metadata": {},
     "output_type": "display_data"
    },
    {
     "data": {
      "application/vnd.jupyter.widget-view+json": {
       "model_id": "a542a1b3b1d84a5e82f166b7325e0edb",
       "version_major": 2,
       "version_minor": 0
      },
      "text/plain": [
       "scheduler.pt:   0%|          | 0.00/1.06k [00:00<?, ?B/s]"
      ]
     },
     "metadata": {},
     "output_type": "display_data"
    },
    {
     "data": {
      "application/vnd.jupyter.widget-view+json": {
       "model_id": "018f153aaa9d48e8969c3ba858175468",
       "version_major": 2,
       "version_minor": 0
      },
      "text/plain": [
       "chat_template.jinja: 0.00B [00:00, ?B/s]"
      ]
     },
     "metadata": {},
     "output_type": "display_data"
    },
    {
     "data": {
      "application/vnd.jupyter.widget-view+json": {
       "model_id": "dc5704de612142548464078271d56721",
       "version_major": 2,
       "version_minor": 0
      },
      "text/plain": [
       "tokenizer.json:   0%|          | 0.00/33.4M [00:00<?, ?B/s]"
      ]
     },
     "metadata": {},
     "output_type": "display_data"
    },
    {
     "data": {
      "application/vnd.jupyter.widget-view+json": {
       "model_id": "3fe0485a317740f9bb5c4a280a304a71",
       "version_major": 2,
       "version_minor": 0
      },
      "text/plain": [
       "special_tokens_map.json:   0%|          | 0.00/670 [00:00<?, ?B/s]"
      ]
     },
     "metadata": {},
     "output_type": "display_data"
    },
    {
     "data": {
      "application/vnd.jupyter.widget-view+json": {
       "model_id": "bb16670c8e154b4384afa691f04b8663",
       "version_major": 2,
       "version_minor": 0
      },
      "text/plain": [
       "tokenizer.model:   0%|          | 0.00/4.69M [00:00<?, ?B/s]"
      ]
     },
     "metadata": {},
     "output_type": "display_data"
    },
    {
     "data": {
      "application/vnd.jupyter.widget-view+json": {
       "model_id": "3166f0b2f1704cbcb83682efd2b39dea",
       "version_major": 2,
       "version_minor": 0
      },
      "text/plain": [
       "training_args.bin:   0%|          | 0.00/6.52k [00:00<?, ?B/s]"
      ]
     },
     "metadata": {},
     "output_type": "display_data"
    },
    {
     "data": {
      "application/vnd.jupyter.widget-view+json": {
       "model_id": "b0908aae0c3e4ecf807a4e8a58407316",
       "version_major": 2,
       "version_minor": 0
      },
      "text/plain": [
       "tokenizer_config.json: 0.00B [00:00, ?B/s]"
      ]
     },
     "metadata": {},
     "output_type": "display_data"
    },
    {
     "data": {
      "application/vnd.jupyter.widget-view+json": {
       "model_id": "ab5c3243dfcd4e87af1fc5d71bc363a6",
       "version_major": 2,
       "version_minor": 0
      },
      "text/plain": [
       "trainer_state.json: 0.00B [00:00, ?B/s]"
      ]
     },
     "metadata": {},
     "output_type": "display_data"
    },
    {
     "data": {
      "application/vnd.jupyter.widget-view+json": {
       "model_id": "5c208d58dbd24baca13fa01295e01992",
       "version_major": 2,
       "version_minor": 0
      },
      "text/plain": [
       "README.md: 0.00B [00:00, ?B/s]"
      ]
     },
     "metadata": {},
     "output_type": "display_data"
    },
    {
     "data": {
      "application/vnd.jupyter.widget-view+json": {
       "model_id": "bb97d87bc041491495f8b835655029a0",
       "version_major": 2,
       "version_minor": 0
      },
      "text/plain": [
       "adapter_model.safetensors:   0%|          | 0.00/52.2M [00:00<?, ?B/s]"
      ]
     },
     "metadata": {},
     "output_type": "display_data"
    },
    {
     "data": {
      "application/vnd.jupyter.widget-view+json": {
       "model_id": "84a18060181241cab1f2ef5943fdc3e8",
       "version_major": 2,
       "version_minor": 0
      },
      "text/plain": [
       "adapter_config.json:   0%|          | 0.00/868 [00:00<?, ?B/s]"
      ]
     },
     "metadata": {},
     "output_type": "display_data"
    },
    {
     "data": {
      "application/vnd.jupyter.widget-view+json": {
       "model_id": "12080146379344f0a5893cf5bb1738ab",
       "version_major": 2,
       "version_minor": 0
      },
      "text/plain": [
       "optimizer.pt:   0%|          | 0.00/27.9M [00:00<?, ?B/s]"
      ]
     },
     "metadata": {},
     "output_type": "display_data"
    },
    {
     "data": {
      "application/vnd.jupyter.widget-view+json": {
       "model_id": "c0b0b2c95c664fb6a5e1283ab8eda298",
       "version_major": 2,
       "version_minor": 0
      },
      "text/plain": [
       "added_tokens.json:   0%|          | 0.00/35.0 [00:00<?, ?B/s]"
      ]
     },
     "metadata": {},
     "output_type": "display_data"
    },
    {
     "data": {
      "application/vnd.jupyter.widget-view+json": {
       "model_id": "8ebb3167ce014ad08d814d28db8d0d5c",
       "version_major": 2,
       "version_minor": 0
      },
      "text/plain": [
       "chat_template.jinja: 0.00B [00:00, ?B/s]"
      ]
     },
     "metadata": {},
     "output_type": "display_data"
    },
    {
     "data": {
      "application/vnd.jupyter.widget-view+json": {
       "model_id": "80495415bf374dcca8ab8fddd25fb599",
       "version_major": 2,
       "version_minor": 0
      },
      "text/plain": [
       "scheduler.pt:   0%|          | 0.00/1.06k [00:00<?, ?B/s]"
      ]
     },
     "metadata": {},
     "output_type": "display_data"
    },
    {
     "data": {
      "application/vnd.jupyter.widget-view+json": {
       "model_id": "2e3642b223904aeab27bfd5b227c7c44",
       "version_major": 2,
       "version_minor": 0
      },
      "text/plain": [
       "rng_state.pth:   0%|          | 0.00/14.2k [00:00<?, ?B/s]"
      ]
     },
     "metadata": {},
     "output_type": "display_data"
    },
    {
     "data": {
      "application/vnd.jupyter.widget-view+json": {
       "model_id": "3d443dcef95b49fe9e6f9538b2a1938a",
       "version_major": 2,
       "version_minor": 0
      },
      "text/plain": [
       "tokenizer.json:   0%|          | 0.00/33.4M [00:00<?, ?B/s]"
      ]
     },
     "metadata": {},
     "output_type": "display_data"
    },
    {
     "data": {
      "application/vnd.jupyter.widget-view+json": {
       "model_id": "5f2d4d910604499b98fe7fe508681b62",
       "version_major": 2,
       "version_minor": 0
      },
      "text/plain": [
       "tokenizer.model:   0%|          | 0.00/4.69M [00:00<?, ?B/s]"
      ]
     },
     "metadata": {},
     "output_type": "display_data"
    },
    {
     "data": {
      "application/vnd.jupyter.widget-view+json": {
       "model_id": "b6330f61b9e6410ab4a3d695f3c9573d",
       "version_major": 2,
       "version_minor": 0
      },
      "text/plain": [
       "special_tokens_map.json:   0%|          | 0.00/670 [00:00<?, ?B/s]"
      ]
     },
     "metadata": {},
     "output_type": "display_data"
    },
    {
     "data": {
      "application/vnd.jupyter.widget-view+json": {
       "model_id": "45f9c40253344865a54df7967054e700",
       "version_major": 2,
       "version_minor": 0
      },
      "text/plain": [
       "tokenizer_config.json: 0.00B [00:00, ?B/s]"
      ]
     },
     "metadata": {},
     "output_type": "display_data"
    },
    {
     "data": {
      "application/vnd.jupyter.widget-view+json": {
       "model_id": "e1dedfa043b8455f830e7861c841fad4",
       "version_major": 2,
       "version_minor": 0
      },
      "text/plain": [
       "trainer_state.json: 0.00B [00:00, ?B/s]"
      ]
     },
     "metadata": {},
     "output_type": "display_data"
    },
    {
     "data": {
      "application/vnd.jupyter.widget-view+json": {
       "model_id": "47d6e69b4ab34bb381b2b2368399a6f9",
       "version_major": 2,
       "version_minor": 0
      },
      "text/plain": [
       "training_args.bin:   0%|          | 0.00/6.52k [00:00<?, ?B/s]"
      ]
     },
     "metadata": {},
     "output_type": "display_data"
    },
    {
     "data": {
      "application/vnd.jupyter.widget-view+json": {
       "model_id": "99564abc3384428c95505dca566915ad",
       "version_major": 2,
       "version_minor": 0
      },
      "text/plain": [
       "README.md: 0.00B [00:00, ?B/s]"
      ]
     },
     "metadata": {},
     "output_type": "display_data"
    },
    {
     "data": {
      "application/vnd.jupyter.widget-view+json": {
       "model_id": "c648685e32f2406dae0a39aa35c97f53",
       "version_major": 2,
       "version_minor": 0
      },
      "text/plain": [
       "adapter_model.safetensors:   0%|          | 0.00/52.2M [00:00<?, ?B/s]"
      ]
     },
     "metadata": {},
     "output_type": "display_data"
    },
    {
     "data": {
      "application/vnd.jupyter.widget-view+json": {
       "model_id": "5740324cbaf743d7ab31777665f27e97",
       "version_major": 2,
       "version_minor": 0
      },
      "text/plain": [
       "adapter_config.json:   0%|          | 0.00/868 [00:00<?, ?B/s]"
      ]
     },
     "metadata": {},
     "output_type": "display_data"
    },
    {
     "data": {
      "application/vnd.jupyter.widget-view+json": {
       "model_id": "2f3c9bd42bbb4f79b23580b41c8dca83",
       "version_major": 2,
       "version_minor": 0
      },
      "text/plain": [
       "optimizer.pt:   0%|          | 0.00/27.9M [00:00<?, ?B/s]"
      ]
     },
     "metadata": {},
     "output_type": "display_data"
    },
    {
     "data": {
      "application/vnd.jupyter.widget-view+json": {
       "model_id": "9585748eafb04b18829e0762b692cc1b",
       "version_major": 2,
       "version_minor": 0
      },
      "text/plain": [
       "rng_state.pth:   0%|          | 0.00/14.2k [00:00<?, ?B/s]"
      ]
     },
     "metadata": {},
     "output_type": "display_data"
    },
    {
     "data": {
      "application/vnd.jupyter.widget-view+json": {
       "model_id": "bea86617ec924b0fbd8b4e3dbe2ab7a8",
       "version_major": 2,
       "version_minor": 0
      },
      "text/plain": [
       "chat_template.jinja: 0.00B [00:00, ?B/s]"
      ]
     },
     "metadata": {},
     "output_type": "display_data"
    },
    {
     "data": {
      "application/vnd.jupyter.widget-view+json": {
       "model_id": "58a9b3dedad844b196e3ea5763b95fdf",
       "version_major": 2,
       "version_minor": 0
      },
      "text/plain": [
       "scheduler.pt:   0%|          | 0.00/1.06k [00:00<?, ?B/s]"
      ]
     },
     "metadata": {},
     "output_type": "display_data"
    },
    {
     "data": {
      "application/vnd.jupyter.widget-view+json": {
       "model_id": "7e2a2226b8af476f9710f79e49110b80",
       "version_major": 2,
       "version_minor": 0
      },
      "text/plain": [
       "tokenizer.json:   0%|          | 0.00/33.4M [00:00<?, ?B/s]"
      ]
     },
     "metadata": {},
     "output_type": "display_data"
    },
    {
     "data": {
      "application/vnd.jupyter.widget-view+json": {
       "model_id": "cc0c33bcba20485d8e36d5623d21581c",
       "version_major": 2,
       "version_minor": 0
      },
      "text/plain": [
       "tokenizer.model:   0%|          | 0.00/4.69M [00:00<?, ?B/s]"
      ]
     },
     "metadata": {},
     "output_type": "display_data"
    },
    {
     "data": {
      "application/vnd.jupyter.widget-view+json": {
       "model_id": "e16c90ccf3994915997cb480e4d4423b",
       "version_major": 2,
       "version_minor": 0
      },
      "text/plain": [
       "special_tokens_map.json:   0%|          | 0.00/670 [00:00<?, ?B/s]"
      ]
     },
     "metadata": {},
     "output_type": "display_data"
    },
    {
     "data": {
      "application/vnd.jupyter.widget-view+json": {
       "model_id": "5b3ee7fc0f8e4b838a8e8c07d7a21807",
       "version_major": 2,
       "version_minor": 0
      },
      "text/plain": [
       "trainer_state.json: 0.00B [00:00, ?B/s]"
      ]
     },
     "metadata": {},
     "output_type": "display_data"
    },
    {
     "data": {
      "application/vnd.jupyter.widget-view+json": {
       "model_id": "fd786b2821ab4668a061a5257399704f",
       "version_major": 2,
       "version_minor": 0
      },
      "text/plain": [
       "tokenizer_config.json: 0.00B [00:00, ?B/s]"
      ]
     },
     "metadata": {},
     "output_type": "display_data"
    },
    {
     "data": {
      "application/vnd.jupyter.widget-view+json": {
       "model_id": "741ff5d379ed4917a4bbe014af55f160",
       "version_major": 2,
       "version_minor": 0
      },
      "text/plain": [
       "added_tokens.json:   0%|          | 0.00/35.0 [00:00<?, ?B/s]"
      ]
     },
     "metadata": {},
     "output_type": "display_data"
    },
    {
     "data": {
      "application/vnd.jupyter.widget-view+json": {
       "model_id": "c874fb2f902747a0849d5b24582cda71",
       "version_major": 2,
       "version_minor": 0
      },
      "text/plain": [
       "training_args.bin:   0%|          | 0.00/6.52k [00:00<?, ?B/s]"
      ]
     },
     "metadata": {},
     "output_type": "display_data"
    },
    {
     "data": {
      "application/vnd.jupyter.widget-view+json": {
       "model_id": "4f1b744344894c1795e9c6f312a8e320",
       "version_major": 2,
       "version_minor": 0
      },
      "text/plain": [
       "adapter_model.safetensors:   0%|          | 0.00/52.2M [00:00<?, ?B/s]"
      ]
     },
     "metadata": {},
     "output_type": "display_data"
    },
    {
     "data": {
      "application/vnd.jupyter.widget-view+json": {
       "model_id": "0b242be09cc64af4a2abe192ba2b34e8",
       "version_major": 2,
       "version_minor": 0
      },
      "text/plain": [
       "README.md: 0.00B [00:00, ?B/s]"
      ]
     },
     "metadata": {},
     "output_type": "display_data"
    },
    {
     "data": {
      "application/vnd.jupyter.widget-view+json": {
       "model_id": "275566f66e7e485da366a8069d4fe863",
       "version_major": 2,
       "version_minor": 0
      },
      "text/plain": [
       "adapter_config.json:   0%|          | 0.00/868 [00:00<?, ?B/s]"
      ]
     },
     "metadata": {},
     "output_type": "display_data"
    },
    {
     "data": {
      "application/vnd.jupyter.widget-view+json": {
       "model_id": "e613d4e2e7e14ab0a62717af28febfac",
       "version_major": 2,
       "version_minor": 0
      },
      "text/plain": [
       "chat_template.jinja: 0.00B [00:00, ?B/s]"
      ]
     },
     "metadata": {},
     "output_type": "display_data"
    },
    {
     "data": {
      "application/vnd.jupyter.widget-view+json": {
       "model_id": "7a20ddb03b4648d594bf8c4067403f2c",
       "version_major": 2,
       "version_minor": 0
      },
      "text/plain": [
       "added_tokens.json:   0%|          | 0.00/35.0 [00:00<?, ?B/s]"
      ]
     },
     "metadata": {},
     "output_type": "display_data"
    },
    {
     "data": {
      "application/vnd.jupyter.widget-view+json": {
       "model_id": "9b10bbe5eee44f448392b6b7671a711e",
       "version_major": 2,
       "version_minor": 0
      },
      "text/plain": [
       "optimizer.pt:   0%|          | 0.00/27.9M [00:00<?, ?B/s]"
      ]
     },
     "metadata": {},
     "output_type": "display_data"
    },
    {
     "data": {
      "application/vnd.jupyter.widget-view+json": {
       "model_id": "59363bb2de7442ff98186e36509bb9fa",
       "version_major": 2,
       "version_minor": 0
      },
      "text/plain": [
       "rng_state.pth:   0%|          | 0.00/14.2k [00:00<?, ?B/s]"
      ]
     },
     "metadata": {},
     "output_type": "display_data"
    },
    {
     "data": {
      "application/vnd.jupyter.widget-view+json": {
       "model_id": "07d6bc142ee04c25b2b79b243818f105",
       "version_major": 2,
       "version_minor": 0
      },
      "text/plain": [
       "scheduler.pt:   0%|          | 0.00/1.06k [00:00<?, ?B/s]"
      ]
     },
     "metadata": {},
     "output_type": "display_data"
    },
    {
     "data": {
      "application/vnd.jupyter.widget-view+json": {
       "model_id": "ccb86812669e43a9a8e147400dfe210e",
       "version_major": 2,
       "version_minor": 0
      },
      "text/plain": [
       "tokenizer.model:   0%|          | 0.00/4.69M [00:00<?, ?B/s]"
      ]
     },
     "metadata": {},
     "output_type": "display_data"
    },
    {
     "data": {
      "application/vnd.jupyter.widget-view+json": {
       "model_id": "65d4efeced9b4fcd9f1168ad1abef8e3",
       "version_major": 2,
       "version_minor": 0
      },
      "text/plain": [
       "tokenizer.json:   0%|          | 0.00/33.4M [00:00<?, ?B/s]"
      ]
     },
     "metadata": {},
     "output_type": "display_data"
    },
    {
     "data": {
      "application/vnd.jupyter.widget-view+json": {
       "model_id": "195d4ced639e400bb6b728ee653f7603",
       "version_major": 2,
       "version_minor": 0
      },
      "text/plain": [
       "training_args.bin:   0%|          | 0.00/6.52k [00:00<?, ?B/s]"
      ]
     },
     "metadata": {},
     "output_type": "display_data"
    },
    {
     "data": {
      "application/vnd.jupyter.widget-view+json": {
       "model_id": "938159b74d2c441785293d89f409eb8d",
       "version_major": 2,
       "version_minor": 0
      },
      "text/plain": [
       "special_tokens_map.json:   0%|          | 0.00/670 [00:00<?, ?B/s]"
      ]
     },
     "metadata": {},
     "output_type": "display_data"
    },
    {
     "data": {
      "application/vnd.jupyter.widget-view+json": {
       "model_id": "01059e4e811546b4a3932a5ba4216979",
       "version_major": 2,
       "version_minor": 0
      },
      "text/plain": [
       "tokenizer_config.json: 0.00B [00:00, ?B/s]"
      ]
     },
     "metadata": {},
     "output_type": "display_data"
    },
    {
     "data": {
      "application/vnd.jupyter.widget-view+json": {
       "model_id": "f3ede05e71be4b02a87cc837fd314437",
       "version_major": 2,
       "version_minor": 0
      },
      "text/plain": [
       "trainer_state.json: 0.00B [00:00, ?B/s]"
      ]
     },
     "metadata": {},
     "output_type": "display_data"
    },
    {
     "data": {
      "application/vnd.jupyter.widget-view+json": {
       "model_id": "118f1da3da324da69456660d1754700e",
       "version_major": 2,
       "version_minor": 0
      },
      "text/plain": [
       "adapter_model.safetensors:   0%|          | 0.00/52.2M [00:00<?, ?B/s]"
      ]
     },
     "metadata": {},
     "output_type": "display_data"
    },
    {
     "data": {
      "application/vnd.jupyter.widget-view+json": {
       "model_id": "68a98ebe63894b20b0c83add9a128236",
       "version_major": 2,
       "version_minor": 0
      },
      "text/plain": [
       "adapter_config.json:   0%|          | 0.00/868 [00:00<?, ?B/s]"
      ]
     },
     "metadata": {},
     "output_type": "display_data"
    },
    {
     "data": {
      "application/vnd.jupyter.widget-view+json": {
       "model_id": "d3691d5697ce42b1ba5760bcbb1db73b",
       "version_major": 2,
       "version_minor": 0
      },
      "text/plain": [
       "chat_template.jinja: 0.00B [00:00, ?B/s]"
      ]
     },
     "metadata": {},
     "output_type": "display_data"
    },
    {
     "data": {
      "application/vnd.jupyter.widget-view+json": {
       "model_id": "f5f52190f0fb49ba90e92c1fa923856b",
       "version_major": 2,
       "version_minor": 0
      },
      "text/plain": [
       "optimizer.pt:   0%|          | 0.00/27.9M [00:00<?, ?B/s]"
      ]
     },
     "metadata": {},
     "output_type": "display_data"
    },
    {
     "data": {
      "application/vnd.jupyter.widget-view+json": {
       "model_id": "1d4d8138a4c5413c8249503cab35abb5",
       "version_major": 2,
       "version_minor": 0
      },
      "text/plain": [
       "rng_state.pth:   0%|          | 0.00/14.2k [00:00<?, ?B/s]"
      ]
     },
     "metadata": {},
     "output_type": "display_data"
    },
    {
     "data": {
      "application/vnd.jupyter.widget-view+json": {
       "model_id": "e9a776a83c2d465f9e7b397101b35554",
       "version_major": 2,
       "version_minor": 0
      },
      "text/plain": [
       "README.md: 0.00B [00:00, ?B/s]"
      ]
     },
     "metadata": {},
     "output_type": "display_data"
    },
    {
     "data": {
      "application/vnd.jupyter.widget-view+json": {
       "model_id": "ad54e4385aee43de93f308861b836c56",
       "version_major": 2,
       "version_minor": 0
      },
      "text/plain": [
       "added_tokens.json:   0%|          | 0.00/35.0 [00:00<?, ?B/s]"
      ]
     },
     "metadata": {},
     "output_type": "display_data"
    },
    {
     "data": {
      "application/vnd.jupyter.widget-view+json": {
       "model_id": "86d269986cf143d48fa961d1ef8210aa",
       "version_major": 2,
       "version_minor": 0
      },
      "text/plain": [
       "scheduler.pt:   0%|          | 0.00/1.06k [00:00<?, ?B/s]"
      ]
     },
     "metadata": {},
     "output_type": "display_data"
    },
    {
     "data": {
      "application/vnd.jupyter.widget-view+json": {
       "model_id": "372c53584b95419da8be4cc5377d8068",
       "version_major": 2,
       "version_minor": 0
      },
      "text/plain": [
       "tokenizer.model:   0%|          | 0.00/4.69M [00:00<?, ?B/s]"
      ]
     },
     "metadata": {},
     "output_type": "display_data"
    },
    {
     "data": {
      "application/vnd.jupyter.widget-view+json": {
       "model_id": "94fc43df1dc14e5685aee2eceb8e470a",
       "version_major": 2,
       "version_minor": 0
      },
      "text/plain": [
       "special_tokens_map.json:   0%|          | 0.00/670 [00:00<?, ?B/s]"
      ]
     },
     "metadata": {},
     "output_type": "display_data"
    },
    {
     "data": {
      "application/vnd.jupyter.widget-view+json": {
       "model_id": "155cde0be7f04eeba0cc28eabf77db5c",
       "version_major": 2,
       "version_minor": 0
      },
      "text/plain": [
       "training_args.bin:   0%|          | 0.00/6.52k [00:00<?, ?B/s]"
      ]
     },
     "metadata": {},
     "output_type": "display_data"
    },
    {
     "data": {
      "application/vnd.jupyter.widget-view+json": {
       "model_id": "82e7889120d54f5a857443f9c5b172a3",
       "version_major": 2,
       "version_minor": 0
      },
      "text/plain": [
       "tokenizer.json:   0%|          | 0.00/33.4M [00:00<?, ?B/s]"
      ]
     },
     "metadata": {},
     "output_type": "display_data"
    },
    {
     "data": {
      "application/vnd.jupyter.widget-view+json": {
       "model_id": "bbae7f6c13b44829b1bac6fee4028e47",
       "version_major": 2,
       "version_minor": 0
      },
      "text/plain": [
       "tokenizer_config.json: 0.00B [00:00, ?B/s]"
      ]
     },
     "metadata": {},
     "output_type": "display_data"
    },
    {
     "data": {
      "application/vnd.jupyter.widget-view+json": {
       "model_id": "9f7e0c8cf17540b6a83ee69501811ff7",
       "version_major": 2,
       "version_minor": 0
      },
      "text/plain": [
       "adapter_model.safetensors:   0%|          | 0.00/52.2M [00:00<?, ?B/s]"
      ]
     },
     "metadata": {},
     "output_type": "display_data"
    },
    {
     "data": {
      "application/vnd.jupyter.widget-view+json": {
       "model_id": "084ea3c206284586bcc0c49dd864f47d",
       "version_major": 2,
       "version_minor": 0
      },
      "text/plain": [
       "README.md: 0.00B [00:00, ?B/s]"
      ]
     },
     "metadata": {},
     "output_type": "display_data"
    },
    {
     "data": {
      "application/vnd.jupyter.widget-view+json": {
       "model_id": "c38b94904487413fa0ccffbb9063f6c0",
       "version_major": 2,
       "version_minor": 0
      },
      "text/plain": [
       "adapter_config.json:   0%|          | 0.00/868 [00:00<?, ?B/s]"
      ]
     },
     "metadata": {},
     "output_type": "display_data"
    },
    {
     "data": {
      "application/vnd.jupyter.widget-view+json": {
       "model_id": "681485b407d84f58996fb96d57dae161",
       "version_major": 2,
       "version_minor": 0
      },
      "text/plain": [
       "added_tokens.json:   0%|          | 0.00/35.0 [00:00<?, ?B/s]"
      ]
     },
     "metadata": {},
     "output_type": "display_data"
    },
    {
     "data": {
      "application/vnd.jupyter.widget-view+json": {
       "model_id": "e2388160fa1d4b97b3651333a112100a",
       "version_major": 2,
       "version_minor": 0
      },
      "text/plain": [
       "trainer_state.json: 0.00B [00:00, ?B/s]"
      ]
     },
     "metadata": {},
     "output_type": "display_data"
    },
    {
     "data": {
      "application/vnd.jupyter.widget-view+json": {
       "model_id": "c9a33a2804d744f29e9303430a5b6277",
       "version_major": 2,
       "version_minor": 0
      },
      "text/plain": [
       "optimizer.pt:   0%|          | 0.00/27.9M [00:00<?, ?B/s]"
      ]
     },
     "metadata": {},
     "output_type": "display_data"
    },
    {
     "data": {
      "application/vnd.jupyter.widget-view+json": {
       "model_id": "1c54801ecf184a65b9622f9b96d1ed7e",
       "version_major": 2,
       "version_minor": 0
      },
      "text/plain": [
       "rng_state.pth:   0%|          | 0.00/14.2k [00:00<?, ?B/s]"
      ]
     },
     "metadata": {},
     "output_type": "display_data"
    },
    {
     "data": {
      "application/vnd.jupyter.widget-view+json": {
       "model_id": "909649aa07c04f47b499762554df1fb3",
       "version_major": 2,
       "version_minor": 0
      },
      "text/plain": [
       "scheduler.pt:   0%|          | 0.00/1.06k [00:00<?, ?B/s]"
      ]
     },
     "metadata": {},
     "output_type": "display_data"
    },
    {
     "data": {
      "application/vnd.jupyter.widget-view+json": {
       "model_id": "e1b67a71b41d4c3b802ff0f540ed404a",
       "version_major": 2,
       "version_minor": 0
      },
      "text/plain": [
       "chat_template.jinja: 0.00B [00:00, ?B/s]"
      ]
     },
     "metadata": {},
     "output_type": "display_data"
    },
    {
     "data": {
      "application/vnd.jupyter.widget-view+json": {
       "model_id": "622b22d690334f78b578d1834886dfa1",
       "version_major": 2,
       "version_minor": 0
      },
      "text/plain": [
       "tokenizer.json:   0%|          | 0.00/33.4M [00:00<?, ?B/s]"
      ]
     },
     "metadata": {},
     "output_type": "display_data"
    },
    {
     "data": {
      "application/vnd.jupyter.widget-view+json": {
       "model_id": "7b58f4985fee4312af10d0bced6981b4",
       "version_major": 2,
       "version_minor": 0
      },
      "text/plain": [
       "tokenizer.model:   0%|          | 0.00/4.69M [00:00<?, ?B/s]"
      ]
     },
     "metadata": {},
     "output_type": "display_data"
    },
    {
     "data": {
      "application/vnd.jupyter.widget-view+json": {
       "model_id": "97d9a985eaea46129e0839c7fb15c482",
       "version_major": 2,
       "version_minor": 0
      },
      "text/plain": [
       "special_tokens_map.json:   0%|          | 0.00/670 [00:00<?, ?B/s]"
      ]
     },
     "metadata": {},
     "output_type": "display_data"
    },
    {
     "data": {
      "application/vnd.jupyter.widget-view+json": {
       "model_id": "35dab6b5843a447a873c9282b7b0fe31",
       "version_major": 2,
       "version_minor": 0
      },
      "text/plain": [
       "tokenizer_config.json: 0.00B [00:00, ?B/s]"
      ]
     },
     "metadata": {},
     "output_type": "display_data"
    },
    {
     "data": {
      "application/vnd.jupyter.widget-view+json": {
       "model_id": "3680767b62844ba5be94988dcd1ad502",
       "version_major": 2,
       "version_minor": 0
      },
      "text/plain": [
       "trainer_state.json: 0.00B [00:00, ?B/s]"
      ]
     },
     "metadata": {},
     "output_type": "display_data"
    },
    {
     "data": {
      "application/vnd.jupyter.widget-view+json": {
       "model_id": "2e9ae520becf48a0a69e6332d9639557",
       "version_major": 2,
       "version_minor": 0
      },
      "text/plain": [
       "training_args.bin:   0%|          | 0.00/6.52k [00:00<?, ?B/s]"
      ]
     },
     "metadata": {},
     "output_type": "display_data"
    },
    {
     "data": {
      "application/vnd.jupyter.widget-view+json": {
       "model_id": "d1d3fd5f980c4c2d85204ab19c666164",
       "version_major": 2,
       "version_minor": 0
      },
      "text/plain": [
       "adapter_model.safetensors:   0%|          | 0.00/52.2M [00:00<?, ?B/s]"
      ]
     },
     "metadata": {},
     "output_type": "display_data"
    },
    {
     "data": {
      "application/vnd.jupyter.widget-view+json": {
       "model_id": "5dd9926eb5b0444c8f2dcd95e76b2ecd",
       "version_major": 2,
       "version_minor": 0
      },
      "text/plain": [
       "adapter_config.json:   0%|          | 0.00/868 [00:00<?, ?B/s]"
      ]
     },
     "metadata": {},
     "output_type": "display_data"
    },
    {
     "data": {
      "application/vnd.jupyter.widget-view+json": {
       "model_id": "574e1c65b6d644088a37da6981df3dcf",
       "version_major": 2,
       "version_minor": 0
      },
      "text/plain": [
       "added_tokens.json:   0%|          | 0.00/35.0 [00:00<?, ?B/s]"
      ]
     },
     "metadata": {},
     "output_type": "display_data"
    },
    {
     "data": {
      "application/vnd.jupyter.widget-view+json": {
       "model_id": "c6dce75d55c34caa9dcb340367b651f6",
       "version_major": 2,
       "version_minor": 0
      },
      "text/plain": [
       "README.md: 0.00B [00:00, ?B/s]"
      ]
     },
     "metadata": {},
     "output_type": "display_data"
    },
    {
     "data": {
      "application/vnd.jupyter.widget-view+json": {
       "model_id": "9833f04b003a463294d360f4960b4f2c",
       "version_major": 2,
       "version_minor": 0
      },
      "text/plain": [
       "optimizer.pt:   0%|          | 0.00/27.9M [00:00<?, ?B/s]"
      ]
     },
     "metadata": {},
     "output_type": "display_data"
    },
    {
     "data": {
      "application/vnd.jupyter.widget-view+json": {
       "model_id": "6e56514b2d1f437a85e01341a63e69bd",
       "version_major": 2,
       "version_minor": 0
      },
      "text/plain": [
       "chat_template.jinja: 0.00B [00:00, ?B/s]"
      ]
     },
     "metadata": {},
     "output_type": "display_data"
    },
    {
     "data": {
      "application/vnd.jupyter.widget-view+json": {
       "model_id": "862b2345aa984f29828050db5354e967",
       "version_major": 2,
       "version_minor": 0
      },
      "text/plain": [
       "rng_state.pth:   0%|          | 0.00/14.2k [00:00<?, ?B/s]"
      ]
     },
     "metadata": {},
     "output_type": "display_data"
    },
    {
     "data": {
      "application/vnd.jupyter.widget-view+json": {
       "model_id": "15e6aabce5eb4f4a96a7788f391cda0c",
       "version_major": 2,
       "version_minor": 0
      },
      "text/plain": [
       "scheduler.pt:   0%|          | 0.00/1.06k [00:00<?, ?B/s]"
      ]
     },
     "metadata": {},
     "output_type": "display_data"
    },
    {
     "data": {
      "application/vnd.jupyter.widget-view+json": {
       "model_id": "cd972143c7df4a44863f56c9e32ecc60",
       "version_major": 2,
       "version_minor": 0
      },
      "text/plain": [
       "tokenizer.json:   0%|          | 0.00/33.4M [00:00<?, ?B/s]"
      ]
     },
     "metadata": {},
     "output_type": "display_data"
    },
    {
     "data": {
      "application/vnd.jupyter.widget-view+json": {
       "model_id": "ee619d9005444e5e92722cb07ae552f0",
       "version_major": 2,
       "version_minor": 0
      },
      "text/plain": [
       "tokenizer.model:   0%|          | 0.00/4.69M [00:00<?, ?B/s]"
      ]
     },
     "metadata": {},
     "output_type": "display_data"
    },
    {
     "data": {
      "application/vnd.jupyter.widget-view+json": {
       "model_id": "1f9d8afdf8474e9ca6de46a13b462acb",
       "version_major": 2,
       "version_minor": 0
      },
      "text/plain": [
       "special_tokens_map.json:   0%|          | 0.00/670 [00:00<?, ?B/s]"
      ]
     },
     "metadata": {},
     "output_type": "display_data"
    },
    {
     "data": {
      "application/vnd.jupyter.widget-view+json": {
       "model_id": "c2538b34f0364d2698796355f01927f9",
       "version_major": 2,
       "version_minor": 0
      },
      "text/plain": [
       "tokenizer_config.json: 0.00B [00:00, ?B/s]"
      ]
     },
     "metadata": {},
     "output_type": "display_data"
    },
    {
     "data": {
      "application/vnd.jupyter.widget-view+json": {
       "model_id": "b4028c4333a346a88261690648fada3a",
       "version_major": 2,
       "version_minor": 0
      },
      "text/plain": [
       "training_args.bin:   0%|          | 0.00/6.52k [00:00<?, ?B/s]"
      ]
     },
     "metadata": {},
     "output_type": "display_data"
    },
    {
     "data": {
      "application/vnd.jupyter.widget-view+json": {
       "model_id": "9f7d6fff7b094a288a7b177b32288dc6",
       "version_major": 2,
       "version_minor": 0
      },
      "text/plain": [
       "trainer_state.json: 0.00B [00:00, ?B/s]"
      ]
     },
     "metadata": {},
     "output_type": "display_data"
    },
    {
     "data": {
      "application/vnd.jupyter.widget-view+json": {
       "model_id": "f783602c7d244a08a72163076ecb6cbe",
       "version_major": 2,
       "version_minor": 0
      },
      "text/plain": [
       "adapter_model.safetensors:   0%|          | 0.00/52.2M [00:00<?, ?B/s]"
      ]
     },
     "metadata": {},
     "output_type": "display_data"
    },
    {
     "data": {
      "application/vnd.jupyter.widget-view+json": {
       "model_id": "80c8d448d3924960929146e12ed8aeae",
       "version_major": 2,
       "version_minor": 0
      },
      "text/plain": [
       "README.md: 0.00B [00:00, ?B/s]"
      ]
     },
     "metadata": {},
     "output_type": "display_data"
    },
    {
     "data": {
      "application/vnd.jupyter.widget-view+json": {
       "model_id": "d091cee8bd9847aab5b810338b1c8584",
       "version_major": 2,
       "version_minor": 0
      },
      "text/plain": [
       "adapter_config.json:   0%|          | 0.00/868 [00:00<?, ?B/s]"
      ]
     },
     "metadata": {},
     "output_type": "display_data"
    },
    {
     "data": {
      "application/vnd.jupyter.widget-view+json": {
       "model_id": "32d68aefa7d043e1b177439e974bc224",
       "version_major": 2,
       "version_minor": 0
      },
      "text/plain": [
       "optimizer.pt:   0%|          | 0.00/27.9M [00:00<?, ?B/s]"
      ]
     },
     "metadata": {},
     "output_type": "display_data"
    },
    {
     "data": {
      "application/vnd.jupyter.widget-view+json": {
       "model_id": "4aeaa1ed5842418f93e9ab236b44419a",
       "version_major": 2,
       "version_minor": 0
      },
      "text/plain": [
       "rng_state.pth:   0%|          | 0.00/14.2k [00:00<?, ?B/s]"
      ]
     },
     "metadata": {},
     "output_type": "display_data"
    },
    {
     "data": {
      "application/vnd.jupyter.widget-view+json": {
       "model_id": "68de9ef32b4c4814a63a520a05ce39ed",
       "version_major": 2,
       "version_minor": 0
      },
      "text/plain": [
       "added_tokens.json:   0%|          | 0.00/35.0 [00:00<?, ?B/s]"
      ]
     },
     "metadata": {},
     "output_type": "display_data"
    },
    {
     "data": {
      "application/vnd.jupyter.widget-view+json": {
       "model_id": "724f6e5ecb63434ca375689a2cab5d0e",
       "version_major": 2,
       "version_minor": 0
      },
      "text/plain": [
       "chat_template.jinja: 0.00B [00:00, ?B/s]"
      ]
     },
     "metadata": {},
     "output_type": "display_data"
    },
    {
     "data": {
      "application/vnd.jupyter.widget-view+json": {
       "model_id": "e69304623da04971981b2fdcf6af676e",
       "version_major": 2,
       "version_minor": 0
      },
      "text/plain": [
       "scheduler.pt:   0%|          | 0.00/1.06k [00:00<?, ?B/s]"
      ]
     },
     "metadata": {},
     "output_type": "display_data"
    },
    {
     "data": {
      "application/vnd.jupyter.widget-view+json": {
       "model_id": "03bcfc46658b4165b755d666d8ba895d",
       "version_major": 2,
       "version_minor": 0
      },
      "text/plain": [
       "tokenizer.json:   0%|          | 0.00/33.4M [00:00<?, ?B/s]"
      ]
     },
     "metadata": {},
     "output_type": "display_data"
    },
    {
     "data": {
      "application/vnd.jupyter.widget-view+json": {
       "model_id": "6c33e6691810447a9c4b61bde78cd92c",
       "version_major": 2,
       "version_minor": 0
      },
      "text/plain": [
       "tokenizer.model:   0%|          | 0.00/4.69M [00:00<?, ?B/s]"
      ]
     },
     "metadata": {},
     "output_type": "display_data"
    },
    {
     "data": {
      "application/vnd.jupyter.widget-view+json": {
       "model_id": "39275fcd4d3041e38dd118f2b98ae664",
       "version_major": 2,
       "version_minor": 0
      },
      "text/plain": [
       "special_tokens_map.json:   0%|          | 0.00/670 [00:00<?, ?B/s]"
      ]
     },
     "metadata": {},
     "output_type": "display_data"
    },
    {
     "data": {
      "application/vnd.jupyter.widget-view+json": {
       "model_id": "8210ccc19dd24d1496c26509b0588f30",
       "version_major": 2,
       "version_minor": 0
      },
      "text/plain": [
       "training_args.bin:   0%|          | 0.00/6.52k [00:00<?, ?B/s]"
      ]
     },
     "metadata": {},
     "output_type": "display_data"
    },
    {
     "data": {
      "application/vnd.jupyter.widget-view+json": {
       "model_id": "349a80d22a4545f0935d5fbe617d5348",
       "version_major": 2,
       "version_minor": 0
      },
      "text/plain": [
       "tokenizer_config.json: 0.00B [00:00, ?B/s]"
      ]
     },
     "metadata": {},
     "output_type": "display_data"
    },
    {
     "data": {
      "application/vnd.jupyter.widget-view+json": {
       "model_id": "3dd1c4a83760455c97224475aee2107e",
       "version_major": 2,
       "version_minor": 0
      },
      "text/plain": [
       "trainer_state.json: 0.00B [00:00, ?B/s]"
      ]
     },
     "metadata": {},
     "output_type": "display_data"
    },
    {
     "data": {
      "application/vnd.jupyter.widget-view+json": {
       "model_id": "60962062979b444abb55b1a695a8cbd8",
       "version_major": 2,
       "version_minor": 0
      },
      "text/plain": [
       "README.md: 0.00B [00:00, ?B/s]"
      ]
     },
     "metadata": {},
     "output_type": "display_data"
    },
    {
     "data": {
      "application/vnd.jupyter.widget-view+json": {
       "model_id": "4ed366574976426e863c906621f8eaf9",
       "version_major": 2,
       "version_minor": 0
      },
      "text/plain": [
       "adapter_model.safetensors:   0%|          | 0.00/52.2M [00:00<?, ?B/s]"
      ]
     },
     "metadata": {},
     "output_type": "display_data"
    },
    {
     "data": {
      "application/vnd.jupyter.widget-view+json": {
       "model_id": "fd338b1281354f679fef58b85bcd8f89",
       "version_major": 2,
       "version_minor": 0
      },
      "text/plain": [
       "added_tokens.json:   0%|          | 0.00/35.0 [00:00<?, ?B/s]"
      ]
     },
     "metadata": {},
     "output_type": "display_data"
    },
    {
     "data": {
      "application/vnd.jupyter.widget-view+json": {
       "model_id": "6f94a8c22619402f9b772523a2f33aa0",
       "version_major": 2,
       "version_minor": 0
      },
      "text/plain": [
       "adapter_config.json:   0%|          | 0.00/868 [00:00<?, ?B/s]"
      ]
     },
     "metadata": {},
     "output_type": "display_data"
    },
    {
     "data": {
      "application/vnd.jupyter.widget-view+json": {
       "model_id": "67b35ea6cf1f4208bc19abf79bcea1f1",
       "version_major": 2,
       "version_minor": 0
      },
      "text/plain": [
       "chat_template.jinja: 0.00B [00:00, ?B/s]"
      ]
     },
     "metadata": {},
     "output_type": "display_data"
    },
    {
     "data": {
      "application/vnd.jupyter.widget-view+json": {
       "model_id": "30f190573005490bbe3d8bdec6826e4b",
       "version_major": 2,
       "version_minor": 0
      },
      "text/plain": [
       "optimizer.pt:   0%|          | 0.00/27.9M [00:00<?, ?B/s]"
      ]
     },
     "metadata": {},
     "output_type": "display_data"
    },
    {
     "data": {
      "application/vnd.jupyter.widget-view+json": {
       "model_id": "0323fa796afb40289075f17be086442b",
       "version_major": 2,
       "version_minor": 0
      },
      "text/plain": [
       "scheduler.pt:   0%|          | 0.00/1.06k [00:00<?, ?B/s]"
      ]
     },
     "metadata": {},
     "output_type": "display_data"
    },
    {
     "data": {
      "application/vnd.jupyter.widget-view+json": {
       "model_id": "4bc321e41fdb4a0d870f713f328a6822",
       "version_major": 2,
       "version_minor": 0
      },
      "text/plain": [
       "tokenizer.json:   0%|          | 0.00/33.4M [00:00<?, ?B/s]"
      ]
     },
     "metadata": {},
     "output_type": "display_data"
    },
    {
     "data": {
      "application/vnd.jupyter.widget-view+json": {
       "model_id": "017a8512790b4835ac377c3b5e19cbb2",
       "version_major": 2,
       "version_minor": 0
      },
      "text/plain": [
       "rng_state.pth:   0%|          | 0.00/14.2k [00:00<?, ?B/s]"
      ]
     },
     "metadata": {},
     "output_type": "display_data"
    },
    {
     "data": {
      "application/vnd.jupyter.widget-view+json": {
       "model_id": "d58debba018c4c5bb43c9767bfc316af",
       "version_major": 2,
       "version_minor": 0
      },
      "text/plain": [
       "special_tokens_map.json:   0%|          | 0.00/670 [00:00<?, ?B/s]"
      ]
     },
     "metadata": {},
     "output_type": "display_data"
    },
    {
     "data": {
      "application/vnd.jupyter.widget-view+json": {
       "model_id": "e7bc732e106a40f490f7c5a6c0e94457",
       "version_major": 2,
       "version_minor": 0
      },
      "text/plain": [
       "tokenizer.model:   0%|          | 0.00/4.69M [00:00<?, ?B/s]"
      ]
     },
     "metadata": {},
     "output_type": "display_data"
    },
    {
     "data": {
      "application/vnd.jupyter.widget-view+json": {
       "model_id": "a304b98d4da6486d983c2bc2daa9c211",
       "version_major": 2,
       "version_minor": 0
      },
      "text/plain": [
       "tokenizer_config.json: 0.00B [00:00, ?B/s]"
      ]
     },
     "metadata": {},
     "output_type": "display_data"
    },
    {
     "data": {
      "application/vnd.jupyter.widget-view+json": {
       "model_id": "673f1f055c494d8f8bc195d85ae84138",
       "version_major": 2,
       "version_minor": 0
      },
      "text/plain": [
       "trainer_state.json: 0.00B [00:00, ?B/s]"
      ]
     },
     "metadata": {},
     "output_type": "display_data"
    },
    {
     "data": {
      "application/vnd.jupyter.widget-view+json": {
       "model_id": "077726f304dc408a9042e115f451f64e",
       "version_major": 2,
       "version_minor": 0
      },
      "text/plain": [
       "training_args.bin:   0%|          | 0.00/6.52k [00:00<?, ?B/s]"
      ]
     },
     "metadata": {},
     "output_type": "display_data"
    },
    {
     "data": {
      "application/vnd.jupyter.widget-view+json": {
       "model_id": "eccc8e48b1c04820a95e456d2c017eae",
       "version_major": 2,
       "version_minor": 0
      },
      "text/plain": [
       "README.md: 0.00B [00:00, ?B/s]"
      ]
     },
     "metadata": {},
     "output_type": "display_data"
    },
    {
     "data": {
      "application/vnd.jupyter.widget-view+json": {
       "model_id": "7a47c243af974c16a352267bdf989d23",
       "version_major": 2,
       "version_minor": 0
      },
      "text/plain": [
       "adapter_config.json:   0%|          | 0.00/868 [00:00<?, ?B/s]"
      ]
     },
     "metadata": {},
     "output_type": "display_data"
    },
    {
     "data": {
      "application/vnd.jupyter.widget-view+json": {
       "model_id": "e7ed59ebb43b405985b9e39836e9c0fd",
       "version_major": 2,
       "version_minor": 0
      },
      "text/plain": [
       "adapter_model.safetensors:   0%|          | 0.00/52.2M [00:00<?, ?B/s]"
      ]
     },
     "metadata": {},
     "output_type": "display_data"
    },
    {
     "data": {
      "application/vnd.jupyter.widget-view+json": {
       "model_id": "4864487ad4eb417e8fdd20911d31eef2",
       "version_major": 2,
       "version_minor": 0
      },
      "text/plain": [
       "optimizer.pt:   0%|          | 0.00/27.9M [00:00<?, ?B/s]"
      ]
     },
     "metadata": {},
     "output_type": "display_data"
    },
    {
     "data": {
      "application/vnd.jupyter.widget-view+json": {
       "model_id": "b519719090294530a178f29fdf377d73",
       "version_major": 2,
       "version_minor": 0
      },
      "text/plain": [
       "added_tokens.json:   0%|          | 0.00/35.0 [00:00<?, ?B/s]"
      ]
     },
     "metadata": {},
     "output_type": "display_data"
    },
    {
     "data": {
      "application/vnd.jupyter.widget-view+json": {
       "model_id": "4fb89cdbd7674b22a820ad7bf1bd1db9",
       "version_major": 2,
       "version_minor": 0
      },
      "text/plain": [
       "rng_state.pth:   0%|          | 0.00/14.2k [00:00<?, ?B/s]"
      ]
     },
     "metadata": {},
     "output_type": "display_data"
    },
    {
     "data": {
      "application/vnd.jupyter.widget-view+json": {
       "model_id": "aaf32b1257524f37aaa79251911f8b70",
       "version_major": 2,
       "version_minor": 0
      },
      "text/plain": [
       "chat_template.jinja: 0.00B [00:00, ?B/s]"
      ]
     },
     "metadata": {},
     "output_type": "display_data"
    },
    {
     "data": {
      "application/vnd.jupyter.widget-view+json": {
       "model_id": "7d2036dce54346959452de805a107d38",
       "version_major": 2,
       "version_minor": 0
      },
      "text/plain": [
       "scheduler.pt:   0%|          | 0.00/1.06k [00:00<?, ?B/s]"
      ]
     },
     "metadata": {},
     "output_type": "display_data"
    },
    {
     "data": {
      "application/vnd.jupyter.widget-view+json": {
       "model_id": "5d941ec2e6e042bebe8a9a3db6c7be48",
       "version_major": 2,
       "version_minor": 0
      },
      "text/plain": [
       "tokenizer.model:   0%|          | 0.00/4.69M [00:00<?, ?B/s]"
      ]
     },
     "metadata": {},
     "output_type": "display_data"
    },
    {
     "data": {
      "application/vnd.jupyter.widget-view+json": {
       "model_id": "2d3ef793c4e44916bc0b692ab9f01df2",
       "version_major": 2,
       "version_minor": 0
      },
      "text/plain": [
       "tokenizer.json:   0%|          | 0.00/33.4M [00:00<?, ?B/s]"
      ]
     },
     "metadata": {},
     "output_type": "display_data"
    },
    {
     "data": {
      "application/vnd.jupyter.widget-view+json": {
       "model_id": "18436c0ae7734dc3aa699f7df4fde1b6",
       "version_major": 2,
       "version_minor": 0
      },
      "text/plain": [
       "tokenizer_config.json: 0.00B [00:00, ?B/s]"
      ]
     },
     "metadata": {},
     "output_type": "display_data"
    },
    {
     "data": {
      "application/vnd.jupyter.widget-view+json": {
       "model_id": "de5d15df43f2432793377707f84ed8b9",
       "version_major": 2,
       "version_minor": 0
      },
      "text/plain": [
       "special_tokens_map.json:   0%|          | 0.00/670 [00:00<?, ?B/s]"
      ]
     },
     "metadata": {},
     "output_type": "display_data"
    },
    {
     "data": {
      "application/vnd.jupyter.widget-view+json": {
       "model_id": "d30d9ef25c3348aca14358f4528d1037",
       "version_major": 2,
       "version_minor": 0
      },
      "text/plain": [
       "trainer_state.json: 0.00B [00:00, ?B/s]"
      ]
     },
     "metadata": {},
     "output_type": "display_data"
    },
    {
     "data": {
      "application/vnd.jupyter.widget-view+json": {
       "model_id": "bb8218bf65234c6a87a35fa7c1295370",
       "version_major": 2,
       "version_minor": 0
      },
      "text/plain": [
       "training_args.bin:   0%|          | 0.00/6.52k [00:00<?, ?B/s]"
      ]
     },
     "metadata": {},
     "output_type": "display_data"
    },
    {
     "data": {
      "application/vnd.jupyter.widget-view+json": {
       "model_id": "c98aa779b1f24e55b22e1a950769ddbe",
       "version_major": 2,
       "version_minor": 0
      },
      "text/plain": [
       "README.md: 0.00B [00:00, ?B/s]"
      ]
     },
     "metadata": {},
     "output_type": "display_data"
    },
    {
     "data": {
      "application/vnd.jupyter.widget-view+json": {
       "model_id": "f37d68ce876d419082d21ccf506ae33c",
       "version_major": 2,
       "version_minor": 0
      },
      "text/plain": [
       "adapter_model.safetensors:   0%|          | 0.00/52.2M [00:00<?, ?B/s]"
      ]
     },
     "metadata": {},
     "output_type": "display_data"
    },
    {
     "data": {
      "application/vnd.jupyter.widget-view+json": {
       "model_id": "ad73ae19405c49458f45806e981112c2",
       "version_major": 2,
       "version_minor": 0
      },
      "text/plain": [
       "optimizer.pt:   0%|          | 0.00/27.9M [00:00<?, ?B/s]"
      ]
     },
     "metadata": {},
     "output_type": "display_data"
    },
    {
     "data": {
      "application/vnd.jupyter.widget-view+json": {
       "model_id": "29f32f0a6da947d988461203cbe5361b",
       "version_major": 2,
       "version_minor": 0
      },
      "text/plain": [
       "rng_state.pth:   0%|          | 0.00/14.2k [00:00<?, ?B/s]"
      ]
     },
     "metadata": {},
     "output_type": "display_data"
    },
    {
     "data": {
      "application/vnd.jupyter.widget-view+json": {
       "model_id": "f2e9046f7b45468a9b687954cdb2dc84",
       "version_major": 2,
       "version_minor": 0
      },
      "text/plain": [
       "adapter_config.json:   0%|          | 0.00/868 [00:00<?, ?B/s]"
      ]
     },
     "metadata": {},
     "output_type": "display_data"
    },
    {
     "data": {
      "application/vnd.jupyter.widget-view+json": {
       "model_id": "1b1b6fbbd0914bd6a47ca98f63bac5fc",
       "version_major": 2,
       "version_minor": 0
      },
      "text/plain": [
       "chat_template.jinja: 0.00B [00:00, ?B/s]"
      ]
     },
     "metadata": {},
     "output_type": "display_data"
    },
    {
     "data": {
      "application/vnd.jupyter.widget-view+json": {
       "model_id": "604f4b565b194329aaaf44b824f1f743",
       "version_major": 2,
       "version_minor": 0
      },
      "text/plain": [
       "scheduler.pt:   0%|          | 0.00/1.06k [00:00<?, ?B/s]"
      ]
     },
     "metadata": {},
     "output_type": "display_data"
    },
    {
     "data": {
      "application/vnd.jupyter.widget-view+json": {
       "model_id": "edc91f69f0c34fb7b4007b9a66fdea49",
       "version_major": 2,
       "version_minor": 0
      },
      "text/plain": [
       "tokenizer.model:   0%|          | 0.00/4.69M [00:00<?, ?B/s]"
      ]
     },
     "metadata": {},
     "output_type": "display_data"
    },
    {
     "data": {
      "application/vnd.jupyter.widget-view+json": {
       "model_id": "51a2abd5d74240c38938e4f1579e913f",
       "version_major": 2,
       "version_minor": 0
      },
      "text/plain": [
       "tokenizer.json:   0%|          | 0.00/33.4M [00:00<?, ?B/s]"
      ]
     },
     "metadata": {},
     "output_type": "display_data"
    },
    {
     "data": {
      "application/vnd.jupyter.widget-view+json": {
       "model_id": "e3213ee5ae774936b41406f2fc20b5a6",
       "version_major": 2,
       "version_minor": 0
      },
      "text/plain": [
       "special_tokens_map.json:   0%|          | 0.00/670 [00:00<?, ?B/s]"
      ]
     },
     "metadata": {},
     "output_type": "display_data"
    },
    {
     "data": {
      "application/vnd.jupyter.widget-view+json": {
       "model_id": "ddd796cb3c24430395eba2304742e125",
       "version_major": 2,
       "version_minor": 0
      },
      "text/plain": [
       "tokenizer_config.json: 0.00B [00:00, ?B/s]"
      ]
     },
     "metadata": {},
     "output_type": "display_data"
    },
    {
     "data": {
      "application/vnd.jupyter.widget-view+json": {
       "model_id": "5c78179b51764bf59c80b466b760ee5b",
       "version_major": 2,
       "version_minor": 0
      },
      "text/plain": [
       "training_args.bin:   0%|          | 0.00/6.52k [00:00<?, ?B/s]"
      ]
     },
     "metadata": {},
     "output_type": "display_data"
    },
    {
     "data": {
      "application/vnd.jupyter.widget-view+json": {
       "model_id": "042bd4991f6b4a20b3179c24e8e58fb8",
       "version_major": 2,
       "version_minor": 0
      },
      "text/plain": [
       "trainer_state.json: 0.00B [00:00, ?B/s]"
      ]
     },
     "metadata": {},
     "output_type": "display_data"
    },
    {
     "data": {
      "application/vnd.jupyter.widget-view+json": {
       "model_id": "0cb4650d5db0438c869d1fd9519bc7b9",
       "version_major": 2,
       "version_minor": 0
      },
      "text/plain": [
       "README.md: 0.00B [00:00, ?B/s]"
      ]
     },
     "metadata": {},
     "output_type": "display_data"
    },
    {
     "data": {
      "application/vnd.jupyter.widget-view+json": {
       "model_id": "4830709de6724fdb926f1d7900002a65",
       "version_major": 2,
       "version_minor": 0
      },
      "text/plain": [
       "adapter_config.json:   0%|          | 0.00/868 [00:00<?, ?B/s]"
      ]
     },
     "metadata": {},
     "output_type": "display_data"
    },
    {
     "data": {
      "application/vnd.jupyter.widget-view+json": {
       "model_id": "6f61c3393b4c417a94fc47849652d1f4",
       "version_major": 2,
       "version_minor": 0
      },
      "text/plain": [
       "adapter_model.safetensors:   0%|          | 0.00/52.2M [00:00<?, ?B/s]"
      ]
     },
     "metadata": {},
     "output_type": "display_data"
    },
    {
     "data": {
      "application/vnd.jupyter.widget-view+json": {
       "model_id": "43dfde2c1ccb47bea630769d8797b3f3",
       "version_major": 2,
       "version_minor": 0
      },
      "text/plain": [
       "added_tokens.json:   0%|          | 0.00/35.0 [00:00<?, ?B/s]"
      ]
     },
     "metadata": {},
     "output_type": "display_data"
    },
    {
     "data": {
      "application/vnd.jupyter.widget-view+json": {
       "model_id": "972856d65bba43fab91d9b94e5e249b2",
       "version_major": 2,
       "version_minor": 0
      },
      "text/plain": [
       "rng_state.pth:   0%|          | 0.00/14.2k [00:00<?, ?B/s]"
      ]
     },
     "metadata": {},
     "output_type": "display_data"
    },
    {
     "data": {
      "application/vnd.jupyter.widget-view+json": {
       "model_id": "9062366e02614e6e9dd4b434d775a523",
       "version_major": 2,
       "version_minor": 0
      },
      "text/plain": [
       "chat_template.jinja: 0.00B [00:00, ?B/s]"
      ]
     },
     "metadata": {},
     "output_type": "display_data"
    },
    {
     "data": {
      "application/vnd.jupyter.widget-view+json": {
       "model_id": "d45d0f3bfee143bbb38781fa141ca6e4",
       "version_major": 2,
       "version_minor": 0
      },
      "text/plain": [
       "tokenizer.json:   0%|          | 0.00/33.4M [00:00<?, ?B/s]"
      ]
     },
     "metadata": {},
     "output_type": "display_data"
    },
    {
     "data": {
      "application/vnd.jupyter.widget-view+json": {
       "model_id": "34f7808680bd4040b30dc9ae10efe196",
       "version_major": 2,
       "version_minor": 0
      },
      "text/plain": [
       "scheduler.pt:   0%|          | 0.00/1.06k [00:00<?, ?B/s]"
      ]
     },
     "metadata": {},
     "output_type": "display_data"
    },
    {
     "data": {
      "application/vnd.jupyter.widget-view+json": {
       "model_id": "b8871e670e9d46b9bb72f6c2c4b560c5",
       "version_major": 2,
       "version_minor": 0
      },
      "text/plain": [
       "tokenizer.model:   0%|          | 0.00/4.69M [00:00<?, ?B/s]"
      ]
     },
     "metadata": {},
     "output_type": "display_data"
    },
    {
     "data": {
      "application/vnd.jupyter.widget-view+json": {
       "model_id": "52c3e523dd574000a8904f071f8d6fa7",
       "version_major": 2,
       "version_minor": 0
      },
      "text/plain": [
       "special_tokens_map.json:   0%|          | 0.00/670 [00:00<?, ?B/s]"
      ]
     },
     "metadata": {},
     "output_type": "display_data"
    },
    {
     "data": {
      "application/vnd.jupyter.widget-view+json": {
       "model_id": "b4a58490c2eb4bef8c72181032c800f6",
       "version_major": 2,
       "version_minor": 0
      },
      "text/plain": [
       "optimizer.pt:   0%|          | 0.00/26.9M [00:00<?, ?B/s]"
      ]
     },
     "metadata": {},
     "output_type": "display_data"
    },
    {
     "data": {
      "application/vnd.jupyter.widget-view+json": {
       "model_id": "340d976248b040f7b096794bfd4d5365",
       "version_major": 2,
       "version_minor": 0
      },
      "text/plain": [
       "tokenizer_config.json: 0.00B [00:00, ?B/s]"
      ]
     },
     "metadata": {},
     "output_type": "display_data"
    },
    {
     "data": {
      "application/vnd.jupyter.widget-view+json": {
       "model_id": "6102242830e34408aa89ec5544fa764d",
       "version_major": 2,
       "version_minor": 0
      },
      "text/plain": [
       "added_tokens.json:   0%|          | 0.00/35.0 [00:00<?, ?B/s]"
      ]
     },
     "metadata": {},
     "output_type": "display_data"
    },
    {
     "data": {
      "application/vnd.jupyter.widget-view+json": {
       "model_id": "ca171ad7ad904532ad034a84a4931909",
       "version_major": 2,
       "version_minor": 0
      },
      "text/plain": [
       "training_args.bin:   0%|          | 0.00/6.52k [00:00<?, ?B/s]"
      ]
     },
     "metadata": {},
     "output_type": "display_data"
    },
    {
     "data": {
      "application/vnd.jupyter.widget-view+json": {
       "model_id": "ba803df736224e8094a778ec40ae6790",
       "version_major": 2,
       "version_minor": 0
      },
      "text/plain": [
       "trainer_state.json: 0.00B [00:00, ?B/s]"
      ]
     },
     "metadata": {},
     "output_type": "display_data"
    },
    {
     "data": {
      "application/vnd.jupyter.widget-view+json": {
       "model_id": "b8533d085b8c48f7936db553fcaee390",
       "version_major": 2,
       "version_minor": 0
      },
      "text/plain": [
       "README.md: 0.00B [00:00, ?B/s]"
      ]
     },
     "metadata": {},
     "output_type": "display_data"
    },
    {
     "data": {
      "application/vnd.jupyter.widget-view+json": {
       "model_id": "b35eab598cbc48bf89f4a95f832d8c20",
       "version_major": 2,
       "version_minor": 0
      },
      "text/plain": [
       "adapter_model.safetensors:   0%|          | 0.00/52.2M [00:00<?, ?B/s]"
      ]
     },
     "metadata": {},
     "output_type": "display_data"
    },
    {
     "data": {
      "application/vnd.jupyter.widget-view+json": {
       "model_id": "43174995482b461399766ead79fc5329",
       "version_major": 2,
       "version_minor": 0
      },
      "text/plain": [
       "adapter_config.json:   0%|          | 0.00/868 [00:00<?, ?B/s]"
      ]
     },
     "metadata": {},
     "output_type": "display_data"
    },
    {
     "data": {
      "application/vnd.jupyter.widget-view+json": {
       "model_id": "fc1f2a542aab471b91016f12396008f9",
       "version_major": 2,
       "version_minor": 0
      },
      "text/plain": [
       "chat_template.jinja: 0.00B [00:00, ?B/s]"
      ]
     },
     "metadata": {},
     "output_type": "display_data"
    },
    {
     "data": {
      "application/vnd.jupyter.widget-view+json": {
       "model_id": "cc6ea8e6d3d844d5a6e28e4411c99e8a",
       "version_major": 2,
       "version_minor": 0
      },
      "text/plain": [
       "optimizer.pt:   0%|          | 0.00/27.9M [00:00<?, ?B/s]"
      ]
     },
     "metadata": {},
     "output_type": "display_data"
    },
    {
     "data": {
      "application/vnd.jupyter.widget-view+json": {
       "model_id": "379cf2db42ae4029b7699aeee2f7a17c",
       "version_major": 2,
       "version_minor": 0
      },
      "text/plain": [
       "added_tokens.json:   0%|          | 0.00/35.0 [00:00<?, ?B/s]"
      ]
     },
     "metadata": {},
     "output_type": "display_data"
    },
    {
     "data": {
      "application/vnd.jupyter.widget-view+json": {
       "model_id": "6fa33e5cd4e947458ce0ad918b682307",
       "version_major": 2,
       "version_minor": 0
      },
      "text/plain": [
       "rng_state.pth:   0%|          | 0.00/14.2k [00:00<?, ?B/s]"
      ]
     },
     "metadata": {},
     "output_type": "display_data"
    },
    {
     "data": {
      "application/vnd.jupyter.widget-view+json": {
       "model_id": "8592110b800a4676926e1ccb4912ac2d",
       "version_major": 2,
       "version_minor": 0
      },
      "text/plain": [
       "scheduler.pt:   0%|          | 0.00/1.06k [00:00<?, ?B/s]"
      ]
     },
     "metadata": {},
     "output_type": "display_data"
    },
    {
     "data": {
      "application/vnd.jupyter.widget-view+json": {
       "model_id": "03a99db2e1ab4b9392597e838bfe9203",
       "version_major": 2,
       "version_minor": 0
      },
      "text/plain": [
       "tokenizer.json:   0%|          | 0.00/33.4M [00:00<?, ?B/s]"
      ]
     },
     "metadata": {},
     "output_type": "display_data"
    },
    {
     "data": {
      "application/vnd.jupyter.widget-view+json": {
       "model_id": "367df797b58e4ff5993a46e280cde401",
       "version_major": 2,
       "version_minor": 0
      },
      "text/plain": [
       "special_tokens_map.json:   0%|          | 0.00/670 [00:00<?, ?B/s]"
      ]
     },
     "metadata": {},
     "output_type": "display_data"
    },
    {
     "data": {
      "application/vnd.jupyter.widget-view+json": {
       "model_id": "fa5c86ee824d4ca9a059efcc007bbe3a",
       "version_major": 2,
       "version_minor": 0
      },
      "text/plain": [
       "tokenizer.model:   0%|          | 0.00/4.69M [00:00<?, ?B/s]"
      ]
     },
     "metadata": {},
     "output_type": "display_data"
    },
    {
     "data": {
      "application/vnd.jupyter.widget-view+json": {
       "model_id": "8bcd0183fb5a41d8af95930d46c450a8",
       "version_major": 2,
       "version_minor": 0
      },
      "text/plain": [
       "training_args.bin:   0%|          | 0.00/6.52k [00:00<?, ?B/s]"
      ]
     },
     "metadata": {},
     "output_type": "display_data"
    },
    {
     "data": {
      "application/vnd.jupyter.widget-view+json": {
       "model_id": "a18a30be6f4f452faabc3917f868034e",
       "version_major": 2,
       "version_minor": 0
      },
      "text/plain": [
       "trainer_state.json: 0.00B [00:00, ?B/s]"
      ]
     },
     "metadata": {},
     "output_type": "display_data"
    },
    {
     "data": {
      "application/vnd.jupyter.widget-view+json": {
       "model_id": "8d5928c33d1a45c8b26b68a009ba1b1c",
       "version_major": 2,
       "version_minor": 0
      },
      "text/plain": [
       "tokenizer_config.json: 0.00B [00:00, ?B/s]"
      ]
     },
     "metadata": {},
     "output_type": "display_data"
    },
    {
     "data": {
      "application/vnd.jupyter.widget-view+json": {
       "model_id": "74d599cd81c14530a695d6a8d99779b7",
       "version_major": 2,
       "version_minor": 0
      },
      "text/plain": [
       "README.md: 0.00B [00:00, ?B/s]"
      ]
     },
     "metadata": {},
     "output_type": "display_data"
    },
    {
     "data": {
      "application/vnd.jupyter.widget-view+json": {
       "model_id": "006508984e9f4cea813dfda2ef9eec65",
       "version_major": 2,
       "version_minor": 0
      },
      "text/plain": [
       "adapter_model.safetensors:   0%|          | 0.00/52.2M [00:00<?, ?B/s]"
      ]
     },
     "metadata": {},
     "output_type": "display_data"
    },
    {
     "data": {
      "application/vnd.jupyter.widget-view+json": {
       "model_id": "8308022599164482838c321133ac995b",
       "version_major": 2,
       "version_minor": 0
      },
      "text/plain": [
       "adapter_config.json:   0%|          | 0.00/868 [00:00<?, ?B/s]"
      ]
     },
     "metadata": {},
     "output_type": "display_data"
    },
    {
     "data": {
      "application/vnd.jupyter.widget-view+json": {
       "model_id": "2721a8dfb0894b0aaa931fc8a33b955e",
       "version_major": 2,
       "version_minor": 0
      },
      "text/plain": [
       "optimizer.pt:   0%|          | 0.00/27.9M [00:00<?, ?B/s]"
      ]
     },
     "metadata": {},
     "output_type": "display_data"
    },
    {
     "data": {
      "application/vnd.jupyter.widget-view+json": {
       "model_id": "dbedb87a7c5546638c90ead61b5ef8bd",
       "version_major": 2,
       "version_minor": 0
      },
      "text/plain": [
       "added_tokens.json:   0%|          | 0.00/35.0 [00:00<?, ?B/s]"
      ]
     },
     "metadata": {},
     "output_type": "display_data"
    },
    {
     "data": {
      "application/vnd.jupyter.widget-view+json": {
       "model_id": "3776cf468dd4417cbe213486c280fc9d",
       "version_major": 2,
       "version_minor": 0
      },
      "text/plain": [
       "chat_template.jinja: 0.00B [00:00, ?B/s]"
      ]
     },
     "metadata": {},
     "output_type": "display_data"
    },
    {
     "data": {
      "application/vnd.jupyter.widget-view+json": {
       "model_id": "ecc98408c88749e0a80040e9f27bc940",
       "version_major": 2,
       "version_minor": 0
      },
      "text/plain": [
       "rng_state.pth:   0%|          | 0.00/14.2k [00:00<?, ?B/s]"
      ]
     },
     "metadata": {},
     "output_type": "display_data"
    },
    {
     "data": {
      "application/vnd.jupyter.widget-view+json": {
       "model_id": "0d15620e8c194c1289f76f42e968cd2d",
       "version_major": 2,
       "version_minor": 0
      },
      "text/plain": [
       "scheduler.pt:   0%|          | 0.00/1.06k [00:00<?, ?B/s]"
      ]
     },
     "metadata": {},
     "output_type": "display_data"
    },
    {
     "data": {
      "application/vnd.jupyter.widget-view+json": {
       "model_id": "1adb92a0970044eca974902263ec9d2d",
       "version_major": 2,
       "version_minor": 0
      },
      "text/plain": [
       "tokenizer.json:   0%|          | 0.00/33.4M [00:00<?, ?B/s]"
      ]
     },
     "metadata": {},
     "output_type": "display_data"
    },
    {
     "data": {
      "application/vnd.jupyter.widget-view+json": {
       "model_id": "a1e6d11b259e4af9b56095452b845bde",
       "version_major": 2,
       "version_minor": 0
      },
      "text/plain": [
       "tokenizer.model:   0%|          | 0.00/4.69M [00:00<?, ?B/s]"
      ]
     },
     "metadata": {},
     "output_type": "display_data"
    },
    {
     "data": {
      "application/vnd.jupyter.widget-view+json": {
       "model_id": "66f993ee48e94157ad12cebc23322e87",
       "version_major": 2,
       "version_minor": 0
      },
      "text/plain": [
       "special_tokens_map.json:   0%|          | 0.00/670 [00:00<?, ?B/s]"
      ]
     },
     "metadata": {},
     "output_type": "display_data"
    },
    {
     "data": {
      "application/vnd.jupyter.widget-view+json": {
       "model_id": "a7be67419fd64fd5ba2d19aaeafe3c1c",
       "version_major": 2,
       "version_minor": 0
      },
      "text/plain": [
       "training_args.bin:   0%|          | 0.00/6.52k [00:00<?, ?B/s]"
      ]
     },
     "metadata": {},
     "output_type": "display_data"
    },
    {
     "data": {
      "application/vnd.jupyter.widget-view+json": {
       "model_id": "e2cb17207dec42a3a7b3334eabe631c1",
       "version_major": 2,
       "version_minor": 0
      },
      "text/plain": [
       "trainer_state.json: 0.00B [00:00, ?B/s]"
      ]
     },
     "metadata": {},
     "output_type": "display_data"
    },
    {
     "data": {
      "application/vnd.jupyter.widget-view+json": {
       "model_id": "af48decb26ac4caf9b8e098bdcaa08e3",
       "version_major": 2,
       "version_minor": 0
      },
      "text/plain": [
       "adapter_model.safetensors:   0%|          | 0.00/52.2M [00:00<?, ?B/s]"
      ]
     },
     "metadata": {},
     "output_type": "display_data"
    },
    {
     "data": {
      "application/vnd.jupyter.widget-view+json": {
       "model_id": "f4193fb648bd4ce6a452e92a9726560b",
       "version_major": 2,
       "version_minor": 0
      },
      "text/plain": [
       "README.md: 0.00B [00:00, ?B/s]"
      ]
     },
     "metadata": {},
     "output_type": "display_data"
    },
    {
     "data": {
      "application/vnd.jupyter.widget-view+json": {
       "model_id": "627acedd756042cbb6b1f852fc618da8",
       "version_major": 2,
       "version_minor": 0
      },
      "text/plain": [
       "tokenizer_config.json: 0.00B [00:00, ?B/s]"
      ]
     },
     "metadata": {},
     "output_type": "display_data"
    },
    {
     "data": {
      "application/vnd.jupyter.widget-view+json": {
       "model_id": "83b8ce44c12541beab68bd69b963a792",
       "version_major": 2,
       "version_minor": 0
      },
      "text/plain": [
       "adapter_config.json:   0%|          | 0.00/868 [00:00<?, ?B/s]"
      ]
     },
     "metadata": {},
     "output_type": "display_data"
    },
    {
     "data": {
      "application/vnd.jupyter.widget-view+json": {
       "model_id": "a4d1ac90ed644bb5a6ab177330824060",
       "version_major": 2,
       "version_minor": 0
      },
      "text/plain": [
       "optimizer.pt:   0%|          | 0.00/27.9M [00:00<?, ?B/s]"
      ]
     },
     "metadata": {},
     "output_type": "display_data"
    },
    {
     "data": {
      "application/vnd.jupyter.widget-view+json": {
       "model_id": "4a00471a52244527b3b17f49fbf23cde",
       "version_major": 2,
       "version_minor": 0
      },
      "text/plain": [
       "added_tokens.json:   0%|          | 0.00/35.0 [00:00<?, ?B/s]"
      ]
     },
     "metadata": {},
     "output_type": "display_data"
    },
    {
     "data": {
      "application/vnd.jupyter.widget-view+json": {
       "model_id": "17be7c122cb642529b33f019c2221bf1",
       "version_major": 2,
       "version_minor": 0
      },
      "text/plain": [
       "rng_state.pth:   0%|          | 0.00/14.2k [00:00<?, ?B/s]"
      ]
     },
     "metadata": {},
     "output_type": "display_data"
    },
    {
     "data": {
      "application/vnd.jupyter.widget-view+json": {
       "model_id": "946efd1ac88746bfba88eef7bf8b05d1",
       "version_major": 2,
       "version_minor": 0
      },
      "text/plain": [
       "scheduler.pt:   0%|          | 0.00/1.06k [00:00<?, ?B/s]"
      ]
     },
     "metadata": {},
     "output_type": "display_data"
    },
    {
     "data": {
      "application/vnd.jupyter.widget-view+json": {
       "model_id": "f680803e42974fcb9edafeaa320a8df2",
       "version_major": 2,
       "version_minor": 0
      },
      "text/plain": [
       "tokenizer.json:   0%|          | 0.00/33.4M [00:00<?, ?B/s]"
      ]
     },
     "metadata": {},
     "output_type": "display_data"
    },
    {
     "data": {
      "application/vnd.jupyter.widget-view+json": {
       "model_id": "1e43870b1e4946ddb12321ef53c89789",
       "version_major": 2,
       "version_minor": 0
      },
      "text/plain": [
       "special_tokens_map.json:   0%|          | 0.00/670 [00:00<?, ?B/s]"
      ]
     },
     "metadata": {},
     "output_type": "display_data"
    },
    {
     "data": {
      "application/vnd.jupyter.widget-view+json": {
       "model_id": "5dc7875b09be4f8ea6ab737d787dee03",
       "version_major": 2,
       "version_minor": 0
      },
      "text/plain": [
       "tokenizer.model:   0%|          | 0.00/4.69M [00:00<?, ?B/s]"
      ]
     },
     "metadata": {},
     "output_type": "display_data"
    },
    {
     "data": {
      "application/vnd.jupyter.widget-view+json": {
       "model_id": "481cadb612f2429fa97b0c48c28bd14e",
       "version_major": 2,
       "version_minor": 0
      },
      "text/plain": [
       "chat_template.jinja: 0.00B [00:00, ?B/s]"
      ]
     },
     "metadata": {},
     "output_type": "display_data"
    },
    {
     "data": {
      "application/vnd.jupyter.widget-view+json": {
       "model_id": "7f5bdb324b9349febab2cc080e82c1ed",
       "version_major": 2,
       "version_minor": 0
      },
      "text/plain": [
       "tokenizer_config.json: 0.00B [00:00, ?B/s]"
      ]
     },
     "metadata": {},
     "output_type": "display_data"
    },
    {
     "data": {
      "application/vnd.jupyter.widget-view+json": {
       "model_id": "b45f012e99544738a84bdc4c539e33b7",
       "version_major": 2,
       "version_minor": 0
      },
      "text/plain": [
       "training_args.bin:   0%|          | 0.00/6.52k [00:00<?, ?B/s]"
      ]
     },
     "metadata": {},
     "output_type": "display_data"
    },
    {
     "data": {
      "application/vnd.jupyter.widget-view+json": {
       "model_id": "736fa7fa02a248a78c238e50fdab4853",
       "version_major": 2,
       "version_minor": 0
      },
      "text/plain": [
       "trainer_state.json: 0.00B [00:00, ?B/s]"
      ]
     },
     "metadata": {},
     "output_type": "display_data"
    },
    {
     "data": {
      "application/vnd.jupyter.widget-view+json": {
       "model_id": "c6abc9104cf242b69f29f76dc57e2e81",
       "version_major": 2,
       "version_minor": 0
      },
      "text/plain": [
       "adapter_model.safetensors:   0%|          | 0.00/52.2M [00:00<?, ?B/s]"
      ]
     },
     "metadata": {},
     "output_type": "display_data"
    },
    {
     "data": {
      "application/vnd.jupyter.widget-view+json": {
       "model_id": "0c8e07d0c3ea48f8a7f8f49276fcbdbf",
       "version_major": 2,
       "version_minor": 0
      },
      "text/plain": [
       "README.md: 0.00B [00:00, ?B/s]"
      ]
     },
     "metadata": {},
     "output_type": "display_data"
    },
    {
     "data": {
      "application/vnd.jupyter.widget-view+json": {
       "model_id": "e943b5d30a10484fa6e5d0d78ce89d02",
       "version_major": 2,
       "version_minor": 0
      },
      "text/plain": [
       "adapter_config.json:   0%|          | 0.00/868 [00:00<?, ?B/s]"
      ]
     },
     "metadata": {},
     "output_type": "display_data"
    },
    {
     "data": {
      "application/vnd.jupyter.widget-view+json": {
       "model_id": "c6f58e372d3e4301a8946750f1c39b9b",
       "version_major": 2,
       "version_minor": 0
      },
      "text/plain": [
       "optimizer.pt:   0%|          | 0.00/27.9M [00:00<?, ?B/s]"
      ]
     },
     "metadata": {},
     "output_type": "display_data"
    },
    {
     "data": {
      "application/vnd.jupyter.widget-view+json": {
       "model_id": "52401bf10dd54726a92b5eef63308d4b",
       "version_major": 2,
       "version_minor": 0
      },
      "text/plain": [
       "added_tokens.json:   0%|          | 0.00/35.0 [00:00<?, ?B/s]"
      ]
     },
     "metadata": {},
     "output_type": "display_data"
    },
    {
     "data": {
      "application/vnd.jupyter.widget-view+json": {
       "model_id": "e1268ddaeedd409593419f00ae98d2f3",
       "version_major": 2,
       "version_minor": 0
      },
      "text/plain": [
       "chat_template.jinja: 0.00B [00:00, ?B/s]"
      ]
     },
     "metadata": {},
     "output_type": "display_data"
    },
    {
     "data": {
      "application/vnd.jupyter.widget-view+json": {
       "model_id": "c9741b5ca1114b89bba7c1f5180ac24e",
       "version_major": 2,
       "version_minor": 0
      },
      "text/plain": [
       "rng_state.pth:   0%|          | 0.00/14.2k [00:00<?, ?B/s]"
      ]
     },
     "metadata": {},
     "output_type": "display_data"
    },
    {
     "data": {
      "application/vnd.jupyter.widget-view+json": {
       "model_id": "8fea254fc26644028bc4ba9f886ac92d",
       "version_major": 2,
       "version_minor": 0
      },
      "text/plain": [
       "tokenizer.json:   0%|          | 0.00/33.4M [00:00<?, ?B/s]"
      ]
     },
     "metadata": {},
     "output_type": "display_data"
    },
    {
     "data": {
      "application/vnd.jupyter.widget-view+json": {
       "model_id": "79ca5c49c8b544b8bcb8f482c1ec8def",
       "version_major": 2,
       "version_minor": 0
      },
      "text/plain": [
       "scheduler.pt:   0%|          | 0.00/1.06k [00:00<?, ?B/s]"
      ]
     },
     "metadata": {},
     "output_type": "display_data"
    },
    {
     "data": {
      "application/vnd.jupyter.widget-view+json": {
       "model_id": "75e2d8d1d7a84d17b184982ce4d00b44",
       "version_major": 2,
       "version_minor": 0
      },
      "text/plain": [
       "tokenizer.model:   0%|          | 0.00/4.69M [00:00<?, ?B/s]"
      ]
     },
     "metadata": {},
     "output_type": "display_data"
    },
    {
     "data": {
      "application/vnd.jupyter.widget-view+json": {
       "model_id": "a42eebd414d54a60bdd8592a3f64b5f4",
       "version_major": 2,
       "version_minor": 0
      },
      "text/plain": [
       "special_tokens_map.json:   0%|          | 0.00/670 [00:00<?, ?B/s]"
      ]
     },
     "metadata": {},
     "output_type": "display_data"
    },
    {
     "data": {
      "application/vnd.jupyter.widget-view+json": {
       "model_id": "a48b0e8b1c7846899cafdc5e67063c17",
       "version_major": 2,
       "version_minor": 0
      },
      "text/plain": [
       "training_args.bin:   0%|          | 0.00/6.52k [00:00<?, ?B/s]"
      ]
     },
     "metadata": {},
     "output_type": "display_data"
    },
    {
     "data": {
      "application/vnd.jupyter.widget-view+json": {
       "model_id": "a1d9746200e74dcdabdb63b4226cc2a1",
       "version_major": 2,
       "version_minor": 0
      },
      "text/plain": [
       "tokenizer_config.json: 0.00B [00:00, ?B/s]"
      ]
     },
     "metadata": {},
     "output_type": "display_data"
    },
    {
     "data": {
      "application/vnd.jupyter.widget-view+json": {
       "model_id": "37d06e4d37f54d308cde5bab3a9db1ac",
       "version_major": 2,
       "version_minor": 0
      },
      "text/plain": [
       "README.md: 0.00B [00:00, ?B/s]"
      ]
     },
     "metadata": {},
     "output_type": "display_data"
    },
    {
     "data": {
      "application/vnd.jupyter.widget-view+json": {
       "model_id": "ccccca9d1f9a449c9b7fdd7e0eb47ff6",
       "version_major": 2,
       "version_minor": 0
      },
      "text/plain": [
       "adapter_config.json:   0%|          | 0.00/868 [00:00<?, ?B/s]"
      ]
     },
     "metadata": {},
     "output_type": "display_data"
    },
    {
     "data": {
      "application/vnd.jupyter.widget-view+json": {
       "model_id": "53434ba4d5f342d691a37cf6dac40c61",
       "version_major": 2,
       "version_minor": 0
      },
      "text/plain": [
       "trainer_state.json: 0.00B [00:00, ?B/s]"
      ]
     },
     "metadata": {},
     "output_type": "display_data"
    },
    {
     "data": {
      "application/vnd.jupyter.widget-view+json": {
       "model_id": "679b585b99a941b594e5cb8f88366101",
       "version_major": 2,
       "version_minor": 0
      },
      "text/plain": [
       "optimizer.pt:   0%|          | 0.00/27.9M [00:00<?, ?B/s]"
      ]
     },
     "metadata": {},
     "output_type": "display_data"
    },
    {
     "data": {
      "application/vnd.jupyter.widget-view+json": {
       "model_id": "ccbfe0cefbf64c88bb5ecf71d44c3dd1",
       "version_major": 2,
       "version_minor": 0
      },
      "text/plain": [
       "chat_template.jinja: 0.00B [00:00, ?B/s]"
      ]
     },
     "metadata": {},
     "output_type": "display_data"
    },
    {
     "data": {
      "application/vnd.jupyter.widget-view+json": {
       "model_id": "24c131f009674e70a6152698e0f29b8c",
       "version_major": 2,
       "version_minor": 0
      },
      "text/plain": [
       "added_tokens.json:   0%|          | 0.00/35.0 [00:00<?, ?B/s]"
      ]
     },
     "metadata": {},
     "output_type": "display_data"
    },
    {
     "data": {
      "application/vnd.jupyter.widget-view+json": {
       "model_id": "b19411a0e9d64f8bb93d3fac6a03f945",
       "version_major": 2,
       "version_minor": 0
      },
      "text/plain": [
       "rng_state.pth:   0%|          | 0.00/14.2k [00:00<?, ?B/s]"
      ]
     },
     "metadata": {},
     "output_type": "display_data"
    },
    {
     "data": {
      "application/vnd.jupyter.widget-view+json": {
       "model_id": "157f443323874d20b2b5051f05934157",
       "version_major": 2,
       "version_minor": 0
      },
      "text/plain": [
       "scheduler.pt:   0%|          | 0.00/1.06k [00:00<?, ?B/s]"
      ]
     },
     "metadata": {},
     "output_type": "display_data"
    },
    {
     "data": {
      "application/vnd.jupyter.widget-view+json": {
       "model_id": "91d5f3abebc64a44843ffcfe0efd9657",
       "version_major": 2,
       "version_minor": 0
      },
      "text/plain": [
       "adapter_model.safetensors:   0%|          | 0.00/52.2M [00:00<?, ?B/s]"
      ]
     },
     "metadata": {},
     "output_type": "display_data"
    },
    {
     "data": {
      "application/vnd.jupyter.widget-view+json": {
       "model_id": "3351445e88fd4ab18c7b4879fae0b5c1",
       "version_major": 2,
       "version_minor": 0
      },
      "text/plain": [
       "tokenizer.model:   0%|          | 0.00/4.69M [00:00<?, ?B/s]"
      ]
     },
     "metadata": {},
     "output_type": "display_data"
    },
    {
     "data": {
      "application/vnd.jupyter.widget-view+json": {
       "model_id": "294ba287362745e9b3f99fe3e8dffa96",
       "version_major": 2,
       "version_minor": 0
      },
      "text/plain": [
       "tokenizer.json:   0%|          | 0.00/33.4M [00:00<?, ?B/s]"
      ]
     },
     "metadata": {},
     "output_type": "display_data"
    },
    {
     "data": {
      "application/vnd.jupyter.widget-view+json": {
       "model_id": "3537d974c5df48bcad104452af07946a",
       "version_major": 2,
       "version_minor": 0
      },
      "text/plain": [
       "training_args.bin:   0%|          | 0.00/6.52k [00:00<?, ?B/s]"
      ]
     },
     "metadata": {},
     "output_type": "display_data"
    },
    {
     "data": {
      "application/vnd.jupyter.widget-view+json": {
       "model_id": "16fc1afbb7a0499d8112395567255a6f",
       "version_major": 2,
       "version_minor": 0
      },
      "text/plain": [
       "tokenizer_config.json: 0.00B [00:00, ?B/s]"
      ]
     },
     "metadata": {},
     "output_type": "display_data"
    },
    {
     "data": {
      "application/vnd.jupyter.widget-view+json": {
       "model_id": "ab6b0f616ece43c7a5076d2dba412f39",
       "version_major": 2,
       "version_minor": 0
      },
      "text/plain": [
       "trainer_state.json: 0.00B [00:00, ?B/s]"
      ]
     },
     "metadata": {},
     "output_type": "display_data"
    },
    {
     "data": {
      "application/vnd.jupyter.widget-view+json": {
       "model_id": "83f4a697c1a14cf78c31289525caf98d",
       "version_major": 2,
       "version_minor": 0
      },
      "text/plain": [
       "special_tokens_map.json:   0%|          | 0.00/670 [00:00<?, ?B/s]"
      ]
     },
     "metadata": {},
     "output_type": "display_data"
    },
    {
     "data": {
      "application/vnd.jupyter.widget-view+json": {
       "model_id": "85f5c4e0b5e64accaba540f0db03a16f",
       "version_major": 2,
       "version_minor": 0
      },
      "text/plain": [
       "README.md: 0.00B [00:00, ?B/s]"
      ]
     },
     "metadata": {},
     "output_type": "display_data"
    },
    {
     "data": {
      "application/vnd.jupyter.widget-view+json": {
       "model_id": "665454b0aa984698a40b7db6f87f8d53",
       "version_major": 2,
       "version_minor": 0
      },
      "text/plain": [
       "adapter_config.json:   0%|          | 0.00/868 [00:00<?, ?B/s]"
      ]
     },
     "metadata": {},
     "output_type": "display_data"
    },
    {
     "data": {
      "application/vnd.jupyter.widget-view+json": {
       "model_id": "7a66373325ca40cfa988aebd69450491",
       "version_major": 2,
       "version_minor": 0
      },
      "text/plain": [
       "adapter_model.safetensors:   0%|          | 0.00/52.2M [00:00<?, ?B/s]"
      ]
     },
     "metadata": {},
     "output_type": "display_data"
    },
    {
     "data": {
      "application/vnd.jupyter.widget-view+json": {
       "model_id": "78403c0942a34e37a375cbeaa2f2d36f",
       "version_major": 2,
       "version_minor": 0
      },
      "text/plain": [
       "optimizer.pt:   0%|          | 0.00/27.9M [00:00<?, ?B/s]"
      ]
     },
     "metadata": {},
     "output_type": "display_data"
    },
    {
     "data": {
      "application/vnd.jupyter.widget-view+json": {
       "model_id": "03e42521aaee415a825a98c98ab7b12e",
       "version_major": 2,
       "version_minor": 0
      },
      "text/plain": [
       "added_tokens.json:   0%|          | 0.00/35.0 [00:00<?, ?B/s]"
      ]
     },
     "metadata": {},
     "output_type": "display_data"
    },
    {
     "data": {
      "application/vnd.jupyter.widget-view+json": {
       "model_id": "809f4064568b474e96faba61170c2d96",
       "version_major": 2,
       "version_minor": 0
      },
      "text/plain": [
       "rng_state.pth:   0%|          | 0.00/14.2k [00:00<?, ?B/s]"
      ]
     },
     "metadata": {},
     "output_type": "display_data"
    },
    {
     "data": {
      "application/vnd.jupyter.widget-view+json": {
       "model_id": "53d7b02c2be742028bc96cedbfe2de37",
       "version_major": 2,
       "version_minor": 0
      },
      "text/plain": [
       "chat_template.jinja: 0.00B [00:00, ?B/s]"
      ]
     },
     "metadata": {},
     "output_type": "display_data"
    },
    {
     "data": {
      "application/vnd.jupyter.widget-view+json": {
       "model_id": "b75be217038842989a13be9f424cfa54",
       "version_major": 2,
       "version_minor": 0
      },
      "text/plain": [
       "scheduler.pt:   0%|          | 0.00/1.06k [00:00<?, ?B/s]"
      ]
     },
     "metadata": {},
     "output_type": "display_data"
    },
    {
     "data": {
      "application/vnd.jupyter.widget-view+json": {
       "model_id": "3c59e8f2b5214edbaa9c0db625263366",
       "version_major": 2,
       "version_minor": 0
      },
      "text/plain": [
       "tokenizer.json:   0%|          | 0.00/33.4M [00:00<?, ?B/s]"
      ]
     },
     "metadata": {},
     "output_type": "display_data"
    },
    {
     "data": {
      "application/vnd.jupyter.widget-view+json": {
       "model_id": "8aa78bf935a8408b8ebf4ccea2b39834",
       "version_major": 2,
       "version_minor": 0
      },
      "text/plain": [
       "tokenizer.model:   0%|          | 0.00/4.69M [00:00<?, ?B/s]"
      ]
     },
     "metadata": {},
     "output_type": "display_data"
    },
    {
     "data": {
      "application/vnd.jupyter.widget-view+json": {
       "model_id": "ecb495272ea14c199909d3d1e319d705",
       "version_major": 2,
       "version_minor": 0
      },
      "text/plain": [
       "tokenizer_config.json: 0.00B [00:00, ?B/s]"
      ]
     },
     "metadata": {},
     "output_type": "display_data"
    },
    {
     "data": {
      "application/vnd.jupyter.widget-view+json": {
       "model_id": "836cff65008b4c2ab4624d88a5ca063c",
       "version_major": 2,
       "version_minor": 0
      },
      "text/plain": [
       "trainer_state.json: 0.00B [00:00, ?B/s]"
      ]
     },
     "metadata": {},
     "output_type": "display_data"
    },
    {
     "data": {
      "application/vnd.jupyter.widget-view+json": {
       "model_id": "48e6ae23665741d8a75d34d56d4d3a43",
       "version_major": 2,
       "version_minor": 0
      },
      "text/plain": [
       "special_tokens_map.json:   0%|          | 0.00/670 [00:00<?, ?B/s]"
      ]
     },
     "metadata": {},
     "output_type": "display_data"
    },
    {
     "data": {
      "application/vnd.jupyter.widget-view+json": {
       "model_id": "c301f12dcb1142d282e38c668c19a4ff",
       "version_major": 2,
       "version_minor": 0
      },
      "text/plain": [
       "training_args.bin:   0%|          | 0.00/6.52k [00:00<?, ?B/s]"
      ]
     },
     "metadata": {},
     "output_type": "display_data"
    },
    {
     "data": {
      "application/vnd.jupyter.widget-view+json": {
       "model_id": "8f79d84d9abb466385ba51cc8436ee71",
       "version_major": 2,
       "version_minor": 0
      },
      "text/plain": [
       "adapter_model.safetensors:   0%|          | 0.00/52.2M [00:00<?, ?B/s]"
      ]
     },
     "metadata": {},
     "output_type": "display_data"
    },
    {
     "data": {
      "application/vnd.jupyter.widget-view+json": {
       "model_id": "995b441e120848a8beeda6f4fa5eaafc",
       "version_major": 2,
       "version_minor": 0
      },
      "text/plain": [
       "README.md: 0.00B [00:00, ?B/s]"
      ]
     },
     "metadata": {},
     "output_type": "display_data"
    },
    {
     "data": {
      "application/vnd.jupyter.widget-view+json": {
       "model_id": "6de1eb027e6c4fb596b278c1e9b2d6cf",
       "version_major": 2,
       "version_minor": 0
      },
      "text/plain": [
       "optimizer.pt:   0%|          | 0.00/27.9M [00:00<?, ?B/s]"
      ]
     },
     "metadata": {},
     "output_type": "display_data"
    },
    {
     "data": {
      "application/vnd.jupyter.widget-view+json": {
       "model_id": "265732f5d592421daddd93cd6e45d804",
       "version_major": 2,
       "version_minor": 0
      },
      "text/plain": [
       "added_tokens.json:   0%|          | 0.00/35.0 [00:00<?, ?B/s]"
      ]
     },
     "metadata": {},
     "output_type": "display_data"
    },
    {
     "data": {
      "application/vnd.jupyter.widget-view+json": {
       "model_id": "31d89e89462a4f17ba85bd3e43c44dbc",
       "version_major": 2,
       "version_minor": 0
      },
      "text/plain": [
       "adapter_config.json:   0%|          | 0.00/868 [00:00<?, ?B/s]"
      ]
     },
     "metadata": {},
     "output_type": "display_data"
    },
    {
     "data": {
      "application/vnd.jupyter.widget-view+json": {
       "model_id": "cbb8816d2e58412b8fd812e4eb67e349",
       "version_major": 2,
       "version_minor": 0
      },
      "text/plain": [
       "chat_template.jinja: 0.00B [00:00, ?B/s]"
      ]
     },
     "metadata": {},
     "output_type": "display_data"
    },
    {
     "data": {
      "application/vnd.jupyter.widget-view+json": {
       "model_id": "ac966d3d489a41188d9dc66a503de2b8",
       "version_major": 2,
       "version_minor": 0
      },
      "text/plain": [
       "rng_state.pth:   0%|          | 0.00/14.2k [00:00<?, ?B/s]"
      ]
     },
     "metadata": {},
     "output_type": "display_data"
    },
    {
     "data": {
      "application/vnd.jupyter.widget-view+json": {
       "model_id": "e015cc45d12a4e409c2b9dec139154c1",
       "version_major": 2,
       "version_minor": 0
      },
      "text/plain": [
       "scheduler.pt:   0%|          | 0.00/1.06k [00:00<?, ?B/s]"
      ]
     },
     "metadata": {},
     "output_type": "display_data"
    },
    {
     "data": {
      "application/vnd.jupyter.widget-view+json": {
       "model_id": "debeee6a59c04de7b94d6e5f8f9a3e1f",
       "version_major": 2,
       "version_minor": 0
      },
      "text/plain": [
       "tokenizer.json:   0%|          | 0.00/33.4M [00:00<?, ?B/s]"
      ]
     },
     "metadata": {},
     "output_type": "display_data"
    },
    {
     "data": {
      "application/vnd.jupyter.widget-view+json": {
       "model_id": "8875c4555b844fe1ab702d6c20a5a217",
       "version_major": 2,
       "version_minor": 0
      },
      "text/plain": [
       "tokenizer.model:   0%|          | 0.00/4.69M [00:00<?, ?B/s]"
      ]
     },
     "metadata": {},
     "output_type": "display_data"
    },
    {
     "data": {
      "application/vnd.jupyter.widget-view+json": {
       "model_id": "f53ff995ab984f8c96ec5fd8c387ea9f",
       "version_major": 2,
       "version_minor": 0
      },
      "text/plain": [
       "special_tokens_map.json:   0%|          | 0.00/670 [00:00<?, ?B/s]"
      ]
     },
     "metadata": {},
     "output_type": "display_data"
    },
    {
     "data": {
      "application/vnd.jupyter.widget-view+json": {
       "model_id": "8545421fe7384080a48a6ad1629c9ab4",
       "version_major": 2,
       "version_minor": 0
      },
      "text/plain": [
       "training_args.bin:   0%|          | 0.00/6.52k [00:00<?, ?B/s]"
      ]
     },
     "metadata": {},
     "output_type": "display_data"
    },
    {
     "data": {
      "application/vnd.jupyter.widget-view+json": {
       "model_id": "772daad75d7544b4b0060b376c9552bc",
       "version_major": 2,
       "version_minor": 0
      },
      "text/plain": [
       "trainer_state.json: 0.00B [00:00, ?B/s]"
      ]
     },
     "metadata": {},
     "output_type": "display_data"
    },
    {
     "data": {
      "application/vnd.jupyter.widget-view+json": {
       "model_id": "d406b5cd9f69426ab071a780c8ece948",
       "version_major": 2,
       "version_minor": 0
      },
      "text/plain": [
       "tokenizer_config.json: 0.00B [00:00, ?B/s]"
      ]
     },
     "metadata": {},
     "output_type": "display_data"
    },
    {
     "data": {
      "application/vnd.jupyter.widget-view+json": {
       "model_id": "ef0ec6afab024240872738a47274baec",
       "version_major": 2,
       "version_minor": 0
      },
      "text/plain": [
       "adapter_model.safetensors:   0%|          | 0.00/52.2M [00:00<?, ?B/s]"
      ]
     },
     "metadata": {},
     "output_type": "display_data"
    },
    {
     "data": {
      "application/vnd.jupyter.widget-view+json": {
       "model_id": "56544b03a4f6460cb573392d59137104",
       "version_major": 2,
       "version_minor": 0
      },
      "text/plain": [
       "adapter_config.json:   0%|          | 0.00/868 [00:00<?, ?B/s]"
      ]
     },
     "metadata": {},
     "output_type": "display_data"
    },
    {
     "data": {
      "application/vnd.jupyter.widget-view+json": {
       "model_id": "06660a819f034dc7b6811ebe31911a7e",
       "version_major": 2,
       "version_minor": 0
      },
      "text/plain": [
       "README.md: 0.00B [00:00, ?B/s]"
      ]
     },
     "metadata": {},
     "output_type": "display_data"
    },
    {
     "data": {
      "application/vnd.jupyter.widget-view+json": {
       "model_id": "8c6ac910500542a89c830132e228a2ad",
       "version_major": 2,
       "version_minor": 0
      },
      "text/plain": [
       "optimizer.pt:   0%|          | 0.00/27.9M [00:00<?, ?B/s]"
      ]
     },
     "metadata": {},
     "output_type": "display_data"
    },
    {
     "data": {
      "application/vnd.jupyter.widget-view+json": {
       "model_id": "c0fa862980e749c1a6e2f842676b779c",
       "version_major": 2,
       "version_minor": 0
      },
      "text/plain": [
       "scheduler.pt:   0%|          | 0.00/1.06k [00:00<?, ?B/s]"
      ]
     },
     "metadata": {},
     "output_type": "display_data"
    },
    {
     "data": {
      "application/vnd.jupyter.widget-view+json": {
       "model_id": "1fc4d2a4eccc4d0d944f0798f39e531e",
       "version_major": 2,
       "version_minor": 0
      },
      "text/plain": [
       "rng_state.pth:   0%|          | 0.00/14.2k [00:00<?, ?B/s]"
      ]
     },
     "metadata": {},
     "output_type": "display_data"
    },
    {
     "data": {
      "application/vnd.jupyter.widget-view+json": {
       "model_id": "575b0ff582744cd8ae080ec7fa47bf15",
       "version_major": 2,
       "version_minor": 0
      },
      "text/plain": [
       "chat_template.jinja: 0.00B [00:00, ?B/s]"
      ]
     },
     "metadata": {},
     "output_type": "display_data"
    },
    {
     "data": {
      "application/vnd.jupyter.widget-view+json": {
       "model_id": "a5bb7fd067c34d23b4357c507f7fd510",
       "version_major": 2,
       "version_minor": 0
      },
      "text/plain": [
       "added_tokens.json:   0%|          | 0.00/35.0 [00:00<?, ?B/s]"
      ]
     },
     "metadata": {},
     "output_type": "display_data"
    },
    {
     "data": {
      "application/vnd.jupyter.widget-view+json": {
       "model_id": "2d57e4c789524976aceca1d44f406768",
       "version_major": 2,
       "version_minor": 0
      },
      "text/plain": [
       "tokenizer.json:   0%|          | 0.00/33.4M [00:00<?, ?B/s]"
      ]
     },
     "metadata": {},
     "output_type": "display_data"
    },
    {
     "data": {
      "application/vnd.jupyter.widget-view+json": {
       "model_id": "6435456569dd4eeb9a0a2618ba9276ed",
       "version_major": 2,
       "version_minor": 0
      },
      "text/plain": [
       "tokenizer.model:   0%|          | 0.00/4.69M [00:00<?, ?B/s]"
      ]
     },
     "metadata": {},
     "output_type": "display_data"
    },
    {
     "data": {
      "application/vnd.jupyter.widget-view+json": {
       "model_id": "5ca4bcfdb43d440bb5a96e6db3069ef1",
       "version_major": 2,
       "version_minor": 0
      },
      "text/plain": [
       "training_args.bin:   0%|          | 0.00/6.52k [00:00<?, ?B/s]"
      ]
     },
     "metadata": {},
     "output_type": "display_data"
    },
    {
     "data": {
      "application/vnd.jupyter.widget-view+json": {
       "model_id": "8c61f659ee864f2393c03ce3441a24c9",
       "version_major": 2,
       "version_minor": 0
      },
      "text/plain": [
       "special_tokens_map.json:   0%|          | 0.00/670 [00:00<?, ?B/s]"
      ]
     },
     "metadata": {},
     "output_type": "display_data"
    },
    {
     "data": {
      "application/vnd.jupyter.widget-view+json": {
       "model_id": "5382ccfe93a94604873d83cfae583833",
       "version_major": 2,
       "version_minor": 0
      },
      "text/plain": [
       "tokenizer_config.json: 0.00B [00:00, ?B/s]"
      ]
     },
     "metadata": {},
     "output_type": "display_data"
    },
    {
     "data": {
      "application/vnd.jupyter.widget-view+json": {
       "model_id": "7ff01b931e974ab99293581c39c40412",
       "version_major": 2,
       "version_minor": 0
      },
      "text/plain": [
       "trainer_state.json: 0.00B [00:00, ?B/s]"
      ]
     },
     "metadata": {},
     "output_type": "display_data"
    },
    {
     "data": {
      "application/vnd.jupyter.widget-view+json": {
       "model_id": "df76298ffc2540438894efa9acbde38f",
       "version_major": 2,
       "version_minor": 0
      },
      "text/plain": [
       "adapter_model.safetensors:   0%|          | 0.00/52.2M [00:00<?, ?B/s]"
      ]
     },
     "metadata": {},
     "output_type": "display_data"
    },
    {
     "data": {
      "application/vnd.jupyter.widget-view+json": {
       "model_id": "52bbb5430c45472493c76e4670ebaf3a",
       "version_major": 2,
       "version_minor": 0
      },
      "text/plain": [
       "adapter_config.json:   0%|          | 0.00/868 [00:00<?, ?B/s]"
      ]
     },
     "metadata": {},
     "output_type": "display_data"
    },
    {
     "data": {
      "application/vnd.jupyter.widget-view+json": {
       "model_id": "366031d4f41146679434d424af8d5ce6",
       "version_major": 2,
       "version_minor": 0
      },
      "text/plain": [
       "README.md: 0.00B [00:00, ?B/s]"
      ]
     },
     "metadata": {},
     "output_type": "display_data"
    },
    {
     "data": {
      "application/vnd.jupyter.widget-view+json": {
       "model_id": "d7cb77ea94334d97908953752159aceb",
       "version_major": 2,
       "version_minor": 0
      },
      "text/plain": [
       "added_tokens.json:   0%|          | 0.00/35.0 [00:00<?, ?B/s]"
      ]
     },
     "metadata": {},
     "output_type": "display_data"
    },
    {
     "data": {
      "application/vnd.jupyter.widget-view+json": {
       "model_id": "6835105ee647421fb987392dfff87494",
       "version_major": 2,
       "version_minor": 0
      },
      "text/plain": [
       "chat_template.jinja: 0.00B [00:00, ?B/s]"
      ]
     },
     "metadata": {},
     "output_type": "display_data"
    },
    {
     "data": {
      "application/vnd.jupyter.widget-view+json": {
       "model_id": "fdf5cff5616b4a34a3eafe972bf2e309",
       "version_major": 2,
       "version_minor": 0
      },
      "text/plain": [
       "optimizer.pt:   0%|          | 0.00/27.9M [00:00<?, ?B/s]"
      ]
     },
     "metadata": {},
     "output_type": "display_data"
    },
    {
     "data": {
      "application/vnd.jupyter.widget-view+json": {
       "model_id": "84a8828b6535486d91724c56eff2c57d",
       "version_major": 2,
       "version_minor": 0
      },
      "text/plain": [
       "rng_state.pth:   0%|          | 0.00/14.2k [00:00<?, ?B/s]"
      ]
     },
     "metadata": {},
     "output_type": "display_data"
    },
    {
     "data": {
      "application/vnd.jupyter.widget-view+json": {
       "model_id": "4fc8e10ea03c44da9adfbcb59c3b0411",
       "version_major": 2,
       "version_minor": 0
      },
      "text/plain": [
       "scheduler.pt:   0%|          | 0.00/1.06k [00:00<?, ?B/s]"
      ]
     },
     "metadata": {},
     "output_type": "display_data"
    },
    {
     "data": {
      "application/vnd.jupyter.widget-view+json": {
       "model_id": "f90b5259bc6449f7a52b4079a26c08d6",
       "version_major": 2,
       "version_minor": 0
      },
      "text/plain": [
       "tokenizer.json:   0%|          | 0.00/33.4M [00:00<?, ?B/s]"
      ]
     },
     "metadata": {},
     "output_type": "display_data"
    },
    {
     "data": {
      "application/vnd.jupyter.widget-view+json": {
       "model_id": "489ead9f6d51473f9c783f2997216582",
       "version_major": 2,
       "version_minor": 0
      },
      "text/plain": [
       "special_tokens_map.json:   0%|          | 0.00/670 [00:00<?, ?B/s]"
      ]
     },
     "metadata": {},
     "output_type": "display_data"
    },
    {
     "data": {
      "application/vnd.jupyter.widget-view+json": {
       "model_id": "7003cf01c5cc4598857876a76692c6fd",
       "version_major": 2,
       "version_minor": 0
      },
      "text/plain": [
       "training_args.bin:   0%|          | 0.00/6.52k [00:00<?, ?B/s]"
      ]
     },
     "metadata": {},
     "output_type": "display_data"
    },
    {
     "data": {
      "application/vnd.jupyter.widget-view+json": {
       "model_id": "5e23c412e5924643848af02f9767fc7f",
       "version_major": 2,
       "version_minor": 0
      },
      "text/plain": [
       "tokenizer.model:   0%|          | 0.00/4.69M [00:00<?, ?B/s]"
      ]
     },
     "metadata": {},
     "output_type": "display_data"
    },
    {
     "data": {
      "application/vnd.jupyter.widget-view+json": {
       "model_id": "d9f34fb35fbe460887868e840868e852",
       "version_major": 2,
       "version_minor": 0
      },
      "text/plain": [
       "tokenizer_config.json: 0.00B [00:00, ?B/s]"
      ]
     },
     "metadata": {},
     "output_type": "display_data"
    },
    {
     "data": {
      "application/vnd.jupyter.widget-view+json": {
       "model_id": "29dfd05120ac4b9e85efd87465543766",
       "version_major": 2,
       "version_minor": 0
      },
      "text/plain": [
       "README.md: 0.00B [00:00, ?B/s]"
      ]
     },
     "metadata": {},
     "output_type": "display_data"
    },
    {
     "data": {
      "application/vnd.jupyter.widget-view+json": {
       "model_id": "368411ef7bd14ef1a6f069359101b494",
       "version_major": 2,
       "version_minor": 0
      },
      "text/plain": [
       "trainer_state.json: 0.00B [00:00, ?B/s]"
      ]
     },
     "metadata": {},
     "output_type": "display_data"
    },
    {
     "data": {
      "application/vnd.jupyter.widget-view+json": {
       "model_id": "5f935ad7459c45a187d3453a38bc355e",
       "version_major": 2,
       "version_minor": 0
      },
      "text/plain": [
       "adapter_model.safetensors:   0%|          | 0.00/52.2M [00:00<?, ?B/s]"
      ]
     },
     "metadata": {},
     "output_type": "display_data"
    },
    {
     "data": {
      "application/vnd.jupyter.widget-view+json": {
       "model_id": "a7fd82e4424742d4bafbe22eb0317f59",
       "version_major": 2,
       "version_minor": 0
      },
      "text/plain": [
       "added_tokens.json:   0%|          | 0.00/35.0 [00:00<?, ?B/s]"
      ]
     },
     "metadata": {},
     "output_type": "display_data"
    },
    {
     "data": {
      "application/vnd.jupyter.widget-view+json": {
       "model_id": "a83f5ef8009c4d4ebe659ffc4eb5d889",
       "version_major": 2,
       "version_minor": 0
      },
      "text/plain": [
       "chat_template.jinja: 0.00B [00:00, ?B/s]"
      ]
     },
     "metadata": {},
     "output_type": "display_data"
    },
    {
     "data": {
      "application/vnd.jupyter.widget-view+json": {
       "model_id": "e3654f407f844d35adaaa7db84455bdb",
       "version_major": 2,
       "version_minor": 0
      },
      "text/plain": [
       "adapter_config.json:   0%|          | 0.00/868 [00:00<?, ?B/s]"
      ]
     },
     "metadata": {},
     "output_type": "display_data"
    },
    {
     "data": {
      "application/vnd.jupyter.widget-view+json": {
       "model_id": "4ed32dbc697f482f897ad895e28c53c5",
       "version_major": 2,
       "version_minor": 0
      },
      "text/plain": [
       "scheduler.pt:   0%|          | 0.00/1.06k [00:00<?, ?B/s]"
      ]
     },
     "metadata": {},
     "output_type": "display_data"
    },
    {
     "data": {
      "application/vnd.jupyter.widget-view+json": {
       "model_id": "c8f137b9528a471b9dc5ad973c2f34a8",
       "version_major": 2,
       "version_minor": 0
      },
      "text/plain": [
       "optimizer.pt:   0%|          | 0.00/27.9M [00:00<?, ?B/s]"
      ]
     },
     "metadata": {},
     "output_type": "display_data"
    },
    {
     "data": {
      "application/vnd.jupyter.widget-view+json": {
       "model_id": "424dd531001c497b88f142ddc0335d59",
       "version_major": 2,
       "version_minor": 0
      },
      "text/plain": [
       "rng_state.pth:   0%|          | 0.00/14.2k [00:00<?, ?B/s]"
      ]
     },
     "metadata": {},
     "output_type": "display_data"
    },
    {
     "data": {
      "application/vnd.jupyter.widget-view+json": {
       "model_id": "15d90dfc29234a909d4887f8fa8199d0",
       "version_major": 2,
       "version_minor": 0
      },
      "text/plain": [
       "special_tokens_map.json:   0%|          | 0.00/670 [00:00<?, ?B/s]"
      ]
     },
     "metadata": {},
     "output_type": "display_data"
    },
    {
     "data": {
      "application/vnd.jupyter.widget-view+json": {
       "model_id": "88214f3cceb84fa282e88d5b810d54c6",
       "version_major": 2,
       "version_minor": 0
      },
      "text/plain": [
       "tokenizer.model:   0%|          | 0.00/4.69M [00:00<?, ?B/s]"
      ]
     },
     "metadata": {},
     "output_type": "display_data"
    },
    {
     "data": {
      "application/vnd.jupyter.widget-view+json": {
       "model_id": "33456f17007844f295b767b676b88589",
       "version_major": 2,
       "version_minor": 0
      },
      "text/plain": [
       "tokenizer.json:   0%|          | 0.00/33.4M [00:00<?, ?B/s]"
      ]
     },
     "metadata": {},
     "output_type": "display_data"
    },
    {
     "data": {
      "application/vnd.jupyter.widget-view+json": {
       "model_id": "7ce886984b594cf88a6eca828a6d6e0c",
       "version_major": 2,
       "version_minor": 0
      },
      "text/plain": [
       "training_args.bin:   0%|          | 0.00/6.52k [00:00<?, ?B/s]"
      ]
     },
     "metadata": {},
     "output_type": "display_data"
    },
    {
     "data": {
      "application/vnd.jupyter.widget-view+json": {
       "model_id": "52d3df9783be4c46a67307ee10cf5cb6",
       "version_major": 2,
       "version_minor": 0
      },
      "text/plain": [
       "tokenizer_config.json: 0.00B [00:00, ?B/s]"
      ]
     },
     "metadata": {},
     "output_type": "display_data"
    },
    {
     "data": {
      "application/vnd.jupyter.widget-view+json": {
       "model_id": "659a3f7c609e4391b7ee85425edb408f",
       "version_major": 2,
       "version_minor": 0
      },
      "text/plain": [
       "(…)ut.tfevents.1752196765.42d91921bc98.36.0:   0%|          | 0.00/135k [00:00<?, ?B/s]"
      ]
     },
     "metadata": {},
     "output_type": "display_data"
    },
    {
     "data": {
      "application/vnd.jupyter.widget-view+json": {
       "model_id": "016c6972e96d4985aa9597fdaa25c9e6",
       "version_major": 2,
       "version_minor": 0
      },
      "text/plain": [
       "trainer_state.json: 0.00B [00:00, ?B/s]"
      ]
     },
     "metadata": {},
     "output_type": "display_data"
    },
    {
     "data": {
      "application/vnd.jupyter.widget-view+json": {
       "model_id": "a5440ae8125d4d0680ba6b362a09f3e5",
       "version_major": 2,
       "version_minor": 0
      },
      "text/plain": [
       "(…)ut.tfevents.1752286082.2040b9d4a8c6.36.0:   0%|          | 0.00/128k [00:00<?, ?B/s]"
      ]
     },
     "metadata": {},
     "output_type": "display_data"
    },
    {
     "data": {
      "application/vnd.jupyter.widget-view+json": {
       "model_id": "cceab96726f6433ab82d21505563637f",
       "version_major": 2,
       "version_minor": 0
      },
      "text/plain": [
       "(…)ut.tfevents.1752238613.54c674e3d576.36.0:   0%|          | 0.00/34.8k [00:00<?, ?B/s]"
      ]
     },
     "metadata": {},
     "output_type": "display_data"
    },
    {
     "data": {
      "application/vnd.jupyter.widget-view+json": {
       "model_id": "e5ad234d8f324c918ef8b0d67f6a6432",
       "version_major": 2,
       "version_minor": 0
      },
      "text/plain": [
       "(…)ut.tfevents.1752140561.0797fda43762.36.0:   0%|          | 0.00/102k [00:00<?, ?B/s]"
      ]
     },
     "metadata": {},
     "output_type": "display_data"
    },
    {
     "data": {
      "application/vnd.jupyter.widget-view+json": {
       "model_id": "6d2de1390fea4bc6a1056187f4bb82dc",
       "version_major": 2,
       "version_minor": 0
      },
      "text/plain": [
       "(…)ut.tfevents.1752318510.b21981bb9675.36.0:   0%|          | 0.00/80.7k [00:00<?, ?B/s]"
      ]
     },
     "metadata": {},
     "output_type": "display_data"
    },
    {
     "data": {
      "application/vnd.jupyter.widget-view+json": {
       "model_id": "13cfcf7e658546f69fc370278d2f5e9f",
       "version_major": 2,
       "version_minor": 0
      },
      "text/plain": [
       "(…)ut.tfevents.1752412870.9e7537daf84f.36.1:   0%|          | 0.00/55.3k [00:00<?, ?B/s]"
      ]
     },
     "metadata": {},
     "output_type": "display_data"
    },
    {
     "data": {
      "application/vnd.jupyter.widget-view+json": {
       "model_id": "71502862901949f296b72496bd566e6a",
       "version_major": 2,
       "version_minor": 0
      },
      "text/plain": [
       "(…)ut.tfevents.1752560283.0f6b6b567099.36.0:   0%|          | 0.00/204k [00:00<?, ?B/s]"
      ]
     },
     "metadata": {},
     "output_type": "display_data"
    },
    {
     "data": {
      "application/vnd.jupyter.widget-view+json": {
       "model_id": "b29425d7b91a47dd851c93d210b6734a",
       "version_major": 2,
       "version_minor": 0
      },
      "text/plain": [
       "(…)ut.tfevents.1752382503.9e7537daf84f.36.0:   0%|          | 0.00/113k [00:00<?, ?B/s]"
      ]
     },
     "metadata": {},
     "output_type": "display_data"
    },
    {
     "data": {
      "application/vnd.jupyter.widget-view+json": {
       "model_id": "22da333ee75e4b338b26cc56f3db853f",
       "version_major": 2,
       "version_minor": 0
      },
      "text/plain": [
       "(…)ut.tfevents.1752717411.26fb8dd60e61.36.0:   0%|          | 0.00/227k [00:00<?, ?B/s]"
      ]
     },
     "metadata": {},
     "output_type": "display_data"
    },
    {
     "data": {
      "application/vnd.jupyter.widget-view+json": {
       "model_id": "8291effa46624d0ab067bfdfe2cefa54",
       "version_major": 2,
       "version_minor": 0
      },
      "text/plain": [
       "(…)ut.tfevents.1752467467.9547df361d69.36.0:   0%|          | 0.00/169k [00:00<?, ?B/s]"
      ]
     },
     "metadata": {},
     "output_type": "display_data"
    },
    {
     "data": {
      "application/vnd.jupyter.widget-view+json": {
       "model_id": "d438284055d94d76bfe8a9fd0435b81a",
       "version_major": 2,
       "version_minor": 0
      },
      "text/plain": [
       "(…)ut.tfevents.1752644832.46ca52c001f0.36.0:   0%|          | 0.00/180k [00:00<?, ?B/s]"
      ]
     },
     "metadata": {},
     "output_type": "display_data"
    },
    {
     "data": {
      "application/vnd.jupyter.widget-view+json": {
       "model_id": "d490bdabfbb24379963ff06520161c5d",
       "version_major": 2,
       "version_minor": 0
      },
      "text/plain": [
       "(…)ut.tfevents.1752839507.f655fdf7a32c.36.0:   0%|          | 0.00/131k [00:00<?, ?B/s]"
      ]
     },
     "metadata": {},
     "output_type": "display_data"
    },
    {
     "data": {
      "text/plain": [
       "'/content/Gemma-3-1B-GRPO-Vi-Medical-LoRA'"
      ]
     },
     "execution_count": 23,
     "metadata": {},
     "output_type": "execute_result"
    }
   ],
   "source": [
    "from huggingface_hub import HfApi\n",
    "from huggingface_hub import snapshot_download\n",
    "import os\n",
    "api = HfApi()\n",
    "\n",
    "repo_id = \"heboya8/Gemma-3-1B-GRPO-Vi-Medical-LoRA\"\n",
    "save_path = \"./Gemma-3-1B-GRPO-Vi-Medical-LoRA\"\n",
    "\n",
    "# Create the directory if it doesn't exist\n",
    "os.makedirs(save_path, exist_ok=True)\n",
    "\n",
    "# Download the dataset\n",
    "snapshot_download(repo_id=repo_id, repo_type=\"model\", local_dir=save_path)"
   ]
  },
  {
   "cell_type": "markdown",
   "metadata": {},
   "source": [
    "# Config Training"
   ]
  },
  {
   "cell_type": "code",
   "execution_count": 30,
   "metadata": {
    "execution": {
     "iopub.execute_input": "2025-07-19T01:49:06.172911Z",
     "iopub.status.busy": "2025-07-19T01:49:06.172736Z",
     "iopub.status.idle": "2025-07-19T01:49:06.181018Z",
     "shell.execute_reply": "2025-07-19T01:49:06.180451Z",
     "shell.execute_reply.started": "2025-07-19T01:49:06.172894Z"
    },
    "trusted": true
   },
   "outputs": [],
   "source": [
    "import os\n",
    "import wandb\n",
    "from vllm import SamplingParams\n",
    "from trl import GRPOConfig, GRPOTrainer\n",
    "from transformers import TrainingArguments\n",
    "os.environ[\"TOKENIZERS_PARALLELISM\"] = \"false\"  # Suppress tokenizer parallelism warning\n",
    "\n",
    "# Define max lengths\n",
    "# # max_prompt_length = maximum_length + 1 # + 1 just in case!\n",
    "# # max_prompt_length = maximum_length + 1 # + 1 just in case!\n",
    "max_prompt_length = 128\n",
    "max_completion_length = max_seq_length - max_prompt_length\n",
    "\n",
    "# Custom GRPOTrainer to handle vllm_sampling_params as dict or SamplingParams\n",
    "class CustomGRPOTrainer(GRPOTrainer):\n",
    "    def __init__(self, model, processing_class, reward_funcs, args, train_dataset, eval_dataset):\n",
    "        super().__init__(model=model, processing_class=processing_class, reward_funcs=reward_funcs, \n",
    "                        args=args, train_dataset=train_dataset, eval_dataset=eval_dataset)\n",
    "        # Convert vllm_sampling_params dict to SamplingParams if needed\n",
    "        if isinstance(args.vllm_sampling_params, dict):\n",
    "            self.vllm_sampling_params = SamplingParams(**args.vllm_sampling_params)\n",
    "        else:\n",
    "            self.vllm_sampling_params = args.vllm_sampling_params\n",
    "\n",
    "\n",
    "# Convert SamplingParams to a dictionary for JSON serialization\n",
    "vllm_sampling_params_dict = {\n",
    "    \"min_p\": 0.1,\n",
    "    \"top_p\": 1.0,\n",
    "    \"top_k\": -1,\n",
    "    \"seed\": 42,\n",
    "    \"stop\": [tokenizer.eos_token],  # Ensure tokenizer is defined\n",
    "    \"include_stop_str_in_output\": True,\n",
    "}\n",
    "\n",
    "# Custom GRPOConfig to handle vllm_sampling_params serialization\n",
    "class CustomGRPOConfig(GRPOConfig):  # Inherit from GRPOConfig, not TrainingArguments\n",
    "    def to_dict(self):\n",
    "        d = super().to_dict()\n",
    "        # Ensure vllm_sampling_params is serialized correctly\n",
    "        if \"vllm_sampling_params\" in d:\n",
    "            d[\"vllm_sampling_params\"] = d[\"vllm_sampling_params\"]  # Already a dict\n",
    "        return d\n",
    "\n"
   ]
  },
  {
   "cell_type": "code",
   "execution_count": 31,
   "metadata": {
    "execution": {
     "iopub.execute_input": "2025-07-19T01:49:06.181970Z",
     "iopub.status.busy": "2025-07-19T01:49:06.181720Z",
     "iopub.status.idle": "2025-07-19T01:49:06.222305Z",
     "shell.execute_reply": "2025-07-19T01:49:06.221562Z",
     "shell.execute_reply.started": "2025-07-19T01:49:06.181954Z"
    },
    "trusted": true
   },
   "outputs": [],
   "source": [
    "# Define training arguments\n",
    "training_args = CustomGRPOConfig(\n",
    "    resume_from_checkpoint=\"./Gemma-3-1B-GRPO-Vi-Medical-LoRA\",\n",
    "    vllm_sampling_params=vllm_sampling_params_dict,\n",
    "    temperature = 1.0,\n",
    "    learning_rate = 5e-6,\n",
    "    weight_decay = 0.01,\n",
    "    # warmup_ratio = 30,\n",
    "    warmup_steps=30,\n",
    "    lr_scheduler_type = \"linear\",\n",
    "    optim = \"adamw_8bit\",\n",
    "    logging_steps = 1,\n",
    "    per_device_train_batch_size = 8,\n",
    "    gradient_accumulation_steps = 4, # Increase to 4 for smoother training\n",
    "    num_generations = 2, # Decrease if out of memory\n",
    "    max_prompt_length = max_prompt_length,\n",
    "    max_completion_length = max_completion_length,\n",
    "    num_train_epochs = 3, # Set to 1 for a full training run\n",
    "    # max_steps = 20,\n",
    "    save_steps = 20,\n",
    "    report_to = \"tensorboard\", # Can use Weights & Biases\n",
    "    output_dir = \"./Gemma-3-1B-GRPO-Vi-Medical-LoRA\",\n",
    "    fp16=True,  \n",
    "    bf16=False,\n",
    "    # For optional training + evaluation\n",
    "    # fp16_full_eval = True,\n",
    "    per_device_eval_batch_size = 8,\n",
    "    # eval_accumulation_steps = 2,\n",
    "    eval_strategy = \"steps\",\n",
    "    eval_steps = 200,\n",
    ")\n"
   ]
  },
  {
   "cell_type": "code",
   "execution_count": 33,
   "metadata": {
    "execution": {
     "iopub.execute_input": "2025-07-19T01:49:06.464317Z",
     "iopub.status.busy": "2025-07-19T01:49:06.463728Z",
     "iopub.status.idle": "2025-07-19T01:49:06.826496Z",
     "shell.execute_reply": "2025-07-19T01:49:06.825719Z",
     "shell.execute_reply.started": "2025-07-19T01:49:06.464295Z"
    },
    "trusted": true
   },
   "outputs": [
    {
     "name": "stdout",
     "output_type": "stream",
     "text": [
      "Unsloth: Switching to float32 training since model cannot work with float16\n"
     ]
    }
   ],
   "source": [
    "# Initialize trainer\n",
    "trainer = CustomGRPOTrainer(\n",
    "    model=model,  # Ensure model is defined\n",
    "    processing_class=tokenizer,  # Ensure tokenizer is defined\n",
    "    reward_funcs=[combined_reward_func],  # Ensure combined_reward_func is defined\n",
    "    args=training_args,\n",
    "    train_dataset=training_samples,  # Ensure training_samples is defined\n",
    "    eval_dataset=test_samples,  # Ensure test_samples is defined\n",
    ")\n"
   ]
  },
  {
   "cell_type": "markdown",
   "metadata": {},
   "source": [
    "# Start Training"
   ]
  },
  {
   "cell_type": "code",
   "execution_count": 34,
   "metadata": {
    "execution": {
     "iopub.execute_input": "2025-07-19T01:49:06.827521Z",
     "iopub.status.busy": "2025-07-19T01:49:06.827273Z",
     "iopub.status.idle": "2025-07-19T11:13:32.872177Z",
     "shell.execute_reply": "2025-07-19T11:13:32.870642Z",
     "shell.execute_reply.started": "2025-07-19T01:49:06.827493Z"
    },
    "trusted": true
   },
   "outputs": [
    {
     "name": "stderr",
     "output_type": "stream",
     "text": [
      "==((====))==  Unsloth - 2x faster free finetuning | Num GPUs used = 1\n",
      "   \\\\   /|    Num examples = 14,121 | Num Epochs = 3 | Total steps = 1,326\n",
      "O^O/ \\_/ \\    Batch size per device = 16 | Gradient accumulation steps = 4\n",
      "\\        /    Data Parallel GPUs = 1 | Total batch size (16 x 4 x 1) = 64\n",
      " \"-____-\"     Trainable parameters = 13,045,760 of 1,000,000,000 (1.30% trained)\n",
      "`generation_config` default values have been modified to match model-specific defaults: {'max_length': 32768, 'top_p': 0.95}. If this is not desired, please set these values explicitly.\n",
      "You have set `compile_config`, but we are unable to meet the criteria for compilation. Compilation will be skipped.\n"
     ]
    },
    {
     "data": {
      "application/vnd.jupyter.widget-view+json": {
       "model_id": "6923f8ae7faa400286252513999285ec",
       "version_major": 2,
       "version_minor": 0
      },
      "text/plain": [
       "config.json:   0%|          | 0.00/608 [00:00<?, ?B/s]"
      ]
     },
     "metadata": {},
     "output_type": "display_data"
    },
    {
     "data": {
      "application/vnd.jupyter.widget-view+json": {
       "model_id": "137d79d166d54324b737a6a5bdbca144",
       "version_major": 2,
       "version_minor": 0
      },
      "text/plain": [
       "model.safetensors:   0%|          | 0.00/499M [00:00<?, ?B/s]"
      ]
     },
     "metadata": {},
     "output_type": "display_data"
    },
    {
     "data": {
      "application/vnd.jupyter.widget-view+json": {
       "model_id": "283f980b3f9349fe8938379852e414cc",
       "version_major": 2,
       "version_minor": 0
      },
      "text/plain": [
       "tokenizer_config.json: 0.00B [00:00, ?B/s]"
      ]
     },
     "metadata": {},
     "output_type": "display_data"
    },
    {
     "data": {
      "application/vnd.jupyter.widget-view+json": {
       "model_id": "a8e959dac3ac40ee9dfc7b1b5fede73a",
       "version_major": 2,
       "version_minor": 0
      },
      "text/plain": [
       "vocab.json: 0.00B [00:00, ?B/s]"
      ]
     },
     "metadata": {},
     "output_type": "display_data"
    },
    {
     "data": {
      "application/vnd.jupyter.widget-view+json": {
       "model_id": "ff2ae863e5984adc95a79f479e1fcefe",
       "version_major": 2,
       "version_minor": 0
      },
      "text/plain": [
       "merges.txt: 0.00B [00:00, ?B/s]"
      ]
     },
     "metadata": {},
     "output_type": "display_data"
    },
    {
     "data": {
      "application/vnd.jupyter.widget-view+json": {
       "model_id": "63d95885c71e4fe18a876190a41413bf",
       "version_major": 2,
       "version_minor": 0
      },
      "text/plain": [
       "tokenizer.json: 0.00B [00:00, ?B/s]"
      ]
     },
     "metadata": {},
     "output_type": "display_data"
    },
    {
     "data": {
      "application/vnd.jupyter.widget-view+json": {
       "model_id": "a5e18b06d7584d24aa4d0416c8cc32f1",
       "version_major": 2,
       "version_minor": 0
      },
      "text/plain": [
       "special_tokens_map.json: 0.00B [00:00, ?B/s]"
      ]
     },
     "metadata": {},
     "output_type": "display_data"
    },
    {
     "data": {
      "application/vnd.jupyter.widget-view+json": {
       "model_id": "18926436dfa644928402864bd10b9f2c",
       "version_major": 2,
       "version_minor": 0
      },
      "text/plain": [
       "README.md: 0.00B [00:00, ?B/s]"
      ]
     },
     "metadata": {},
     "output_type": "display_data"
    },
    {
     "name": "stderr",
     "output_type": "stream",
     "text": [
      "Passing a tuple of `past_key_values` is deprecated and will be removed in Transformers v4.58.0. You should pass an instance of `EncoderDecoderCache` instead, e.g. `past_key_values=EncoderDecoderCache.from_legacy_cache(past_key_values)`.\n"
     ]
    },
    {
     "name": "stdout",
     "output_type": "stream",
     "text": [
      "Error in batch 0: Expected a cuda device, but got: cpu\n",
      "Error in batch 1: Expected a cuda device, but got: cpu\n",
      "Error in batch 2: Expected a cuda device, but got: cpu\n",
      "Error in batch 3: Expected a cuda device, but got: cpu\n",
      "Error in batch 4: Expected a cuda device, but got: cpu\n",
      "Error in batch 5: Expected a cuda device, but got: cpu\n",
      "Error in batch 6: Expected a cuda device, but got: cpu\n"
     ]
    },
    {
     "name": "stderr",
     "output_type": "stream",
     "text": [
      "`use_cache=True` is incompatible with gradient checkpointing. Setting `use_cache=False`.\n"
     ]
    },
    {
     "name": "stdout",
     "output_type": "stream",
     "text": [
      "Error in batch 7: Expected a cuda device, but got: cpu\n",
      "Unsloth: Will smartly offload gradients to save VRAM!\n"
     ]
    },
    {
     "data": {
      "text/html": [
       "\n",
       "    <div>\n",
       "      \n",
       "      <progress value='1325' max='1326' style='width:300px; height:20px; vertical-align: middle;'></progress>\n",
       "      [1325/1326 9:19:09 < 03:54, 0.00 it/s, Epoch 2/3]\n",
       "    </div>\n",
       "    <table border=\"1\" class=\"dataframe\">\n",
       "  <thead>\n",
       " <tr style=\"text-align: left;\">\n",
       "      <th>Step</th>\n",
       "      <th>Training Loss</th>\n",
       "      <th>Validation Loss</th>\n",
       "      <th>reward</th>\n",
       "      <th>reward_std</th>\n",
       "      <th>completions / mean_length</th>\n",
       "      <th>completions / min_length</th>\n",
       "      <th>completions / max_length</th>\n",
       "      <th>completions / clipped_ratio</th>\n",
       "      <th>completions / mean_terminated_length</th>\n",
       "      <th>completions / min_terminated_length</th>\n",
       "      <th>completions / max_terminated_length</th>\n",
       "      <th>kl</th>\n",
       "      <th>rewards / combined_reward_func / mean</th>\n",
       "      <th>rewards / combined_reward_func / std</th>\n",
       "    </tr>\n",
       "  </thead>\n",
       "  <tbody>\n",
       "    <tr>\n",
       "      <td>1200</td>\n",
       "      <td>0.000200</td>\n",
       "      <td>0.000166</td>\n",
       "      <td>0</td>\n",
       "      <td>0</td>\n",
       "      <td>0</td>\n",
       "      <td>0</td>\n",
       "      <td>0</td>\n",
       "      <td>0</td>\n",
       "      <td>0</td>\n",
       "      <td>0</td>\n",
       "      <td>0</td>\n",
       "      <td>0</td>\n",
       "      <td>0</td>\n",
       "      <td>0</td>\n",
       "    </tr>\n",
       "  </tbody>\n",
       "</table><p>"
      ],
      "text/plain": [
       "<IPython.core.display.HTML object>"
      ]
     },
     "metadata": {},
     "output_type": "display_data"
    },
    {
     "name": "stdout",
     "output_type": "stream",
     "text": [
      "Error in batch 0: Expected a cuda device, but got: cpu\n",
      "Error in batch 1: Expected a cuda device, but got: cpu\n",
      "Error in batch 2: Expected a cuda device, but got: cpu\n",
      "Error in batch 3: Expected a cuda device, but got: cpu\n",
      "Error in batch 4: Expected a cuda device, but got: cpu\n",
      "Error in batch 5: Expected a cuda device, but got: cpu\n",
      "Error in batch 6: Expected a cuda device, but got: cpu\n",
      "Error in batch 7: Expected a cuda device, but got: cpu\n",
      "Error in batch 0: Expected a cuda device, but got: cpu\n",
      "Error in batch 1: Expected a cuda device, but got: cpu\n",
      "Error in batch 2: Expected a cuda device, but got: cpu\n",
      "Error in batch 3: Expected a cuda device, but got: cpu\n",
      "Error in batch 4: Expected a cuda device, but got: cpu\n",
      "Error in batch 5: Expected a cuda device, but got: cpu\n",
      "Error in batch 6: Expected a cuda device, but got: cpu\n",
      "Error in batch 7: Expected a cuda device, but got: cpu\n",
      "Error in batch 0: Expected a cuda device, but got: cpu\n",
      "Error in batch 1: Expected a cuda device, but got: cpu\n",
      "Error in batch 2: Expected a cuda device, but got: cpu\n",
      "Error in batch 3: Expected a cuda device, but got: cpu\n",
      "Error in batch 4: Expected a cuda device, but got: cpu\n",
      "Error in batch 5: Expected a cuda device, but got: cpu\n",
      "Error in batch 6: Expected a cuda device, but got: cpu\n",
      "Error in batch 7: Expected a cuda device, but got: cpu\n",
      "Error in batch 0: Expected a cuda device, but got: cpu\n",
      "Error in batch 1: Expected a cuda device, but got: cpu\n",
      "Error in batch 2: Expected a cuda device, but got: cpu\n",
      "Error in batch 3: Expected a cuda device, but got: cpu\n",
      "Error in batch 4: Expected a cuda device, but got: cpu\n",
      "Error in batch 5: Expected a cuda device, but got: cpu\n",
      "Error in batch 6: Expected a cuda device, but got: cpu\n",
      "Error in batch 7: Expected a cuda device, but got: cpu\n",
      "Error in batch 0: Expected a cuda device, but got: cpu\n",
      "Error in batch 1: Expected a cuda device, but got: cpu\n",
      "Error in batch 2: Expected a cuda device, but got: cpu\n",
      "Error in batch 3: Expected a cuda device, but got: cpu\n",
      "Error in batch 4: Expected a cuda device, but got: cpu\n",
      "Error in batch 5: Expected a cuda device, but got: cpu\n",
      "Error in batch 6: Expected a cuda device, but got: cpu\n",
      "Error in batch 7: Expected a cuda device, but got: cpu\n",
      "Error in batch 0: Expected a cuda device, but got: cpu\n",
      "Error in batch 1: Expected a cuda device, but got: cpu\n",
      "Error in batch 0: Expected a cuda device, but got: cpu\n",
      "Error in batch 1: Expected a cuda device, but got: cpu\n",
      "Error in batch 2: Expected a cuda device, but got: cpu\n",
      "Error in batch 3: Expected a cuda device, but got: cpu\n",
      "Error in batch 4: Expected a cuda device, but got: cpu\n",
      "Error in batch 5: Expected a cuda device, but got: cpu\n",
      "Error in batch 6: Expected a cuda device, but got: cpu\n",
      "Error in batch 7: Expected a cuda device, but got: cpu\n",
      "Error in batch 0: Expected a cuda device, but got: cpu\n",
      "Error in batch 1: Expected a cuda device, but got: cpu\n",
      "Error in batch 2: Expected a cuda device, but got: cpu\n",
      "Error in batch 3: Expected a cuda device, but got: cpu\n",
      "Error in batch 4: Expected a cuda device, but got: cpu\n",
      "Error in batch 5: Expected a cuda device, but got: cpu\n",
      "Error in batch 6: Expected a cuda device, but got: cpu\n",
      "Error in batch 7: Expected a cuda device, but got: cpu\n",
      "Error in batch 0: Expected a cuda device, but got: cpu\n",
      "Error in batch 1: Expected a cuda device, but got: cpu\n",
      "Error in batch 2: Expected a cuda device, but got: cpu\n",
      "Error in batch 3: Expected a cuda device, but got: cpu\n",
      "Error in batch 0: Expected a cuda device, but got: cpu\n",
      "Error in batch 1: Expected a cuda device, but got: cpu\n",
      "Error in batch 2: Expected a cuda device, but got: cpu\n",
      "Error in batch 3: Expected a cuda device, but got: cpu\n",
      "Error in batch 4: Expected a cuda device, but got: cpu\n",
      "Error in batch 5: Expected a cuda device, but got: cpu\n",
      "Error in batch 6: Expected a cuda device, but got: cpu\n",
      "Error in batch 7: Expected a cuda device, but got: cpu\n",
      "Error in batch 0: Expected a cuda device, but got: cpu\n",
      "Error in batch 1: Expected a cuda device, but got: cpu\n",
      "Error in batch 2: Expected a cuda device, but got: cpu\n",
      "Error in batch 3: Expected a cuda device, but got: cpu\n",
      "Error in batch 4: Expected a cuda device, but got: cpu\n",
      "Error in batch 5: Expected a cuda device, but got: cpu\n",
      "Error in batch 6: Expected a cuda device, but got: cpu\n",
      "Error in batch 7: Expected a cuda device, but got: cpu\n",
      "Error in batch 0: Expected a cuda device, but got: cpu\n",
      "Error in batch 1: Expected a cuda device, but got: cpu\n",
      "Error in batch 2: Expected a cuda device, but got: cpu\n",
      "Error in batch 3: Expected a cuda device, but got: cpu\n",
      "Error in batch 4: Expected a cuda device, but got: cpu\n",
      "Error in batch 5: Expected a cuda device, but got: cpu\n",
      "Error in batch 6: Expected a cuda device, but got: cpu\n",
      "Error in batch 7: Expected a cuda device, but got: cpu\n",
      "Error in batch 0: Expected a cuda device, but got: cpu\n",
      "Error in batch 1: Expected a cuda device, but got: cpu\n",
      "Error in batch 2: Expected a cuda device, but got: cpu\n",
      "Error in batch 3: Expected a cuda device, but got: cpu\n",
      "Error in batch 4: Expected a cuda device, but got: cpu\n",
      "Error in batch 5: Expected a cuda device, but got: cpu\n",
      "Error in batch 6: Expected a cuda device, but got: cpu\n",
      "Error in batch 7: Expected a cuda device, but got: cpu\n",
      "Error in batch 0: Expected a cuda device, but got: cpu\n",
      "Error in batch 1: Expected a cuda device, but got: cpu\n",
      "Error in batch 2: Expected a cuda device, but got: cpu\n",
      "Error in batch 3: Expected a cuda device, but got: cpu\n",
      "Error in batch 4: Expected a cuda device, but got: cpu\n",
      "Error in batch 5: Expected a cuda device, but got: cpu\n",
      "Error in batch 6: Expected a cuda device, but got: cpu\n",
      "Error in batch 7: Expected a cuda device, but got: cpu\n",
      "Error in batch 0: Expected a cuda device, but got: cpu\n",
      "Error in batch 1: Expected a cuda device, but got: cpu\n",
      "Error in batch 2: Expected a cuda device, but got: cpu\n",
      "Error in batch 3: Expected a cuda device, but got: cpu\n",
      "Error in batch 4: Expected a cuda device, but got: cpu\n",
      "Error in batch 5: Expected a cuda device, but got: cpu\n",
      "Error in batch 6: Expected a cuda device, but got: cpu\n",
      "Error in batch 7: Expected a cuda device, but got: cpu\n",
      "Error in batch 0: Expected a cuda device, but got: cpu\n",
      "Error in batch 1: Expected a cuda device, but got: cpu\n",
      "Error in batch 2: Expected a cuda device, but got: cpu\n",
      "Error in batch 3: Expected a cuda device, but got: cpu\n",
      "Error in batch 4: Expected a cuda device, but got: cpu\n",
      "Error in batch 5: Expected a cuda device, but got: cpu\n",
      "Error in batch 6: Expected a cuda device, but got: cpu\n",
      "Error in batch 7: Expected a cuda device, but got: cpu\n",
      "Error in batch 0: Expected a cuda device, but got: cpu\n",
      "Error in batch 1: Expected a cuda device, but got: cpu\n",
      "Error in batch 2: Expected a cuda device, but got: cpu\n",
      "Error in batch 3: Expected a cuda device, but got: cpu\n",
      "Error in batch 4: Expected a cuda device, but got: cpu\n",
      "Error in batch 5: Expected a cuda device, but got: cpu\n",
      "Error in batch 6: Expected a cuda device, but got: cpu\n",
      "Error in batch 7: Expected a cuda device, but got: cpu\n",
      "Error in batch 0: Expected a cuda device, but got: cpu\n",
      "Error in batch 1: Expected a cuda device, but got: cpu\n",
      "Error in batch 2: Expected a cuda device, but got: cpu\n",
      "Error in batch 3: Expected a cuda device, but got: cpu\n",
      "Error in batch 4: Expected a cuda device, but got: cpu\n",
      "Error in batch 5: Expected a cuda device, but got: cpu\n",
      "Error in batch 6: Expected a cuda device, but got: cpu\n",
      "Error in batch 7: Expected a cuda device, but got: cpu\n",
      "Error in batch 0: Expected a cuda device, but got: cpu\n",
      "Error in batch 1: Expected a cuda device, but got: cpu\n",
      "Error in batch 0: Expected a cuda device, but got: cpu\n",
      "Error in batch 1: Expected a cuda device, but got: cpu\n",
      "Error in batch 0: Expected a cuda device, but got: cpu\n",
      "Error in batch 1: Expected a cuda device, but got: cpu\n",
      "Error in batch 0: Expected a cuda device, but got: cpu\n",
      "Error in batch 1: Expected a cuda device, but got: cpu\n",
      "Error in batch 0: Expected a cuda device, but got: cpu\n",
      "Error in batch 1: Expected a cuda device, but got: cpu\n",
      "Error in batch 0: Expected a cuda device, but got: cpu\n",
      "Error in batch 1: Expected a cuda device, but got: cpu\n",
      "Error in batch 0: Expected a cuda device, but got: cpu\n",
      "Error in batch 1: Expected a cuda device, but got: cpu\n",
      "Error in batch 0: Expected a cuda device, but got: cpu\n",
      "Error in batch 1: Expected a cuda device, but got: cpu\n",
      "Error in batch 0: Expected a cuda device, but got: cpu\n",
      "Error in batch 1: Expected a cuda device, but got: cpu\n",
      "Error in batch 0: Expected a cuda device, but got: cpu\n",
      "Error in batch 1: Expected a cuda device, but got: cpu\n",
      "Error in batch 0: Expected a cuda device, but got: cpu\n",
      "Error in batch 1: Expected a cuda device, but got: cpu\n",
      "Error in batch 0: Expected a cuda device, but got: cpu\n",
      "Error in batch 1: Expected a cuda device, but got: cpu\n",
      "Error in batch 0: Expected a cuda device, but got: cpu\n",
      "Error in batch 1: Expected a cuda device, but got: cpu\n",
      "Error in batch 0: Expected a cuda device, but got: cpu\n",
      "Error in batch 1: Expected a cuda device, but got: cpu\n",
      "Error in batch 0: Expected a cuda device, but got: cpu\n",
      "Error in batch 1: Expected a cuda device, but got: cpu\n",
      "Error in batch 0: Expected a cuda device, but got: cpu\n",
      "Error in batch 1: Expected a cuda device, but got: cpu\n",
      "Error in batch 0: Expected a cuda device, but got: cpu\n",
      "Error in batch 1: Expected a cuda device, but got: cpu\n",
      "Error in batch 0: Expected a cuda device, but got: cpu\n",
      "Error in batch 1: Expected a cuda device, but got: cpu\n",
      "Error in batch 0: Expected a cuda device, but got: cpu\n",
      "Error in batch 1: Expected a cuda device, but got: cpu\n",
      "Error in batch 0: Expected a cuda device, but got: cpu\n",
      "Error in batch 1: Expected a cuda device, but got: cpu\n",
      "Error in batch 0: Expected a cuda device, but got: cpu\n",
      "Error in batch 1: Expected a cuda device, but got: cpu\n",
      "Error in batch 0: Expected a cuda device, but got: cpu\n",
      "Error in batch 1: Expected a cuda device, but got: cpu\n",
      "Error in batch 0: Expected a cuda device, but got: cpu\n",
      "Error in batch 1: Expected a cuda device, but got: cpu\n",
      "Error in batch 0: Expected a cuda device, but got: cpu\n",
      "Error in batch 1: Expected a cuda device, but got: cpu\n",
      "Error in batch 0: Expected a cuda device, but got: cpu\n",
      "Error in batch 1: Expected a cuda device, but got: cpu\n",
      "Error in batch 0: Expected a cuda device, but got: cpu\n",
      "Error in batch 1: Expected a cuda device, but got: cpu\n",
      "Error in batch 0: Expected a cuda device, but got: cpu\n",
      "Error in batch 1: Expected a cuda device, but got: cpu\n",
      "Error in batch 0: Expected a cuda device, but got: cpu\n",
      "Error in batch 1: Expected a cuda device, but got: cpu\n",
      "Error in batch 0: Expected a cuda device, but got: cpu\n",
      "Error in batch 1: Expected a cuda device, but got: cpu\n",
      "Error in batch 0: Expected a cuda device, but got: cpu\n",
      "Error in batch 1: Expected a cuda device, but got: cpu\n",
      "Error in batch 0: Expected a cuda device, but got: cpu\n",
      "Error in batch 1: Expected a cuda device, but got: cpu\n",
      "Error in batch 0: Expected a cuda device, but got: cpu\n",
      "Error in batch 1: Expected a cuda device, but got: cpu\n",
      "Error in batch 0: Expected a cuda device, but got: cpu\n",
      "Error in batch 1: Expected a cuda device, but got: cpu\n",
      "Error in batch 0: Expected a cuda device, but got: cpu\n",
      "Error in batch 1: Expected a cuda device, but got: cpu\n",
      "Error in batch 0: Expected a cuda device, but got: cpu\n",
      "Error in batch 1: Expected a cuda device, but got: cpu\n",
      "Error in batch 0: Expected a cuda device, but got: cpu\n",
      "Error in batch 1: Expected a cuda device, but got: cpu\n",
      "Error in batch 0: Expected a cuda device, but got: cpu\n",
      "Error in batch 1: Expected a cuda device, but got: cpu\n",
      "Error in batch 0: Expected a cuda device, but got: cpu\n",
      "Error in batch 1: Expected a cuda device, but got: cpu\n",
      "Error in batch 0: Expected a cuda device, but got: cpu\n",
      "Error in batch 1: Expected a cuda device, but got: cpu\n",
      "Error in batch 0: Expected a cuda device, but got: cpu\n",
      "Error in batch 1: Expected a cuda device, but got: cpu\n",
      "Error in batch 0: Expected a cuda device, but got: cpu\n",
      "Error in batch 1: Expected a cuda device, but got: cpu\n",
      "Error in batch 0: Expected a cuda device, but got: cpu\n",
      "Error in batch 1: Expected a cuda device, but got: cpu\n",
      "Error in batch 0: Expected a cuda device, but got: cpu\n",
      "Error in batch 1: Expected a cuda device, but got: cpu\n",
      "Error in batch 0: Expected a cuda device, but got: cpu\n",
      "Error in batch 1: Expected a cuda device, but got: cpu\n",
      "Error in batch 0: Expected a cuda device, but got: cpu\n",
      "Error in batch 1: Expected a cuda device, but got: cpu\n",
      "Error in batch 0: Expected a cuda device, but got: cpu\n",
      "Error in batch 1: Expected a cuda device, but got: cpu\n",
      "Error in batch 0: Expected a cuda device, but got: cpu\n",
      "Error in batch 1: Expected a cuda device, but got: cpu\n",
      "Error in batch 2: Expected a cuda device, but got: cpu\n",
      "Error in batch 3: Expected a cuda device, but got: cpu\n",
      "Error in batch 4: Expected a cuda device, but got: cpu\n",
      "Error in batch 5: Expected a cuda device, but got: cpu\n",
      "Error in batch 6: Expected a cuda device, but got: cpu\n",
      "Error in batch 7: Expected a cuda device, but got: cpu\n",
      "Error in batch 0: Expected a cuda device, but got: cpu\n",
      "Error in batch 1: Expected a cuda device, but got: cpu\n",
      "Error in batch 2: Expected a cuda device, but got: cpu\n",
      "Error in batch 3: Expected a cuda device, but got: cpu\n",
      "Error in batch 4: Expected a cuda device, but got: cpu\n",
      "Error in batch 5: Expected a cuda device, but got: cpu\n",
      "Error in batch 6: Expected a cuda device, but got: cpu\n",
      "Error in batch 7: Expected a cuda device, but got: cpu\n",
      "Error in batch 0: Expected a cuda device, but got: cpu\n",
      "Error in batch 1: Expected a cuda device, but got: cpu\n",
      "Error in batch 2: Expected a cuda device, but got: cpu\n",
      "Error in batch 3: Expected a cuda device, but got: cpu\n",
      "Error in batch 4: Expected a cuda device, but got: cpu\n",
      "Error in batch 5: Expected a cuda device, but got: cpu\n",
      "Error in batch 6: Expected a cuda device, but got: cpu\n",
      "Error in batch 7: Expected a cuda device, but got: cpu\n",
      "Error in batch 0: Expected a cuda device, but got: cpu\n",
      "Error in batch 1: Expected a cuda device, but got: cpu\n",
      "Error in batch 2: Expected a cuda device, but got: cpu\n",
      "Error in batch 3: Expected a cuda device, but got: cpu\n",
      "Error in batch 4: Expected a cuda device, but got: cpu\n",
      "Error in batch 5: Expected a cuda device, but got: cpu\n",
      "Error in batch 6: Expected a cuda device, but got: cpu\n",
      "Error in batch 7: Expected a cuda device, but got: cpu\n",
      "Error in batch 0: Expected a cuda device, but got: cpu\n",
      "Error in batch 1: Expected a cuda device, but got: cpu\n",
      "Error in batch 2: Expected a cuda device, but got: cpu\n",
      "Error in batch 3: Expected a cuda device, but got: cpu\n",
      "Error in batch 4: Expected a cuda device, but got: cpu\n",
      "Error in batch 5: Expected a cuda device, but got: cpu\n",
      "Error in batch 6: Expected a cuda device, but got: cpu\n",
      "Error in batch 7: Expected a cuda device, but got: cpu\n",
      "Error in batch 0: Expected a cuda device, but got: cpu\n",
      "Error in batch 1: Expected a cuda device, but got: cpu\n",
      "Error in batch 2: Expected a cuda device, but got: cpu\n",
      "Error in batch 3: Expected a cuda device, but got: cpu\n",
      "Error in batch 4: Expected a cuda device, but got: cpu\n",
      "Error in batch 5: Expected a cuda device, but got: cpu\n",
      "Error in batch 6: Expected a cuda device, but got: cpu\n",
      "Error in batch 7: Expected a cuda device, but got: cpu\n",
      "Error in batch 0: Expected a cuda device, but got: cpu\n",
      "Error in batch 1: Expected a cuda device, but got: cpu\n",
      "Error in batch 2: Expected a cuda device, but got: cpu\n",
      "Error in batch 3: Expected a cuda device, but got: cpu\n",
      "Error in batch 4: Expected a cuda device, but got: cpu\n",
      "Error in batch 5: Expected a cuda device, but got: cpu\n",
      "Error in batch 6: Expected a cuda device, but got: cpu\n",
      "Error in batch 7: Expected a cuda device, but got: cpu\n",
      "Error in batch 0: Expected a cuda device, but got: cpu\n",
      "Error in batch 1: Expected a cuda device, but got: cpu\n",
      "Error in batch 2: Expected a cuda device, but got: cpu\n",
      "Error in batch 3: Expected a cuda device, but got: cpu\n",
      "Error in batch 4: Expected a cuda device, but got: cpu\n",
      "Error in batch 5: Expected a cuda device, but got: cpu\n",
      "Error in batch 6: Expected a cuda device, but got: cpu\n",
      "Error in batch 7: Expected a cuda device, but got: cpu\n",
      "Error in batch 0: Expected a cuda device, but got: cpu\n",
      "Error in batch 1: Expected a cuda device, but got: cpu\n",
      "Error in batch 2: Expected a cuda device, but got: cpu\n",
      "Error in batch 3: Expected a cuda device, but got: cpu\n",
      "Error in batch 4: Expected a cuda device, but got: cpu\n",
      "Error in batch 5: Expected a cuda device, but got: cpu\n",
      "Error in batch 6: Expected a cuda device, but got: cpu\n",
      "Error in batch 7: Expected a cuda device, but got: cpu\n",
      "Error in batch 0: Expected a cuda device, but got: cpu\n",
      "Error in batch 1: Expected a cuda device, but got: cpu\n",
      "Error in batch 2: Expected a cuda device, but got: cpu\n",
      "Error in batch 3: Expected a cuda device, but got: cpu\n",
      "Error in batch 4: Expected a cuda device, but got: cpu\n",
      "Error in batch 5: Expected a cuda device, but got: cpu\n",
      "Error in batch 6: Expected a cuda device, but got: cpu\n",
      "Error in batch 7: Expected a cuda device, but got: cpu\n",
      "Error in batch 0: Expected a cuda device, but got: cpu\n",
      "Error in batch 1: Expected a cuda device, but got: cpu\n",
      "Error in batch 2: Expected a cuda device, but got: cpu\n",
      "Error in batch 3: Expected a cuda device, but got: cpu\n",
      "Error in batch 4: Expected a cuda device, but got: cpu\n",
      "Error in batch 5: Expected a cuda device, but got: cpu\n",
      "Error in batch 6: Expected a cuda device, but got: cpu\n",
      "Error in batch 7: Expected a cuda device, but got: cpu\n",
      "Error in batch 0: Expected a cuda device, but got: cpu\n",
      "Error in batch 1: Expected a cuda device, but got: cpu\n",
      "Error in batch 2: Expected a cuda device, but got: cpu\n",
      "Error in batch 3: Expected a cuda device, but got: cpu\n",
      "Error in batch 4: Expected a cuda device, but got: cpu\n",
      "Error in batch 5: Expected a cuda device, but got: cpu\n",
      "Error in batch 6: Expected a cuda device, but got: cpu\n",
      "Error in batch 7: Expected a cuda device, but got: cpu\n",
      "Error in batch 0: Expected a cuda device, but got: cpu\n",
      "Error in batch 1: Expected a cuda device, but got: cpu\n",
      "Error in batch 2: Expected a cuda device, but got: cpu\n",
      "Error in batch 3: Expected a cuda device, but got: cpu\n",
      "Error in batch 4: Expected a cuda device, but got: cpu\n",
      "Error in batch 5: Expected a cuda device, but got: cpu\n",
      "Error in batch 6: Expected a cuda device, but got: cpu\n",
      "Error in batch 7: Expected a cuda device, but got: cpu\n",
      "Error in batch 0: Expected a cuda device, but got: cpu\n",
      "Error in batch 1: Expected a cuda device, but got: cpu\n",
      "Error in batch 2: Expected a cuda device, but got: cpu\n",
      "Error in batch 3: Expected a cuda device, but got: cpu\n",
      "Error in batch 4: Expected a cuda device, but got: cpu\n",
      "Error in batch 5: Expected a cuda device, but got: cpu\n",
      "Error in batch 6: Expected a cuda device, but got: cpu\n",
      "Error in batch 7: Expected a cuda device, but got: cpu\n",
      "Error in batch 0: Expected a cuda device, but got: cpu\n",
      "Error in batch 1: Expected a cuda device, but got: cpu\n",
      "Error in batch 2: Expected a cuda device, but got: cpu\n",
      "Error in batch 3: Expected a cuda device, but got: cpu\n",
      "Error in batch 4: Expected a cuda device, but got: cpu\n",
      "Error in batch 5: Expected a cuda device, but got: cpu\n",
      "Error in batch 6: Expected a cuda device, but got: cpu\n",
      "Error in batch 7: Expected a cuda device, but got: cpu\n",
      "Error in batch 0: Expected a cuda device, but got: cpu\n",
      "Error in batch 1: Expected a cuda device, but got: cpu\n",
      "Error in batch 2: Expected a cuda device, but got: cpu\n",
      "Error in batch 3: Expected a cuda device, but got: cpu\n",
      "Error in batch 4: Expected a cuda device, but got: cpu\n",
      "Error in batch 5: Expected a cuda device, but got: cpu\n",
      "Error in batch 6: Expected a cuda device, but got: cpu\n",
      "Error in batch 7: Expected a cuda device, but got: cpu\n",
      "Error in batch 0: Expected a cuda device, but got: cpu\n",
      "Error in batch 1: Expected a cuda device, but got: cpu\n",
      "Error in batch 2: Expected a cuda device, but got: cpu\n",
      "Error in batch 3: Expected a cuda device, but got: cpu\n",
      "Error in batch 4: Expected a cuda device, but got: cpu\n",
      "Error in batch 5: Expected a cuda device, but got: cpu\n",
      "Error in batch 6: Expected a cuda device, but got: cpu\n",
      "Error in batch 7: Expected a cuda device, but got: cpu\n",
      "Error in batch 1: Expected a cuda device, but got: cpu\n",
      "Error in batch 2: Expected a cuda device, but got: cpu\n",
      "Error in batch 3: Expected a cuda device, but got: cpu\n",
      "Error in batch 4: Expected a cuda device, but got: cpu\n",
      "Error in batch 5: Expected a cuda device, but got: cpu\n",
      "Error in batch 6: Expected a cuda device, but got: cpu\n",
      "Error in batch 7: Expected a cuda device, but got: cpu\n",
      "Error in batch 0: Expected a cuda device, but got: cpu\n",
      "Error in batch 1: Expected a cuda device, but got: cpu\n",
      "Error in batch 2: Expected a cuda device, but got: cpu\n",
      "Error in batch 3: Expected a cuda device, but got: cpu\n",
      "Error in batch 4: Expected a cuda device, but got: cpu\n",
      "Error in batch 5: Expected a cuda device, but got: cpu\n",
      "Error in batch 6: Expected a cuda device, but got: cpu\n",
      "Error in batch 7: Expected a cuda device, but got: cpu\n",
      "Error in batch 0: Expected a cuda device, but got: cpu\n",
      "Error in batch 1: Expected a cuda device, but got: cpu\n",
      "Error in batch 2: Expected a cuda device, but got: cpu\n",
      "Error in batch 3: Expected a cuda device, but got: cpu\n",
      "Error in batch 4: Expected a cuda device, but got: cpu\n",
      "Error in batch 5: Expected a cuda device, but got: cpu\n",
      "Error in batch 6: Expected a cuda device, but got: cpu\n",
      "Error in batch 7: Expected a cuda device, but got: cpu\n",
      "Error in batch 0: Expected a cuda device, but got: cpu\n",
      "Error in batch 1: Expected a cuda device, but got: cpu\n",
      "Error in batch 2: Expected a cuda device, but got: cpu\n",
      "Error in batch 3: Expected a cuda device, but got: cpu\n",
      "Error in batch 4: Expected a cuda device, but got: cpu\n",
      "Error in batch 5: Expected a cuda device, but got: cpu\n",
      "Error in batch 6: Expected a cuda device, but got: cpu\n",
      "Error in batch 7: Expected a cuda device, but got: cpu\n",
      "Error in batch 0: Expected a cuda device, but got: cpu\n",
      "Error in batch 1: Expected a cuda device, but got: cpu\n",
      "Error in batch 2: Expected a cuda device, but got: cpu\n",
      "Error in batch 3: Expected a cuda device, but got: cpu\n",
      "Error in batch 4: Expected a cuda device, but got: cpu\n",
      "Error in batch 5: Expected a cuda device, but got: cpu\n",
      "Error in batch 6: Expected a cuda device, but got: cpu\n",
      "Error in batch 7: Expected a cuda device, but got: cpu\n",
      "Error in batch 0: Expected a cuda device, but got: cpu\n",
      "Error in batch 1: Expected a cuda device, but got: cpu\n",
      "Error in batch 2: Expected a cuda device, but got: cpu\n",
      "Error in batch 3: Expected a cuda device, but got: cpu\n",
      "Error in batch 4: Expected a cuda device, but got: cpu\n",
      "Error in batch 5: Expected a cuda device, but got: cpu\n",
      "Error in batch 6: Expected a cuda device, but got: cpu\n",
      "Error in batch 7: Expected a cuda device, but got: cpu\n",
      "Error in batch 0: Expected a cuda device, but got: cpu\n",
      "Error in batch 1: Expected a cuda device, but got: cpu\n",
      "Error in batch 0: Expected a cuda device, but got: cpu\n",
      "Error in batch 1: Expected a cuda device, but got: cpu\n",
      "Error in batch 2: Expected a cuda device, but got: cpu\n",
      "Error in batch 3: Expected a cuda device, but got: cpu\n",
      "Error in batch 4: Expected a cuda device, but got: cpu\n",
      "Error in batch 5: Expected a cuda device, but got: cpu\n",
      "Error in batch 6: Expected a cuda device, but got: cpu\n",
      "Error in batch 7: Expected a cuda device, but got: cpu\n",
      "Error in batch 0: Expected a cuda device, but got: cpu\n",
      "Error in batch 1: Expected a cuda device, but got: cpu\n",
      "Error in batch 2: Expected a cuda device, but got: cpu\n",
      "Error in batch 3: Expected a cuda device, but got: cpu\n",
      "Error in batch 4: Expected a cuda device, but got: cpu\n",
      "Error in batch 5: Expected a cuda device, but got: cpu\n",
      "Error in batch 6: Expected a cuda device, but got: cpu\n",
      "Error in batch 7: Expected a cuda device, but got: cpu\n",
      "Error in batch 0: Expected a cuda device, but got: cpu\n",
      "Error in batch 1: Expected a cuda device, but got: cpu\n",
      "Error in batch 2: Expected a cuda device, but got: cpu\n",
      "Error in batch 3: Expected a cuda device, but got: cpu\n",
      "Error in batch 4: Expected a cuda device, but got: cpu\n",
      "Error in batch 5: Expected a cuda device, but got: cpu\n",
      "Error in batch 6: Expected a cuda device, but got: cpu\n",
      "Error in batch 7: Expected a cuda device, but got: cpu\n",
      "Error in batch 0: Expected a cuda device, but got: cpu\n",
      "Error in batch 1: Expected a cuda device, but got: cpu\n",
      "Error in batch 2: Expected a cuda device, but got: cpu\n",
      "Error in batch 3: Expected a cuda device, but got: cpu\n",
      "Error in batch 4: Expected a cuda device, but got: cpu\n",
      "Error in batch 5: Expected a cuda device, but got: cpu\n",
      "Error in batch 6: Expected a cuda device, but got: cpu\n",
      "Error in batch 7: Expected a cuda device, but got: cpu\n",
      "Error in batch 0: Expected a cuda device, but got: cpu\n",
      "Error in batch 1: Expected a cuda device, but got: cpu\n",
      "Error in batch 2: Expected a cuda device, but got: cpu\n",
      "Error in batch 3: Expected a cuda device, but got: cpu\n",
      "Error in batch 4: Expected a cuda device, but got: cpu\n",
      "Error in batch 5: Expected a cuda device, but got: cpu\n",
      "Error in batch 6: Expected a cuda device, but got: cpu\n",
      "Error in batch 7: Expected a cuda device, but got: cpu\n",
      "Error in batch 0: Expected a cuda device, but got: cpu\n",
      "Error in batch 1: Expected a cuda device, but got: cpu\n",
      "Error in batch 2: Expected a cuda device, but got: cpu\n",
      "Error in batch 3: Expected a cuda device, but got: cpu\n",
      "Error in batch 4: Expected a cuda device, but got: cpu\n",
      "Error in batch 5: Expected a cuda device, but got: cpu\n",
      "Error in batch 6: Expected a cuda device, but got: cpu\n",
      "Error in batch 7: Expected a cuda device, but got: cpu\n",
      "Error in batch 5: Expected a cuda device, but got: cpu\n",
      "Error in batch 6: Expected a cuda device, but got: cpu\n",
      "Error in batch 7: Expected a cuda device, but got: cpu\n",
      "Error in batch 0: Expected a cuda device, but got: cpu\n",
      "Error in batch 1: Expected a cuda device, but got: cpu\n",
      "Error in batch 2: Expected a cuda device, but got: cpu\n",
      "Error in batch 3: Expected a cuda device, but got: cpu\n",
      "Error in batch 4: Expected a cuda device, but got: cpu\n",
      "Error in batch 5: Expected a cuda device, but got: cpu\n",
      "Error in batch 6: Expected a cuda device, but got: cpu\n",
      "Error in batch 7: Expected a cuda device, but got: cpu\n",
      "Error in batch 0: Expected a cuda device, but got: cpu\n",
      "Error in batch 1: Expected a cuda device, but got: cpu\n",
      "Error in batch 2: Expected a cuda device, but got: cpu\n",
      "Error in batch 3: Expected a cuda device, but got: cpu\n",
      "Error in batch 4: Expected a cuda device, but got: cpu\n",
      "Error in batch 5: Expected a cuda device, but got: cpu\n",
      "Error in batch 6: Expected a cuda device, but got: cpu\n",
      "Error in batch 7: Expected a cuda device, but got: cpu\n",
      "Error in batch 0: Expected a cuda device, but got: cpu\n",
      "Error in batch 1: Expected a cuda device, but got: cpu\n",
      "Error in batch 2: Expected a cuda device, but got: cpu\n",
      "Error in batch 3: Expected a cuda device, but got: cpu\n",
      "Error in batch 4: Expected a cuda device, but got: cpu\n",
      "Error in batch 5: Expected a cuda device, but got: cpu\n",
      "Error in batch 6: Expected a cuda device, but got: cpu\n",
      "Error in batch 7: Expected a cuda device, but got: cpu\n",
      "Error in batch 0: Expected a cuda device, but got: cpu\n",
      "Error in batch 1: Expected a cuda device, but got: cpu\n",
      "Error in batch 2: Expected a cuda device, but got: cpu\n",
      "Error in batch 3: Expected a cuda device, but got: cpu\n",
      "Error in batch 4: Expected a cuda device, but got: cpu\n",
      "Error in batch 5: Expected a cuda device, but got: cpu\n",
      "Error in batch 6: Expected a cuda device, but got: cpu\n",
      "Error in batch 7: Expected a cuda device, but got: cpu\n",
      "Error in batch 0: Expected a cuda device, but got: cpu\n",
      "Error in batch 1: Expected a cuda device, but got: cpu\n",
      "Error in batch 2: Expected a cuda device, but got: cpu\n",
      "Error in batch 3: Expected a cuda device, but got: cpu\n",
      "Error in batch 4: Expected a cuda device, but got: cpu\n",
      "Error in batch 5: Expected a cuda device, but got: cpu\n",
      "Error in batch 6: Expected a cuda device, but got: cpu\n",
      "Error in batch 7: Expected a cuda device, but got: cpu\n",
      "Error in batch 0: Expected a cuda device, but got: cpu\n",
      "Error in batch 1: Expected a cuda device, but got: cpu\n",
      "Error in batch 2: Expected a cuda device, but got: cpu\n",
      "Error in batch 3: Expected a cuda device, but got: cpu\n",
      "Error in batch 4: Expected a cuda device, but got: cpu\n",
      "Error in batch 5: Expected a cuda device, but got: cpu\n",
      "Error in batch 6: Expected a cuda device, but got: cpu\n",
      "Error in batch 7: Expected a cuda device, but got: cpu\n",
      "Error in batch 0: Expected a cuda device, but got: cpu\n",
      "Error in batch 1: Expected a cuda device, but got: cpu\n",
      "Error in batch 2: Expected a cuda device, but got: cpu\n",
      "Error in batch 3: Expected a cuda device, but got: cpu\n",
      "Error in batch 4: Expected a cuda device, but got: cpu\n",
      "Error in batch 5: Expected a cuda device, but got: cpu\n",
      "Error in batch 6: Expected a cuda device, but got: cpu\n",
      "Error in batch 7: Expected a cuda device, but got: cpu\n",
      "Error in batch 0: Expected a cuda device, but got: cpu\n",
      "Error in batch 1: Expected a cuda device, but got: cpu\n",
      "Error in batch 2: Expected a cuda device, but got: cpu\n",
      "Error in batch 3: Expected a cuda device, but got: cpu\n",
      "Error in batch 4: Expected a cuda device, but got: cpu\n",
      "Error in batch 5: Expected a cuda device, but got: cpu\n",
      "Error in batch 6: Expected a cuda device, but got: cpu\n",
      "Error in batch 7: Expected a cuda device, but got: cpu\n",
      "Error in batch 0: Expected a cuda device, but got: cpu\n",
      "Error in batch 1: Expected a cuda device, but got: cpu\n",
      "Error in batch 2: Expected a cuda device, but got: cpu\n",
      "Error in batch 3: Expected a cuda device, but got: cpu\n",
      "Error in batch 4: Expected a cuda device, but got: cpu\n",
      "Error in batch 5: Expected a cuda device, but got: cpu\n",
      "Error in batch 6: Expected a cuda device, but got: cpu\n",
      "Error in batch 7: Expected a cuda device, but got: cpu\n",
      "Error in batch 0: Expected a cuda device, but got: cpu\n",
      "Error in batch 1: Expected a cuda device, but got: cpu\n",
      "Error in batch 2: Expected a cuda device, but got: cpu\n",
      "Error in batch 3: Expected a cuda device, but got: cpu\n",
      "Error in batch 4: Expected a cuda device, but got: cpu\n",
      "Error in batch 5: Expected a cuda device, but got: cpu\n",
      "Error in batch 6: Expected a cuda device, but got: cpu\n",
      "Error in batch 7: Expected a cuda device, but got: cpu\n",
      "Error in batch 0: Expected a cuda device, but got: cpu\n",
      "Error in batch 1: Expected a cuda device, but got: cpu\n",
      "Error in batch 2: Expected a cuda device, but got: cpu\n",
      "Error in batch 3: Expected a cuda device, but got: cpu\n",
      "Error in batch 4: Expected a cuda device, but got: cpu\n",
      "Error in batch 5: Expected a cuda device, but got: cpu\n",
      "Error in batch 6: Expected a cuda device, but got: cpu\n",
      "Error in batch 7: Expected a cuda device, but got: cpu\n",
      "Error in batch 0: Expected a cuda device, but got: cpu\n",
      "Error in batch 1: Expected a cuda device, but got: cpu\n",
      "Error in batch 2: Expected a cuda device, but got: cpu\n",
      "Error in batch 3: Expected a cuda device, but got: cpu\n",
      "Error in batch 4: Expected a cuda device, but got: cpu\n",
      "Error in batch 5: Expected a cuda device, but got: cpu\n",
      "Error in batch 6: Expected a cuda device, but got: cpu\n",
      "Error in batch 7: Expected a cuda device, but got: cpu\n",
      "Error in batch 0: Expected a cuda device, but got: cpu\n",
      "Error in batch 1: Expected a cuda device, but got: cpu\n",
      "Error in batch 2: Expected a cuda device, but got: cpu\n",
      "Error in batch 3: Expected a cuda device, but got: cpu\n",
      "Error in batch 4: Expected a cuda device, but got: cpu\n",
      "Error in batch 5: Expected a cuda device, but got: cpu\n",
      "Error in batch 6: Expected a cuda device, but got: cpu\n",
      "Error in batch 7: Expected a cuda device, but got: cpu\n",
      "Error in batch 0: Expected a cuda device, but got: cpu\n",
      "Error in batch 1: Expected a cuda device, but got: cpu\n",
      "Error in batch 2: Expected a cuda device, but got: cpu\n",
      "Error in batch 3: Expected a cuda device, but got: cpu\n",
      "Error in batch 4: Expected a cuda device, but got: cpu\n",
      "Error in batch 5: Expected a cuda device, but got: cpu\n",
      "Error in batch 6: Expected a cuda device, but got: cpu\n",
      "Error in batch 7: Expected a cuda device, but got: cpu\n",
      "Error in batch 0: Expected a cuda device, but got: cpu\n",
      "Error in batch 1: Expected a cuda device, but got: cpu\n",
      "Error in batch 2: Expected a cuda device, but got: cpu\n",
      "Error in batch 3: Expected a cuda device, but got: cpu\n",
      "Error in batch 4: Expected a cuda device, but got: cpu\n",
      "Error in batch 5: Expected a cuda device, but got: cpu\n",
      "Error in batch 6: Expected a cuda device, but got: cpu\n",
      "Error in batch 7: Expected a cuda device, but got: cpu\n",
      "Error in batch 0: Expected a cuda device, but got: cpu\n",
      "Error in batch 1: Expected a cuda device, but got: cpu\n",
      "Error in batch 2: Expected a cuda device, but got: cpu\n",
      "Error in batch 3: Expected a cuda device, but got: cpu\n",
      "Error in batch 4: Expected a cuda device, but got: cpu\n",
      "Error in batch 0: Expected a cuda device, but got: cpu\n",
      "Error in batch 1: Expected a cuda device, but got: cpu\n",
      "Error in batch 2: Expected a cuda device, but got: cpu\n",
      "Error in batch 3: Expected a cuda device, but got: cpu\n",
      "Error in batch 4: Expected a cuda device, but got: cpu\n",
      "Error in batch 5: Expected a cuda device, but got: cpu\n",
      "Error in batch 6: Expected a cuda device, but got: cpu\n",
      "Error in batch 7: Expected a cuda device, but got: cpu\n",
      "Error in batch 0: Expected a cuda device, but got: cpu\n",
      "Error in batch 1: Expected a cuda device, but got: cpu\n",
      "Error in batch 2: Expected a cuda device, but got: cpu\n",
      "Error in batch 3: Expected a cuda device, but got: cpu\n",
      "Error in batch 4: Expected a cuda device, but got: cpu\n",
      "Error in batch 5: Expected a cuda device, but got: cpu\n",
      "Error in batch 6: Expected a cuda device, but got: cpu\n",
      "Error in batch 7: Expected a cuda device, but got: cpu\n",
      "Error in batch 0: Expected a cuda device, but got: cpu\n",
      "Error in batch 1: Expected a cuda device, but got: cpu\n",
      "Error in batch 2: Expected a cuda device, but got: cpu\n",
      "Error in batch 3: Expected a cuda device, but got: cpu\n",
      "Error in batch 4: Expected a cuda device, but got: cpu\n",
      "Error in batch 5: Expected a cuda device, but got: cpu\n",
      "Error in batch 6: Expected a cuda device, but got: cpu\n",
      "Error in batch 7: Expected a cuda device, but got: cpu\n",
      "Error in batch 0: Expected a cuda device, but got: cpu\n",
      "Error in batch 1: Expected a cuda device, but got: cpu\n",
      "Error in batch 2: Expected a cuda device, but got: cpu\n",
      "Error in batch 3: Expected a cuda device, but got: cpu\n",
      "Error in batch 4: Expected a cuda device, but got: cpu\n",
      "Error in batch 5: Expected a cuda device, but got: cpu\n",
      "Error in batch 6: Expected a cuda device, but got: cpu\n",
      "Error in batch 7: Expected a cuda device, but got: cpu\n",
      "Error in batch 0: Expected a cuda device, but got: cpu\n",
      "Error in batch 1: Expected a cuda device, but got: cpu\n",
      "Error in batch 2: Expected a cuda device, but got: cpu\n",
      "Error in batch 3: Expected a cuda device, but got: cpu\n",
      "Error in batch 4: Expected a cuda device, but got: cpu\n",
      "Error in batch 5: Expected a cuda device, but got: cpu\n",
      "Error in batch 6: Expected a cuda device, but got: cpu\n",
      "Error in batch 7: Expected a cuda device, but got: cpu\n",
      "Error in batch 0: Expected a cuda device, but got: cpu\n",
      "Error in batch 1: Expected a cuda device, but got: cpu\n",
      "Error in batch 2: Expected a cuda device, but got: cpu\n",
      "Error in batch 3: Expected a cuda device, but got: cpu\n",
      "Error in batch 4: Expected a cuda device, but got: cpu\n",
      "Error in batch 5: Expected a cuda device, but got: cpu\n",
      "Error in batch 6: Expected a cuda device, but got: cpu\n",
      "Error in batch 7: Expected a cuda device, but got: cpu\n",
      "Error in batch 0: Expected a cuda device, but got: cpu\n",
      "Error in batch 1: Expected a cuda device, but got: cpu\n",
      "Error in batch 2: Expected a cuda device, but got: cpu\n",
      "Error in batch 3: Expected a cuda device, but got: cpu\n",
      "Error in batch 4: Expected a cuda device, but got: cpu\n",
      "Error in batch 5: Expected a cuda device, but got: cpu\n",
      "Error in batch 6: Expected a cuda device, but got: cpu\n",
      "Error in batch 7: Expected a cuda device, but got: cpu\n",
      "Error in batch 0: Expected a cuda device, but got: cpu\n",
      "Error in batch 1: Expected a cuda device, but got: cpu\n",
      "Error in batch 2: Expected a cuda device, but got: cpu\n",
      "Error in batch 3: Expected a cuda device, but got: cpu\n",
      "Error in batch 4: Expected a cuda device, but got: cpu\n",
      "Error in batch 5: Expected a cuda device, but got: cpu\n",
      "Error in batch 6: Expected a cuda device, but got: cpu\n",
      "Error in batch 7: Expected a cuda device, but got: cpu\n",
      "Error in batch 0: Expected a cuda device, but got: cpu\n",
      "Error in batch 1: Expected a cuda device, but got: cpu\n",
      "Error in batch 2: Expected a cuda device, but got: cpu\n",
      "Error in batch 3: Expected a cuda device, but got: cpu\n",
      "Error in batch 4: Expected a cuda device, but got: cpu\n",
      "Error in batch 5: Expected a cuda device, but got: cpu\n",
      "Error in batch 6: Expected a cuda device, but got: cpu\n",
      "Error in batch 7: Expected a cuda device, but got: cpu\n",
      "Error in batch 0: Expected a cuda device, but got: cpu\n",
      "Error in batch 1: Expected a cuda device, but got: cpu\n",
      "Error in batch 2: Expected a cuda device, but got: cpu\n",
      "Error in batch 3: Expected a cuda device, but got: cpu\n",
      "Error in batch 4: Expected a cuda device, but got: cpu\n",
      "Error in batch 5: Expected a cuda device, but got: cpu\n",
      "Error in batch 6: Expected a cuda device, but got: cpu\n",
      "Error in batch 7: Expected a cuda device, but got: cpu\n",
      "Error in batch 0: Expected a cuda device, but got: cpu\n",
      "Error in batch 1: Expected a cuda device, but got: cpu\n",
      "Error in batch 2: Expected a cuda device, but got: cpu\n",
      "Error in batch 3: Expected a cuda device, but got: cpu\n",
      "Error in batch 4: Expected a cuda device, but got: cpu\n",
      "Error in batch 5: Expected a cuda device, but got: cpu\n",
      "Error in batch 6: Expected a cuda device, but got: cpu\n",
      "Error in batch 7: Expected a cuda device, but got: cpu\n",
      "Error in batch 0: Expected a cuda device, but got: cpu\n",
      "Error in batch 1: Expected a cuda device, but got: cpu\n",
      "Error in batch 2: Expected a cuda device, but got: cpu\n",
      "Error in batch 3: Expected a cuda device, but got: cpu\n",
      "Error in batch 0: Expected a cuda device, but got: cpu\n",
      "Error in batch 1: Expected a cuda device, but got: cpu\n",
      "Error in batch 2: Expected a cuda device, but got: cpu\n",
      "Error in batch 3: Expected a cuda device, but got: cpu\n",
      "Error in batch 4: Expected a cuda device, but got: cpu\n",
      "Error in batch 5: Expected a cuda device, but got: cpu\n",
      "Error in batch 6: Expected a cuda device, but got: cpu\n",
      "Error in batch 7: Expected a cuda device, but got: cpu\n",
      "Error in batch 0: Expected a cuda device, but got: cpu\n",
      "Error in batch 1: Expected a cuda device, but got: cpu\n",
      "Error in batch 2: Expected a cuda device, but got: cpu\n",
      "Error in batch 3: Expected a cuda device, but got: cpu\n",
      "Error in batch 4: Expected a cuda device, but got: cpu\n",
      "Error in batch 5: Expected a cuda device, but got: cpu\n",
      "Error in batch 6: Expected a cuda device, but got: cpu\n",
      "Error in batch 7: Expected a cuda device, but got: cpu\n",
      "Error in batch 0: Expected a cuda device, but got: cpu\n",
      "Error in batch 1: Expected a cuda device, but got: cpu\n",
      "Error in batch 2: Expected a cuda device, but got: cpu\n",
      "Error in batch 3: Expected a cuda device, but got: cpu\n",
      "Error in batch 4: Expected a cuda device, but got: cpu\n",
      "Error in batch 5: Expected a cuda device, but got: cpu\n",
      "Error in batch 6: Expected a cuda device, but got: cpu\n",
      "Error in batch 7: Expected a cuda device, but got: cpu\n",
      "Error in batch 0: Expected a cuda device, but got: cpu\n",
      "Error in batch 1: Expected a cuda device, but got: cpu\n",
      "Error in batch 2: Expected a cuda device, but got: cpu\n",
      "Error in batch 3: Expected a cuda device, but got: cpu\n",
      "Error in batch 4: Expected a cuda device, but got: cpu\n",
      "Error in batch 5: Expected a cuda device, but got: cpu\n",
      "Error in batch 6: Expected a cuda device, but got: cpu\n",
      "Error in batch 7: Expected a cuda device, but got: cpu\n",
      "Error in batch 0: Expected a cuda device, but got: cpu\n",
      "Error in batch 1: Expected a cuda device, but got: cpu\n",
      "Error in batch 2: Expected a cuda device, but got: cpu\n",
      "Error in batch 3: Expected a cuda device, but got: cpu\n",
      "Error in batch 4: Expected a cuda device, but got: cpu\n",
      "Error in batch 5: Expected a cuda device, but got: cpu\n",
      "Error in batch 6: Expected a cuda device, but got: cpu\n",
      "Error in batch 7: Expected a cuda device, but got: cpu\n",
      "Error in batch 0: Expected a cuda device, but got: cpu\n",
      "Error in batch 1: Expected a cuda device, but got: cpu\n",
      "Error in batch 2: Expected a cuda device, but got: cpu\n",
      "Error in batch 3: Expected a cuda device, but got: cpu\n",
      "Error in batch 4: Expected a cuda device, but got: cpu\n",
      "Error in batch 5: Expected a cuda device, but got: cpu\n",
      "Error in batch 6: Expected a cuda device, but got: cpu\n",
      "Error in batch 7: Expected a cuda device, but got: cpu\n",
      "Error in batch 0: Expected a cuda device, but got: cpu\n",
      "Error in batch 1: Expected a cuda device, but got: cpu\n",
      "Error in batch 2: Expected a cuda device, but got: cpu\n",
      "Error in batch 3: Expected a cuda device, but got: cpu\n",
      "Error in batch 4: Expected a cuda device, but got: cpu\n",
      "Error in batch 5: Expected a cuda device, but got: cpu\n",
      "Error in batch 6: Expected a cuda device, but got: cpu\n",
      "Error in batch 7: Expected a cuda device, but got: cpu\n",
      "Error in batch 0: Expected a cuda device, but got: cpu\n",
      "Error in batch 1: Expected a cuda device, but got: cpu\n",
      "Error in batch 2: Expected a cuda device, but got: cpu\n",
      "Error in batch 3: Expected a cuda device, but got: cpu\n",
      "Error in batch 4: Expected a cuda device, but got: cpu\n",
      "Error in batch 5: Expected a cuda device, but got: cpu\n",
      "Error in batch 6: Expected a cuda device, but got: cpu\n",
      "Error in batch 7: Expected a cuda device, but got: cpu\n",
      "Error in batch 0: Expected a cuda device, but got: cpu\n",
      "Error in batch 1: Expected a cuda device, but got: cpu\n",
      "Error in batch 2: Expected a cuda device, but got: cpu\n",
      "Error in batch 3: Expected a cuda device, but got: cpu\n",
      "Error in batch 4: Expected a cuda device, but got: cpu\n",
      "Error in batch 5: Expected a cuda device, but got: cpu\n",
      "Error in batch 6: Expected a cuda device, but got: cpu\n",
      "Error in batch 7: Expected a cuda device, but got: cpu\n",
      "Error in batch 0: Expected a cuda device, but got: cpu\n",
      "Error in batch 1: Expected a cuda device, but got: cpu\n",
      "Error in batch 2: Expected a cuda device, but got: cpu\n",
      "Error in batch 3: Expected a cuda device, but got: cpu\n",
      "Error in batch 4: Expected a cuda device, but got: cpu\n",
      "Error in batch 5: Expected a cuda device, but got: cpu\n",
      "Error in batch 6: Expected a cuda device, but got: cpu\n",
      "Error in batch 7: Expected a cuda device, but got: cpu\n",
      "Error in batch 0: Expected a cuda device, but got: cpu\n",
      "Error in batch 1: Expected a cuda device, but got: cpu\n",
      "Error in batch 2: Expected a cuda device, but got: cpu\n",
      "Error in batch 3: Expected a cuda device, but got: cpu\n",
      "Error in batch 4: Expected a cuda device, but got: cpu\n",
      "Error in batch 5: Expected a cuda device, but got: cpu\n",
      "Error in batch 6: Expected a cuda device, but got: cpu\n",
      "Error in batch 7: Expected a cuda device, but got: cpu\n",
      "Error in batch 0: Expected a cuda device, but got: cpu\n",
      "Error in batch 1: Expected a cuda device, but got: cpu\n",
      "Error in batch 2: Expected a cuda device, but got: cpu\n",
      "Error in batch 3: Expected a cuda device, but got: cpu\n",
      "Error in batch 4: Expected a cuda device, but got: cpu\n",
      "Error in batch 5: Expected a cuda device, but got: cpu\n",
      "Error in batch 6: Expected a cuda device, but got: cpu\n",
      "Error in batch 7: Expected a cuda device, but got: cpu\n",
      "Error in batch 0: Expected a cuda device, but got: cpu\n",
      "Error in batch 1: Expected a cuda device, but got: cpu\n",
      "Error in batch 2: Expected a cuda device, but got: cpu\n",
      "Error in batch 3: Expected a cuda device, but got: cpu\n",
      "Error in batch 4: Expected a cuda device, but got: cpu\n",
      "Error in batch 5: Expected a cuda device, but got: cpu\n",
      "Error in batch 6: Expected a cuda device, but got: cpu\n",
      "Error in batch 7: Expected a cuda device, but got: cpu\n",
      "Error in batch 0: Expected a cuda device, but got: cpu\n",
      "Error in batch 1: Expected a cuda device, but got: cpu\n",
      "Error in batch 2: Expected a cuda device, but got: cpu\n",
      "Error in batch 3: Expected a cuda device, but got: cpu\n",
      "Error in batch 4: Expected a cuda device, but got: cpu\n",
      "Error in batch 5: Expected a cuda device, but got: cpu\n",
      "Error in batch 6: Expected a cuda device, but got: cpu\n",
      "Error in batch 7: Expected a cuda device, but got: cpu\n",
      "Error in batch 0: Expected a cuda device, but got: cpu\n",
      "Error in batch 1: Expected a cuda device, but got: cpu\n",
      "Error in batch 2: Expected a cuda device, but got: cpu\n",
      "Error in batch 3: Expected a cuda device, but got: cpu\n",
      "Error in batch 0: Expected a cuda device, but got: cpu\n",
      "Error in batch 0: Expected a cuda device, but got: cpu\n",
      "Error in batch 1: Expected a cuda device, but got: cpu\n",
      "Error in batch 2: Expected a cuda device, but got: cpu\n",
      "Error in batch 3: Expected a cuda device, but got: cpu\n",
      "Error in batch 4: Expected a cuda device, but got: cpu\n",
      "Error in batch 5: Expected a cuda device, but got: cpu\n",
      "Error in batch 6: Expected a cuda device, but got: cpu\n",
      "Error in batch 7: Expected a cuda device, but got: cpu\n",
      "Error in batch 0: Expected a cuda device, but got: cpu\n",
      "Error in batch 1: Expected a cuda device, but got: cpu\n",
      "Error in batch 2: Expected a cuda device, but got: cpu\n",
      "Error in batch 3: Expected a cuda device, but got: cpu\n",
      "Error in batch 4: Expected a cuda device, but got: cpu\n",
      "Error in batch 5: Expected a cuda device, but got: cpu\n",
      "Error in batch 6: Expected a cuda device, but got: cpu\n",
      "Error in batch 7: Expected a cuda device, but got: cpu\n",
      "Error in batch 0: Expected a cuda device, but got: cpu\n",
      "Error in batch 1: Expected a cuda device, but got: cpu\n",
      "Error in batch 2: Expected a cuda device, but got: cpu\n",
      "Error in batch 3: Expected a cuda device, but got: cpu\n",
      "Error in batch 4: Expected a cuda device, but got: cpu\n",
      "Error in batch 5: Expected a cuda device, but got: cpu\n",
      "Error in batch 6: Expected a cuda device, but got: cpu\n",
      "Error in batch 7: Expected a cuda device, but got: cpu\n",
      "Error in batch 0: Expected a cuda device, but got: cpu\n",
      "Error in batch 1: Expected a cuda device, but got: cpu\n",
      "Error in batch 2: Expected a cuda device, but got: cpu\n",
      "Error in batch 3: Expected a cuda device, but got: cpu\n",
      "Error in batch 4: Expected a cuda device, but got: cpu\n",
      "Error in batch 5: Expected a cuda device, but got: cpu\n",
      "Error in batch 6: Expected a cuda device, but got: cpu\n",
      "Error in batch 7: Expected a cuda device, but got: cpu\n",
      "Error in batch 0: Expected a cuda device, but got: cpu\n",
      "Error in batch 1: Expected a cuda device, but got: cpu\n",
      "Error in batch 2: Expected a cuda device, but got: cpu\n",
      "Error in batch 3: Expected a cuda device, but got: cpu\n",
      "Error in batch 4: Expected a cuda device, but got: cpu\n",
      "Error in batch 5: Expected a cuda device, but got: cpu\n",
      "Error in batch 6: Expected a cuda device, but got: cpu\n",
      "Error in batch 7: Expected a cuda device, but got: cpu\n",
      "Error in batch 0: Expected a cuda device, but got: cpu\n",
      "Error in batch 1: Expected a cuda device, but got: cpu\n",
      "Error in batch 2: Expected a cuda device, but got: cpu\n",
      "Error in batch 3: Expected a cuda device, but got: cpu\n",
      "Error in batch 4: Expected a cuda device, but got: cpu\n",
      "Error in batch 5: Expected a cuda device, but got: cpu\n",
      "Error in batch 6: Expected a cuda device, but got: cpu\n",
      "Error in batch 7: Expected a cuda device, but got: cpu\n",
      "Error in batch 0: Expected a cuda device, but got: cpu\n",
      "Error in batch 1: Expected a cuda device, but got: cpu\n",
      "Error in batch 2: Expected a cuda device, but got: cpu\n",
      "Error in batch 3: Expected a cuda device, but got: cpu\n",
      "Error in batch 4: Expected a cuda device, but got: cpu\n",
      "Error in batch 5: Expected a cuda device, but got: cpu\n",
      "Error in batch 6: Expected a cuda device, but got: cpu\n",
      "Error in batch 7: Expected a cuda device, but got: cpu\n",
      "Error in batch 0: Expected a cuda device, but got: cpu\n",
      "Error in batch 1: Expected a cuda device, but got: cpu\n",
      "Error in batch 2: Expected a cuda device, but got: cpu\n",
      "Error in batch 3: Expected a cuda device, but got: cpu\n",
      "Error in batch 4: Expected a cuda device, but got: cpu\n",
      "Error in batch 5: Expected a cuda device, but got: cpu\n",
      "Error in batch 6: Expected a cuda device, but got: cpu\n",
      "Error in batch 7: Expected a cuda device, but got: cpu\n",
      "Error in batch 0: Expected a cuda device, but got: cpu\n",
      "Error in batch 1: Expected a cuda device, but got: cpu\n",
      "Error in batch 2: Expected a cuda device, but got: cpu\n",
      "Error in batch 3: Expected a cuda device, but got: cpu\n",
      "Error in batch 4: Expected a cuda device, but got: cpu\n",
      "Error in batch 5: Expected a cuda device, but got: cpu\n",
      "Error in batch 6: Expected a cuda device, but got: cpu\n",
      "Error in batch 7: Expected a cuda device, but got: cpu\n",
      "Error in batch 0: Expected a cuda device, but got: cpu\n",
      "Error in batch 1: Expected a cuda device, but got: cpu\n",
      "Error in batch 2: Expected a cuda device, but got: cpu\n",
      "Error in batch 3: Expected a cuda device, but got: cpu\n",
      "Error in batch 4: Expected a cuda device, but got: cpu\n",
      "Error in batch 5: Expected a cuda device, but got: cpu\n",
      "Error in batch 6: Expected a cuda device, but got: cpu\n",
      "Error in batch 7: Expected a cuda device, but got: cpu\n",
      "Error in batch 0: Expected a cuda device, but got: cpu\n",
      "Error in batch 1: Expected a cuda device, but got: cpu\n",
      "Error in batch 2: Expected a cuda device, but got: cpu\n",
      "Error in batch 3: Expected a cuda device, but got: cpu\n",
      "Error in batch 4: Expected a cuda device, but got: cpu\n",
      "Error in batch 5: Expected a cuda device, but got: cpu\n",
      "Error in batch 6: Expected a cuda device, but got: cpu\n",
      "Error in batch 7: Expected a cuda device, but got: cpu\n",
      "Error in batch 0: Expected a cuda device, but got: cpu\n",
      "Error in batch 1: Expected a cuda device, but got: cpu\n",
      "Error in batch 2: Expected a cuda device, but got: cpu\n",
      "Error in batch 3: Expected a cuda device, but got: cpu\n",
      "Error in batch 4: Expected a cuda device, but got: cpu\n",
      "Error in batch 5: Expected a cuda device, but got: cpu\n",
      "Error in batch 6: Expected a cuda device, but got: cpu\n",
      "Error in batch 7: Expected a cuda device, but got: cpu\n",
      "Error in batch 0: Expected a cuda device, but got: cpu\n",
      "Error in batch 1: Expected a cuda device, but got: cpu\n",
      "Error in batch 2: Expected a cuda device, but got: cpu\n",
      "Error in batch 3: Expected a cuda device, but got: cpu\n",
      "Error in batch 4: Expected a cuda device, but got: cpu\n",
      "Error in batch 5: Expected a cuda device, but got: cpu\n",
      "Error in batch 6: Expected a cuda device, but got: cpu\n",
      "Error in batch 7: Expected a cuda device, but got: cpu\n",
      "Error in batch 0: Expected a cuda device, but got: cpu\n",
      "Error in batch 1: Expected a cuda device, but got: cpu\n",
      "Error in batch 2: Expected a cuda device, but got: cpu\n",
      "Error in batch 3: Expected a cuda device, but got: cpu\n",
      "Error in batch 4: Expected a cuda device, but got: cpu\n",
      "Error in batch 5: Expected a cuda device, but got: cpu\n",
      "Error in batch 6: Expected a cuda device, but got: cpu\n",
      "Error in batch 7: Expected a cuda device, but got: cpu\n",
      "Error in batch 0: Expected a cuda device, but got: cpu\n",
      "Error in batch 1: Expected a cuda device, but got: cpu\n",
      "Error in batch 2: Expected a cuda device, but got: cpu\n",
      "Error in batch 3: Expected a cuda device, but got: cpu\n",
      "Error in batch 4: Expected a cuda device, but got: cpu\n",
      "Error in batch 5: Expected a cuda device, but got: cpu\n",
      "Error in batch 6: Expected a cuda device, but got: cpu\n",
      "Error in batch 0: Expected a cuda device, but got: cpu\n",
      "Error in batch 1: Expected a cuda device, but got: cpu\n",
      "Error in batch 2: Expected a cuda device, but got: cpu\n",
      "Error in batch 3: Expected a cuda device, but got: cpu\n",
      "Error in batch 4: Expected a cuda device, but got: cpu\n",
      "Error in batch 5: Expected a cuda device, but got: cpu\n",
      "Error in batch 6: Expected a cuda device, but got: cpu\n",
      "Error in batch 7: Expected a cuda device, but got: cpu\n",
      "Error in batch 0: Expected a cuda device, but got: cpu\n",
      "Error in batch 1: Expected a cuda device, but got: cpu\n",
      "Error in batch 2: Expected a cuda device, but got: cpu\n",
      "Error in batch 3: Expected a cuda device, but got: cpu\n",
      "Error in batch 4: Expected a cuda device, but got: cpu\n",
      "Error in batch 5: Expected a cuda device, but got: cpu\n",
      "Error in batch 6: Expected a cuda device, but got: cpu\n",
      "Error in batch 7: Expected a cuda device, but got: cpu\n",
      "Error in batch 0: Expected a cuda device, but got: cpu\n",
      "Error in batch 1: Expected a cuda device, but got: cpu\n",
      "Error in batch 2: Expected a cuda device, but got: cpu\n",
      "Error in batch 3: Expected a cuda device, but got: cpu\n",
      "Error in batch 4: Expected a cuda device, but got: cpu\n",
      "Error in batch 5: Expected a cuda device, but got: cpu\n",
      "Error in batch 6: Expected a cuda device, but got: cpu\n",
      "Error in batch 7: Expected a cuda device, but got: cpu\n",
      "Error in batch 0: Expected a cuda device, but got: cpu\n",
      "Error in batch 1: Expected a cuda device, but got: cpu\n",
      "Error in batch 2: Expected a cuda device, but got: cpu\n",
      "Error in batch 3: Expected a cuda device, but got: cpu\n",
      "Error in batch 4: Expected a cuda device, but got: cpu\n",
      "Error in batch 5: Expected a cuda device, but got: cpu\n",
      "Error in batch 6: Expected a cuda device, but got: cpu\n",
      "Error in batch 7: Expected a cuda device, but got: cpu\n",
      "Error in batch 0: Expected a cuda device, but got: cpu\n",
      "Error in batch 1: Expected a cuda device, but got: cpu\n",
      "Error in batch 2: Expected a cuda device, but got: cpu\n",
      "Error in batch 3: Expected a cuda device, but got: cpu\n",
      "Error in batch 4: Expected a cuda device, but got: cpu\n",
      "Error in batch 5: Expected a cuda device, but got: cpu\n",
      "Error in batch 6: Expected a cuda device, but got: cpu\n",
      "Error in batch 7: Expected a cuda device, but got: cpu\n",
      "Error in batch 0: Expected a cuda device, but got: cpu\n",
      "Error in batch 1: Expected a cuda device, but got: cpu\n",
      "Error in batch 2: Expected a cuda device, but got: cpu\n",
      "Error in batch 3: Expected a cuda device, but got: cpu\n",
      "Error in batch 4: Expected a cuda device, but got: cpu\n",
      "Error in batch 5: Expected a cuda device, but got: cpu\n",
      "Error in batch 6: Expected a cuda device, but got: cpu\n",
      "Error in batch 7: Expected a cuda device, but got: cpu\n",
      "Error in batch 0: Expected a cuda device, but got: cpu\n",
      "Error in batch 1: Expected a cuda device, but got: cpu\n",
      "Error in batch 2: Expected a cuda device, but got: cpu\n",
      "Error in batch 3: Expected a cuda device, but got: cpu\n",
      "Error in batch 4: Expected a cuda device, but got: cpu\n",
      "Error in batch 5: Expected a cuda device, but got: cpu\n",
      "Error in batch 6: Expected a cuda device, but got: cpu\n",
      "Error in batch 7: Expected a cuda device, but got: cpu\n",
      "Error in batch 0: Expected a cuda device, but got: cpu\n",
      "Error in batch 1: Expected a cuda device, but got: cpu\n",
      "Error in batch 2: Expected a cuda device, but got: cpu\n",
      "Error in batch 3: Expected a cuda device, but got: cpu\n",
      "Error in batch 4: Expected a cuda device, but got: cpu\n",
      "Error in batch 5: Expected a cuda device, but got: cpu\n",
      "Error in batch 6: Expected a cuda device, but got: cpu\n",
      "Error in batch 7: Expected a cuda device, but got: cpu\n",
      "Error in batch 0: Expected a cuda device, but got: cpu\n",
      "Error in batch 1: Expected a cuda device, but got: cpu\n",
      "Error in batch 2: Expected a cuda device, but got: cpu\n",
      "Error in batch 3: Expected a cuda device, but got: cpu\n",
      "Error in batch 4: Expected a cuda device, but got: cpu\n",
      "Error in batch 5: Expected a cuda device, but got: cpu\n",
      "Error in batch 6: Expected a cuda device, but got: cpu\n",
      "Error in batch 7: Expected a cuda device, but got: cpu\n",
      "Error in batch 0: Expected a cuda device, but got: cpu\n",
      "Error in batch 1: Expected a cuda device, but got: cpu\n",
      "Error in batch 2: Expected a cuda device, but got: cpu\n",
      "Error in batch 3: Expected a cuda device, but got: cpu\n",
      "Error in batch 4: Expected a cuda device, but got: cpu\n",
      "Error in batch 5: Expected a cuda device, but got: cpu\n",
      "Error in batch 6: Expected a cuda device, but got: cpu\n",
      "Error in batch 7: Expected a cuda device, but got: cpu\n",
      "Error in batch 0: Expected a cuda device, but got: cpu\n",
      "Error in batch 1: Expected a cuda device, but got: cpu\n",
      "Error in batch 2: Expected a cuda device, but got: cpu\n",
      "Error in batch 3: Expected a cuda device, but got: cpu\n",
      "Error in batch 4: Expected a cuda device, but got: cpu\n",
      "Error in batch 5: Expected a cuda device, but got: cpu\n",
      "Error in batch 6: Expected a cuda device, but got: cpu\n",
      "Error in batch 7: Expected a cuda device, but got: cpu\n",
      "Error in batch 0: Expected a cuda device, but got: cpu\n",
      "Error in batch 1: Expected a cuda device, but got: cpu\n",
      "Error in batch 2: Expected a cuda device, but got: cpu\n",
      "Error in batch 3: Expected a cuda device, but got: cpu\n",
      "Error in batch 4: Expected a cuda device, but got: cpu\n",
      "Error in batch 5: Expected a cuda device, but got: cpu\n",
      "Error in batch 6: Expected a cuda device, but got: cpu\n",
      "Error in batch 7: Expected a cuda device, but got: cpu\n",
      "Error in batch 0: Expected a cuda device, but got: cpu\n",
      "Error in batch 1: Expected a cuda device, but got: cpu\n",
      "Error in batch 2: Expected a cuda device, but got: cpu\n",
      "Error in batch 3: Expected a cuda device, but got: cpu\n",
      "Error in batch 4: Expected a cuda device, but got: cpu\n",
      "Error in batch 5: Expected a cuda device, but got: cpu\n",
      "Error in batch 6: Expected a cuda device, but got: cpu\n",
      "Error in batch 7: Expected a cuda device, but got: cpu\n",
      "Error in batch 0: Expected a cuda device, but got: cpu\n",
      "Error in batch 1: Expected a cuda device, but got: cpu\n",
      "Error in batch 2: Expected a cuda device, but got: cpu\n",
      "Error in batch 3: Expected a cuda device, but got: cpu\n",
      "Error in batch 4: Expected a cuda device, but got: cpu\n",
      "Error in batch 5: Expected a cuda device, but got: cpu\n",
      "Error in batch 6: Expected a cuda device, but got: cpu\n",
      "Error in batch 7: Expected a cuda device, but got: cpu\n",
      "Error in batch 0: Expected a cuda device, but got: cpu\n",
      "Error in batch 1: Expected a cuda device, but got: cpu\n",
      "Error in batch 2: Expected a cuda device, but got: cpu\n",
      "Error in batch 3: Expected a cuda device, but got: cpu\n",
      "Error in batch 4: Expected a cuda device, but got: cpu\n",
      "Error in batch 5: Expected a cuda device, but got: cpu\n",
      "Error in batch 6: Expected a cuda device, but got: cpu\n",
      "Error in batch 7: Expected a cuda device, but got: cpu\n",
      "Error in batch 2: Expected a cuda device, but got: cpu\n",
      "Error in batch 3: Expected a cuda device, but got: cpu\n",
      "Error in batch 4: Expected a cuda device, but got: cpu\n",
      "Error in batch 5: Expected a cuda device, but got: cpu\n",
      "Error in batch 6: Expected a cuda device, but got: cpu\n",
      "Error in batch 7: Expected a cuda device, but got: cpu\n",
      "Error in batch 0: Expected a cuda device, but got: cpu\n",
      "Error in batch 1: Expected a cuda device, but got: cpu\n",
      "Error in batch 2: Expected a cuda device, but got: cpu\n",
      "Error in batch 3: Expected a cuda device, but got: cpu\n",
      "Error in batch 4: Expected a cuda device, but got: cpu\n",
      "Error in batch 5: Expected a cuda device, but got: cpu\n",
      "Error in batch 6: Expected a cuda device, but got: cpu\n",
      "Error in batch 7: Expected a cuda device, but got: cpu\n",
      "Error in batch 0: Expected a cuda device, but got: cpu\n",
      "Error in batch 1: Expected a cuda device, but got: cpu\n",
      "Error in batch 2: Expected a cuda device, but got: cpu\n",
      "Error in batch 3: Expected a cuda device, but got: cpu\n",
      "Error in batch 4: Expected a cuda device, but got: cpu\n",
      "Error in batch 5: Expected a cuda device, but got: cpu\n",
      "Error in batch 6: Expected a cuda device, but got: cpu\n",
      "Error in batch 7: Expected a cuda device, but got: cpu\n",
      "Error in batch 0: Expected a cuda device, but got: cpu\n",
      "Error in batch 1: Expected a cuda device, but got: cpu\n",
      "Error in batch 2: Expected a cuda device, but got: cpu\n",
      "Error in batch 3: Expected a cuda device, but got: cpu\n",
      "Error in batch 4: Expected a cuda device, but got: cpu\n",
      "Error in batch 5: Expected a cuda device, but got: cpu\n",
      "Error in batch 6: Expected a cuda device, but got: cpu\n",
      "Error in batch 7: Expected a cuda device, but got: cpu\n",
      "Error in batch 7: Expected a cuda device, but got: cpu\n",
      "Error in batch 0: Expected a cuda device, but got: cpu\n",
      "Error in batch 1: Expected a cuda device, but got: cpu\n",
      "Error in batch 2: Expected a cuda device, but got: cpu\n",
      "Error in batch 3: Expected a cuda device, but got: cpu\n",
      "Error in batch 4: Expected a cuda device, but got: cpu\n",
      "Error in batch 5: Expected a cuda device, but got: cpu\n",
      "Error in batch 6: Expected a cuda device, but got: cpu\n",
      "Error in batch 7: Expected a cuda device, but got: cpu\n",
      "Error in batch 0: Expected a cuda device, but got: cpu\n",
      "Error in batch 1: Expected a cuda device, but got: cpu\n",
      "Error in batch 2: Expected a cuda device, but got: cpu\n",
      "Error in batch 3: Expected a cuda device, but got: cpu\n",
      "Error in batch 4: Expected a cuda device, but got: cpu\n",
      "Error in batch 5: Expected a cuda device, but got: cpu\n",
      "Error in batch 6: Expected a cuda device, but got: cpu\n",
      "Error in batch 7: Expected a cuda device, but got: cpu\n",
      "Error in batch 0: Expected a cuda device, but got: cpu\n",
      "Error in batch 1: Expected a cuda device, but got: cpu\n",
      "Error in batch 2: Expected a cuda device, but got: cpu\n",
      "Error in batch 0: Expected a cuda device, but got: cpu\n",
      "Error in batch 1: Expected a cuda device, but got: cpu\n",
      "Error in batch 2: Expected a cuda device, but got: cpu\n",
      "Error in batch 3: Expected a cuda device, but got: cpu\n",
      "Error in batch 4: Expected a cuda device, but got: cpu\n",
      "Error in batch 5: Expected a cuda device, but got: cpu\n",
      "Error in batch 6: Expected a cuda device, but got: cpu\n",
      "Error in batch 7: Expected a cuda device, but got: cpu\n",
      "Error in batch 0: Expected a cuda device, but got: cpu\n",
      "Error in batch 1: Expected a cuda device, but got: cpu\n",
      "Error in batch 2: Expected a cuda device, but got: cpu\n",
      "Error in batch 3: Expected a cuda device, but got: cpu\n",
      "Error in batch 4: Expected a cuda device, but got: cpu\n",
      "Error in batch 5: Expected a cuda device, but got: cpu\n",
      "Error in batch 6: Expected a cuda device, but got: cpu\n",
      "Error in batch 7: Expected a cuda device, but got: cpu\n",
      "Error in batch 0: Expected a cuda device, but got: cpu\n",
      "Error in batch 1: Expected a cuda device, but got: cpu\n",
      "Error in batch 2: Expected a cuda device, but got: cpu\n",
      "Error in batch 3: Expected a cuda device, but got: cpu\n",
      "Error in batch 4: Expected a cuda device, but got: cpu\n",
      "Error in batch 5: Expected a cuda device, but got: cpu\n",
      "Error in batch 6: Expected a cuda device, but got: cpu\n",
      "Error in batch 7: Expected a cuda device, but got: cpu\n",
      "Error in batch 0: Expected a cuda device, but got: cpu\n",
      "Error in batch 1: Expected a cuda device, but got: cpu\n",
      "Error in batch 2: Expected a cuda device, but got: cpu\n",
      "Error in batch 3: Expected a cuda device, but got: cpu\n",
      "Error in batch 4: Expected a cuda device, but got: cpu\n",
      "Error in batch 5: Expected a cuda device, but got: cpu\n",
      "Error in batch 6: Expected a cuda device, but got: cpu\n",
      "Error in batch 7: Expected a cuda device, but got: cpu\n",
      "Error in batch 0: Expected a cuda device, but got: cpu\n",
      "Error in batch 1: Expected a cuda device, but got: cpu\n",
      "Error in batch 2: Expected a cuda device, but got: cpu\n",
      "Error in batch 3: Expected a cuda device, but got: cpu\n",
      "Error in batch 4: Expected a cuda device, but got: cpu\n",
      "Error in batch 5: Expected a cuda device, but got: cpu\n",
      "Error in batch 6: Expected a cuda device, but got: cpu\n",
      "Error in batch 7: Expected a cuda device, but got: cpu\n",
      "Error in batch 0: Expected a cuda device, but got: cpu\n",
      "Error in batch 1: Expected a cuda device, but got: cpu\n",
      "Error in batch 2: Expected a cuda device, but got: cpu\n",
      "Error in batch 3: Expected a cuda device, but got: cpu\n",
      "Error in batch 4: Expected a cuda device, but got: cpu\n",
      "Error in batch 5: Expected a cuda device, but got: cpu\n",
      "Error in batch 6: Expected a cuda device, but got: cpu\n",
      "Error in batch 7: Expected a cuda device, but got: cpu\n",
      "Error in batch 0: Expected a cuda device, but got: cpu\n",
      "Error in batch 1: Expected a cuda device, but got: cpu\n",
      "Error in batch 2: Expected a cuda device, but got: cpu\n",
      "Error in batch 3: Expected a cuda device, but got: cpu\n",
      "Error in batch 4: Expected a cuda device, but got: cpu\n",
      "Error in batch 5: Expected a cuda device, but got: cpu\n",
      "Error in batch 6: Expected a cuda device, but got: cpu\n",
      "Error in batch 7: Expected a cuda device, but got: cpu\n",
      "Error in batch 0: Expected a cuda device, but got: cpu\n",
      "Error in batch 1: Expected a cuda device, but got: cpu\n",
      "Error in batch 2: Expected a cuda device, but got: cpu\n",
      "Error in batch 3: Expected a cuda device, but got: cpu\n",
      "Error in batch 4: Expected a cuda device, but got: cpu\n",
      "Error in batch 5: Expected a cuda device, but got: cpu\n",
      "Error in batch 6: Expected a cuda device, but got: cpu\n",
      "Error in batch 7: Expected a cuda device, but got: cpu\n",
      "Error in batch 0: Expected a cuda device, but got: cpu\n",
      "Error in batch 1: Expected a cuda device, but got: cpu\n",
      "Error in batch 2: Expected a cuda device, but got: cpu\n",
      "Error in batch 3: Expected a cuda device, but got: cpu\n",
      "Error in batch 4: Expected a cuda device, but got: cpu\n",
      "Error in batch 5: Expected a cuda device, but got: cpu\n",
      "Error in batch 6: Expected a cuda device, but got: cpu\n",
      "Error in batch 7: Expected a cuda device, but got: cpu\n"
     ]
    },
    {
     "data": {
      "text/plain": [
       "TrainOutput(global_step=1325, training_loss=1.8164746766417937e-05, metrics={'train_runtime': 33862.4286, 'train_samples_per_second': 1.251, 'train_steps_per_second': 0.039, 'total_flos': 0.0, 'train_loss': 1.8164746766417937e-05})"
      ]
     },
     "execution_count": 34,
     "metadata": {},
     "output_type": "execute_result"
    }
   ],
   "source": [
    "# Train the model\n",
    "trainer.train(resume_from_checkpoint=True)"
   ]
  },
  {
   "cell_type": "code",
   "execution_count": null,
   "metadata": {
    "execution": {
     "iopub.execute_input": "2025-07-19T11:13:33.179153Z",
     "iopub.status.busy": "2025-07-19T11:13:33.178822Z",
     "iopub.status.idle": "2025-07-19T11:13:34.031841Z",
     "shell.execute_reply": "2025-07-19T11:13:34.031103Z",
     "shell.execute_reply.started": "2025-07-19T11:13:33.179123Z"
    },
    "trusted": true
   },
   "outputs": [
    {
     "data": {
      "text/plain": [
       "('Gemma-3-1B-GRPO-Vi-Medical-LoRA/tokenizer_config.json',\n",
       " 'Gemma-3-1B-GRPO-Vi-Medical-LoRA/special_tokens_map.json',\n",
       " 'Gemma-3-1B-GRPO-Vi-Medical-LoRA/chat_template.jinja',\n",
       " 'Gemma-3-1B-GRPO-Vi-Medical-LoRA/tokenizer.model',\n",
       " 'Gemma-3-1B-GRPO-Vi-Medical-LoRA/added_tokens.json',\n",
       " 'Gemma-3-1B-GRPO-Vi-Medical-LoRA/tokenizer.json')"
      ]
     },
     "execution_count": 36,
     "metadata": {},
     "output_type": "execute_result"
    }
   ],
   "source": [
    "model.save_pretrained(\"Gemma-3-1B-GRPO-Vi-Medical-LoRA\")  # Local saving\n",
    "tokenizer.save_pretrained(\"Gemma-3-1B-GRPO-Vi-Medical-LoRA\")"
   ]
  },
  {
   "cell_type": "markdown",
   "metadata": {},
   "source": [
    "# Inference"
   ]
  },
  {
   "cell_type": "code",
   "execution_count": null,
   "metadata": {},
   "outputs": [],
   "source": [
    "question = (\"Khi nghi ngờ bị loét dạ dày tá tràng nên đến khoa nào \"\n",
    "            \"tại bệnh viện để thăm khám?\")\n",
    "messages = [\n",
    "    {\"role\": \"system\", \"content\": SYSTEM_PROMPT},\n",
    "    {\"role\": \"user\",   \"content\": question},\n",
    "]\n",
    "\n",
    "text = tokenizer.apply_chat_template(\n",
    "    messages,\n",
    "    add_generation_prompt=True,  # Must add for generation\n",
    "    tokenize=False,\n",
    ")\n",
    "\n",
    "from transformers import TextStreamer\n",
    "\n",
    "_ = model.generate(\n",
    "    **tokenizer(text, return_tensors=\"pt\").to(device),\n",
    "    max_new_tokens=2048,  # Increase for longer outputs!\n",
    "    # Recommended Gemma-3 settings!\n",
    "    temperature=1.0, top_p=0.95, top_k=64,\n",
    "    streamer=TextStreamer(tokenizer, skip_prompt=True, skip_special_tokens=True),\n",
    ")"
   ]
  }
 ],
 "metadata": {
  "colab": {
   "provenance": []
  },
  "kaggle": {
   "accelerator": "nvidiaTeslaT4",
   "dataSources": [],
   "isGpuEnabled": true,
   "isInternetEnabled": true,
   "language": "python",
   "sourceType": "notebook"
  },
  "kernelspec": {
   "display_name": "Python 3",
   "language": "python",
   "name": "python3"
  },
  "language_info": {
   "codemirror_mode": {
    "name": "ipython",
    "version": 3
   },
   "file_extension": ".py",
   "mimetype": "text/x-python",
   "name": "python",
   "nbconvert_exporter": "python",
   "pygments_lexer": "ipython3",
   "version": "3.11.13"
  }
 },
 "nbformat": 4,
 "nbformat_minor": 4
}
