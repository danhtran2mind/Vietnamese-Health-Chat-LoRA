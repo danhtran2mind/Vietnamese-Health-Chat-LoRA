{
 "cells": [
  {
   "cell_type": "markdown",
   "metadata": {},
   "source": [
    "# Download Dependencies"
   ]
  },
  {
   "cell_type": "code",
   "execution_count": 5,
   "metadata": {
    "execution": {
     "iopub.execute_input": "2025-07-20T11:12:17.715970Z",
     "iopub.status.busy": "2025-07-20T11:12:17.715559Z",
     "iopub.status.idle": "2025-07-20T11:12:21.426930Z",
     "shell.execute_reply": "2025-07-20T11:12:21.425827Z",
     "shell.execute_reply.started": "2025-07-20T11:12:17.715941Z"
    },
    "trusted": true
   },
   "outputs": [],
   "source": [
    "!pip install -q unsloth==2025.6.8"
   ]
  },
  {
   "cell_type": "markdown",
   "metadata": {},
   "source": [
    "# Download Datasets and Models"
   ]
  },
  {
   "cell_type": "code",
   "execution_count": 6,
   "metadata": {
    "execution": {
     "iopub.execute_input": "2025-07-20T11:12:21.429056Z",
     "iopub.status.busy": "2025-07-20T11:12:21.428734Z",
     "iopub.status.idle": "2025-07-20T11:12:21.435207Z",
     "shell.execute_reply": "2025-07-20T11:12:21.434516Z",
     "shell.execute_reply.started": "2025-07-20T11:12:21.429023Z"
    },
    "trusted": true
   },
   "outputs": [
    {
     "name": "stdout",
     "output_type": "stream",
     "text": [
      "datasets.__version__ 3.6.0\n",
      "numpy.__version__ 1.26.4\n",
      "unsloth.__version__ 2025.6.8\n",
      "torch.__version__ 2.7.0+cu126\n",
      "transformers.__version__ 4.52.4\n",
      "trl.__version__ 0.19.1\n"
     ]
    }
   ],
   "source": [
    "import unsloth\n",
    "\n",
    "import datasets\n",
    "import numpy as np\n",
    "\n",
    "import torch\n",
    "import trl \n",
    "import transformers\n",
    "\n",
    "print(\"datasets.__version__\", datasets.__version__)\n",
    "print(\"numpy.__version__\", np.__version__)\n",
    "print(\"unsloth.__version__\", unsloth.__version__)\n",
    "print(\"torch.__version__\", torch.__version__)\n",
    "print(\"transformers.__version__\", transformers.__version__)\n",
    "print(\"trl.__version__\", trl.__version__)\n",
    "\n",
    "# datasets.__version__ 3.6.0\n",
    "# numpy.__version__ 1.26.4\n",
    "# unsloth.__version__ 2025.6.3\n",
    "# torch.__version__ 2.7.0+cu126\n",
    "# transformers.__version__ 4.51.3\n",
    "# trl.__version__ 0.19.0"
   ]
  },
  {
   "cell_type": "code",
   "execution_count": null,
   "metadata": {
    "execution": {
     "iopub.execute_input": "2025-07-20T11:14:12.985746Z",
     "iopub.status.busy": "2025-07-20T11:14:12.985464Z",
     "iopub.status.idle": "2025-07-20T11:14:13.292103Z",
     "shell.execute_reply": "2025-07-20T11:14:13.291221Z",
     "shell.execute_reply.started": "2025-07-20T11:14:12.985725Z"
    },
    "trusted": true
   },
   "outputs": [],
   "source": [
    "from huggingface_hub import HfApi\n",
    "from huggingface_hub import snapshot_download\n",
    "import os\n",
    "api = HfApi()\n",
    "\n",
    "repo_id = \"danhtran2mind/Llama-3.2-3B-Reasoning-Vi-Medical-LoRA\"\n",
    "save_path = \"./Llama-3.2-3B-Reasoning-Vi-Medical-LoRA\"\n",
    "\n",
    "# Create the directory if it doesn't exist\n",
    "os.makedirs(save_path, exist_ok=True)\n",
    "\n",
    "# Download the dataset\n",
    "snapshot_download(repo_id=repo_id, repo_type=\"model\", local_dir=save_path)"
   ]
  },
  {
   "cell_type": "code",
   "execution_count": null,
   "metadata": {
    "execution": {
     "iopub.execute_input": "2025-07-20T11:14:15.936427Z",
     "iopub.status.busy": "2025-07-20T11:14:15.935684Z",
     "iopub.status.idle": "2025-07-20T11:14:15.989125Z",
     "shell.execute_reply": "2025-07-20T11:14:15.988356Z",
     "shell.execute_reply.started": "2025-07-20T11:14:15.936392Z"
    },
    "trusted": true
   },
   "outputs": [],
   "source": [
    "# To temporary Model hub\n",
    "from huggingface_hub import HfApi\n",
    "from huggingface_hub import login\n",
    "# Initialize API\n",
    "login(\"<your_huggingface_token>\")  # Replace with your Hugging Face token\n",
    "api = HfApi()"
   ]
  },
  {
   "cell_type": "code",
   "execution_count": 13,
   "metadata": {
    "execution": {
     "iopub.execute_input": "2025-07-20T11:14:17.831047Z",
     "iopub.status.busy": "2025-07-20T11:14:17.830296Z",
     "iopub.status.idle": "2025-07-20T11:14:17.835080Z",
     "shell.execute_reply": "2025-07-20T11:14:17.834392Z",
     "shell.execute_reply.started": "2025-07-20T11:14:17.831021Z"
    },
    "trusted": true
   },
   "outputs": [],
   "source": [
    "import numpy as np\n",
    "from datasets import concatenate_datasets, load_dataset\n",
    "\n",
    "from unsloth import FastLanguageModel\n",
    "from unsloth import is_bfloat16_supported\n",
    "from unsloth.chat_templates import train_on_responses_only  \n",
    "import torch\n",
    "\n",
    "from trl import SFTTrainer\n",
    "from transformers import TrainingArguments, DataCollatorForSeq2Seq\n",
    "\n",
    "from unsloth import FastModel\n",
    "from unsloth.chat_templates import get_chat_template"
   ]
  },
  {
   "cell_type": "code",
   "execution_count": null,
   "metadata": {
    "execution": {
     "iopub.execute_input": "2025-07-20T11:14:19.050548Z",
     "iopub.status.busy": "2025-07-20T11:14:19.050275Z",
     "iopub.status.idle": "2025-07-20T11:14:41.489209Z",
     "shell.execute_reply": "2025-07-20T11:14:41.488392Z",
     "shell.execute_reply.started": "2025-07-20T11:14:19.050529Z"
    },
    "trusted": true
   },
   "outputs": [
    {
     "name": "stdout",
     "output_type": "stream",
     "text": [
      "==((====))==  Unsloth 2025.6.8: Fast Llama patching. Transformers: 4.52.4.\n",
      "   \\\\   /|    Tesla P100-PCIE-16GB. Num GPUs = 1. Max memory: 15.888 GB. Platform: Linux.\n",
      "O^O/ \\_/ \\    Torch: 2.7.0+cu126. CUDA: 6.0. CUDA Toolkit: 12.6. Triton: 3.3.0\n",
      "\\        /    Bfloat16 = FALSE. FA [Xformers = 0.0.30. FA2 = False]\n",
      " \"-____-\"     Free license: http://github.com/unslothai/unsloth\n",
      "Unsloth: Fast downloading is enabled - ignore downloading bars which are red colored!\n"
     ]
    },
    {
     "data": {
      "application/vnd.jupyter.widget-view+json": {
       "model_id": "a9f78c2a5daa4a9ba498798ede73cfd4",
       "version_major": 2,
       "version_minor": 0
      },
      "text/plain": [
       "model.safetensors:   0%|          | 0.00/2.35G [00:00<?, ?B/s]"
      ]
     },
     "metadata": {},
     "output_type": "display_data"
    },
    {
     "data": {
      "application/vnd.jupyter.widget-view+json": {
       "model_id": "bae4399e5c644daf8b1739caac8d550d",
       "version_major": 2,
       "version_minor": 0
      },
      "text/plain": [
       "generation_config.json:   0%|          | 0.00/234 [00:00<?, ?B/s]"
      ]
     },
     "metadata": {},
     "output_type": "display_data"
    },
    {
     "data": {
      "application/vnd.jupyter.widget-view+json": {
       "model_id": "1f9ee0aec34644fa87799e4eeec599de",
       "version_major": 2,
       "version_minor": 0
      },
      "text/plain": [
       "tokenizer_config.json: 0.00B [00:00, ?B/s]"
      ]
     },
     "metadata": {},
     "output_type": "display_data"
    },
    {
     "data": {
      "application/vnd.jupyter.widget-view+json": {
       "model_id": "e280268830b84c158b2a301c481fc65d",
       "version_major": 2,
       "version_minor": 0
      },
      "text/plain": [
       "special_tokens_map.json:   0%|          | 0.00/454 [00:00<?, ?B/s]"
      ]
     },
     "metadata": {},
     "output_type": "display_data"
    },
    {
     "data": {
      "application/vnd.jupyter.widget-view+json": {
       "model_id": "32bddcd8a99449d7a67dfbb140f9534b",
       "version_major": 2,
       "version_minor": 0
      },
      "text/plain": [
       "tokenizer.json:   0%|          | 0.00/17.2M [00:00<?, ?B/s]"
      ]
     },
     "metadata": {},
     "output_type": "display_data"
    },
    {
     "data": {
      "application/vnd.jupyter.widget-view+json": {
       "model_id": "1d5292e81a7648969dacf9c8b031a8bd",
       "version_major": 2,
       "version_minor": 0
      },
      "text/plain": [
       "chat_template.jinja: 0.00B [00:00, ?B/s]"
      ]
     },
     "metadata": {},
     "output_type": "display_data"
    },
    {
     "name": "stderr",
     "output_type": "stream",
     "text": [
      "Unsloth 2025.6.8 patched 28 layers with 28 QKV layers, 28 O layers and 28 MLP layers.\n"
     ]
    }
   ],
   "source": [
    "model_id = \"meta-llama/Llama-3.2-3B-Instruct\"\n",
    "\n",
    "lora_rank = 16\n",
    "model, tokenizer = FastLanguageModel.from_pretrained(\n",
    "    model_name = model_id,\n",
    "    max_seq_length = 2048,   # Context length - can be longer, but uses more memory\n",
    "    load_in_4bit = True,     # 4bit uses much less memory\n",
    "    load_in_8bit = False,    # A bit more accurate, uses 2x memory\n",
    "    full_finetuning = False, # We have full finetuning now!\n",
    ")\n",
    "\n",
    "model = FastLanguageModel.get_peft_model(  \n",
    "    model,  \n",
    "    r=lora_rank,  \n",
    "    target_modules=[\"q_proj\", \"k_proj\", \"v_proj\", \"o_proj\",  \n",
    "                    \"gate_proj\", \"up_proj\", \"down_proj\"],  \n",
    "    lora_alpha=lora_rank,  \n",
    "    lora_dropout=0,  \n",
    "    bias=\"none\",  \n",
    "    use_gradient_checkpointing=\"unsloth\",  \n",
    "    random_state=42,  \n",
    "    use_rslora=False,  \n",
    "    loftq_config=None\n",
    ")"
   ]
  },
  {
   "cell_type": "markdown",
   "metadata": {},
   "source": [
    "# Data Preparetation"
   ]
  },
  {
   "cell_type": "code",
   "execution_count": 15,
   "metadata": {
    "execution": {
     "iopub.execute_input": "2025-07-20T11:14:41.490660Z",
     "iopub.status.busy": "2025-07-20T11:14:41.490415Z",
     "iopub.status.idle": "2025-07-20T11:14:41.494655Z",
     "shell.execute_reply": "2025-07-20T11:14:41.493917Z",
     "shell.execute_reply.started": "2025-07-20T11:14:41.490644Z"
    },
    "trusted": true
   },
   "outputs": [],
   "source": [
    "train_prompt_style = \"\"\"Bên dưới là một hướng dẫn mô tả nhiệm vụ, đi kèm với thông tin đầu vào để cung cấp thêm ngữ cảnh.\n",
    "Hãy viết một phản hồi hoàn thành yêu cầu một cách phù hợp.\n",
    "Trước khi trả lời, hãy suy nghĩ cẩn thận về câu hỏi và tạo ra một chuỗi suy nghĩ từng bước để đảm bảo một phản hồi logic và chính xác.\n",
    "\n",
    "### Instruction:\n",
    "Bạn là một chuyên gia y khoa với kiến thức chuyên sâu về lập luận lâm sàng, chẩn đoán và lập kế hoạch điều trị.\n",
    "Vui lòng trả lời câu hỏi y khoa sau đây.\n",
    "\n",
    "### Question:\n",
    "{}\n",
    "\n",
    "### Response:\n",
    "<think>\n",
    "{}\n",
    "</think>\n",
    "{}\"\"\""
   ]
  },
  {
   "cell_type": "code",
   "execution_count": 16,
   "metadata": {
    "execution": {
     "iopub.execute_input": "2025-07-20T11:14:41.495856Z",
     "iopub.status.busy": "2025-07-20T11:14:41.495633Z",
     "iopub.status.idle": "2025-07-20T11:14:41.843399Z",
     "shell.execute_reply": "2025-07-20T11:14:41.842696Z",
     "shell.execute_reply.started": "2025-07-20T11:14:41.495837Z"
    },
    "trusted": true
   },
   "outputs": [],
   "source": [
    "# EOS_TOKEN = tokenizer.eos_token  # Must add EOS_TOKEN\n",
    "\n",
    "def formatting_prompts_func(examples):\n",
    "    inputs = examples[\"question\"]\n",
    "    complex_cots = examples[\"context\"]\n",
    "    outputs = examples[\"answer\"]\n",
    "    texts = []\n",
    "    for question, cot, response in zip(inputs, complex_cots, outputs):\n",
    "        # Append the EOS token to the response if it's not already there\n",
    "        if not response.endswith(tokenizer.eos_token):\n",
    "            response += tokenizer.eos_token\n",
    "        text = train_prompt_style.format(question, cot, response)\n",
    "        texts.append(text)\n",
    "    return {\"text\": texts}"
   ]
  },
  {
   "cell_type": "code",
   "execution_count": 17,
   "metadata": {
    "execution": {
     "iopub.execute_input": "2025-07-20T11:14:41.845209Z",
     "iopub.status.busy": "2025-07-20T11:14:41.844951Z",
     "iopub.status.idle": "2025-07-20T11:14:44.981718Z",
     "shell.execute_reply": "2025-07-20T11:14:44.980933Z",
     "shell.execute_reply.started": "2025-07-20T11:14:41.845192Z"
    },
    "trusted": true
   },
   "outputs": [
    {
     "data": {
      "application/vnd.jupyter.widget-view+json": {
       "model_id": "865e7e1848834d178f15ba2f52a50428",
       "version_major": 2,
       "version_minor": 0
      },
      "text/plain": [
       "README.md: 0.00B [00:00, ?B/s]"
      ]
     },
     "metadata": {},
     "output_type": "display_data"
    },
    {
     "data": {
      "application/vnd.jupyter.widget-view+json": {
       "model_id": "60fbcad80e764d41bb0a1fb5e63a80f7",
       "version_major": 2,
       "version_minor": 0
      },
      "text/plain": [
       "train-00000-of-00001.parquet:   0%|          | 0.00/8.68M [00:00<?, ?B/s]"
      ]
     },
     "metadata": {},
     "output_type": "display_data"
    },
    {
     "data": {
      "application/vnd.jupyter.widget-view+json": {
       "model_id": "af28edf4b7eb443284613a9d3527b2f3",
       "version_major": 2,
       "version_minor": 0
      },
      "text/plain": [
       "test-00000-of-00001.parquet:   0%|          | 0.00/501k [00:00<?, ?B/s]"
      ]
     },
     "metadata": {},
     "output_type": "display_data"
    },
    {
     "data": {
      "application/vnd.jupyter.widget-view+json": {
       "model_id": "7f7724a10b7a410693d935a29d256ce4",
       "version_major": 2,
       "version_minor": 0
      },
      "text/plain": [
       "validation-00000-of-00001.parquet:   0%|          | 0.00/478k [00:00<?, ?B/s]"
      ]
     },
     "metadata": {},
     "output_type": "display_data"
    },
    {
     "data": {
      "application/vnd.jupyter.widget-view+json": {
       "model_id": "cac5cd712e094b1a8fe2a049cd445e5e",
       "version_major": 2,
       "version_minor": 0
      },
      "text/plain": [
       "Generating train split:   0%|          | 0/14121 [00:00<?, ? examples/s]"
      ]
     },
     "metadata": {},
     "output_type": "display_data"
    },
    {
     "data": {
      "application/vnd.jupyter.widget-view+json": {
       "model_id": "436664aa0ff54a759e760dfe1c8ee612",
       "version_major": 2,
       "version_minor": 0
      },
      "text/plain": [
       "Generating test split:   0%|          | 0/785 [00:00<?, ? examples/s]"
      ]
     },
     "metadata": {},
     "output_type": "display_data"
    },
    {
     "data": {
      "application/vnd.jupyter.widget-view+json": {
       "model_id": "ac4d330c46344866b9532bcac79ce598",
       "version_major": 2,
       "version_minor": 0
      },
      "text/plain": [
       "Generating validation split:   0%|          | 0/784 [00:00<?, ? examples/s]"
      ]
     },
     "metadata": {},
     "output_type": "display_data"
    },
    {
     "data": {
      "application/vnd.jupyter.widget-view+json": {
       "model_id": "b4d28d0814344551ad7d357bb8422b8e",
       "version_major": 2,
       "version_minor": 0
      },
      "text/plain": [
       "Map:   0%|          | 0/14121 [00:00<?, ? examples/s]"
      ]
     },
     "metadata": {},
     "output_type": "display_data"
    },
    {
     "data": {
      "application/vnd.jupyter.widget-view+json": {
       "model_id": "03f6a2990d9b48668f5be2bc4c5cd644",
       "version_major": 2,
       "version_minor": 0
      },
      "text/plain": [
       "Map:   0%|          | 0/785 [00:00<?, ? examples/s]"
      ]
     },
     "metadata": {},
     "output_type": "display_data"
    },
    {
     "data": {
      "application/vnd.jupyter.widget-view+json": {
       "model_id": "fb98dc647e8f49ea831e5bf7e456ef78",
       "version_major": 2,
       "version_minor": 0
      },
      "text/plain": [
       "Map:   0%|          | 0/784 [00:00<?, ? examples/s]"
      ]
     },
     "metadata": {},
     "output_type": "display_data"
    }
   ],
   "source": [
    "from datasets import load_dataset\n",
    "\n",
    "dataset = load_dataset(\n",
    "    \"tmnam20/ViMedAQA\",\n",
    "    \"disease\",\n",
    "    trust_remote_code=True,\n",
    ")\n",
    "dataset = dataset.map(\n",
    "    formatting_prompts_func,\n",
    "    batched=True,\n",
    ")\n"
   ]
  },
  {
   "cell_type": "code",
   "execution_count": 18,
   "metadata": {
    "execution": {
     "iopub.execute_input": "2025-07-20T11:14:44.983057Z",
     "iopub.status.busy": "2025-07-20T11:14:44.982673Z",
     "iopub.status.idle": "2025-07-20T11:14:45.003356Z",
     "shell.execute_reply": "2025-07-20T11:14:45.002622Z",
     "shell.execute_reply.started": "2025-07-20T11:14:44.983029Z"
    },
    "trusted": true
   },
   "outputs": [
    {
     "name": "stdout",
     "output_type": "stream",
     "text": [
      "Number of training samples: 14121\n",
      "Number of test samples: 1569\n"
     ]
    }
   ],
   "source": [
    "# Columns to keep\n",
    "columns_to_keep = ['question', 'answer', 'context', 'text']\n",
    "\n",
    "# Columns to remove (all columns except the ones to keep)\n",
    "columns_to_remove = [col for col in dataset['train'].column_names if col not in columns_to_keep]\n",
    "\n",
    "# Remove unwanted columns from each split\n",
    "for split in dataset.keys():\n",
    "    dataset[split] = dataset[split].remove_columns(columns_to_remove)\n",
    "# Merge training and validation samples\n",
    "test_samples = concatenate_datasets([dataset['validation'],\n",
    "                                         dataset['test']])\n",
    "\n",
    "# Shuffle the merged dataset with a fixed random seed\n",
    "training_samples = dataset['train']\n",
    "test_samples = test_samples.shuffle(seed=42)\n",
    "\n",
    "print(\"Number of training samples:\", training_samples.num_rows)\n",
    "print(\"Number of test samples:\", test_samples.num_rows)"
   ]
  },
  {
   "cell_type": "code",
   "execution_count": 19,
   "metadata": {
    "execution": {
     "iopub.execute_input": "2025-07-20T11:14:45.004197Z",
     "iopub.status.busy": "2025-07-20T11:14:45.004009Z",
     "iopub.status.idle": "2025-07-20T11:14:45.129491Z",
     "shell.execute_reply": "2025-07-20T11:14:45.128710Z",
     "shell.execute_reply.started": "2025-07-20T11:14:45.004181Z"
    },
    "trusted": true
   },
   "outputs": [
    {
     "data": {
      "text/plain": [
       "'Bên dưới là một hướng dẫn mô tả nhiệm vụ, đi kèm với thông tin đầu vào để cung cấp thêm ngữ cảnh.\\nHãy viết một phản hồi hoàn thành yêu cầu một cách phù hợp.\\nTrước khi trả lời, hãy suy nghĩ cẩn thận về câu hỏi và tạo ra một chuỗi suy nghĩ từng bước để đảm bảo một phản hồi logic và chính xác.\\n\\n### Instruction:\\nBạn là một chuyên gia y khoa với kiến thức chuyên sâu về lập luận lâm sàng, chẩn đoán và lập kế hoạch điều trị.\\nVui lòng trả lời câu hỏi y khoa sau đây.\\n\\n### Question:\\nKhi soi bằng đèn thường, triệu chứng điển hình của viêm mống mắt là gì?\\n\\n### Response:\\n<think>\\n5.1 Nhìn về mặt đại thể (khi soi bằng đèn thường) - Đồng tử 2 bên không đều nhau (bên bệnh nhỏ hơn) Có thể phát hiện đồng tử co bên bệnh lý co nhiều hơn bên bình thường, điều này có thể do viêm nhiều dẫn đến dính thành sau mống mắt lại với nhau và với thuỷ tinh thể. Thông thường kích thường đồng tử là 2 – 3 mm, đều 2 bên. - Mủ ở đáy mống mắt (mủ tiền phòng) Đây là hiện tượng các tế bào viêm cùng với chất tiết (chứa nhiều fibrin). Mủ nằm ở dưới là do nguyên nhân trọng lực. 5.2 Khám mắt qua đèn khe: (split lamp) Đây là công cụ chuyên dụng của bác sĩ chuyên khoa Mắt. Qua đèn khe, bác sĩ có thể phát hiện: - Các tế bào nằm giữa giác mạc và mống mắt Số lượng tế bào này trên diện tích 1 mm² giúp phân độ nặng của viêm màng bồ đào. - Độ mờ thuỷ dịch Như đã miêu tả, thuỷ dịch là dịch trong suốt nằm giữa giác mạc ở ngoài cùng và mống mắt ở trong. Khi viêm màng bồ đào trước, dịch này sẽ bị vẩn đục. Tương tự như việc đếm số lượng tế bào ở thuỷ dịch, ta cũng phân độ nhờ vào mức độ đục của nó. - Sự lắng đọng keratic Sự lắng đọng keratic tạo thành tam giác Arlt. Tam giác Arlt được tạo thành nhờ các kết tụ tế bào viêm nằm ngay sau giác mạc. Trên đèn khe tam giác này có đỉnh nằm trên, đáy nằm dưới. Tạo hình này do trọng lực gây ra. - Xơ hoá fibrin Do mủ trong thuỷ dịch + viêm màng bồ đào trước diễn ra lâu dài, không điều trị kịp thời. - Ngoài ra còn nhiều dấu hiệu khác trên đèn khe Nốt mống mắt, dính mống mắt – thuỷ tinh thế, thiểu sản mống mắt, tăng sinh mạch máu mống mắt.\\n</think>\\nĐồng tử 2 bên không đều nhau, đồng tử bên bệnh nhỏ hơn bên bình thường.<|eot_id|>'"
      ]
     },
     "execution_count": 19,
     "metadata": {},
     "output_type": "execute_result"
    }
   ],
   "source": [
    "training_samples[0]['text']"
   ]
  },
  {
   "cell_type": "code",
   "execution_count": 20,
   "metadata": {
    "execution": {
     "iopub.execute_input": "2025-07-20T11:14:45.130597Z",
     "iopub.status.busy": "2025-07-20T11:14:45.130370Z",
     "iopub.status.idle": "2025-07-20T11:14:45.145175Z",
     "shell.execute_reply": "2025-07-20T11:14:45.144475Z",
     "shell.execute_reply.started": "2025-07-20T11:14:45.130573Z"
    },
    "trusted": true
   },
   "outputs": [],
   "source": [
    "inference_prompt_style = \"\"\"Bên dưới là một hướng dẫn mô tả một tác vụ, đi kèm với một thông tin đầu vào để cung cấp thêm ngữ cảnh.\n",
    "Hãy viết một phản hồi để hoàn thành yêu cầu một cách phù hợp.\n",
    "Trước khi trả lời, hãy suy nghĩ cẩn thận về câu hỏi và tạo một chuỗi suy nghĩ từng bước để đảm bảo phản hồi logic và chính xác.\n",
    "\n",
    "### Instruction:\n",
    "Bạn là một chuyên gia y tế có kiến thức chuyên sâu về lập luận lâm sàng, chẩn đoán và lập kế hoạch điều trị.\n",
    "Vui lòng trả lời câu hỏi y tế sau đây.\n",
    "\n",
    "### Question:\n",
    "{}\n",
    "\n",
    "### Response:\n",
    "<think>\n",
    "\n",
    "\"\"\"\n"
   ]
  },
  {
   "cell_type": "markdown",
   "metadata": {},
   "source": [
    "# Setup Training Arguments"
   ]
  },
  {
   "cell_type": "code",
   "execution_count": null,
   "metadata": {
    "execution": {
     "iopub.execute_input": "2025-07-20T11:14:45.146105Z",
     "iopub.status.busy": "2025-07-20T11:14:45.145892Z",
     "iopub.status.idle": "2025-07-20T11:14:45.195273Z",
     "shell.execute_reply": "2025-07-20T11:14:45.194576Z",
     "shell.execute_reply.started": "2025-07-20T11:14:45.146090Z"
    },
    "trusted": true
   },
   "outputs": [],
   "source": [
    "arguments = TrainingArguments(  \n",
    "                resume_from_checkpoint=\"./Llama-3.2-3B-Reasoning-Vi-Medical-LoRA\",\n",
    "                per_device_train_batch_size=8,  \n",
    "                per_device_eval_batch_size=8,  \n",
    "                gradient_accumulation_steps=4,  \n",
    "                eval_strategy=\"steps\",\n",
    "                eval_steps=100,\n",
    "                logging_steps=100,\n",
    "                save_steps=100,\n",
    "                warmup_steps=30,\n",
    "                save_total_limit=4,\n",
    "                num_train_epochs=12, # 5\n",
    "                # max_steps=50,\n",
    "                save_strategy=\"steps\",\n",
    "                metric_for_best_model=\"eval_loss\",\n",
    "                learning_rate=2e-4,  \n",
    "                fp16=not is_bfloat16_supported(),  \n",
    "                bf16=is_bfloat16_supported(),  \n",
    "                optim=\"adamw_8bit\",  \n",
    "                weight_decay=0.01,  \n",
    "                lr_scheduler_type=\"linear\",  \n",
    "                seed=42,  \n",
    "                output_dir=\"./Llama-3.2-3B-Reasoning-Vi-Medical-LoRA\",  \n",
    "                report_to=\"none\",\n",
    "                load_best_model_at_end=True,  # Load weights with lowest val loss\n",
    "        \t\tgreater_is_better=False,\n",
    "            )"
   ]
  },
  {
   "cell_type": "code",
   "execution_count": 22,
   "metadata": {
    "execution": {
     "iopub.execute_input": "2025-07-20T11:14:45.196297Z",
     "iopub.status.busy": "2025-07-20T11:14:45.196061Z",
     "iopub.status.idle": "2025-07-20T11:14:53.607380Z",
     "shell.execute_reply": "2025-07-20T11:14:53.606842Z",
     "shell.execute_reply.started": "2025-07-20T11:14:45.196276Z"
    },
    "trusted": true
   },
   "outputs": [
    {
     "data": {
      "application/vnd.jupyter.widget-view+json": {
       "model_id": "bac2552585334433a15caa09108d0f42",
       "version_major": 2,
       "version_minor": 0
      },
      "text/plain": [
       "Unsloth: Tokenizing [\"text\"]:   0%|          | 0/14121 [00:00<?, ? examples/s]"
      ]
     },
     "metadata": {},
     "output_type": "display_data"
    },
    {
     "data": {
      "application/vnd.jupyter.widget-view+json": {
       "model_id": "09a6f56a689b444583544609ad6f3c6a",
       "version_major": 2,
       "version_minor": 0
      },
      "text/plain": [
       "Unsloth: Tokenizing [\"text\"]:   0%|          | 0/1569 [00:00<?, ? examples/s]"
      ]
     },
     "metadata": {},
     "output_type": "display_data"
    }
   ],
   "source": [
    "# Define Trainer\n",
    "trainer = SFTTrainer(  \n",
    "    model=model,  \n",
    "    tokenizer=tokenizer,  \n",
    "    train_dataset=training_samples,  \n",
    "    eval_dataset=test_samples,  \n",
    "    dataset_text_field=\"text\",\n",
    "    max_seq_length=2048,  \n",
    "    data_collator=DataCollatorForSeq2Seq(tokenizer=tokenizer),  \n",
    "    dataset_num_proc=2,  \n",
    "    packing=False,  # Can make training 5x faster for short sequences.  \n",
    "    args=arguments\n",
    ")"
   ]
  },
  {
   "cell_type": "markdown",
   "metadata": {
    "execution": {
     "iopub.execute_input": "2025-07-01T13:46:57.349739Z",
     "iopub.status.busy": "2025-07-01T13:46:57.349513Z",
     "iopub.status.idle": "2025-07-01T13:48:14.259335Z",
     "shell.execute_reply": "2025-07-01T13:48:14.258227Z",
     "shell.execute_reply.started": "2025-07-01T13:46:57.349713Z"
    }
   },
   "source": [
    "# Start train process"
   ]
  },
  {
   "cell_type": "code",
   "execution_count": 23,
   "metadata": {
    "execution": {
     "iopub.execute_input": "2025-07-20T11:14:53.609516Z",
     "iopub.status.busy": "2025-07-20T11:14:53.609307Z",
     "iopub.status.idle": "2025-07-20T17:43:46.140313Z",
     "shell.execute_reply": "2025-07-20T17:43:46.139569Z",
     "shell.execute_reply.started": "2025-07-20T11:14:53.609500Z"
    },
    "trusted": true
   },
   "outputs": [
    {
     "name": "stderr",
     "output_type": "stream",
     "text": [
      "==((====))==  Unsloth - 2x faster free finetuning | Num GPUs used = 1\n",
      "   \\\\   /|    Num examples = 14,121 | Num Epochs = 12 | Total steps = 5,304\n",
      "O^O/ \\_/ \\    Batch size per device = 8 | Gradient accumulation steps = 4\n",
      "\\        /    Data Parallel GPUs = 1 | Total batch size (8 x 4 x 1) = 32\n",
      " \"-____-\"     Trainable parameters = 24,313,856/3,000,000,000 (0.81% trained)\n"
     ]
    },
    {
     "name": "stdout",
     "output_type": "stream",
     "text": [
      "Unsloth: Will smartly offload gradients to save VRAM!\n"
     ]
    },
    {
     "data": {
      "text/html": [
       "\n",
       "    <div>\n",
       "      \n",
       "      <progress value='5303' max='5304' style='width:300px; height:20px; vertical-align: middle;'></progress>\n",
       "      [5303/5304 6:27:48 < 00:58, 0.02 it/s, Epoch 11/12]\n",
       "    </div>\n",
       "    <table border=\"1\" class=\"dataframe\">\n",
       "  <thead>\n",
       " <tr style=\"text-align: left;\">\n",
       "      <th>Step</th>\n",
       "      <th>Training Loss</th>\n",
       "      <th>Validation Loss</th>\n",
       "    </tr>\n",
       "  </thead>\n",
       "  <tbody>\n",
       "    <tr>\n",
       "      <td>5000</td>\n",
       "      <td>0.209300</td>\n",
       "      <td>0.480698</td>\n",
       "    </tr>\n",
       "    <tr>\n",
       "      <td>5100</td>\n",
       "      <td>0.187000</td>\n",
       "      <td>0.480475</td>\n",
       "    </tr>\n",
       "    <tr>\n",
       "      <td>5200</td>\n",
       "      <td>0.183800</td>\n",
       "      <td>0.477710</td>\n",
       "    </tr>\n",
       "    <tr>\n",
       "      <td>5300</td>\n",
       "      <td>0.162600</td>\n",
       "      <td>0.478503</td>\n",
       "    </tr>\n",
       "  </tbody>\n",
       "</table><p>"
      ],
      "text/plain": [
       "<IPython.core.display.HTML object>"
      ]
     },
     "metadata": {},
     "output_type": "display_data"
    },
    {
     "name": "stderr",
     "output_type": "stream",
     "text": [
      "Unsloth: Not an error, but LlamaForCausalLM does not accept `num_items_in_batch`.\n",
      "Using gradient accumulation will be very slightly less accurate.\n",
      "Read more on gradient accumulation issues here: https://unsloth.ai/blog/gradient\n"
     ]
    },
    {
     "data": {
      "text/plain": [
       "TrainOutput(global_step=5303, training_loss=0.014094636538288132, metrics={'train_runtime': 23329.6269, 'train_samples_per_second': 7.263, 'train_steps_per_second': 0.227, 'total_flos': 1.667517122067204e+18, 'train_loss': 0.014094636538288132})"
      ]
     },
     "execution_count": 23,
     "metadata": {},
     "output_type": "execute_result"
    }
   ],
   "source": [
    "trainer.train(resume_from_checkpoint=True)"
   ]
  },
  {
   "cell_type": "code",
   "execution_count": null,
   "metadata": {
    "execution": {
     "iopub.execute_input": "2025-07-20T17:49:05.368465Z",
     "iopub.status.busy": "2025-07-20T17:49:05.368168Z",
     "iopub.status.idle": "2025-07-20T17:49:06.088573Z",
     "shell.execute_reply": "2025-07-20T17:49:06.087971Z",
     "shell.execute_reply.started": "2025-07-20T17:49:05.368442Z"
    },
    "trusted": true
   },
   "outputs": [
    {
     "data": {
      "text/plain": [
       "('Llama-3.2-3B-Reasoning-Vi-Medical-LoRA/tokenizer_config.json',\n",
       " 'Llama-3.2-3B-Reasoning-Vi-Medical-LoRA/special_tokens_map.json',\n",
       " 'Llama-3.2-3B-Reasoning-Vi-Medical-LoRA/chat_template.jinja',\n",
       " 'Llama-3.2-3B-Reasoning-Vi-Medical-LoRA/tokenizer.json')"
      ]
     },
     "execution_count": 26,
     "metadata": {},
     "output_type": "execute_result"
    }
   ],
   "source": [
    "model.save_pretrained(\"Llama-3.2-3B-Reasoning-Vi-Medical-LoRA\")  # Local saving\n",
    "tokenizer.save_pretrained(\"Llama-3.2-3B-Reasoning-Vi-Medical-LoRA\")\n"
   ]
  },
  {
   "cell_type": "markdown",
   "metadata": {},
   "source": [
    "# Inference"
   ]
  },
  {
   "cell_type": "code",
   "execution_count": null,
   "metadata": {
    "execution": {
     "iopub.status.busy": "2025-07-20T11:13:08.724422Z",
     "iopub.status.idle": "2025-07-20T11:13:08.724698Z",
     "shell.execute_reply": "2025-07-20T11:13:08.724585Z",
     "shell.execute_reply.started": "2025-07-20T11:13:08.724572Z"
    },
    "trusted": true
   },
   "outputs": [],
   "source": [
    "# question = training_samples[10]['question']\n",
    "question = \"Tôi bị đau đầu, sốt, đau cứng cổ. Tôi có thể mắc bệnh gì?\"\n",
    "inputs = tokenizer(\n",
    "    [inference_prompt_style.format(question) + tokenizer.eos_token],\n",
    "    return_tensors=\"pt\"\n",
    ").to(\"cuda\")\n",
    "\n",
    "outputs = model.generate(\n",
    "    input_ids=inputs.input_ids,\n",
    "    attention_mask=inputs.attention_mask,\n",
    "    max_new_tokens=2048,\n",
    "    eos_token_id=tokenizer.eos_token_id,\n",
    "    use_cache=True,\n",
    ")\n",
    "response = tokenizer.batch_decode(outputs, skip_special_tokens=True)\n",
    "print(\"Question: \", question)\n",
    "print(response[0].split(\"### Response:\")[1])"
   ]
  }
 ],
 "metadata": {
  "kaggle": {
   "accelerator": "gpu",
   "dataSources": [],
   "dockerImageVersionId": 31090,
   "isGpuEnabled": true,
   "isInternetEnabled": true,
   "language": "python",
   "sourceType": "notebook"
  },
  "kernelspec": {
   "display_name": "Python 3",
   "language": "python",
   "name": "python3"
  },
  "language_info": {
   "codemirror_mode": {
    "name": "ipython",
    "version": 3
   },
   "file_extension": ".py",
   "mimetype": "text/x-python",
   "name": "python",
   "nbconvert_exporter": "python",
   "pygments_lexer": "ipython3",
   "version": "3.11.13"
  }
 },
 "nbformat": 4,
 "nbformat_minor": 4
}
